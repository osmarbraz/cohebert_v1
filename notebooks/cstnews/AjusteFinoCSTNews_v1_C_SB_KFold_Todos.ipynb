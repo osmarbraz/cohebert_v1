{
  "nbformat": 4,
  "nbformat_minor": 0,
  "metadata": {
    "accelerator": "GPU",
    "colab": {
      "name": "AjusteFinoCSTNews_v1_C_SB_KFold_Todos.ipynb",
      "provenance": [],
      "collapsed_sections": [],
      "toc_visible": true,
      "include_colab_link": true
    },
    "kernelspec": {
      "display_name": "Python 3",
      "name": "python3"
    },
    "widgets": {
      "application/vnd.jupyter.widget-state+json": {
        "b5a0ba6747214caeb0ab9f6d1c972b18": {
          "model_module": "@jupyter-widgets/controls",
          "model_name": "HBoxModel",
          "state": {
            "_view_name": "HBoxView",
            "_dom_classes": [],
            "_model_name": "HBoxModel",
            "_view_module": "@jupyter-widgets/controls",
            "_model_module_version": "1.5.0",
            "_view_count": null,
            "_view_module_version": "1.5.0",
            "box_style": "",
            "layout": "IPY_MODEL_0e5161417fae45dc8989ccdcf80af39d",
            "_model_module": "@jupyter-widgets/controls",
            "children": [
              "IPY_MODEL_37698c7c11cf41e8af058b04630d1a5f",
              "IPY_MODEL_e66baec4a9b34b2fa652888e05bafe9f"
            ]
          }
        },
        "0e5161417fae45dc8989ccdcf80af39d": {
          "model_module": "@jupyter-widgets/base",
          "model_name": "LayoutModel",
          "state": {
            "_view_name": "LayoutView",
            "grid_template_rows": null,
            "right": null,
            "justify_content": null,
            "_view_module": "@jupyter-widgets/base",
            "overflow": null,
            "_model_module_version": "1.2.0",
            "_view_count": null,
            "flex_flow": null,
            "width": null,
            "min_width": null,
            "border": null,
            "align_items": null,
            "bottom": null,
            "_model_module": "@jupyter-widgets/base",
            "top": null,
            "grid_column": null,
            "overflow_y": null,
            "overflow_x": null,
            "grid_auto_flow": null,
            "grid_area": null,
            "grid_template_columns": null,
            "flex": null,
            "_model_name": "LayoutModel",
            "justify_items": null,
            "grid_row": null,
            "max_height": null,
            "align_content": null,
            "visibility": null,
            "align_self": null,
            "height": null,
            "min_height": null,
            "padding": null,
            "grid_auto_rows": null,
            "grid_gap": null,
            "max_width": null,
            "order": null,
            "_view_module_version": "1.2.0",
            "grid_template_areas": null,
            "object_position": null,
            "object_fit": null,
            "grid_auto_columns": null,
            "margin": null,
            "display": null,
            "left": null
          }
        },
        "37698c7c11cf41e8af058b04630d1a5f": {
          "model_module": "@jupyter-widgets/controls",
          "model_name": "FloatProgressModel",
          "state": {
            "_view_name": "ProgressView",
            "style": "IPY_MODEL_0d818fe301d34deab2cd54d4c7f2c30c",
            "_dom_classes": [],
            "description": "Épocas: 100%",
            "_model_name": "FloatProgressModel",
            "bar_style": "success",
            "max": 4,
            "_view_module": "@jupyter-widgets/controls",
            "_model_module_version": "1.5.0",
            "value": 4,
            "_view_count": null,
            "_view_module_version": "1.5.0",
            "orientation": "horizontal",
            "min": 0,
            "description_tooltip": null,
            "_model_module": "@jupyter-widgets/controls",
            "layout": "IPY_MODEL_d48dd14f45894430954eaf8f9af9a122"
          }
        },
        "e66baec4a9b34b2fa652888e05bafe9f": {
          "model_module": "@jupyter-widgets/controls",
          "model_name": "HTMLModel",
          "state": {
            "_view_name": "HTMLView",
            "style": "IPY_MODEL_56137943fdf24fbe96fe9e7a02b70147",
            "_dom_classes": [],
            "description": "",
            "_model_name": "HTMLModel",
            "placeholder": "​",
            "_view_module": "@jupyter-widgets/controls",
            "_model_module_version": "1.5.0",
            "value": " 4/4 [57:30&lt;00:00, 862.52s/épocas]",
            "_view_count": null,
            "_view_module_version": "1.5.0",
            "description_tooltip": null,
            "_model_module": "@jupyter-widgets/controls",
            "layout": "IPY_MODEL_25999f50c2504aa1b71b8f81d189a0da"
          }
        },
        "0d818fe301d34deab2cd54d4c7f2c30c": {
          "model_module": "@jupyter-widgets/controls",
          "model_name": "ProgressStyleModel",
          "state": {
            "_view_name": "StyleView",
            "_model_name": "ProgressStyleModel",
            "description_width": "initial",
            "_view_module": "@jupyter-widgets/base",
            "_model_module_version": "1.5.0",
            "_view_count": null,
            "_view_module_version": "1.2.0",
            "bar_color": null,
            "_model_module": "@jupyter-widgets/controls"
          }
        },
        "d48dd14f45894430954eaf8f9af9a122": {
          "model_module": "@jupyter-widgets/base",
          "model_name": "LayoutModel",
          "state": {
            "_view_name": "LayoutView",
            "grid_template_rows": null,
            "right": null,
            "justify_content": null,
            "_view_module": "@jupyter-widgets/base",
            "overflow": null,
            "_model_module_version": "1.2.0",
            "_view_count": null,
            "flex_flow": null,
            "width": null,
            "min_width": null,
            "border": null,
            "align_items": null,
            "bottom": null,
            "_model_module": "@jupyter-widgets/base",
            "top": null,
            "grid_column": null,
            "overflow_y": null,
            "overflow_x": null,
            "grid_auto_flow": null,
            "grid_area": null,
            "grid_template_columns": null,
            "flex": null,
            "_model_name": "LayoutModel",
            "justify_items": null,
            "grid_row": null,
            "max_height": null,
            "align_content": null,
            "visibility": null,
            "align_self": null,
            "height": null,
            "min_height": null,
            "padding": null,
            "grid_auto_rows": null,
            "grid_gap": null,
            "max_width": null,
            "order": null,
            "_view_module_version": "1.2.0",
            "grid_template_areas": null,
            "object_position": null,
            "object_fit": null,
            "grid_auto_columns": null,
            "margin": null,
            "display": null,
            "left": null
          }
        },
        "56137943fdf24fbe96fe9e7a02b70147": {
          "model_module": "@jupyter-widgets/controls",
          "model_name": "DescriptionStyleModel",
          "state": {
            "_view_name": "StyleView",
            "_model_name": "DescriptionStyleModel",
            "description_width": "",
            "_view_module": "@jupyter-widgets/base",
            "_model_module_version": "1.5.0",
            "_view_count": null,
            "_view_module_version": "1.2.0",
            "_model_module": "@jupyter-widgets/controls"
          }
        },
        "25999f50c2504aa1b71b8f81d189a0da": {
          "model_module": "@jupyter-widgets/base",
          "model_name": "LayoutModel",
          "state": {
            "_view_name": "LayoutView",
            "grid_template_rows": null,
            "right": null,
            "justify_content": null,
            "_view_module": "@jupyter-widgets/base",
            "overflow": null,
            "_model_module_version": "1.2.0",
            "_view_count": null,
            "flex_flow": null,
            "width": null,
            "min_width": null,
            "border": null,
            "align_items": null,
            "bottom": null,
            "_model_module": "@jupyter-widgets/base",
            "top": null,
            "grid_column": null,
            "overflow_y": null,
            "overflow_x": null,
            "grid_auto_flow": null,
            "grid_area": null,
            "grid_template_columns": null,
            "flex": null,
            "_model_name": "LayoutModel",
            "justify_items": null,
            "grid_row": null,
            "max_height": null,
            "align_content": null,
            "visibility": null,
            "align_self": null,
            "height": null,
            "min_height": null,
            "padding": null,
            "grid_auto_rows": null,
            "grid_gap": null,
            "max_width": null,
            "order": null,
            "_view_module_version": "1.2.0",
            "grid_template_areas": null,
            "object_position": null,
            "object_fit": null,
            "grid_auto_columns": null,
            "margin": null,
            "display": null,
            "left": null
          }
        },
        "02578d2309c34a2f904b386fc086b3d0": {
          "model_module": "@jupyter-widgets/controls",
          "model_name": "HBoxModel",
          "state": {
            "_view_name": "HBoxView",
            "_dom_classes": [],
            "_model_name": "HBoxModel",
            "_view_module": "@jupyter-widgets/controls",
            "_model_module_version": "1.5.0",
            "_view_count": null,
            "_view_module_version": "1.5.0",
            "box_style": "",
            "layout": "IPY_MODEL_4bd1b14356c04281aaff0aa4f6c98458",
            "_model_module": "@jupyter-widgets/controls",
            "children": [
              "IPY_MODEL_33691b7d271d418dbea012201e5bc1ff",
              "IPY_MODEL_e76a3c1f17b54c7ea334f9a5e3420043"
            ]
          }
        },
        "4bd1b14356c04281aaff0aa4f6c98458": {
          "model_module": "@jupyter-widgets/base",
          "model_name": "LayoutModel",
          "state": {
            "_view_name": "LayoutView",
            "grid_template_rows": null,
            "right": null,
            "justify_content": null,
            "_view_module": "@jupyter-widgets/base",
            "overflow": null,
            "_model_module_version": "1.2.0",
            "_view_count": null,
            "flex_flow": null,
            "width": null,
            "min_width": null,
            "border": null,
            "align_items": null,
            "bottom": null,
            "_model_module": "@jupyter-widgets/base",
            "top": null,
            "grid_column": null,
            "overflow_y": null,
            "overflow_x": null,
            "grid_auto_flow": null,
            "grid_area": null,
            "grid_template_columns": null,
            "flex": null,
            "_model_name": "LayoutModel",
            "justify_items": null,
            "grid_row": null,
            "max_height": null,
            "align_content": null,
            "visibility": null,
            "align_self": null,
            "height": null,
            "min_height": null,
            "padding": null,
            "grid_auto_rows": null,
            "grid_gap": null,
            "max_width": null,
            "order": null,
            "_view_module_version": "1.2.0",
            "grid_template_areas": null,
            "object_position": null,
            "object_fit": null,
            "grid_auto_columns": null,
            "margin": null,
            "display": null,
            "left": null
          }
        },
        "33691b7d271d418dbea012201e5bc1ff": {
          "model_module": "@jupyter-widgets/controls",
          "model_name": "FloatProgressModel",
          "state": {
            "_view_name": "ProgressView",
            "style": "IPY_MODEL_283bf611bda640b0ac8543eecdd130d2",
            "_dom_classes": [],
            "description": "Epoca 1: 100%",
            "_model_name": "FloatProgressModel",
            "bar_style": "success",
            "max": 2241,
            "_view_module": "@jupyter-widgets/controls",
            "_model_module_version": "1.5.0",
            "value": 2241,
            "_view_count": null,
            "_view_module_version": "1.5.0",
            "orientation": "horizontal",
            "min": 0,
            "description_tooltip": null,
            "_model_module": "@jupyter-widgets/controls",
            "layout": "IPY_MODEL_627e577ea12841bfa9bf27d2e99fa00a"
          }
        },
        "e76a3c1f17b54c7ea334f9a5e3420043": {
          "model_module": "@jupyter-widgets/controls",
          "model_name": "HTMLModel",
          "state": {
            "_view_name": "HTMLView",
            "style": "IPY_MODEL_1354ee0cbb0c47e88c023c0d6483dba5",
            "_dom_classes": [],
            "description": "",
            "_model_name": "HTMLModel",
            "placeholder": "​",
            "_view_module": "@jupyter-widgets/controls",
            "_model_module_version": "1.5.0",
            "value": " 2241/2241 [27:50&lt;00:00,  1.34lotes/s, loss=0.656]",
            "_view_count": null,
            "_view_module_version": "1.5.0",
            "description_tooltip": null,
            "_model_module": "@jupyter-widgets/controls",
            "layout": "IPY_MODEL_6e0b5a1cd1044677a72b196874d051ed"
          }
        },
        "283bf611bda640b0ac8543eecdd130d2": {
          "model_module": "@jupyter-widgets/controls",
          "model_name": "ProgressStyleModel",
          "state": {
            "_view_name": "StyleView",
            "_model_name": "ProgressStyleModel",
            "description_width": "initial",
            "_view_module": "@jupyter-widgets/base",
            "_model_module_version": "1.5.0",
            "_view_count": null,
            "_view_module_version": "1.2.0",
            "bar_color": null,
            "_model_module": "@jupyter-widgets/controls"
          }
        },
        "627e577ea12841bfa9bf27d2e99fa00a": {
          "model_module": "@jupyter-widgets/base",
          "model_name": "LayoutModel",
          "state": {
            "_view_name": "LayoutView",
            "grid_template_rows": null,
            "right": null,
            "justify_content": null,
            "_view_module": "@jupyter-widgets/base",
            "overflow": null,
            "_model_module_version": "1.2.0",
            "_view_count": null,
            "flex_flow": null,
            "width": null,
            "min_width": null,
            "border": null,
            "align_items": null,
            "bottom": null,
            "_model_module": "@jupyter-widgets/base",
            "top": null,
            "grid_column": null,
            "overflow_y": null,
            "overflow_x": null,
            "grid_auto_flow": null,
            "grid_area": null,
            "grid_template_columns": null,
            "flex": null,
            "_model_name": "LayoutModel",
            "justify_items": null,
            "grid_row": null,
            "max_height": null,
            "align_content": null,
            "visibility": null,
            "align_self": null,
            "height": null,
            "min_height": null,
            "padding": null,
            "grid_auto_rows": null,
            "grid_gap": null,
            "max_width": null,
            "order": null,
            "_view_module_version": "1.2.0",
            "grid_template_areas": null,
            "object_position": null,
            "object_fit": null,
            "grid_auto_columns": null,
            "margin": null,
            "display": null,
            "left": null
          }
        },
        "1354ee0cbb0c47e88c023c0d6483dba5": {
          "model_module": "@jupyter-widgets/controls",
          "model_name": "DescriptionStyleModel",
          "state": {
            "_view_name": "StyleView",
            "_model_name": "DescriptionStyleModel",
            "description_width": "",
            "_view_module": "@jupyter-widgets/base",
            "_model_module_version": "1.5.0",
            "_view_count": null,
            "_view_module_version": "1.2.0",
            "_model_module": "@jupyter-widgets/controls"
          }
        },
        "6e0b5a1cd1044677a72b196874d051ed": {
          "model_module": "@jupyter-widgets/base",
          "model_name": "LayoutModel",
          "state": {
            "_view_name": "LayoutView",
            "grid_template_rows": null,
            "right": null,
            "justify_content": null,
            "_view_module": "@jupyter-widgets/base",
            "overflow": null,
            "_model_module_version": "1.2.0",
            "_view_count": null,
            "flex_flow": null,
            "width": null,
            "min_width": null,
            "border": null,
            "align_items": null,
            "bottom": null,
            "_model_module": "@jupyter-widgets/base",
            "top": null,
            "grid_column": null,
            "overflow_y": null,
            "overflow_x": null,
            "grid_auto_flow": null,
            "grid_area": null,
            "grid_template_columns": null,
            "flex": null,
            "_model_name": "LayoutModel",
            "justify_items": null,
            "grid_row": null,
            "max_height": null,
            "align_content": null,
            "visibility": null,
            "align_self": null,
            "height": null,
            "min_height": null,
            "padding": null,
            "grid_auto_rows": null,
            "grid_gap": null,
            "max_width": null,
            "order": null,
            "_view_module_version": "1.2.0",
            "grid_template_areas": null,
            "object_position": null,
            "object_fit": null,
            "grid_auto_columns": null,
            "margin": null,
            "display": null,
            "left": null
          }
        },
        "5321e7dd5bda470fa7c20d56ed9bd085": {
          "model_module": "@jupyter-widgets/controls",
          "model_name": "HBoxModel",
          "state": {
            "_view_name": "HBoxView",
            "_dom_classes": [],
            "_model_name": "HBoxModel",
            "_view_module": "@jupyter-widgets/controls",
            "_model_module_version": "1.5.0",
            "_view_count": null,
            "_view_module_version": "1.5.0",
            "box_style": "",
            "layout": "IPY_MODEL_37e0c188f8f34cc7a0b3953c570b5fd2",
            "_model_module": "@jupyter-widgets/controls",
            "children": [
              "IPY_MODEL_673801877053487a96e43f3c4229c66a",
              "IPY_MODEL_88d6701e807a4adeba5bfe2734d4f360"
            ]
          }
        },
        "37e0c188f8f34cc7a0b3953c570b5fd2": {
          "model_module": "@jupyter-widgets/base",
          "model_name": "LayoutModel",
          "state": {
            "_view_name": "LayoutView",
            "grid_template_rows": null,
            "right": null,
            "justify_content": null,
            "_view_module": "@jupyter-widgets/base",
            "overflow": null,
            "_model_module_version": "1.2.0",
            "_view_count": null,
            "flex_flow": null,
            "width": null,
            "min_width": null,
            "border": null,
            "align_items": null,
            "bottom": null,
            "_model_module": "@jupyter-widgets/base",
            "top": null,
            "grid_column": null,
            "overflow_y": null,
            "overflow_x": null,
            "grid_auto_flow": null,
            "grid_area": null,
            "grid_template_columns": null,
            "flex": null,
            "_model_name": "LayoutModel",
            "justify_items": null,
            "grid_row": null,
            "max_height": null,
            "align_content": null,
            "visibility": null,
            "align_self": null,
            "height": null,
            "min_height": null,
            "padding": null,
            "grid_auto_rows": null,
            "grid_gap": null,
            "max_width": null,
            "order": null,
            "_view_module_version": "1.2.0",
            "grid_template_areas": null,
            "object_position": null,
            "object_fit": null,
            "grid_auto_columns": null,
            "margin": null,
            "display": null,
            "left": null
          }
        },
        "673801877053487a96e43f3c4229c66a": {
          "model_module": "@jupyter-widgets/controls",
          "model_name": "FloatProgressModel",
          "state": {
            "_view_name": "ProgressView",
            "style": "IPY_MODEL_b04aeea06815475d9441619453a01cb0",
            "_dom_classes": [],
            "description": "Epoca 2: 100%",
            "_model_name": "FloatProgressModel",
            "bar_style": "success",
            "max": 2241,
            "_view_module": "@jupyter-widgets/controls",
            "_model_module_version": "1.5.0",
            "value": 2241,
            "_view_count": null,
            "_view_module_version": "1.5.0",
            "orientation": "horizontal",
            "min": 0,
            "description_tooltip": null,
            "_model_module": "@jupyter-widgets/controls",
            "layout": "IPY_MODEL_1ad8ea8672584d37b3f148d80096fb83"
          }
        },
        "88d6701e807a4adeba5bfe2734d4f360": {
          "model_module": "@jupyter-widgets/controls",
          "model_name": "HTMLModel",
          "state": {
            "_view_name": "HTMLView",
            "style": "IPY_MODEL_65b06833424340de831859765a0db175",
            "_dom_classes": [],
            "description": "",
            "_model_name": "HTMLModel",
            "placeholder": "​",
            "_view_module": "@jupyter-widgets/controls",
            "_model_module_version": "1.5.0",
            "value": " 2241/2241 [13:51&lt;00:00,  2.69lotes/s, loss=0.739]",
            "_view_count": null,
            "_view_module_version": "1.5.0",
            "description_tooltip": null,
            "_model_module": "@jupyter-widgets/controls",
            "layout": "IPY_MODEL_82399ac718364a8c92be4cf03cab9e89"
          }
        },
        "b04aeea06815475d9441619453a01cb0": {
          "model_module": "@jupyter-widgets/controls",
          "model_name": "ProgressStyleModel",
          "state": {
            "_view_name": "StyleView",
            "_model_name": "ProgressStyleModel",
            "description_width": "initial",
            "_view_module": "@jupyter-widgets/base",
            "_model_module_version": "1.5.0",
            "_view_count": null,
            "_view_module_version": "1.2.0",
            "bar_color": null,
            "_model_module": "@jupyter-widgets/controls"
          }
        },
        "1ad8ea8672584d37b3f148d80096fb83": {
          "model_module": "@jupyter-widgets/base",
          "model_name": "LayoutModel",
          "state": {
            "_view_name": "LayoutView",
            "grid_template_rows": null,
            "right": null,
            "justify_content": null,
            "_view_module": "@jupyter-widgets/base",
            "overflow": null,
            "_model_module_version": "1.2.0",
            "_view_count": null,
            "flex_flow": null,
            "width": null,
            "min_width": null,
            "border": null,
            "align_items": null,
            "bottom": null,
            "_model_module": "@jupyter-widgets/base",
            "top": null,
            "grid_column": null,
            "overflow_y": null,
            "overflow_x": null,
            "grid_auto_flow": null,
            "grid_area": null,
            "grid_template_columns": null,
            "flex": null,
            "_model_name": "LayoutModel",
            "justify_items": null,
            "grid_row": null,
            "max_height": null,
            "align_content": null,
            "visibility": null,
            "align_self": null,
            "height": null,
            "min_height": null,
            "padding": null,
            "grid_auto_rows": null,
            "grid_gap": null,
            "max_width": null,
            "order": null,
            "_view_module_version": "1.2.0",
            "grid_template_areas": null,
            "object_position": null,
            "object_fit": null,
            "grid_auto_columns": null,
            "margin": null,
            "display": null,
            "left": null
          }
        },
        "65b06833424340de831859765a0db175": {
          "model_module": "@jupyter-widgets/controls",
          "model_name": "DescriptionStyleModel",
          "state": {
            "_view_name": "StyleView",
            "_model_name": "DescriptionStyleModel",
            "description_width": "",
            "_view_module": "@jupyter-widgets/base",
            "_model_module_version": "1.5.0",
            "_view_count": null,
            "_view_module_version": "1.2.0",
            "_model_module": "@jupyter-widgets/controls"
          }
        },
        "82399ac718364a8c92be4cf03cab9e89": {
          "model_module": "@jupyter-widgets/base",
          "model_name": "LayoutModel",
          "state": {
            "_view_name": "LayoutView",
            "grid_template_rows": null,
            "right": null,
            "justify_content": null,
            "_view_module": "@jupyter-widgets/base",
            "overflow": null,
            "_model_module_version": "1.2.0",
            "_view_count": null,
            "flex_flow": null,
            "width": null,
            "min_width": null,
            "border": null,
            "align_items": null,
            "bottom": null,
            "_model_module": "@jupyter-widgets/base",
            "top": null,
            "grid_column": null,
            "overflow_y": null,
            "overflow_x": null,
            "grid_auto_flow": null,
            "grid_area": null,
            "grid_template_columns": null,
            "flex": null,
            "_model_name": "LayoutModel",
            "justify_items": null,
            "grid_row": null,
            "max_height": null,
            "align_content": null,
            "visibility": null,
            "align_self": null,
            "height": null,
            "min_height": null,
            "padding": null,
            "grid_auto_rows": null,
            "grid_gap": null,
            "max_width": null,
            "order": null,
            "_view_module_version": "1.2.0",
            "grid_template_areas": null,
            "object_position": null,
            "object_fit": null,
            "grid_auto_columns": null,
            "margin": null,
            "display": null,
            "left": null
          }
        },
        "f9f9618f59cf4a4e9be254f7a816571d": {
          "model_module": "@jupyter-widgets/controls",
          "model_name": "HBoxModel",
          "state": {
            "_view_name": "HBoxView",
            "_dom_classes": [],
            "_model_name": "HBoxModel",
            "_view_module": "@jupyter-widgets/controls",
            "_model_module_version": "1.5.0",
            "_view_count": null,
            "_view_module_version": "1.5.0",
            "box_style": "",
            "layout": "IPY_MODEL_1850eb65c7114b4884ebc7b30d9fe3ab",
            "_model_module": "@jupyter-widgets/controls",
            "children": [
              "IPY_MODEL_76cb2a13dbc94c8eaba436cff4d0404b",
              "IPY_MODEL_87407850c88542f884eaec3266ddabde"
            ]
          }
        },
        "1850eb65c7114b4884ebc7b30d9fe3ab": {
          "model_module": "@jupyter-widgets/base",
          "model_name": "LayoutModel",
          "state": {
            "_view_name": "LayoutView",
            "grid_template_rows": null,
            "right": null,
            "justify_content": null,
            "_view_module": "@jupyter-widgets/base",
            "overflow": null,
            "_model_module_version": "1.2.0",
            "_view_count": null,
            "flex_flow": null,
            "width": null,
            "min_width": null,
            "border": null,
            "align_items": null,
            "bottom": null,
            "_model_module": "@jupyter-widgets/base",
            "top": null,
            "grid_column": null,
            "overflow_y": null,
            "overflow_x": null,
            "grid_auto_flow": null,
            "grid_area": null,
            "grid_template_columns": null,
            "flex": null,
            "_model_name": "LayoutModel",
            "justify_items": null,
            "grid_row": null,
            "max_height": null,
            "align_content": null,
            "visibility": null,
            "align_self": null,
            "height": null,
            "min_height": null,
            "padding": null,
            "grid_auto_rows": null,
            "grid_gap": null,
            "max_width": null,
            "order": null,
            "_view_module_version": "1.2.0",
            "grid_template_areas": null,
            "object_position": null,
            "object_fit": null,
            "grid_auto_columns": null,
            "margin": null,
            "display": null,
            "left": null
          }
        },
        "76cb2a13dbc94c8eaba436cff4d0404b": {
          "model_module": "@jupyter-widgets/controls",
          "model_name": "FloatProgressModel",
          "state": {
            "_view_name": "ProgressView",
            "style": "IPY_MODEL_96089f888b9449bbaac3952b7c7a70e2",
            "_dom_classes": [],
            "description": "Epoca 3: 100%",
            "_model_name": "FloatProgressModel",
            "bar_style": "success",
            "max": 2241,
            "_view_module": "@jupyter-widgets/controls",
            "_model_module_version": "1.5.0",
            "value": 2241,
            "_view_count": null,
            "_view_module_version": "1.5.0",
            "orientation": "horizontal",
            "min": 0,
            "description_tooltip": null,
            "_model_module": "@jupyter-widgets/controls",
            "layout": "IPY_MODEL_7072de38d9ee4dd194e6711a2dffd900"
          }
        },
        "87407850c88542f884eaec3266ddabde": {
          "model_module": "@jupyter-widgets/controls",
          "model_name": "HTMLModel",
          "state": {
            "_view_name": "HTMLView",
            "style": "IPY_MODEL_e467c2b6e40e47199d416a767b597d46",
            "_dom_classes": [],
            "description": "",
            "_model_name": "HTMLModel",
            "placeholder": "​",
            "_view_module": "@jupyter-widgets/controls",
            "_model_module_version": "1.5.0",
            "value": " 2241/2241 [29:08&lt;00:00,  1.28lotes/s, loss=0.754]",
            "_view_count": null,
            "_view_module_version": "1.5.0",
            "description_tooltip": null,
            "_model_module": "@jupyter-widgets/controls",
            "layout": "IPY_MODEL_1745d67c454947b3a9f6650c2ddf7398"
          }
        },
        "96089f888b9449bbaac3952b7c7a70e2": {
          "model_module": "@jupyter-widgets/controls",
          "model_name": "ProgressStyleModel",
          "state": {
            "_view_name": "StyleView",
            "_model_name": "ProgressStyleModel",
            "description_width": "initial",
            "_view_module": "@jupyter-widgets/base",
            "_model_module_version": "1.5.0",
            "_view_count": null,
            "_view_module_version": "1.2.0",
            "bar_color": null,
            "_model_module": "@jupyter-widgets/controls"
          }
        },
        "7072de38d9ee4dd194e6711a2dffd900": {
          "model_module": "@jupyter-widgets/base",
          "model_name": "LayoutModel",
          "state": {
            "_view_name": "LayoutView",
            "grid_template_rows": null,
            "right": null,
            "justify_content": null,
            "_view_module": "@jupyter-widgets/base",
            "overflow": null,
            "_model_module_version": "1.2.0",
            "_view_count": null,
            "flex_flow": null,
            "width": null,
            "min_width": null,
            "border": null,
            "align_items": null,
            "bottom": null,
            "_model_module": "@jupyter-widgets/base",
            "top": null,
            "grid_column": null,
            "overflow_y": null,
            "overflow_x": null,
            "grid_auto_flow": null,
            "grid_area": null,
            "grid_template_columns": null,
            "flex": null,
            "_model_name": "LayoutModel",
            "justify_items": null,
            "grid_row": null,
            "max_height": null,
            "align_content": null,
            "visibility": null,
            "align_self": null,
            "height": null,
            "min_height": null,
            "padding": null,
            "grid_auto_rows": null,
            "grid_gap": null,
            "max_width": null,
            "order": null,
            "_view_module_version": "1.2.0",
            "grid_template_areas": null,
            "object_position": null,
            "object_fit": null,
            "grid_auto_columns": null,
            "margin": null,
            "display": null,
            "left": null
          }
        },
        "e467c2b6e40e47199d416a767b597d46": {
          "model_module": "@jupyter-widgets/controls",
          "model_name": "DescriptionStyleModel",
          "state": {
            "_view_name": "StyleView",
            "_model_name": "DescriptionStyleModel",
            "description_width": "",
            "_view_module": "@jupyter-widgets/base",
            "_model_module_version": "1.5.0",
            "_view_count": null,
            "_view_module_version": "1.2.0",
            "_model_module": "@jupyter-widgets/controls"
          }
        },
        "1745d67c454947b3a9f6650c2ddf7398": {
          "model_module": "@jupyter-widgets/base",
          "model_name": "LayoutModel",
          "state": {
            "_view_name": "LayoutView",
            "grid_template_rows": null,
            "right": null,
            "justify_content": null,
            "_view_module": "@jupyter-widgets/base",
            "overflow": null,
            "_model_module_version": "1.2.0",
            "_view_count": null,
            "flex_flow": null,
            "width": null,
            "min_width": null,
            "border": null,
            "align_items": null,
            "bottom": null,
            "_model_module": "@jupyter-widgets/base",
            "top": null,
            "grid_column": null,
            "overflow_y": null,
            "overflow_x": null,
            "grid_auto_flow": null,
            "grid_area": null,
            "grid_template_columns": null,
            "flex": null,
            "_model_name": "LayoutModel",
            "justify_items": null,
            "grid_row": null,
            "max_height": null,
            "align_content": null,
            "visibility": null,
            "align_self": null,
            "height": null,
            "min_height": null,
            "padding": null,
            "grid_auto_rows": null,
            "grid_gap": null,
            "max_width": null,
            "order": null,
            "_view_module_version": "1.2.0",
            "grid_template_areas": null,
            "object_position": null,
            "object_fit": null,
            "grid_auto_columns": null,
            "margin": null,
            "display": null,
            "left": null
          }
        },
        "726c0184dbc74c4b8f51a6a6887de300": {
          "model_module": "@jupyter-widgets/controls",
          "model_name": "HBoxModel",
          "state": {
            "_view_name": "HBoxView",
            "_dom_classes": [],
            "_model_name": "HBoxModel",
            "_view_module": "@jupyter-widgets/controls",
            "_model_module_version": "1.5.0",
            "_view_count": null,
            "_view_module_version": "1.5.0",
            "box_style": "",
            "layout": "IPY_MODEL_bfb25e6ad105479ebd2427e78f7497f7",
            "_model_module": "@jupyter-widgets/controls",
            "children": [
              "IPY_MODEL_c72fe755f84645dba558440e2f8702ee",
              "IPY_MODEL_b1664054920944d9ac6b0a40b8f01a83"
            ]
          }
        },
        "bfb25e6ad105479ebd2427e78f7497f7": {
          "model_module": "@jupyter-widgets/base",
          "model_name": "LayoutModel",
          "state": {
            "_view_name": "LayoutView",
            "grid_template_rows": null,
            "right": null,
            "justify_content": null,
            "_view_module": "@jupyter-widgets/base",
            "overflow": null,
            "_model_module_version": "1.2.0",
            "_view_count": null,
            "flex_flow": null,
            "width": null,
            "min_width": null,
            "border": null,
            "align_items": null,
            "bottom": null,
            "_model_module": "@jupyter-widgets/base",
            "top": null,
            "grid_column": null,
            "overflow_y": null,
            "overflow_x": null,
            "grid_auto_flow": null,
            "grid_area": null,
            "grid_template_columns": null,
            "flex": null,
            "_model_name": "LayoutModel",
            "justify_items": null,
            "grid_row": null,
            "max_height": null,
            "align_content": null,
            "visibility": null,
            "align_self": null,
            "height": null,
            "min_height": null,
            "padding": null,
            "grid_auto_rows": null,
            "grid_gap": null,
            "max_width": null,
            "order": null,
            "_view_module_version": "1.2.0",
            "grid_template_areas": null,
            "object_position": null,
            "object_fit": null,
            "grid_auto_columns": null,
            "margin": null,
            "display": null,
            "left": null
          }
        },
        "c72fe755f84645dba558440e2f8702ee": {
          "model_module": "@jupyter-widgets/controls",
          "model_name": "FloatProgressModel",
          "state": {
            "_view_name": "ProgressView",
            "style": "IPY_MODEL_890065b847d74ead93cf440d4e8470ec",
            "_dom_classes": [],
            "description": "Epoca 4: 100%",
            "_model_name": "FloatProgressModel",
            "bar_style": "success",
            "max": 2241,
            "_view_module": "@jupyter-widgets/controls",
            "_model_module_version": "1.5.0",
            "value": 2241,
            "_view_count": null,
            "_view_module_version": "1.5.0",
            "orientation": "horizontal",
            "min": 0,
            "description_tooltip": null,
            "_model_module": "@jupyter-widgets/controls",
            "layout": "IPY_MODEL_2a607acafe7943b0a5f9ff559787463e"
          }
        },
        "b1664054920944d9ac6b0a40b8f01a83": {
          "model_module": "@jupyter-widgets/controls",
          "model_name": "HTMLModel",
          "state": {
            "_view_name": "HTMLView",
            "style": "IPY_MODEL_61422bf1a3db4ad2a28fc1ecc0e5ba44",
            "_dom_classes": [],
            "description": "",
            "_model_name": "HTMLModel",
            "placeholder": "​",
            "_view_module": "@jupyter-widgets/controls",
            "_model_module_version": "1.5.0",
            "value": " 2241/2241 [15:09&lt;00:00,  2.46lotes/s, loss=0.694]",
            "_view_count": null,
            "_view_module_version": "1.5.0",
            "description_tooltip": null,
            "_model_module": "@jupyter-widgets/controls",
            "layout": "IPY_MODEL_aac2db26ff0148ba984bacb2fb9050bf"
          }
        },
        "890065b847d74ead93cf440d4e8470ec": {
          "model_module": "@jupyter-widgets/controls",
          "model_name": "ProgressStyleModel",
          "state": {
            "_view_name": "StyleView",
            "_model_name": "ProgressStyleModel",
            "description_width": "initial",
            "_view_module": "@jupyter-widgets/base",
            "_model_module_version": "1.5.0",
            "_view_count": null,
            "_view_module_version": "1.2.0",
            "bar_color": null,
            "_model_module": "@jupyter-widgets/controls"
          }
        },
        "2a607acafe7943b0a5f9ff559787463e": {
          "model_module": "@jupyter-widgets/base",
          "model_name": "LayoutModel",
          "state": {
            "_view_name": "LayoutView",
            "grid_template_rows": null,
            "right": null,
            "justify_content": null,
            "_view_module": "@jupyter-widgets/base",
            "overflow": null,
            "_model_module_version": "1.2.0",
            "_view_count": null,
            "flex_flow": null,
            "width": null,
            "min_width": null,
            "border": null,
            "align_items": null,
            "bottom": null,
            "_model_module": "@jupyter-widgets/base",
            "top": null,
            "grid_column": null,
            "overflow_y": null,
            "overflow_x": null,
            "grid_auto_flow": null,
            "grid_area": null,
            "grid_template_columns": null,
            "flex": null,
            "_model_name": "LayoutModel",
            "justify_items": null,
            "grid_row": null,
            "max_height": null,
            "align_content": null,
            "visibility": null,
            "align_self": null,
            "height": null,
            "min_height": null,
            "padding": null,
            "grid_auto_rows": null,
            "grid_gap": null,
            "max_width": null,
            "order": null,
            "_view_module_version": "1.2.0",
            "grid_template_areas": null,
            "object_position": null,
            "object_fit": null,
            "grid_auto_columns": null,
            "margin": null,
            "display": null,
            "left": null
          }
        },
        "61422bf1a3db4ad2a28fc1ecc0e5ba44": {
          "model_module": "@jupyter-widgets/controls",
          "model_name": "DescriptionStyleModel",
          "state": {
            "_view_name": "StyleView",
            "_model_name": "DescriptionStyleModel",
            "description_width": "",
            "_view_module": "@jupyter-widgets/base",
            "_model_module_version": "1.5.0",
            "_view_count": null,
            "_view_module_version": "1.2.0",
            "_model_module": "@jupyter-widgets/controls"
          }
        },
        "aac2db26ff0148ba984bacb2fb9050bf": {
          "model_module": "@jupyter-widgets/base",
          "model_name": "LayoutModel",
          "state": {
            "_view_name": "LayoutView",
            "grid_template_rows": null,
            "right": null,
            "justify_content": null,
            "_view_module": "@jupyter-widgets/base",
            "overflow": null,
            "_model_module_version": "1.2.0",
            "_view_count": null,
            "flex_flow": null,
            "width": null,
            "min_width": null,
            "border": null,
            "align_items": null,
            "bottom": null,
            "_model_module": "@jupyter-widgets/base",
            "top": null,
            "grid_column": null,
            "overflow_y": null,
            "overflow_x": null,
            "grid_auto_flow": null,
            "grid_area": null,
            "grid_template_columns": null,
            "flex": null,
            "_model_name": "LayoutModel",
            "justify_items": null,
            "grid_row": null,
            "max_height": null,
            "align_content": null,
            "visibility": null,
            "align_self": null,
            "height": null,
            "min_height": null,
            "padding": null,
            "grid_auto_rows": null,
            "grid_gap": null,
            "max_width": null,
            "order": null,
            "_view_module_version": "1.2.0",
            "grid_template_areas": null,
            "object_position": null,
            "object_fit": null,
            "grid_auto_columns": null,
            "margin": null,
            "display": null,
            "left": null
          }
        },
        "d3a1329102ab4b7f93871757085a55df": {
          "model_module": "@jupyter-widgets/controls",
          "model_name": "HBoxModel",
          "state": {
            "_view_name": "HBoxView",
            "_dom_classes": [],
            "_model_name": "HBoxModel",
            "_view_module": "@jupyter-widgets/controls",
            "_model_module_version": "1.5.0",
            "_view_count": null,
            "_view_module_version": "1.5.0",
            "box_style": "",
            "layout": "IPY_MODEL_a0b900520fbe4ad8a06a5bbc57b18d8a",
            "_model_module": "@jupyter-widgets/controls",
            "children": [
              "IPY_MODEL_d747987e47ef49c590d925df44fc5a50",
              "IPY_MODEL_6e91c95ecc914029b5cd451bfe8ba107"
            ]
          }
        },
        "a0b900520fbe4ad8a06a5bbc57b18d8a": {
          "model_module": "@jupyter-widgets/base",
          "model_name": "LayoutModel",
          "state": {
            "_view_name": "LayoutView",
            "grid_template_rows": null,
            "right": null,
            "justify_content": null,
            "_view_module": "@jupyter-widgets/base",
            "overflow": null,
            "_model_module_version": "1.2.0",
            "_view_count": null,
            "flex_flow": null,
            "width": null,
            "min_width": null,
            "border": null,
            "align_items": null,
            "bottom": null,
            "_model_module": "@jupyter-widgets/base",
            "top": null,
            "grid_column": null,
            "overflow_y": null,
            "overflow_x": null,
            "grid_auto_flow": null,
            "grid_area": null,
            "grid_template_columns": null,
            "flex": null,
            "_model_name": "LayoutModel",
            "justify_items": null,
            "grid_row": null,
            "max_height": null,
            "align_content": null,
            "visibility": null,
            "align_self": null,
            "height": null,
            "min_height": null,
            "padding": null,
            "grid_auto_rows": null,
            "grid_gap": null,
            "max_width": null,
            "order": null,
            "_view_module_version": "1.2.0",
            "grid_template_areas": null,
            "object_position": null,
            "object_fit": null,
            "grid_auto_columns": null,
            "margin": null,
            "display": null,
            "left": null
          }
        },
        "d747987e47ef49c590d925df44fc5a50": {
          "model_module": "@jupyter-widgets/controls",
          "model_name": "FloatProgressModel",
          "state": {
            "_view_name": "ProgressView",
            "style": "IPY_MODEL_d1dfda6c6f3848aebccdafb98e7fc71d",
            "_dom_classes": [],
            "description": "Lotes : 100%",
            "_model_name": "FloatProgressModel",
            "bar_style": "success",
            "max": 125,
            "_view_module": "@jupyter-widgets/controls",
            "_model_module_version": "1.5.0",
            "value": 125,
            "_view_count": null,
            "_view_module_version": "1.5.0",
            "orientation": "horizontal",
            "min": 0,
            "description_tooltip": null,
            "_model_module": "@jupyter-widgets/controls",
            "layout": "IPY_MODEL_e69a96bb1924443f93f46ac47dee8d98"
          }
        },
        "6e91c95ecc914029b5cd451bfe8ba107": {
          "model_module": "@jupyter-widgets/controls",
          "model_name": "HTMLModel",
          "state": {
            "_view_name": "HTMLView",
            "style": "IPY_MODEL_7cd2f989f2a546a0a4728284901ab45c",
            "_dom_classes": [],
            "description": "",
            "_model_name": "HTMLModel",
            "placeholder": "​",
            "_view_module": "@jupyter-widgets/controls",
            "_model_module_version": "1.5.0",
            "value": " 125/125 [00:45&lt;00:00,  2.78lotes/s]",
            "_view_count": null,
            "_view_module_version": "1.5.0",
            "description_tooltip": null,
            "_model_module": "@jupyter-widgets/controls",
            "layout": "IPY_MODEL_8e18d5fb853d4a33979914dff270d7e2"
          }
        },
        "d1dfda6c6f3848aebccdafb98e7fc71d": {
          "model_module": "@jupyter-widgets/controls",
          "model_name": "ProgressStyleModel",
          "state": {
            "_view_name": "StyleView",
            "_model_name": "ProgressStyleModel",
            "description_width": "initial",
            "_view_module": "@jupyter-widgets/base",
            "_model_module_version": "1.5.0",
            "_view_count": null,
            "_view_module_version": "1.2.0",
            "bar_color": null,
            "_model_module": "@jupyter-widgets/controls"
          }
        },
        "e69a96bb1924443f93f46ac47dee8d98": {
          "model_module": "@jupyter-widgets/base",
          "model_name": "LayoutModel",
          "state": {
            "_view_name": "LayoutView",
            "grid_template_rows": null,
            "right": null,
            "justify_content": null,
            "_view_module": "@jupyter-widgets/base",
            "overflow": null,
            "_model_module_version": "1.2.0",
            "_view_count": null,
            "flex_flow": null,
            "width": null,
            "min_width": null,
            "border": null,
            "align_items": null,
            "bottom": null,
            "_model_module": "@jupyter-widgets/base",
            "top": null,
            "grid_column": null,
            "overflow_y": null,
            "overflow_x": null,
            "grid_auto_flow": null,
            "grid_area": null,
            "grid_template_columns": null,
            "flex": null,
            "_model_name": "LayoutModel",
            "justify_items": null,
            "grid_row": null,
            "max_height": null,
            "align_content": null,
            "visibility": null,
            "align_self": null,
            "height": null,
            "min_height": null,
            "padding": null,
            "grid_auto_rows": null,
            "grid_gap": null,
            "max_width": null,
            "order": null,
            "_view_module_version": "1.2.0",
            "grid_template_areas": null,
            "object_position": null,
            "object_fit": null,
            "grid_auto_columns": null,
            "margin": null,
            "display": null,
            "left": null
          }
        },
        "7cd2f989f2a546a0a4728284901ab45c": {
          "model_module": "@jupyter-widgets/controls",
          "model_name": "DescriptionStyleModel",
          "state": {
            "_view_name": "StyleView",
            "_model_name": "DescriptionStyleModel",
            "description_width": "",
            "_view_module": "@jupyter-widgets/base",
            "_model_module_version": "1.5.0",
            "_view_count": null,
            "_view_module_version": "1.2.0",
            "_model_module": "@jupyter-widgets/controls"
          }
        },
        "8e18d5fb853d4a33979914dff270d7e2": {
          "model_module": "@jupyter-widgets/base",
          "model_name": "LayoutModel",
          "state": {
            "_view_name": "LayoutView",
            "grid_template_rows": null,
            "right": null,
            "justify_content": null,
            "_view_module": "@jupyter-widgets/base",
            "overflow": null,
            "_model_module_version": "1.2.0",
            "_view_count": null,
            "flex_flow": null,
            "width": null,
            "min_width": null,
            "border": null,
            "align_items": null,
            "bottom": null,
            "_model_module": "@jupyter-widgets/base",
            "top": null,
            "grid_column": null,
            "overflow_y": null,
            "overflow_x": null,
            "grid_auto_flow": null,
            "grid_area": null,
            "grid_template_columns": null,
            "flex": null,
            "_model_name": "LayoutModel",
            "justify_items": null,
            "grid_row": null,
            "max_height": null,
            "align_content": null,
            "visibility": null,
            "align_self": null,
            "height": null,
            "min_height": null,
            "padding": null,
            "grid_auto_rows": null,
            "grid_gap": null,
            "max_width": null,
            "order": null,
            "_view_module_version": "1.2.0",
            "grid_template_areas": null,
            "object_position": null,
            "object_fit": null,
            "grid_auto_columns": null,
            "margin": null,
            "display": null,
            "left": null
          }
        },
        "c7b6d97eec2745579aad827981e50fab": {
          "model_module": "@jupyter-widgets/controls",
          "model_name": "VBoxModel",
          "state": {
            "_view_name": "VBoxView",
            "_dom_classes": [],
            "_model_name": "VBoxModel",
            "_view_module": "@jupyter-widgets/controls",
            "_model_module_version": "1.5.0",
            "_view_count": null,
            "_view_module_version": "1.5.0",
            "box_style": "",
            "layout": "IPY_MODEL_f4f716a404504d63a2855b90b25d3348",
            "_model_module": "@jupyter-widgets/controls",
            "children": [
              "IPY_MODEL_390dd1ca72144a2f84abc67a96a3db96",
              "IPY_MODEL_0cf9ac1f35ea44588d99d86336e5f2c9"
            ]
          }
        },
        "f4f716a404504d63a2855b90b25d3348": {
          "model_module": "@jupyter-widgets/base",
          "model_name": "LayoutModel",
          "state": {
            "_view_name": "LayoutView",
            "grid_template_rows": null,
            "right": null,
            "justify_content": null,
            "_view_module": "@jupyter-widgets/base",
            "overflow": null,
            "_model_module_version": "1.2.0",
            "_view_count": null,
            "flex_flow": null,
            "width": null,
            "min_width": null,
            "border": null,
            "align_items": null,
            "bottom": null,
            "_model_module": "@jupyter-widgets/base",
            "top": null,
            "grid_column": null,
            "overflow_y": null,
            "overflow_x": null,
            "grid_auto_flow": null,
            "grid_area": null,
            "grid_template_columns": null,
            "flex": null,
            "_model_name": "LayoutModel",
            "justify_items": null,
            "grid_row": null,
            "max_height": null,
            "align_content": null,
            "visibility": null,
            "align_self": null,
            "height": null,
            "min_height": null,
            "padding": null,
            "grid_auto_rows": null,
            "grid_gap": null,
            "max_width": null,
            "order": null,
            "_view_module_version": "1.2.0",
            "grid_template_areas": null,
            "object_position": null,
            "object_fit": null,
            "grid_auto_columns": null,
            "margin": null,
            "display": null,
            "left": null
          }
        },
        "390dd1ca72144a2f84abc67a96a3db96": {
          "model_module": "@jupyter-widgets/controls",
          "model_name": "LabelModel",
          "state": {
            "_view_name": "LabelView",
            "style": "IPY_MODEL_f984751edc66473d96df5b5f63e4668c",
            "_dom_classes": [],
            "description": "",
            "_model_name": "LabelModel",
            "placeholder": "​",
            "_view_module": "@jupyter-widgets/controls",
            "_model_module_version": "1.5.0",
            "value": " 0.81MB of 0.81MB uploaded (0.00MB deduped)\r",
            "_view_count": null,
            "_view_module_version": "1.5.0",
            "description_tooltip": null,
            "_model_module": "@jupyter-widgets/controls",
            "layout": "IPY_MODEL_9f70ba8cacbe432a8d1baf1da78a8bd4"
          }
        },
        "0cf9ac1f35ea44588d99d86336e5f2c9": {
          "model_module": "@jupyter-widgets/controls",
          "model_name": "FloatProgressModel",
          "state": {
            "_view_name": "ProgressView",
            "style": "IPY_MODEL_8998d36c21044bb591cffed8587fab7f",
            "_dom_classes": [],
            "description": "",
            "_model_name": "FloatProgressModel",
            "bar_style": "",
            "max": 1,
            "_view_module": "@jupyter-widgets/controls",
            "_model_module_version": "1.5.0",
            "value": 1,
            "_view_count": null,
            "_view_module_version": "1.5.0",
            "orientation": "horizontal",
            "min": 0,
            "description_tooltip": null,
            "_model_module": "@jupyter-widgets/controls",
            "layout": "IPY_MODEL_2ec912de65444dc391d0e0007d640866"
          }
        },
        "f984751edc66473d96df5b5f63e4668c": {
          "model_module": "@jupyter-widgets/controls",
          "model_name": "DescriptionStyleModel",
          "state": {
            "_view_name": "StyleView",
            "_model_name": "DescriptionStyleModel",
            "description_width": "",
            "_view_module": "@jupyter-widgets/base",
            "_model_module_version": "1.5.0",
            "_view_count": null,
            "_view_module_version": "1.2.0",
            "_model_module": "@jupyter-widgets/controls"
          }
        },
        "9f70ba8cacbe432a8d1baf1da78a8bd4": {
          "model_module": "@jupyter-widgets/base",
          "model_name": "LayoutModel",
          "state": {
            "_view_name": "LayoutView",
            "grid_template_rows": null,
            "right": null,
            "justify_content": null,
            "_view_module": "@jupyter-widgets/base",
            "overflow": null,
            "_model_module_version": "1.2.0",
            "_view_count": null,
            "flex_flow": null,
            "width": null,
            "min_width": null,
            "border": null,
            "align_items": null,
            "bottom": null,
            "_model_module": "@jupyter-widgets/base",
            "top": null,
            "grid_column": null,
            "overflow_y": null,
            "overflow_x": null,
            "grid_auto_flow": null,
            "grid_area": null,
            "grid_template_columns": null,
            "flex": null,
            "_model_name": "LayoutModel",
            "justify_items": null,
            "grid_row": null,
            "max_height": null,
            "align_content": null,
            "visibility": null,
            "align_self": null,
            "height": null,
            "min_height": null,
            "padding": null,
            "grid_auto_rows": null,
            "grid_gap": null,
            "max_width": null,
            "order": null,
            "_view_module_version": "1.2.0",
            "grid_template_areas": null,
            "object_position": null,
            "object_fit": null,
            "grid_auto_columns": null,
            "margin": null,
            "display": null,
            "left": null
          }
        },
        "8998d36c21044bb591cffed8587fab7f": {
          "model_module": "@jupyter-widgets/controls",
          "model_name": "ProgressStyleModel",
          "state": {
            "_view_name": "StyleView",
            "_model_name": "ProgressStyleModel",
            "description_width": "",
            "_view_module": "@jupyter-widgets/base",
            "_model_module_version": "1.5.0",
            "_view_count": null,
            "_view_module_version": "1.2.0",
            "bar_color": null,
            "_model_module": "@jupyter-widgets/controls"
          }
        },
        "2ec912de65444dc391d0e0007d640866": {
          "model_module": "@jupyter-widgets/base",
          "model_name": "LayoutModel",
          "state": {
            "_view_name": "LayoutView",
            "grid_template_rows": null,
            "right": null,
            "justify_content": null,
            "_view_module": "@jupyter-widgets/base",
            "overflow": null,
            "_model_module_version": "1.2.0",
            "_view_count": null,
            "flex_flow": null,
            "width": null,
            "min_width": null,
            "border": null,
            "align_items": null,
            "bottom": null,
            "_model_module": "@jupyter-widgets/base",
            "top": null,
            "grid_column": null,
            "overflow_y": null,
            "overflow_x": null,
            "grid_auto_flow": null,
            "grid_area": null,
            "grid_template_columns": null,
            "flex": null,
            "_model_name": "LayoutModel",
            "justify_items": null,
            "grid_row": null,
            "max_height": null,
            "align_content": null,
            "visibility": null,
            "align_self": null,
            "height": null,
            "min_height": null,
            "padding": null,
            "grid_auto_rows": null,
            "grid_gap": null,
            "max_width": null,
            "order": null,
            "_view_module_version": "1.2.0",
            "grid_template_areas": null,
            "object_position": null,
            "object_fit": null,
            "grid_auto_columns": null,
            "margin": null,
            "display": null,
            "left": null
          }
        },
        "c9ae4a3d033d41e2bc33dc7ce82233df": {
          "model_module": "@jupyter-widgets/controls",
          "model_name": "HBoxModel",
          "state": {
            "_view_name": "HBoxView",
            "_dom_classes": [],
            "_model_name": "HBoxModel",
            "_view_module": "@jupyter-widgets/controls",
            "_model_module_version": "1.5.0",
            "_view_count": null,
            "_view_module_version": "1.5.0",
            "box_style": "",
            "layout": "IPY_MODEL_57c96416d2c74402a74f6cd3ae818d53",
            "_model_module": "@jupyter-widgets/controls",
            "children": [
              "IPY_MODEL_3822bd0caded40c8b249004ac710286f",
              "IPY_MODEL_24e606164e614e2db4b78453ae461509"
            ]
          }
        },
        "57c96416d2c74402a74f6cd3ae818d53": {
          "model_module": "@jupyter-widgets/base",
          "model_name": "LayoutModel",
          "state": {
            "_view_name": "LayoutView",
            "grid_template_rows": null,
            "right": null,
            "justify_content": null,
            "_view_module": "@jupyter-widgets/base",
            "overflow": null,
            "_model_module_version": "1.2.0",
            "_view_count": null,
            "flex_flow": null,
            "width": null,
            "min_width": null,
            "border": null,
            "align_items": null,
            "bottom": null,
            "_model_module": "@jupyter-widgets/base",
            "top": null,
            "grid_column": null,
            "overflow_y": null,
            "overflow_x": null,
            "grid_auto_flow": null,
            "grid_area": null,
            "grid_template_columns": null,
            "flex": null,
            "_model_name": "LayoutModel",
            "justify_items": null,
            "grid_row": null,
            "max_height": null,
            "align_content": null,
            "visibility": null,
            "align_self": null,
            "height": null,
            "min_height": null,
            "padding": null,
            "grid_auto_rows": null,
            "grid_gap": null,
            "max_width": null,
            "order": null,
            "_view_module_version": "1.2.0",
            "grid_template_areas": null,
            "object_position": null,
            "object_fit": null,
            "grid_auto_columns": null,
            "margin": null,
            "display": null,
            "left": null
          }
        },
        "3822bd0caded40c8b249004ac710286f": {
          "model_module": "@jupyter-widgets/controls",
          "model_name": "FloatProgressModel",
          "state": {
            "_view_name": "ProgressView",
            "style": "IPY_MODEL_ea7dae2b13984124ab84beff3fd271af",
            "_dom_classes": [],
            "description": "Épocas: 100%",
            "_model_name": "FloatProgressModel",
            "bar_style": "success",
            "max": 4,
            "_view_module": "@jupyter-widgets/controls",
            "_model_module_version": "1.5.0",
            "value": 4,
            "_view_count": null,
            "_view_module_version": "1.5.0",
            "orientation": "horizontal",
            "min": 0,
            "description_tooltip": null,
            "_model_module": "@jupyter-widgets/controls",
            "layout": "IPY_MODEL_1d690162d0a14a83bd9489cbe4b44b5a"
          }
        },
        "24e606164e614e2db4b78453ae461509": {
          "model_module": "@jupyter-widgets/controls",
          "model_name": "HTMLModel",
          "state": {
            "_view_name": "HTMLView",
            "style": "IPY_MODEL_01343f489236449bb01ecfcac6ae8319",
            "_dom_classes": [],
            "description": "",
            "_model_name": "HTMLModel",
            "placeholder": "​",
            "_view_module": "@jupyter-widgets/controls",
            "_model_module_version": "1.5.0",
            "value": " 4/4 [58:26&lt;00:00, 876.73s/épocas]",
            "_view_count": null,
            "_view_module_version": "1.5.0",
            "description_tooltip": null,
            "_model_module": "@jupyter-widgets/controls",
            "layout": "IPY_MODEL_8d6422287f90474bac334d79883b4104"
          }
        },
        "ea7dae2b13984124ab84beff3fd271af": {
          "model_module": "@jupyter-widgets/controls",
          "model_name": "ProgressStyleModel",
          "state": {
            "_view_name": "StyleView",
            "_model_name": "ProgressStyleModel",
            "description_width": "initial",
            "_view_module": "@jupyter-widgets/base",
            "_model_module_version": "1.5.0",
            "_view_count": null,
            "_view_module_version": "1.2.0",
            "bar_color": null,
            "_model_module": "@jupyter-widgets/controls"
          }
        },
        "1d690162d0a14a83bd9489cbe4b44b5a": {
          "model_module": "@jupyter-widgets/base",
          "model_name": "LayoutModel",
          "state": {
            "_view_name": "LayoutView",
            "grid_template_rows": null,
            "right": null,
            "justify_content": null,
            "_view_module": "@jupyter-widgets/base",
            "overflow": null,
            "_model_module_version": "1.2.0",
            "_view_count": null,
            "flex_flow": null,
            "width": null,
            "min_width": null,
            "border": null,
            "align_items": null,
            "bottom": null,
            "_model_module": "@jupyter-widgets/base",
            "top": null,
            "grid_column": null,
            "overflow_y": null,
            "overflow_x": null,
            "grid_auto_flow": null,
            "grid_area": null,
            "grid_template_columns": null,
            "flex": null,
            "_model_name": "LayoutModel",
            "justify_items": null,
            "grid_row": null,
            "max_height": null,
            "align_content": null,
            "visibility": null,
            "align_self": null,
            "height": null,
            "min_height": null,
            "padding": null,
            "grid_auto_rows": null,
            "grid_gap": null,
            "max_width": null,
            "order": null,
            "_view_module_version": "1.2.0",
            "grid_template_areas": null,
            "object_position": null,
            "object_fit": null,
            "grid_auto_columns": null,
            "margin": null,
            "display": null,
            "left": null
          }
        },
        "01343f489236449bb01ecfcac6ae8319": {
          "model_module": "@jupyter-widgets/controls",
          "model_name": "DescriptionStyleModel",
          "state": {
            "_view_name": "StyleView",
            "_model_name": "DescriptionStyleModel",
            "description_width": "",
            "_view_module": "@jupyter-widgets/base",
            "_model_module_version": "1.5.0",
            "_view_count": null,
            "_view_module_version": "1.2.0",
            "_model_module": "@jupyter-widgets/controls"
          }
        },
        "8d6422287f90474bac334d79883b4104": {
          "model_module": "@jupyter-widgets/base",
          "model_name": "LayoutModel",
          "state": {
            "_view_name": "LayoutView",
            "grid_template_rows": null,
            "right": null,
            "justify_content": null,
            "_view_module": "@jupyter-widgets/base",
            "overflow": null,
            "_model_module_version": "1.2.0",
            "_view_count": null,
            "flex_flow": null,
            "width": null,
            "min_width": null,
            "border": null,
            "align_items": null,
            "bottom": null,
            "_model_module": "@jupyter-widgets/base",
            "top": null,
            "grid_column": null,
            "overflow_y": null,
            "overflow_x": null,
            "grid_auto_flow": null,
            "grid_area": null,
            "grid_template_columns": null,
            "flex": null,
            "_model_name": "LayoutModel",
            "justify_items": null,
            "grid_row": null,
            "max_height": null,
            "align_content": null,
            "visibility": null,
            "align_self": null,
            "height": null,
            "min_height": null,
            "padding": null,
            "grid_auto_rows": null,
            "grid_gap": null,
            "max_width": null,
            "order": null,
            "_view_module_version": "1.2.0",
            "grid_template_areas": null,
            "object_position": null,
            "object_fit": null,
            "grid_auto_columns": null,
            "margin": null,
            "display": null,
            "left": null
          }
        },
        "21c1c435451640e19860848d26f24747": {
          "model_module": "@jupyter-widgets/controls",
          "model_name": "HBoxModel",
          "state": {
            "_view_name": "HBoxView",
            "_dom_classes": [],
            "_model_name": "HBoxModel",
            "_view_module": "@jupyter-widgets/controls",
            "_model_module_version": "1.5.0",
            "_view_count": null,
            "_view_module_version": "1.5.0",
            "box_style": "",
            "layout": "IPY_MODEL_1254d923147142719fb88590e2b3c3ad",
            "_model_module": "@jupyter-widgets/controls",
            "children": [
              "IPY_MODEL_d84e8293042f49fabd87628a9bce0ef9",
              "IPY_MODEL_e5025091158e4869b2472e0f115b3d84"
            ]
          }
        },
        "1254d923147142719fb88590e2b3c3ad": {
          "model_module": "@jupyter-widgets/base",
          "model_name": "LayoutModel",
          "state": {
            "_view_name": "LayoutView",
            "grid_template_rows": null,
            "right": null,
            "justify_content": null,
            "_view_module": "@jupyter-widgets/base",
            "overflow": null,
            "_model_module_version": "1.2.0",
            "_view_count": null,
            "flex_flow": null,
            "width": null,
            "min_width": null,
            "border": null,
            "align_items": null,
            "bottom": null,
            "_model_module": "@jupyter-widgets/base",
            "top": null,
            "grid_column": null,
            "overflow_y": null,
            "overflow_x": null,
            "grid_auto_flow": null,
            "grid_area": null,
            "grid_template_columns": null,
            "flex": null,
            "_model_name": "LayoutModel",
            "justify_items": null,
            "grid_row": null,
            "max_height": null,
            "align_content": null,
            "visibility": null,
            "align_self": null,
            "height": null,
            "min_height": null,
            "padding": null,
            "grid_auto_rows": null,
            "grid_gap": null,
            "max_width": null,
            "order": null,
            "_view_module_version": "1.2.0",
            "grid_template_areas": null,
            "object_position": null,
            "object_fit": null,
            "grid_auto_columns": null,
            "margin": null,
            "display": null,
            "left": null
          }
        },
        "d84e8293042f49fabd87628a9bce0ef9": {
          "model_module": "@jupyter-widgets/controls",
          "model_name": "FloatProgressModel",
          "state": {
            "_view_name": "ProgressView",
            "style": "IPY_MODEL_89b7fcd315864eaba2d15ff017ba297b",
            "_dom_classes": [],
            "description": "Epoca 1: 100%",
            "_model_name": "FloatProgressModel",
            "bar_style": "success",
            "max": 2241,
            "_view_module": "@jupyter-widgets/controls",
            "_model_module_version": "1.5.0",
            "value": 2241,
            "_view_count": null,
            "_view_module_version": "1.5.0",
            "orientation": "horizontal",
            "min": 0,
            "description_tooltip": null,
            "_model_module": "@jupyter-widgets/controls",
            "layout": "IPY_MODEL_af6c90bd8fe048d28a64a95608b61366"
          }
        },
        "e5025091158e4869b2472e0f115b3d84": {
          "model_module": "@jupyter-widgets/controls",
          "model_name": "HTMLModel",
          "state": {
            "_view_name": "HTMLView",
            "style": "IPY_MODEL_249a2d44d25642cca2c1f919b49eaab5",
            "_dom_classes": [],
            "description": "",
            "_model_name": "HTMLModel",
            "placeholder": "​",
            "_view_module": "@jupyter-widgets/controls",
            "_model_module_version": "1.5.0",
            "value": " 2241/2241 [27:57&lt;00:00,  1.34lotes/s, loss=0.77]",
            "_view_count": null,
            "_view_module_version": "1.5.0",
            "description_tooltip": null,
            "_model_module": "@jupyter-widgets/controls",
            "layout": "IPY_MODEL_69f4f7a3b88447b7968a38ceabe6c9f4"
          }
        },
        "89b7fcd315864eaba2d15ff017ba297b": {
          "model_module": "@jupyter-widgets/controls",
          "model_name": "ProgressStyleModel",
          "state": {
            "_view_name": "StyleView",
            "_model_name": "ProgressStyleModel",
            "description_width": "initial",
            "_view_module": "@jupyter-widgets/base",
            "_model_module_version": "1.5.0",
            "_view_count": null,
            "_view_module_version": "1.2.0",
            "bar_color": null,
            "_model_module": "@jupyter-widgets/controls"
          }
        },
        "af6c90bd8fe048d28a64a95608b61366": {
          "model_module": "@jupyter-widgets/base",
          "model_name": "LayoutModel",
          "state": {
            "_view_name": "LayoutView",
            "grid_template_rows": null,
            "right": null,
            "justify_content": null,
            "_view_module": "@jupyter-widgets/base",
            "overflow": null,
            "_model_module_version": "1.2.0",
            "_view_count": null,
            "flex_flow": null,
            "width": null,
            "min_width": null,
            "border": null,
            "align_items": null,
            "bottom": null,
            "_model_module": "@jupyter-widgets/base",
            "top": null,
            "grid_column": null,
            "overflow_y": null,
            "overflow_x": null,
            "grid_auto_flow": null,
            "grid_area": null,
            "grid_template_columns": null,
            "flex": null,
            "_model_name": "LayoutModel",
            "justify_items": null,
            "grid_row": null,
            "max_height": null,
            "align_content": null,
            "visibility": null,
            "align_self": null,
            "height": null,
            "min_height": null,
            "padding": null,
            "grid_auto_rows": null,
            "grid_gap": null,
            "max_width": null,
            "order": null,
            "_view_module_version": "1.2.0",
            "grid_template_areas": null,
            "object_position": null,
            "object_fit": null,
            "grid_auto_columns": null,
            "margin": null,
            "display": null,
            "left": null
          }
        },
        "249a2d44d25642cca2c1f919b49eaab5": {
          "model_module": "@jupyter-widgets/controls",
          "model_name": "DescriptionStyleModel",
          "state": {
            "_view_name": "StyleView",
            "_model_name": "DescriptionStyleModel",
            "description_width": "",
            "_view_module": "@jupyter-widgets/base",
            "_model_module_version": "1.5.0",
            "_view_count": null,
            "_view_module_version": "1.2.0",
            "_model_module": "@jupyter-widgets/controls"
          }
        },
        "69f4f7a3b88447b7968a38ceabe6c9f4": {
          "model_module": "@jupyter-widgets/base",
          "model_name": "LayoutModel",
          "state": {
            "_view_name": "LayoutView",
            "grid_template_rows": null,
            "right": null,
            "justify_content": null,
            "_view_module": "@jupyter-widgets/base",
            "overflow": null,
            "_model_module_version": "1.2.0",
            "_view_count": null,
            "flex_flow": null,
            "width": null,
            "min_width": null,
            "border": null,
            "align_items": null,
            "bottom": null,
            "_model_module": "@jupyter-widgets/base",
            "top": null,
            "grid_column": null,
            "overflow_y": null,
            "overflow_x": null,
            "grid_auto_flow": null,
            "grid_area": null,
            "grid_template_columns": null,
            "flex": null,
            "_model_name": "LayoutModel",
            "justify_items": null,
            "grid_row": null,
            "max_height": null,
            "align_content": null,
            "visibility": null,
            "align_self": null,
            "height": null,
            "min_height": null,
            "padding": null,
            "grid_auto_rows": null,
            "grid_gap": null,
            "max_width": null,
            "order": null,
            "_view_module_version": "1.2.0",
            "grid_template_areas": null,
            "object_position": null,
            "object_fit": null,
            "grid_auto_columns": null,
            "margin": null,
            "display": null,
            "left": null
          }
        },
        "b323a1cb866941c79773699d1297a220": {
          "model_module": "@jupyter-widgets/controls",
          "model_name": "HBoxModel",
          "state": {
            "_view_name": "HBoxView",
            "_dom_classes": [],
            "_model_name": "HBoxModel",
            "_view_module": "@jupyter-widgets/controls",
            "_model_module_version": "1.5.0",
            "_view_count": null,
            "_view_module_version": "1.5.0",
            "box_style": "",
            "layout": "IPY_MODEL_73288b7682e9494ca0d0acde795b3c7f",
            "_model_module": "@jupyter-widgets/controls",
            "children": [
              "IPY_MODEL_4f233a6f0f7e449eac225e8e9df3d4ed",
              "IPY_MODEL_f4c81907cc85430f8e2784e856d69608"
            ]
          }
        },
        "73288b7682e9494ca0d0acde795b3c7f": {
          "model_module": "@jupyter-widgets/base",
          "model_name": "LayoutModel",
          "state": {
            "_view_name": "LayoutView",
            "grid_template_rows": null,
            "right": null,
            "justify_content": null,
            "_view_module": "@jupyter-widgets/base",
            "overflow": null,
            "_model_module_version": "1.2.0",
            "_view_count": null,
            "flex_flow": null,
            "width": null,
            "min_width": null,
            "border": null,
            "align_items": null,
            "bottom": null,
            "_model_module": "@jupyter-widgets/base",
            "top": null,
            "grid_column": null,
            "overflow_y": null,
            "overflow_x": null,
            "grid_auto_flow": null,
            "grid_area": null,
            "grid_template_columns": null,
            "flex": null,
            "_model_name": "LayoutModel",
            "justify_items": null,
            "grid_row": null,
            "max_height": null,
            "align_content": null,
            "visibility": null,
            "align_self": null,
            "height": null,
            "min_height": null,
            "padding": null,
            "grid_auto_rows": null,
            "grid_gap": null,
            "max_width": null,
            "order": null,
            "_view_module_version": "1.2.0",
            "grid_template_areas": null,
            "object_position": null,
            "object_fit": null,
            "grid_auto_columns": null,
            "margin": null,
            "display": null,
            "left": null
          }
        },
        "4f233a6f0f7e449eac225e8e9df3d4ed": {
          "model_module": "@jupyter-widgets/controls",
          "model_name": "FloatProgressModel",
          "state": {
            "_view_name": "ProgressView",
            "style": "IPY_MODEL_37d2277b732446d7afa95decd7c2ca00",
            "_dom_classes": [],
            "description": "Epoca 2: 100%",
            "_model_name": "FloatProgressModel",
            "bar_style": "success",
            "max": 2241,
            "_view_module": "@jupyter-widgets/controls",
            "_model_module_version": "1.5.0",
            "value": 2241,
            "_view_count": null,
            "_view_module_version": "1.5.0",
            "orientation": "horizontal",
            "min": 0,
            "description_tooltip": null,
            "_model_module": "@jupyter-widgets/controls",
            "layout": "IPY_MODEL_e453304896d44aa495748a71332b99d1"
          }
        },
        "f4c81907cc85430f8e2784e856d69608": {
          "model_module": "@jupyter-widgets/controls",
          "model_name": "HTMLModel",
          "state": {
            "_view_name": "HTMLView",
            "style": "IPY_MODEL_8a247b478c3c44589a6ab2aa00434114",
            "_dom_classes": [],
            "description": "",
            "_model_name": "HTMLModel",
            "placeholder": "​",
            "_view_module": "@jupyter-widgets/controls",
            "_model_module_version": "1.5.0",
            "value": " 2241/2241 [13:59&lt;00:00,  2.67lotes/s, loss=0.699]",
            "_view_count": null,
            "_view_module_version": "1.5.0",
            "description_tooltip": null,
            "_model_module": "@jupyter-widgets/controls",
            "layout": "IPY_MODEL_40d46c9a9c1242259a17423eca024f63"
          }
        },
        "37d2277b732446d7afa95decd7c2ca00": {
          "model_module": "@jupyter-widgets/controls",
          "model_name": "ProgressStyleModel",
          "state": {
            "_view_name": "StyleView",
            "_model_name": "ProgressStyleModel",
            "description_width": "initial",
            "_view_module": "@jupyter-widgets/base",
            "_model_module_version": "1.5.0",
            "_view_count": null,
            "_view_module_version": "1.2.0",
            "bar_color": null,
            "_model_module": "@jupyter-widgets/controls"
          }
        },
        "e453304896d44aa495748a71332b99d1": {
          "model_module": "@jupyter-widgets/base",
          "model_name": "LayoutModel",
          "state": {
            "_view_name": "LayoutView",
            "grid_template_rows": null,
            "right": null,
            "justify_content": null,
            "_view_module": "@jupyter-widgets/base",
            "overflow": null,
            "_model_module_version": "1.2.0",
            "_view_count": null,
            "flex_flow": null,
            "width": null,
            "min_width": null,
            "border": null,
            "align_items": null,
            "bottom": null,
            "_model_module": "@jupyter-widgets/base",
            "top": null,
            "grid_column": null,
            "overflow_y": null,
            "overflow_x": null,
            "grid_auto_flow": null,
            "grid_area": null,
            "grid_template_columns": null,
            "flex": null,
            "_model_name": "LayoutModel",
            "justify_items": null,
            "grid_row": null,
            "max_height": null,
            "align_content": null,
            "visibility": null,
            "align_self": null,
            "height": null,
            "min_height": null,
            "padding": null,
            "grid_auto_rows": null,
            "grid_gap": null,
            "max_width": null,
            "order": null,
            "_view_module_version": "1.2.0",
            "grid_template_areas": null,
            "object_position": null,
            "object_fit": null,
            "grid_auto_columns": null,
            "margin": null,
            "display": null,
            "left": null
          }
        },
        "8a247b478c3c44589a6ab2aa00434114": {
          "model_module": "@jupyter-widgets/controls",
          "model_name": "DescriptionStyleModel",
          "state": {
            "_view_name": "StyleView",
            "_model_name": "DescriptionStyleModel",
            "description_width": "",
            "_view_module": "@jupyter-widgets/base",
            "_model_module_version": "1.5.0",
            "_view_count": null,
            "_view_module_version": "1.2.0",
            "_model_module": "@jupyter-widgets/controls"
          }
        },
        "40d46c9a9c1242259a17423eca024f63": {
          "model_module": "@jupyter-widgets/base",
          "model_name": "LayoutModel",
          "state": {
            "_view_name": "LayoutView",
            "grid_template_rows": null,
            "right": null,
            "justify_content": null,
            "_view_module": "@jupyter-widgets/base",
            "overflow": null,
            "_model_module_version": "1.2.0",
            "_view_count": null,
            "flex_flow": null,
            "width": null,
            "min_width": null,
            "border": null,
            "align_items": null,
            "bottom": null,
            "_model_module": "@jupyter-widgets/base",
            "top": null,
            "grid_column": null,
            "overflow_y": null,
            "overflow_x": null,
            "grid_auto_flow": null,
            "grid_area": null,
            "grid_template_columns": null,
            "flex": null,
            "_model_name": "LayoutModel",
            "justify_items": null,
            "grid_row": null,
            "max_height": null,
            "align_content": null,
            "visibility": null,
            "align_self": null,
            "height": null,
            "min_height": null,
            "padding": null,
            "grid_auto_rows": null,
            "grid_gap": null,
            "max_width": null,
            "order": null,
            "_view_module_version": "1.2.0",
            "grid_template_areas": null,
            "object_position": null,
            "object_fit": null,
            "grid_auto_columns": null,
            "margin": null,
            "display": null,
            "left": null
          }
        },
        "522b028575b54829b520b27dc9532c3e": {
          "model_module": "@jupyter-widgets/controls",
          "model_name": "HBoxModel",
          "state": {
            "_view_name": "HBoxView",
            "_dom_classes": [],
            "_model_name": "HBoxModel",
            "_view_module": "@jupyter-widgets/controls",
            "_model_module_version": "1.5.0",
            "_view_count": null,
            "_view_module_version": "1.5.0",
            "box_style": "",
            "layout": "IPY_MODEL_14ace2c77bcb400392bd68d9208897e7",
            "_model_module": "@jupyter-widgets/controls",
            "children": [
              "IPY_MODEL_7937d6078bdf443a83d4aee2b701936a",
              "IPY_MODEL_e3099c91d351436eb18c0861b1dab88c"
            ]
          }
        },
        "14ace2c77bcb400392bd68d9208897e7": {
          "model_module": "@jupyter-widgets/base",
          "model_name": "LayoutModel",
          "state": {
            "_view_name": "LayoutView",
            "grid_template_rows": null,
            "right": null,
            "justify_content": null,
            "_view_module": "@jupyter-widgets/base",
            "overflow": null,
            "_model_module_version": "1.2.0",
            "_view_count": null,
            "flex_flow": null,
            "width": null,
            "min_width": null,
            "border": null,
            "align_items": null,
            "bottom": null,
            "_model_module": "@jupyter-widgets/base",
            "top": null,
            "grid_column": null,
            "overflow_y": null,
            "overflow_x": null,
            "grid_auto_flow": null,
            "grid_area": null,
            "grid_template_columns": null,
            "flex": null,
            "_model_name": "LayoutModel",
            "justify_items": null,
            "grid_row": null,
            "max_height": null,
            "align_content": null,
            "visibility": null,
            "align_self": null,
            "height": null,
            "min_height": null,
            "padding": null,
            "grid_auto_rows": null,
            "grid_gap": null,
            "max_width": null,
            "order": null,
            "_view_module_version": "1.2.0",
            "grid_template_areas": null,
            "object_position": null,
            "object_fit": null,
            "grid_auto_columns": null,
            "margin": null,
            "display": null,
            "left": null
          }
        },
        "7937d6078bdf443a83d4aee2b701936a": {
          "model_module": "@jupyter-widgets/controls",
          "model_name": "FloatProgressModel",
          "state": {
            "_view_name": "ProgressView",
            "style": "IPY_MODEL_16dc2015393a4383a14aada654a29efd",
            "_dom_classes": [],
            "description": "Epoca 3: 100%",
            "_model_name": "FloatProgressModel",
            "bar_style": "success",
            "max": 2241,
            "_view_module": "@jupyter-widgets/controls",
            "_model_module_version": "1.5.0",
            "value": 2241,
            "_view_count": null,
            "_view_module_version": "1.5.0",
            "orientation": "horizontal",
            "min": 0,
            "description_tooltip": null,
            "_model_module": "@jupyter-widgets/controls",
            "layout": "IPY_MODEL_62da8f71023b40169b09ee6220abd17d"
          }
        },
        "e3099c91d351436eb18c0861b1dab88c": {
          "model_module": "@jupyter-widgets/controls",
          "model_name": "HTMLModel",
          "state": {
            "_view_name": "HTMLView",
            "style": "IPY_MODEL_2a82ec91b7fc473a944995ce75159f58",
            "_dom_classes": [],
            "description": "",
            "_model_name": "HTMLModel",
            "placeholder": "​",
            "_view_module": "@jupyter-widgets/controls",
            "_model_module_version": "1.5.0",
            "value": " 2241/2241 [30:04&lt;00:00,  1.24lotes/s, loss=0.684]",
            "_view_count": null,
            "_view_module_version": "1.5.0",
            "description_tooltip": null,
            "_model_module": "@jupyter-widgets/controls",
            "layout": "IPY_MODEL_8732df09844b4c76b7feae9463d41eb3"
          }
        },
        "16dc2015393a4383a14aada654a29efd": {
          "model_module": "@jupyter-widgets/controls",
          "model_name": "ProgressStyleModel",
          "state": {
            "_view_name": "StyleView",
            "_model_name": "ProgressStyleModel",
            "description_width": "initial",
            "_view_module": "@jupyter-widgets/base",
            "_model_module_version": "1.5.0",
            "_view_count": null,
            "_view_module_version": "1.2.0",
            "bar_color": null,
            "_model_module": "@jupyter-widgets/controls"
          }
        },
        "62da8f71023b40169b09ee6220abd17d": {
          "model_module": "@jupyter-widgets/base",
          "model_name": "LayoutModel",
          "state": {
            "_view_name": "LayoutView",
            "grid_template_rows": null,
            "right": null,
            "justify_content": null,
            "_view_module": "@jupyter-widgets/base",
            "overflow": null,
            "_model_module_version": "1.2.0",
            "_view_count": null,
            "flex_flow": null,
            "width": null,
            "min_width": null,
            "border": null,
            "align_items": null,
            "bottom": null,
            "_model_module": "@jupyter-widgets/base",
            "top": null,
            "grid_column": null,
            "overflow_y": null,
            "overflow_x": null,
            "grid_auto_flow": null,
            "grid_area": null,
            "grid_template_columns": null,
            "flex": null,
            "_model_name": "LayoutModel",
            "justify_items": null,
            "grid_row": null,
            "max_height": null,
            "align_content": null,
            "visibility": null,
            "align_self": null,
            "height": null,
            "min_height": null,
            "padding": null,
            "grid_auto_rows": null,
            "grid_gap": null,
            "max_width": null,
            "order": null,
            "_view_module_version": "1.2.0",
            "grid_template_areas": null,
            "object_position": null,
            "object_fit": null,
            "grid_auto_columns": null,
            "margin": null,
            "display": null,
            "left": null
          }
        },
        "2a82ec91b7fc473a944995ce75159f58": {
          "model_module": "@jupyter-widgets/controls",
          "model_name": "DescriptionStyleModel",
          "state": {
            "_view_name": "StyleView",
            "_model_name": "DescriptionStyleModel",
            "description_width": "",
            "_view_module": "@jupyter-widgets/base",
            "_model_module_version": "1.5.0",
            "_view_count": null,
            "_view_module_version": "1.2.0",
            "_model_module": "@jupyter-widgets/controls"
          }
        },
        "8732df09844b4c76b7feae9463d41eb3": {
          "model_module": "@jupyter-widgets/base",
          "model_name": "LayoutModel",
          "state": {
            "_view_name": "LayoutView",
            "grid_template_rows": null,
            "right": null,
            "justify_content": null,
            "_view_module": "@jupyter-widgets/base",
            "overflow": null,
            "_model_module_version": "1.2.0",
            "_view_count": null,
            "flex_flow": null,
            "width": null,
            "min_width": null,
            "border": null,
            "align_items": null,
            "bottom": null,
            "_model_module": "@jupyter-widgets/base",
            "top": null,
            "grid_column": null,
            "overflow_y": null,
            "overflow_x": null,
            "grid_auto_flow": null,
            "grid_area": null,
            "grid_template_columns": null,
            "flex": null,
            "_model_name": "LayoutModel",
            "justify_items": null,
            "grid_row": null,
            "max_height": null,
            "align_content": null,
            "visibility": null,
            "align_self": null,
            "height": null,
            "min_height": null,
            "padding": null,
            "grid_auto_rows": null,
            "grid_gap": null,
            "max_width": null,
            "order": null,
            "_view_module_version": "1.2.0",
            "grid_template_areas": null,
            "object_position": null,
            "object_fit": null,
            "grid_auto_columns": null,
            "margin": null,
            "display": null,
            "left": null
          }
        },
        "27cec6626840467880bc72138c2f698e": {
          "model_module": "@jupyter-widgets/controls",
          "model_name": "HBoxModel",
          "state": {
            "_view_name": "HBoxView",
            "_dom_classes": [],
            "_model_name": "HBoxModel",
            "_view_module": "@jupyter-widgets/controls",
            "_model_module_version": "1.5.0",
            "_view_count": null,
            "_view_module_version": "1.5.0",
            "box_style": "",
            "layout": "IPY_MODEL_b36972c1bf3546ce956898c1658cdcd4",
            "_model_module": "@jupyter-widgets/controls",
            "children": [
              "IPY_MODEL_d25b460a14674267a8b9bd99c8f46981",
              "IPY_MODEL_6dc41638faf547979cf08858a0ad5209"
            ]
          }
        },
        "b36972c1bf3546ce956898c1658cdcd4": {
          "model_module": "@jupyter-widgets/base",
          "model_name": "LayoutModel",
          "state": {
            "_view_name": "LayoutView",
            "grid_template_rows": null,
            "right": null,
            "justify_content": null,
            "_view_module": "@jupyter-widgets/base",
            "overflow": null,
            "_model_module_version": "1.2.0",
            "_view_count": null,
            "flex_flow": null,
            "width": null,
            "min_width": null,
            "border": null,
            "align_items": null,
            "bottom": null,
            "_model_module": "@jupyter-widgets/base",
            "top": null,
            "grid_column": null,
            "overflow_y": null,
            "overflow_x": null,
            "grid_auto_flow": null,
            "grid_area": null,
            "grid_template_columns": null,
            "flex": null,
            "_model_name": "LayoutModel",
            "justify_items": null,
            "grid_row": null,
            "max_height": null,
            "align_content": null,
            "visibility": null,
            "align_self": null,
            "height": null,
            "min_height": null,
            "padding": null,
            "grid_auto_rows": null,
            "grid_gap": null,
            "max_width": null,
            "order": null,
            "_view_module_version": "1.2.0",
            "grid_template_areas": null,
            "object_position": null,
            "object_fit": null,
            "grid_auto_columns": null,
            "margin": null,
            "display": null,
            "left": null
          }
        },
        "d25b460a14674267a8b9bd99c8f46981": {
          "model_module": "@jupyter-widgets/controls",
          "model_name": "FloatProgressModel",
          "state": {
            "_view_name": "ProgressView",
            "style": "IPY_MODEL_b8e4fe840e864d6a8215dc0b113eac8e",
            "_dom_classes": [],
            "description": "Epoca 4: 100%",
            "_model_name": "FloatProgressModel",
            "bar_style": "success",
            "max": 2241,
            "_view_module": "@jupyter-widgets/controls",
            "_model_module_version": "1.5.0",
            "value": 2241,
            "_view_count": null,
            "_view_module_version": "1.5.0",
            "orientation": "horizontal",
            "min": 0,
            "description_tooltip": null,
            "_model_module": "@jupyter-widgets/controls",
            "layout": "IPY_MODEL_edaf382c110b440b865bfa1a64c91c9c"
          }
        },
        "6dc41638faf547979cf08858a0ad5209": {
          "model_module": "@jupyter-widgets/controls",
          "model_name": "HTMLModel",
          "state": {
            "_view_name": "HTMLView",
            "style": "IPY_MODEL_36e0001f69714076bf462b0617d57e3c",
            "_dom_classes": [],
            "description": "",
            "_model_name": "HTMLModel",
            "placeholder": "​",
            "_view_module": "@jupyter-widgets/controls",
            "_model_module_version": "1.5.0",
            "value": " 2241/2241 [16:05&lt;00:00,  2.32lotes/s, loss=0.727]",
            "_view_count": null,
            "_view_module_version": "1.5.0",
            "description_tooltip": null,
            "_model_module": "@jupyter-widgets/controls",
            "layout": "IPY_MODEL_84d91f2157784bf3bd9c2ab65ff6187b"
          }
        },
        "b8e4fe840e864d6a8215dc0b113eac8e": {
          "model_module": "@jupyter-widgets/controls",
          "model_name": "ProgressStyleModel",
          "state": {
            "_view_name": "StyleView",
            "_model_name": "ProgressStyleModel",
            "description_width": "initial",
            "_view_module": "@jupyter-widgets/base",
            "_model_module_version": "1.5.0",
            "_view_count": null,
            "_view_module_version": "1.2.0",
            "bar_color": null,
            "_model_module": "@jupyter-widgets/controls"
          }
        },
        "edaf382c110b440b865bfa1a64c91c9c": {
          "model_module": "@jupyter-widgets/base",
          "model_name": "LayoutModel",
          "state": {
            "_view_name": "LayoutView",
            "grid_template_rows": null,
            "right": null,
            "justify_content": null,
            "_view_module": "@jupyter-widgets/base",
            "overflow": null,
            "_model_module_version": "1.2.0",
            "_view_count": null,
            "flex_flow": null,
            "width": null,
            "min_width": null,
            "border": null,
            "align_items": null,
            "bottom": null,
            "_model_module": "@jupyter-widgets/base",
            "top": null,
            "grid_column": null,
            "overflow_y": null,
            "overflow_x": null,
            "grid_auto_flow": null,
            "grid_area": null,
            "grid_template_columns": null,
            "flex": null,
            "_model_name": "LayoutModel",
            "justify_items": null,
            "grid_row": null,
            "max_height": null,
            "align_content": null,
            "visibility": null,
            "align_self": null,
            "height": null,
            "min_height": null,
            "padding": null,
            "grid_auto_rows": null,
            "grid_gap": null,
            "max_width": null,
            "order": null,
            "_view_module_version": "1.2.0",
            "grid_template_areas": null,
            "object_position": null,
            "object_fit": null,
            "grid_auto_columns": null,
            "margin": null,
            "display": null,
            "left": null
          }
        },
        "36e0001f69714076bf462b0617d57e3c": {
          "model_module": "@jupyter-widgets/controls",
          "model_name": "DescriptionStyleModel",
          "state": {
            "_view_name": "StyleView",
            "_model_name": "DescriptionStyleModel",
            "description_width": "",
            "_view_module": "@jupyter-widgets/base",
            "_model_module_version": "1.5.0",
            "_view_count": null,
            "_view_module_version": "1.2.0",
            "_model_module": "@jupyter-widgets/controls"
          }
        },
        "84d91f2157784bf3bd9c2ab65ff6187b": {
          "model_module": "@jupyter-widgets/base",
          "model_name": "LayoutModel",
          "state": {
            "_view_name": "LayoutView",
            "grid_template_rows": null,
            "right": null,
            "justify_content": null,
            "_view_module": "@jupyter-widgets/base",
            "overflow": null,
            "_model_module_version": "1.2.0",
            "_view_count": null,
            "flex_flow": null,
            "width": null,
            "min_width": null,
            "border": null,
            "align_items": null,
            "bottom": null,
            "_model_module": "@jupyter-widgets/base",
            "top": null,
            "grid_column": null,
            "overflow_y": null,
            "overflow_x": null,
            "grid_auto_flow": null,
            "grid_area": null,
            "grid_template_columns": null,
            "flex": null,
            "_model_name": "LayoutModel",
            "justify_items": null,
            "grid_row": null,
            "max_height": null,
            "align_content": null,
            "visibility": null,
            "align_self": null,
            "height": null,
            "min_height": null,
            "padding": null,
            "grid_auto_rows": null,
            "grid_gap": null,
            "max_width": null,
            "order": null,
            "_view_module_version": "1.2.0",
            "grid_template_areas": null,
            "object_position": null,
            "object_fit": null,
            "grid_auto_columns": null,
            "margin": null,
            "display": null,
            "left": null
          }
        },
        "10410498cf014289b6f478c42442378a": {
          "model_module": "@jupyter-widgets/controls",
          "model_name": "HBoxModel",
          "state": {
            "_view_name": "HBoxView",
            "_dom_classes": [],
            "_model_name": "HBoxModel",
            "_view_module": "@jupyter-widgets/controls",
            "_model_module_version": "1.5.0",
            "_view_count": null,
            "_view_module_version": "1.5.0",
            "box_style": "",
            "layout": "IPY_MODEL_c6ed7ebebe3f4cf8b4068412d6471992",
            "_model_module": "@jupyter-widgets/controls",
            "children": [
              "IPY_MODEL_9cebff4f7b514ed784e35cd801e4e65f",
              "IPY_MODEL_bcdf3f94890a4774bead074ec8510570"
            ]
          }
        },
        "c6ed7ebebe3f4cf8b4068412d6471992": {
          "model_module": "@jupyter-widgets/base",
          "model_name": "LayoutModel",
          "state": {
            "_view_name": "LayoutView",
            "grid_template_rows": null,
            "right": null,
            "justify_content": null,
            "_view_module": "@jupyter-widgets/base",
            "overflow": null,
            "_model_module_version": "1.2.0",
            "_view_count": null,
            "flex_flow": null,
            "width": null,
            "min_width": null,
            "border": null,
            "align_items": null,
            "bottom": null,
            "_model_module": "@jupyter-widgets/base",
            "top": null,
            "grid_column": null,
            "overflow_y": null,
            "overflow_x": null,
            "grid_auto_flow": null,
            "grid_area": null,
            "grid_template_columns": null,
            "flex": null,
            "_model_name": "LayoutModel",
            "justify_items": null,
            "grid_row": null,
            "max_height": null,
            "align_content": null,
            "visibility": null,
            "align_self": null,
            "height": null,
            "min_height": null,
            "padding": null,
            "grid_auto_rows": null,
            "grid_gap": null,
            "max_width": null,
            "order": null,
            "_view_module_version": "1.2.0",
            "grid_template_areas": null,
            "object_position": null,
            "object_fit": null,
            "grid_auto_columns": null,
            "margin": null,
            "display": null,
            "left": null
          }
        },
        "9cebff4f7b514ed784e35cd801e4e65f": {
          "model_module": "@jupyter-widgets/controls",
          "model_name": "FloatProgressModel",
          "state": {
            "_view_name": "ProgressView",
            "style": "IPY_MODEL_15ef0ba18db04775ba66c8a2b023a142",
            "_dom_classes": [],
            "description": "Lotes : 100%",
            "_model_name": "FloatProgressModel",
            "bar_style": "success",
            "max": 125,
            "_view_module": "@jupyter-widgets/controls",
            "_model_module_version": "1.5.0",
            "value": 125,
            "_view_count": null,
            "_view_module_version": "1.5.0",
            "orientation": "horizontal",
            "min": 0,
            "description_tooltip": null,
            "_model_module": "@jupyter-widgets/controls",
            "layout": "IPY_MODEL_30cdec9bb817405da437e49357998a5f"
          }
        },
        "bcdf3f94890a4774bead074ec8510570": {
          "model_module": "@jupyter-widgets/controls",
          "model_name": "HTMLModel",
          "state": {
            "_view_name": "HTMLView",
            "style": "IPY_MODEL_4deb0653342e4bfabbaa0fcbf22e2d79",
            "_dom_classes": [],
            "description": "",
            "_model_name": "HTMLModel",
            "placeholder": "​",
            "_view_module": "@jupyter-widgets/controls",
            "_model_module_version": "1.5.0",
            "value": " 125/125 [00:33&lt;00:00,  3.73lotes/s]",
            "_view_count": null,
            "_view_module_version": "1.5.0",
            "description_tooltip": null,
            "_model_module": "@jupyter-widgets/controls",
            "layout": "IPY_MODEL_1cdc9725b3ea455692b2019880936bc9"
          }
        },
        "15ef0ba18db04775ba66c8a2b023a142": {
          "model_module": "@jupyter-widgets/controls",
          "model_name": "ProgressStyleModel",
          "state": {
            "_view_name": "StyleView",
            "_model_name": "ProgressStyleModel",
            "description_width": "initial",
            "_view_module": "@jupyter-widgets/base",
            "_model_module_version": "1.5.0",
            "_view_count": null,
            "_view_module_version": "1.2.0",
            "bar_color": null,
            "_model_module": "@jupyter-widgets/controls"
          }
        },
        "30cdec9bb817405da437e49357998a5f": {
          "model_module": "@jupyter-widgets/base",
          "model_name": "LayoutModel",
          "state": {
            "_view_name": "LayoutView",
            "grid_template_rows": null,
            "right": null,
            "justify_content": null,
            "_view_module": "@jupyter-widgets/base",
            "overflow": null,
            "_model_module_version": "1.2.0",
            "_view_count": null,
            "flex_flow": null,
            "width": null,
            "min_width": null,
            "border": null,
            "align_items": null,
            "bottom": null,
            "_model_module": "@jupyter-widgets/base",
            "top": null,
            "grid_column": null,
            "overflow_y": null,
            "overflow_x": null,
            "grid_auto_flow": null,
            "grid_area": null,
            "grid_template_columns": null,
            "flex": null,
            "_model_name": "LayoutModel",
            "justify_items": null,
            "grid_row": null,
            "max_height": null,
            "align_content": null,
            "visibility": null,
            "align_self": null,
            "height": null,
            "min_height": null,
            "padding": null,
            "grid_auto_rows": null,
            "grid_gap": null,
            "max_width": null,
            "order": null,
            "_view_module_version": "1.2.0",
            "grid_template_areas": null,
            "object_position": null,
            "object_fit": null,
            "grid_auto_columns": null,
            "margin": null,
            "display": null,
            "left": null
          }
        },
        "4deb0653342e4bfabbaa0fcbf22e2d79": {
          "model_module": "@jupyter-widgets/controls",
          "model_name": "DescriptionStyleModel",
          "state": {
            "_view_name": "StyleView",
            "_model_name": "DescriptionStyleModel",
            "description_width": "",
            "_view_module": "@jupyter-widgets/base",
            "_model_module_version": "1.5.0",
            "_view_count": null,
            "_view_module_version": "1.2.0",
            "_model_module": "@jupyter-widgets/controls"
          }
        },
        "1cdc9725b3ea455692b2019880936bc9": {
          "model_module": "@jupyter-widgets/base",
          "model_name": "LayoutModel",
          "state": {
            "_view_name": "LayoutView",
            "grid_template_rows": null,
            "right": null,
            "justify_content": null,
            "_view_module": "@jupyter-widgets/base",
            "overflow": null,
            "_model_module_version": "1.2.0",
            "_view_count": null,
            "flex_flow": null,
            "width": null,
            "min_width": null,
            "border": null,
            "align_items": null,
            "bottom": null,
            "_model_module": "@jupyter-widgets/base",
            "top": null,
            "grid_column": null,
            "overflow_y": null,
            "overflow_x": null,
            "grid_auto_flow": null,
            "grid_area": null,
            "grid_template_columns": null,
            "flex": null,
            "_model_name": "LayoutModel",
            "justify_items": null,
            "grid_row": null,
            "max_height": null,
            "align_content": null,
            "visibility": null,
            "align_self": null,
            "height": null,
            "min_height": null,
            "padding": null,
            "grid_auto_rows": null,
            "grid_gap": null,
            "max_width": null,
            "order": null,
            "_view_module_version": "1.2.0",
            "grid_template_areas": null,
            "object_position": null,
            "object_fit": null,
            "grid_auto_columns": null,
            "margin": null,
            "display": null,
            "left": null
          }
        },
        "6e0a11c4719a44aaa1ae25efd4c00ff8": {
          "model_module": "@jupyter-widgets/controls",
          "model_name": "VBoxModel",
          "state": {
            "_view_name": "VBoxView",
            "_dom_classes": [],
            "_model_name": "VBoxModel",
            "_view_module": "@jupyter-widgets/controls",
            "_model_module_version": "1.5.0",
            "_view_count": null,
            "_view_module_version": "1.5.0",
            "box_style": "",
            "layout": "IPY_MODEL_9988ea41f3bd4bd59fbca507261f2e7c",
            "_model_module": "@jupyter-widgets/controls",
            "children": [
              "IPY_MODEL_f89326abf0654fc39de58bd7d3eab843",
              "IPY_MODEL_e9b752ef92574734b675f3851abc8cd4"
            ]
          }
        },
        "9988ea41f3bd4bd59fbca507261f2e7c": {
          "model_module": "@jupyter-widgets/base",
          "model_name": "LayoutModel",
          "state": {
            "_view_name": "LayoutView",
            "grid_template_rows": null,
            "right": null,
            "justify_content": null,
            "_view_module": "@jupyter-widgets/base",
            "overflow": null,
            "_model_module_version": "1.2.0",
            "_view_count": null,
            "flex_flow": null,
            "width": null,
            "min_width": null,
            "border": null,
            "align_items": null,
            "bottom": null,
            "_model_module": "@jupyter-widgets/base",
            "top": null,
            "grid_column": null,
            "overflow_y": null,
            "overflow_x": null,
            "grid_auto_flow": null,
            "grid_area": null,
            "grid_template_columns": null,
            "flex": null,
            "_model_name": "LayoutModel",
            "justify_items": null,
            "grid_row": null,
            "max_height": null,
            "align_content": null,
            "visibility": null,
            "align_self": null,
            "height": null,
            "min_height": null,
            "padding": null,
            "grid_auto_rows": null,
            "grid_gap": null,
            "max_width": null,
            "order": null,
            "_view_module_version": "1.2.0",
            "grid_template_areas": null,
            "object_position": null,
            "object_fit": null,
            "grid_auto_columns": null,
            "margin": null,
            "display": null,
            "left": null
          }
        },
        "f89326abf0654fc39de58bd7d3eab843": {
          "model_module": "@jupyter-widgets/controls",
          "model_name": "LabelModel",
          "state": {
            "_view_name": "LabelView",
            "style": "IPY_MODEL_c286a1b43653440c94e4830177c300eb",
            "_dom_classes": [],
            "description": "",
            "_model_name": "LabelModel",
            "placeholder": "​",
            "_view_module": "@jupyter-widgets/controls",
            "_model_module_version": "1.5.0",
            "value": " 0.82MB of 0.82MB uploaded (0.00MB deduped)\r",
            "_view_count": null,
            "_view_module_version": "1.5.0",
            "description_tooltip": null,
            "_model_module": "@jupyter-widgets/controls",
            "layout": "IPY_MODEL_012a4e16bbe844f984b394dd9b503a5c"
          }
        },
        "e9b752ef92574734b675f3851abc8cd4": {
          "model_module": "@jupyter-widgets/controls",
          "model_name": "FloatProgressModel",
          "state": {
            "_view_name": "ProgressView",
            "style": "IPY_MODEL_9e14e78e2a744932baa8e5b9df0f58e2",
            "_dom_classes": [],
            "description": "",
            "_model_name": "FloatProgressModel",
            "bar_style": "",
            "max": 1,
            "_view_module": "@jupyter-widgets/controls",
            "_model_module_version": "1.5.0",
            "value": 1,
            "_view_count": null,
            "_view_module_version": "1.5.0",
            "orientation": "horizontal",
            "min": 0,
            "description_tooltip": null,
            "_model_module": "@jupyter-widgets/controls",
            "layout": "IPY_MODEL_669ddeeef0f94b05bd858d1422ecea59"
          }
        },
        "c286a1b43653440c94e4830177c300eb": {
          "model_module": "@jupyter-widgets/controls",
          "model_name": "DescriptionStyleModel",
          "state": {
            "_view_name": "StyleView",
            "_model_name": "DescriptionStyleModel",
            "description_width": "",
            "_view_module": "@jupyter-widgets/base",
            "_model_module_version": "1.5.0",
            "_view_count": null,
            "_view_module_version": "1.2.0",
            "_model_module": "@jupyter-widgets/controls"
          }
        },
        "012a4e16bbe844f984b394dd9b503a5c": {
          "model_module": "@jupyter-widgets/base",
          "model_name": "LayoutModel",
          "state": {
            "_view_name": "LayoutView",
            "grid_template_rows": null,
            "right": null,
            "justify_content": null,
            "_view_module": "@jupyter-widgets/base",
            "overflow": null,
            "_model_module_version": "1.2.0",
            "_view_count": null,
            "flex_flow": null,
            "width": null,
            "min_width": null,
            "border": null,
            "align_items": null,
            "bottom": null,
            "_model_module": "@jupyter-widgets/base",
            "top": null,
            "grid_column": null,
            "overflow_y": null,
            "overflow_x": null,
            "grid_auto_flow": null,
            "grid_area": null,
            "grid_template_columns": null,
            "flex": null,
            "_model_name": "LayoutModel",
            "justify_items": null,
            "grid_row": null,
            "max_height": null,
            "align_content": null,
            "visibility": null,
            "align_self": null,
            "height": null,
            "min_height": null,
            "padding": null,
            "grid_auto_rows": null,
            "grid_gap": null,
            "max_width": null,
            "order": null,
            "_view_module_version": "1.2.0",
            "grid_template_areas": null,
            "object_position": null,
            "object_fit": null,
            "grid_auto_columns": null,
            "margin": null,
            "display": null,
            "left": null
          }
        },
        "9e14e78e2a744932baa8e5b9df0f58e2": {
          "model_module": "@jupyter-widgets/controls",
          "model_name": "ProgressStyleModel",
          "state": {
            "_view_name": "StyleView",
            "_model_name": "ProgressStyleModel",
            "description_width": "",
            "_view_module": "@jupyter-widgets/base",
            "_model_module_version": "1.5.0",
            "_view_count": null,
            "_view_module_version": "1.2.0",
            "bar_color": null,
            "_model_module": "@jupyter-widgets/controls"
          }
        },
        "669ddeeef0f94b05bd858d1422ecea59": {
          "model_module": "@jupyter-widgets/base",
          "model_name": "LayoutModel",
          "state": {
            "_view_name": "LayoutView",
            "grid_template_rows": null,
            "right": null,
            "justify_content": null,
            "_view_module": "@jupyter-widgets/base",
            "overflow": null,
            "_model_module_version": "1.2.0",
            "_view_count": null,
            "flex_flow": null,
            "width": null,
            "min_width": null,
            "border": null,
            "align_items": null,
            "bottom": null,
            "_model_module": "@jupyter-widgets/base",
            "top": null,
            "grid_column": null,
            "overflow_y": null,
            "overflow_x": null,
            "grid_auto_flow": null,
            "grid_area": null,
            "grid_template_columns": null,
            "flex": null,
            "_model_name": "LayoutModel",
            "justify_items": null,
            "grid_row": null,
            "max_height": null,
            "align_content": null,
            "visibility": null,
            "align_self": null,
            "height": null,
            "min_height": null,
            "padding": null,
            "grid_auto_rows": null,
            "grid_gap": null,
            "max_width": null,
            "order": null,
            "_view_module_version": "1.2.0",
            "grid_template_areas": null,
            "object_position": null,
            "object_fit": null,
            "grid_auto_columns": null,
            "margin": null,
            "display": null,
            "left": null
          }
        },
        "393725a8793f428487f4a3e495cf9c1a": {
          "model_module": "@jupyter-widgets/controls",
          "model_name": "HBoxModel",
          "state": {
            "_view_name": "HBoxView",
            "_dom_classes": [],
            "_model_name": "HBoxModel",
            "_view_module": "@jupyter-widgets/controls",
            "_model_module_version": "1.5.0",
            "_view_count": null,
            "_view_module_version": "1.5.0",
            "box_style": "",
            "layout": "IPY_MODEL_c1f974b151be4466b1be7ecd2baadce4",
            "_model_module": "@jupyter-widgets/controls",
            "children": [
              "IPY_MODEL_b28e74ed156448c98328def8840a56d0",
              "IPY_MODEL_9064e54012f64387b054d42f9ad469c5"
            ]
          }
        },
        "c1f974b151be4466b1be7ecd2baadce4": {
          "model_module": "@jupyter-widgets/base",
          "model_name": "LayoutModel",
          "state": {
            "_view_name": "LayoutView",
            "grid_template_rows": null,
            "right": null,
            "justify_content": null,
            "_view_module": "@jupyter-widgets/base",
            "overflow": null,
            "_model_module_version": "1.2.0",
            "_view_count": null,
            "flex_flow": null,
            "width": null,
            "min_width": null,
            "border": null,
            "align_items": null,
            "bottom": null,
            "_model_module": "@jupyter-widgets/base",
            "top": null,
            "grid_column": null,
            "overflow_y": null,
            "overflow_x": null,
            "grid_auto_flow": null,
            "grid_area": null,
            "grid_template_columns": null,
            "flex": null,
            "_model_name": "LayoutModel",
            "justify_items": null,
            "grid_row": null,
            "max_height": null,
            "align_content": null,
            "visibility": null,
            "align_self": null,
            "height": null,
            "min_height": null,
            "padding": null,
            "grid_auto_rows": null,
            "grid_gap": null,
            "max_width": null,
            "order": null,
            "_view_module_version": "1.2.0",
            "grid_template_areas": null,
            "object_position": null,
            "object_fit": null,
            "grid_auto_columns": null,
            "margin": null,
            "display": null,
            "left": null
          }
        },
        "b28e74ed156448c98328def8840a56d0": {
          "model_module": "@jupyter-widgets/controls",
          "model_name": "FloatProgressModel",
          "state": {
            "_view_name": "ProgressView",
            "style": "IPY_MODEL_ae3e630cf0344b9eba5bdf04e42459dd",
            "_dom_classes": [],
            "description": "Épocas: 100%",
            "_model_name": "FloatProgressModel",
            "bar_style": "success",
            "max": 4,
            "_view_module": "@jupyter-widgets/controls",
            "_model_module_version": "1.5.0",
            "value": 4,
            "_view_count": null,
            "_view_module_version": "1.5.0",
            "orientation": "horizontal",
            "min": 0,
            "description_tooltip": null,
            "_model_module": "@jupyter-widgets/controls",
            "layout": "IPY_MODEL_e106f18b129849d6a37d54cdb9401fea"
          }
        },
        "9064e54012f64387b054d42f9ad469c5": {
          "model_module": "@jupyter-widgets/controls",
          "model_name": "HTMLModel",
          "state": {
            "_view_name": "HTMLView",
            "style": "IPY_MODEL_a573e713280a4a4192bc5853337e2615",
            "_dom_classes": [],
            "description": "",
            "_model_name": "HTMLModel",
            "placeholder": "​",
            "_view_module": "@jupyter-widgets/controls",
            "_model_module_version": "1.5.0",
            "value": " 4/4 [1:11:55&lt;00:00, 1078.76s/épocas]",
            "_view_count": null,
            "_view_module_version": "1.5.0",
            "description_tooltip": null,
            "_model_module": "@jupyter-widgets/controls",
            "layout": "IPY_MODEL_525a123f33374cc9bb67b264eb8ba73c"
          }
        },
        "ae3e630cf0344b9eba5bdf04e42459dd": {
          "model_module": "@jupyter-widgets/controls",
          "model_name": "ProgressStyleModel",
          "state": {
            "_view_name": "StyleView",
            "_model_name": "ProgressStyleModel",
            "description_width": "initial",
            "_view_module": "@jupyter-widgets/base",
            "_model_module_version": "1.5.0",
            "_view_count": null,
            "_view_module_version": "1.2.0",
            "bar_color": null,
            "_model_module": "@jupyter-widgets/controls"
          }
        },
        "e106f18b129849d6a37d54cdb9401fea": {
          "model_module": "@jupyter-widgets/base",
          "model_name": "LayoutModel",
          "state": {
            "_view_name": "LayoutView",
            "grid_template_rows": null,
            "right": null,
            "justify_content": null,
            "_view_module": "@jupyter-widgets/base",
            "overflow": null,
            "_model_module_version": "1.2.0",
            "_view_count": null,
            "flex_flow": null,
            "width": null,
            "min_width": null,
            "border": null,
            "align_items": null,
            "bottom": null,
            "_model_module": "@jupyter-widgets/base",
            "top": null,
            "grid_column": null,
            "overflow_y": null,
            "overflow_x": null,
            "grid_auto_flow": null,
            "grid_area": null,
            "grid_template_columns": null,
            "flex": null,
            "_model_name": "LayoutModel",
            "justify_items": null,
            "grid_row": null,
            "max_height": null,
            "align_content": null,
            "visibility": null,
            "align_self": null,
            "height": null,
            "min_height": null,
            "padding": null,
            "grid_auto_rows": null,
            "grid_gap": null,
            "max_width": null,
            "order": null,
            "_view_module_version": "1.2.0",
            "grid_template_areas": null,
            "object_position": null,
            "object_fit": null,
            "grid_auto_columns": null,
            "margin": null,
            "display": null,
            "left": null
          }
        },
        "a573e713280a4a4192bc5853337e2615": {
          "model_module": "@jupyter-widgets/controls",
          "model_name": "DescriptionStyleModel",
          "state": {
            "_view_name": "StyleView",
            "_model_name": "DescriptionStyleModel",
            "description_width": "",
            "_view_module": "@jupyter-widgets/base",
            "_model_module_version": "1.5.0",
            "_view_count": null,
            "_view_module_version": "1.2.0",
            "_model_module": "@jupyter-widgets/controls"
          }
        },
        "525a123f33374cc9bb67b264eb8ba73c": {
          "model_module": "@jupyter-widgets/base",
          "model_name": "LayoutModel",
          "state": {
            "_view_name": "LayoutView",
            "grid_template_rows": null,
            "right": null,
            "justify_content": null,
            "_view_module": "@jupyter-widgets/base",
            "overflow": null,
            "_model_module_version": "1.2.0",
            "_view_count": null,
            "flex_flow": null,
            "width": null,
            "min_width": null,
            "border": null,
            "align_items": null,
            "bottom": null,
            "_model_module": "@jupyter-widgets/base",
            "top": null,
            "grid_column": null,
            "overflow_y": null,
            "overflow_x": null,
            "grid_auto_flow": null,
            "grid_area": null,
            "grid_template_columns": null,
            "flex": null,
            "_model_name": "LayoutModel",
            "justify_items": null,
            "grid_row": null,
            "max_height": null,
            "align_content": null,
            "visibility": null,
            "align_self": null,
            "height": null,
            "min_height": null,
            "padding": null,
            "grid_auto_rows": null,
            "grid_gap": null,
            "max_width": null,
            "order": null,
            "_view_module_version": "1.2.0",
            "grid_template_areas": null,
            "object_position": null,
            "object_fit": null,
            "grid_auto_columns": null,
            "margin": null,
            "display": null,
            "left": null
          }
        },
        "8ae978a26fdd4a2880669d2cfdb1fbae": {
          "model_module": "@jupyter-widgets/controls",
          "model_name": "HBoxModel",
          "state": {
            "_view_name": "HBoxView",
            "_dom_classes": [],
            "_model_name": "HBoxModel",
            "_view_module": "@jupyter-widgets/controls",
            "_model_module_version": "1.5.0",
            "_view_count": null,
            "_view_module_version": "1.5.0",
            "box_style": "",
            "layout": "IPY_MODEL_28e023a3e0e54ed68e6f219144e6a012",
            "_model_module": "@jupyter-widgets/controls",
            "children": [
              "IPY_MODEL_5c1a5841ceb74c8e847a014d21b4f438",
              "IPY_MODEL_d9b85e5c35d94eef937c09b79b43c247"
            ]
          }
        },
        "28e023a3e0e54ed68e6f219144e6a012": {
          "model_module": "@jupyter-widgets/base",
          "model_name": "LayoutModel",
          "state": {
            "_view_name": "LayoutView",
            "grid_template_rows": null,
            "right": null,
            "justify_content": null,
            "_view_module": "@jupyter-widgets/base",
            "overflow": null,
            "_model_module_version": "1.2.0",
            "_view_count": null,
            "flex_flow": null,
            "width": null,
            "min_width": null,
            "border": null,
            "align_items": null,
            "bottom": null,
            "_model_module": "@jupyter-widgets/base",
            "top": null,
            "grid_column": null,
            "overflow_y": null,
            "overflow_x": null,
            "grid_auto_flow": null,
            "grid_area": null,
            "grid_template_columns": null,
            "flex": null,
            "_model_name": "LayoutModel",
            "justify_items": null,
            "grid_row": null,
            "max_height": null,
            "align_content": null,
            "visibility": null,
            "align_self": null,
            "height": null,
            "min_height": null,
            "padding": null,
            "grid_auto_rows": null,
            "grid_gap": null,
            "max_width": null,
            "order": null,
            "_view_module_version": "1.2.0",
            "grid_template_areas": null,
            "object_position": null,
            "object_fit": null,
            "grid_auto_columns": null,
            "margin": null,
            "display": null,
            "left": null
          }
        },
        "5c1a5841ceb74c8e847a014d21b4f438": {
          "model_module": "@jupyter-widgets/controls",
          "model_name": "FloatProgressModel",
          "state": {
            "_view_name": "ProgressView",
            "style": "IPY_MODEL_32517deabe7e4120aa9035e8578435a5",
            "_dom_classes": [],
            "description": "Epoca 1: 100%",
            "_model_name": "FloatProgressModel",
            "bar_style": "success",
            "max": 2241,
            "_view_module": "@jupyter-widgets/controls",
            "_model_module_version": "1.5.0",
            "value": 2241,
            "_view_count": null,
            "_view_module_version": "1.5.0",
            "orientation": "horizontal",
            "min": 0,
            "description_tooltip": null,
            "_model_module": "@jupyter-widgets/controls",
            "layout": "IPY_MODEL_4b6405b3b5c14c8ea3b6d44cffdb9ef7"
          }
        },
        "d9b85e5c35d94eef937c09b79b43c247": {
          "model_module": "@jupyter-widgets/controls",
          "model_name": "HTMLModel",
          "state": {
            "_view_name": "HTMLView",
            "style": "IPY_MODEL_f685fe09869644fb92580998775a8201",
            "_dom_classes": [],
            "description": "",
            "_model_name": "HTMLModel",
            "placeholder": "​",
            "_view_module": "@jupyter-widgets/controls",
            "_model_module_version": "1.5.0",
            "value": " 2241/2241 [42:02&lt;00:00,  1.13s/lotes, loss=0.978]",
            "_view_count": null,
            "_view_module_version": "1.5.0",
            "description_tooltip": null,
            "_model_module": "@jupyter-widgets/controls",
            "layout": "IPY_MODEL_d0b690e9711745f09a393ac97fe12ad4"
          }
        },
        "32517deabe7e4120aa9035e8578435a5": {
          "model_module": "@jupyter-widgets/controls",
          "model_name": "ProgressStyleModel",
          "state": {
            "_view_name": "StyleView",
            "_model_name": "ProgressStyleModel",
            "description_width": "initial",
            "_view_module": "@jupyter-widgets/base",
            "_model_module_version": "1.5.0",
            "_view_count": null,
            "_view_module_version": "1.2.0",
            "bar_color": null,
            "_model_module": "@jupyter-widgets/controls"
          }
        },
        "4b6405b3b5c14c8ea3b6d44cffdb9ef7": {
          "model_module": "@jupyter-widgets/base",
          "model_name": "LayoutModel",
          "state": {
            "_view_name": "LayoutView",
            "grid_template_rows": null,
            "right": null,
            "justify_content": null,
            "_view_module": "@jupyter-widgets/base",
            "overflow": null,
            "_model_module_version": "1.2.0",
            "_view_count": null,
            "flex_flow": null,
            "width": null,
            "min_width": null,
            "border": null,
            "align_items": null,
            "bottom": null,
            "_model_module": "@jupyter-widgets/base",
            "top": null,
            "grid_column": null,
            "overflow_y": null,
            "overflow_x": null,
            "grid_auto_flow": null,
            "grid_area": null,
            "grid_template_columns": null,
            "flex": null,
            "_model_name": "LayoutModel",
            "justify_items": null,
            "grid_row": null,
            "max_height": null,
            "align_content": null,
            "visibility": null,
            "align_self": null,
            "height": null,
            "min_height": null,
            "padding": null,
            "grid_auto_rows": null,
            "grid_gap": null,
            "max_width": null,
            "order": null,
            "_view_module_version": "1.2.0",
            "grid_template_areas": null,
            "object_position": null,
            "object_fit": null,
            "grid_auto_columns": null,
            "margin": null,
            "display": null,
            "left": null
          }
        },
        "f685fe09869644fb92580998775a8201": {
          "model_module": "@jupyter-widgets/controls",
          "model_name": "DescriptionStyleModel",
          "state": {
            "_view_name": "StyleView",
            "_model_name": "DescriptionStyleModel",
            "description_width": "",
            "_view_module": "@jupyter-widgets/base",
            "_model_module_version": "1.5.0",
            "_view_count": null,
            "_view_module_version": "1.2.0",
            "_model_module": "@jupyter-widgets/controls"
          }
        },
        "d0b690e9711745f09a393ac97fe12ad4": {
          "model_module": "@jupyter-widgets/base",
          "model_name": "LayoutModel",
          "state": {
            "_view_name": "LayoutView",
            "grid_template_rows": null,
            "right": null,
            "justify_content": null,
            "_view_module": "@jupyter-widgets/base",
            "overflow": null,
            "_model_module_version": "1.2.0",
            "_view_count": null,
            "flex_flow": null,
            "width": null,
            "min_width": null,
            "border": null,
            "align_items": null,
            "bottom": null,
            "_model_module": "@jupyter-widgets/base",
            "top": null,
            "grid_column": null,
            "overflow_y": null,
            "overflow_x": null,
            "grid_auto_flow": null,
            "grid_area": null,
            "grid_template_columns": null,
            "flex": null,
            "_model_name": "LayoutModel",
            "justify_items": null,
            "grid_row": null,
            "max_height": null,
            "align_content": null,
            "visibility": null,
            "align_self": null,
            "height": null,
            "min_height": null,
            "padding": null,
            "grid_auto_rows": null,
            "grid_gap": null,
            "max_width": null,
            "order": null,
            "_view_module_version": "1.2.0",
            "grid_template_areas": null,
            "object_position": null,
            "object_fit": null,
            "grid_auto_columns": null,
            "margin": null,
            "display": null,
            "left": null
          }
        },
        "daa68bfed9634ad6a9ac3b4bc3ace0d1": {
          "model_module": "@jupyter-widgets/controls",
          "model_name": "HBoxModel",
          "state": {
            "_view_name": "HBoxView",
            "_dom_classes": [],
            "_model_name": "HBoxModel",
            "_view_module": "@jupyter-widgets/controls",
            "_model_module_version": "1.5.0",
            "_view_count": null,
            "_view_module_version": "1.5.0",
            "box_style": "",
            "layout": "IPY_MODEL_b2dbdb084bfd43468a64fb35b6f7b145",
            "_model_module": "@jupyter-widgets/controls",
            "children": [
              "IPY_MODEL_e74f108f52e0475abe5ce086794e7b1e",
              "IPY_MODEL_ef7d2a342d8b4294bbfeab1170bc8c49"
            ]
          }
        },
        "b2dbdb084bfd43468a64fb35b6f7b145": {
          "model_module": "@jupyter-widgets/base",
          "model_name": "LayoutModel",
          "state": {
            "_view_name": "LayoutView",
            "grid_template_rows": null,
            "right": null,
            "justify_content": null,
            "_view_module": "@jupyter-widgets/base",
            "overflow": null,
            "_model_module_version": "1.2.0",
            "_view_count": null,
            "flex_flow": null,
            "width": null,
            "min_width": null,
            "border": null,
            "align_items": null,
            "bottom": null,
            "_model_module": "@jupyter-widgets/base",
            "top": null,
            "grid_column": null,
            "overflow_y": null,
            "overflow_x": null,
            "grid_auto_flow": null,
            "grid_area": null,
            "grid_template_columns": null,
            "flex": null,
            "_model_name": "LayoutModel",
            "justify_items": null,
            "grid_row": null,
            "max_height": null,
            "align_content": null,
            "visibility": null,
            "align_self": null,
            "height": null,
            "min_height": null,
            "padding": null,
            "grid_auto_rows": null,
            "grid_gap": null,
            "max_width": null,
            "order": null,
            "_view_module_version": "1.2.0",
            "grid_template_areas": null,
            "object_position": null,
            "object_fit": null,
            "grid_auto_columns": null,
            "margin": null,
            "display": null,
            "left": null
          }
        },
        "e74f108f52e0475abe5ce086794e7b1e": {
          "model_module": "@jupyter-widgets/controls",
          "model_name": "FloatProgressModel",
          "state": {
            "_view_name": "ProgressView",
            "style": "IPY_MODEL_bfe171bb6cb74574ac54ba156193cdab",
            "_dom_classes": [],
            "description": "Epoca 2: 100%",
            "_model_name": "FloatProgressModel",
            "bar_style": "success",
            "max": 2241,
            "_view_module": "@jupyter-widgets/controls",
            "_model_module_version": "1.5.0",
            "value": 2241,
            "_view_count": null,
            "_view_module_version": "1.5.0",
            "orientation": "horizontal",
            "min": 0,
            "description_tooltip": null,
            "_model_module": "@jupyter-widgets/controls",
            "layout": "IPY_MODEL_d02555db86b84975ab883ffda4f3eca4"
          }
        },
        "ef7d2a342d8b4294bbfeab1170bc8c49": {
          "model_module": "@jupyter-widgets/controls",
          "model_name": "HTMLModel",
          "state": {
            "_view_name": "HTMLView",
            "style": "IPY_MODEL_20cc672717714146a0b63fe7d49b9549",
            "_dom_classes": [],
            "description": "",
            "_model_name": "HTMLModel",
            "placeholder": "​",
            "_view_module": "@jupyter-widgets/controls",
            "_model_module_version": "1.5.0",
            "value": " 2241/2241 [28:01&lt;00:00,  1.33lotes/s, loss=0.645]",
            "_view_count": null,
            "_view_module_version": "1.5.0",
            "description_tooltip": null,
            "_model_module": "@jupyter-widgets/controls",
            "layout": "IPY_MODEL_f99cbdf52f684e88a68beac74438d4f2"
          }
        },
        "bfe171bb6cb74574ac54ba156193cdab": {
          "model_module": "@jupyter-widgets/controls",
          "model_name": "ProgressStyleModel",
          "state": {
            "_view_name": "StyleView",
            "_model_name": "ProgressStyleModel",
            "description_width": "initial",
            "_view_module": "@jupyter-widgets/base",
            "_model_module_version": "1.5.0",
            "_view_count": null,
            "_view_module_version": "1.2.0",
            "bar_color": null,
            "_model_module": "@jupyter-widgets/controls"
          }
        },
        "d02555db86b84975ab883ffda4f3eca4": {
          "model_module": "@jupyter-widgets/base",
          "model_name": "LayoutModel",
          "state": {
            "_view_name": "LayoutView",
            "grid_template_rows": null,
            "right": null,
            "justify_content": null,
            "_view_module": "@jupyter-widgets/base",
            "overflow": null,
            "_model_module_version": "1.2.0",
            "_view_count": null,
            "flex_flow": null,
            "width": null,
            "min_width": null,
            "border": null,
            "align_items": null,
            "bottom": null,
            "_model_module": "@jupyter-widgets/base",
            "top": null,
            "grid_column": null,
            "overflow_y": null,
            "overflow_x": null,
            "grid_auto_flow": null,
            "grid_area": null,
            "grid_template_columns": null,
            "flex": null,
            "_model_name": "LayoutModel",
            "justify_items": null,
            "grid_row": null,
            "max_height": null,
            "align_content": null,
            "visibility": null,
            "align_self": null,
            "height": null,
            "min_height": null,
            "padding": null,
            "grid_auto_rows": null,
            "grid_gap": null,
            "max_width": null,
            "order": null,
            "_view_module_version": "1.2.0",
            "grid_template_areas": null,
            "object_position": null,
            "object_fit": null,
            "grid_auto_columns": null,
            "margin": null,
            "display": null,
            "left": null
          }
        },
        "20cc672717714146a0b63fe7d49b9549": {
          "model_module": "@jupyter-widgets/controls",
          "model_name": "DescriptionStyleModel",
          "state": {
            "_view_name": "StyleView",
            "_model_name": "DescriptionStyleModel",
            "description_width": "",
            "_view_module": "@jupyter-widgets/base",
            "_model_module_version": "1.5.0",
            "_view_count": null,
            "_view_module_version": "1.2.0",
            "_model_module": "@jupyter-widgets/controls"
          }
        },
        "f99cbdf52f684e88a68beac74438d4f2": {
          "model_module": "@jupyter-widgets/base",
          "model_name": "LayoutModel",
          "state": {
            "_view_name": "LayoutView",
            "grid_template_rows": null,
            "right": null,
            "justify_content": null,
            "_view_module": "@jupyter-widgets/base",
            "overflow": null,
            "_model_module_version": "1.2.0",
            "_view_count": null,
            "flex_flow": null,
            "width": null,
            "min_width": null,
            "border": null,
            "align_items": null,
            "bottom": null,
            "_model_module": "@jupyter-widgets/base",
            "top": null,
            "grid_column": null,
            "overflow_y": null,
            "overflow_x": null,
            "grid_auto_flow": null,
            "grid_area": null,
            "grid_template_columns": null,
            "flex": null,
            "_model_name": "LayoutModel",
            "justify_items": null,
            "grid_row": null,
            "max_height": null,
            "align_content": null,
            "visibility": null,
            "align_self": null,
            "height": null,
            "min_height": null,
            "padding": null,
            "grid_auto_rows": null,
            "grid_gap": null,
            "max_width": null,
            "order": null,
            "_view_module_version": "1.2.0",
            "grid_template_areas": null,
            "object_position": null,
            "object_fit": null,
            "grid_auto_columns": null,
            "margin": null,
            "display": null,
            "left": null
          }
        },
        "1469dec1e8af4aad8c1e565813b486a8": {
          "model_module": "@jupyter-widgets/controls",
          "model_name": "HBoxModel",
          "state": {
            "_view_name": "HBoxView",
            "_dom_classes": [],
            "_model_name": "HBoxModel",
            "_view_module": "@jupyter-widgets/controls",
            "_model_module_version": "1.5.0",
            "_view_count": null,
            "_view_module_version": "1.5.0",
            "box_style": "",
            "layout": "IPY_MODEL_839ceb9c48654fa0af94fb7ec155ccb9",
            "_model_module": "@jupyter-widgets/controls",
            "children": [
              "IPY_MODEL_392df7cd1e5e477ca541628343aff387",
              "IPY_MODEL_6425d7a754254645a3063c87302d4fd1"
            ]
          }
        },
        "839ceb9c48654fa0af94fb7ec155ccb9": {
          "model_module": "@jupyter-widgets/base",
          "model_name": "LayoutModel",
          "state": {
            "_view_name": "LayoutView",
            "grid_template_rows": null,
            "right": null,
            "justify_content": null,
            "_view_module": "@jupyter-widgets/base",
            "overflow": null,
            "_model_module_version": "1.2.0",
            "_view_count": null,
            "flex_flow": null,
            "width": null,
            "min_width": null,
            "border": null,
            "align_items": null,
            "bottom": null,
            "_model_module": "@jupyter-widgets/base",
            "top": null,
            "grid_column": null,
            "overflow_y": null,
            "overflow_x": null,
            "grid_auto_flow": null,
            "grid_area": null,
            "grid_template_columns": null,
            "flex": null,
            "_model_name": "LayoutModel",
            "justify_items": null,
            "grid_row": null,
            "max_height": null,
            "align_content": null,
            "visibility": null,
            "align_self": null,
            "height": null,
            "min_height": null,
            "padding": null,
            "grid_auto_rows": null,
            "grid_gap": null,
            "max_width": null,
            "order": null,
            "_view_module_version": "1.2.0",
            "grid_template_areas": null,
            "object_position": null,
            "object_fit": null,
            "grid_auto_columns": null,
            "margin": null,
            "display": null,
            "left": null
          }
        },
        "392df7cd1e5e477ca541628343aff387": {
          "model_module": "@jupyter-widgets/controls",
          "model_name": "FloatProgressModel",
          "state": {
            "_view_name": "ProgressView",
            "style": "IPY_MODEL_23fef13768ba429f883f9da85360582f",
            "_dom_classes": [],
            "description": "Epoca 3: 100%",
            "_model_name": "FloatProgressModel",
            "bar_style": "success",
            "max": 2241,
            "_view_module": "@jupyter-widgets/controls",
            "_model_module_version": "1.5.0",
            "value": 2241,
            "_view_count": null,
            "_view_module_version": "1.5.0",
            "orientation": "horizontal",
            "min": 0,
            "description_tooltip": null,
            "_model_module": "@jupyter-widgets/controls",
            "layout": "IPY_MODEL_c91d5ebce26542b188ebef7b91ca4a6d"
          }
        },
        "6425d7a754254645a3063c87302d4fd1": {
          "model_module": "@jupyter-widgets/controls",
          "model_name": "HTMLModel",
          "state": {
            "_view_name": "HTMLView",
            "style": "IPY_MODEL_4f3619282bdc4faa8ba6d8f35ad423d5",
            "_dom_classes": [],
            "description": "",
            "_model_name": "HTMLModel",
            "placeholder": "​",
            "_view_module": "@jupyter-widgets/controls",
            "_model_module_version": "1.5.0",
            "value": " 2241/2241 [14:00&lt;00:00,  2.67lotes/s, loss=0.651]",
            "_view_count": null,
            "_view_module_version": "1.5.0",
            "description_tooltip": null,
            "_model_module": "@jupyter-widgets/controls",
            "layout": "IPY_MODEL_6d144a5ec16a41508a1b3aef856ba0fd"
          }
        },
        "23fef13768ba429f883f9da85360582f": {
          "model_module": "@jupyter-widgets/controls",
          "model_name": "ProgressStyleModel",
          "state": {
            "_view_name": "StyleView",
            "_model_name": "ProgressStyleModel",
            "description_width": "initial",
            "_view_module": "@jupyter-widgets/base",
            "_model_module_version": "1.5.0",
            "_view_count": null,
            "_view_module_version": "1.2.0",
            "bar_color": null,
            "_model_module": "@jupyter-widgets/controls"
          }
        },
        "c91d5ebce26542b188ebef7b91ca4a6d": {
          "model_module": "@jupyter-widgets/base",
          "model_name": "LayoutModel",
          "state": {
            "_view_name": "LayoutView",
            "grid_template_rows": null,
            "right": null,
            "justify_content": null,
            "_view_module": "@jupyter-widgets/base",
            "overflow": null,
            "_model_module_version": "1.2.0",
            "_view_count": null,
            "flex_flow": null,
            "width": null,
            "min_width": null,
            "border": null,
            "align_items": null,
            "bottom": null,
            "_model_module": "@jupyter-widgets/base",
            "top": null,
            "grid_column": null,
            "overflow_y": null,
            "overflow_x": null,
            "grid_auto_flow": null,
            "grid_area": null,
            "grid_template_columns": null,
            "flex": null,
            "_model_name": "LayoutModel",
            "justify_items": null,
            "grid_row": null,
            "max_height": null,
            "align_content": null,
            "visibility": null,
            "align_self": null,
            "height": null,
            "min_height": null,
            "padding": null,
            "grid_auto_rows": null,
            "grid_gap": null,
            "max_width": null,
            "order": null,
            "_view_module_version": "1.2.0",
            "grid_template_areas": null,
            "object_position": null,
            "object_fit": null,
            "grid_auto_columns": null,
            "margin": null,
            "display": null,
            "left": null
          }
        },
        "4f3619282bdc4faa8ba6d8f35ad423d5": {
          "model_module": "@jupyter-widgets/controls",
          "model_name": "DescriptionStyleModel",
          "state": {
            "_view_name": "StyleView",
            "_model_name": "DescriptionStyleModel",
            "description_width": "",
            "_view_module": "@jupyter-widgets/base",
            "_model_module_version": "1.5.0",
            "_view_count": null,
            "_view_module_version": "1.2.0",
            "_model_module": "@jupyter-widgets/controls"
          }
        },
        "6d144a5ec16a41508a1b3aef856ba0fd": {
          "model_module": "@jupyter-widgets/base",
          "model_name": "LayoutModel",
          "state": {
            "_view_name": "LayoutView",
            "grid_template_rows": null,
            "right": null,
            "justify_content": null,
            "_view_module": "@jupyter-widgets/base",
            "overflow": null,
            "_model_module_version": "1.2.0",
            "_view_count": null,
            "flex_flow": null,
            "width": null,
            "min_width": null,
            "border": null,
            "align_items": null,
            "bottom": null,
            "_model_module": "@jupyter-widgets/base",
            "top": null,
            "grid_column": null,
            "overflow_y": null,
            "overflow_x": null,
            "grid_auto_flow": null,
            "grid_area": null,
            "grid_template_columns": null,
            "flex": null,
            "_model_name": "LayoutModel",
            "justify_items": null,
            "grid_row": null,
            "max_height": null,
            "align_content": null,
            "visibility": null,
            "align_self": null,
            "height": null,
            "min_height": null,
            "padding": null,
            "grid_auto_rows": null,
            "grid_gap": null,
            "max_width": null,
            "order": null,
            "_view_module_version": "1.2.0",
            "grid_template_areas": null,
            "object_position": null,
            "object_fit": null,
            "grid_auto_columns": null,
            "margin": null,
            "display": null,
            "left": null
          }
        },
        "6739f1f7c10b416a8131bcb33e6eecc1": {
          "model_module": "@jupyter-widgets/controls",
          "model_name": "HBoxModel",
          "state": {
            "_view_name": "HBoxView",
            "_dom_classes": [],
            "_model_name": "HBoxModel",
            "_view_module": "@jupyter-widgets/controls",
            "_model_module_version": "1.5.0",
            "_view_count": null,
            "_view_module_version": "1.5.0",
            "box_style": "",
            "layout": "IPY_MODEL_b037d460ad7d438b851dba505734dcd2",
            "_model_module": "@jupyter-widgets/controls",
            "children": [
              "IPY_MODEL_fca88d7e76bb478eba4a247795905d3b",
              "IPY_MODEL_4d0bb4f276624237afce23e7c17a0c29"
            ]
          }
        },
        "b037d460ad7d438b851dba505734dcd2": {
          "model_module": "@jupyter-widgets/base",
          "model_name": "LayoutModel",
          "state": {
            "_view_name": "LayoutView",
            "grid_template_rows": null,
            "right": null,
            "justify_content": null,
            "_view_module": "@jupyter-widgets/base",
            "overflow": null,
            "_model_module_version": "1.2.0",
            "_view_count": null,
            "flex_flow": null,
            "width": null,
            "min_width": null,
            "border": null,
            "align_items": null,
            "bottom": null,
            "_model_module": "@jupyter-widgets/base",
            "top": null,
            "grid_column": null,
            "overflow_y": null,
            "overflow_x": null,
            "grid_auto_flow": null,
            "grid_area": null,
            "grid_template_columns": null,
            "flex": null,
            "_model_name": "LayoutModel",
            "justify_items": null,
            "grid_row": null,
            "max_height": null,
            "align_content": null,
            "visibility": null,
            "align_self": null,
            "height": null,
            "min_height": null,
            "padding": null,
            "grid_auto_rows": null,
            "grid_gap": null,
            "max_width": null,
            "order": null,
            "_view_module_version": "1.2.0",
            "grid_template_areas": null,
            "object_position": null,
            "object_fit": null,
            "grid_auto_columns": null,
            "margin": null,
            "display": null,
            "left": null
          }
        },
        "fca88d7e76bb478eba4a247795905d3b": {
          "model_module": "@jupyter-widgets/controls",
          "model_name": "FloatProgressModel",
          "state": {
            "_view_name": "ProgressView",
            "style": "IPY_MODEL_b25c345432894b558e7a6319254a15d0",
            "_dom_classes": [],
            "description": "Epoca 4: 100%",
            "_model_name": "FloatProgressModel",
            "bar_style": "success",
            "max": 2241,
            "_view_module": "@jupyter-widgets/controls",
            "_model_module_version": "1.5.0",
            "value": 2241,
            "_view_count": null,
            "_view_module_version": "1.5.0",
            "orientation": "horizontal",
            "min": 0,
            "description_tooltip": null,
            "_model_module": "@jupyter-widgets/controls",
            "layout": "IPY_MODEL_35438e6fa3384e8ab83785211d651e42"
          }
        },
        "4d0bb4f276624237afce23e7c17a0c29": {
          "model_module": "@jupyter-widgets/controls",
          "model_name": "HTMLModel",
          "state": {
            "_view_name": "HTMLView",
            "style": "IPY_MODEL_39471c272a304f25adb49cac8aafc5cf",
            "_dom_classes": [],
            "description": "",
            "_model_name": "HTMLModel",
            "placeholder": "​",
            "_view_module": "@jupyter-widgets/controls",
            "_model_module_version": "1.5.0",
            "value": " 2241/2241 [29:28&lt;00:00,  1.27lotes/s, loss=0.672]",
            "_view_count": null,
            "_view_module_version": "1.5.0",
            "description_tooltip": null,
            "_model_module": "@jupyter-widgets/controls",
            "layout": "IPY_MODEL_68f2c69f8b134a0a85c8ab7bb7066950"
          }
        },
        "b25c345432894b558e7a6319254a15d0": {
          "model_module": "@jupyter-widgets/controls",
          "model_name": "ProgressStyleModel",
          "state": {
            "_view_name": "StyleView",
            "_model_name": "ProgressStyleModel",
            "description_width": "initial",
            "_view_module": "@jupyter-widgets/base",
            "_model_module_version": "1.5.0",
            "_view_count": null,
            "_view_module_version": "1.2.0",
            "bar_color": null,
            "_model_module": "@jupyter-widgets/controls"
          }
        },
        "35438e6fa3384e8ab83785211d651e42": {
          "model_module": "@jupyter-widgets/base",
          "model_name": "LayoutModel",
          "state": {
            "_view_name": "LayoutView",
            "grid_template_rows": null,
            "right": null,
            "justify_content": null,
            "_view_module": "@jupyter-widgets/base",
            "overflow": null,
            "_model_module_version": "1.2.0",
            "_view_count": null,
            "flex_flow": null,
            "width": null,
            "min_width": null,
            "border": null,
            "align_items": null,
            "bottom": null,
            "_model_module": "@jupyter-widgets/base",
            "top": null,
            "grid_column": null,
            "overflow_y": null,
            "overflow_x": null,
            "grid_auto_flow": null,
            "grid_area": null,
            "grid_template_columns": null,
            "flex": null,
            "_model_name": "LayoutModel",
            "justify_items": null,
            "grid_row": null,
            "max_height": null,
            "align_content": null,
            "visibility": null,
            "align_self": null,
            "height": null,
            "min_height": null,
            "padding": null,
            "grid_auto_rows": null,
            "grid_gap": null,
            "max_width": null,
            "order": null,
            "_view_module_version": "1.2.0",
            "grid_template_areas": null,
            "object_position": null,
            "object_fit": null,
            "grid_auto_columns": null,
            "margin": null,
            "display": null,
            "left": null
          }
        },
        "39471c272a304f25adb49cac8aafc5cf": {
          "model_module": "@jupyter-widgets/controls",
          "model_name": "DescriptionStyleModel",
          "state": {
            "_view_name": "StyleView",
            "_model_name": "DescriptionStyleModel",
            "description_width": "",
            "_view_module": "@jupyter-widgets/base",
            "_model_module_version": "1.5.0",
            "_view_count": null,
            "_view_module_version": "1.2.0",
            "_model_module": "@jupyter-widgets/controls"
          }
        },
        "68f2c69f8b134a0a85c8ab7bb7066950": {
          "model_module": "@jupyter-widgets/base",
          "model_name": "LayoutModel",
          "state": {
            "_view_name": "LayoutView",
            "grid_template_rows": null,
            "right": null,
            "justify_content": null,
            "_view_module": "@jupyter-widgets/base",
            "overflow": null,
            "_model_module_version": "1.2.0",
            "_view_count": null,
            "flex_flow": null,
            "width": null,
            "min_width": null,
            "border": null,
            "align_items": null,
            "bottom": null,
            "_model_module": "@jupyter-widgets/base",
            "top": null,
            "grid_column": null,
            "overflow_y": null,
            "overflow_x": null,
            "grid_auto_flow": null,
            "grid_area": null,
            "grid_template_columns": null,
            "flex": null,
            "_model_name": "LayoutModel",
            "justify_items": null,
            "grid_row": null,
            "max_height": null,
            "align_content": null,
            "visibility": null,
            "align_self": null,
            "height": null,
            "min_height": null,
            "padding": null,
            "grid_auto_rows": null,
            "grid_gap": null,
            "max_width": null,
            "order": null,
            "_view_module_version": "1.2.0",
            "grid_template_areas": null,
            "object_position": null,
            "object_fit": null,
            "grid_auto_columns": null,
            "margin": null,
            "display": null,
            "left": null
          }
        },
        "cd40c73776f14b7e93690979200e8720": {
          "model_module": "@jupyter-widgets/controls",
          "model_name": "HBoxModel",
          "state": {
            "_view_name": "HBoxView",
            "_dom_classes": [],
            "_model_name": "HBoxModel",
            "_view_module": "@jupyter-widgets/controls",
            "_model_module_version": "1.5.0",
            "_view_count": null,
            "_view_module_version": "1.5.0",
            "box_style": "",
            "layout": "IPY_MODEL_000c4a431fd34526b26f0f2a4fdab167",
            "_model_module": "@jupyter-widgets/controls",
            "children": [
              "IPY_MODEL_4e6e840069924bc5a12b6e7d5e6760af",
              "IPY_MODEL_87544e6dec284207b583c6724fca108a"
            ]
          }
        },
        "000c4a431fd34526b26f0f2a4fdab167": {
          "model_module": "@jupyter-widgets/base",
          "model_name": "LayoutModel",
          "state": {
            "_view_name": "LayoutView",
            "grid_template_rows": null,
            "right": null,
            "justify_content": null,
            "_view_module": "@jupyter-widgets/base",
            "overflow": null,
            "_model_module_version": "1.2.0",
            "_view_count": null,
            "flex_flow": null,
            "width": null,
            "min_width": null,
            "border": null,
            "align_items": null,
            "bottom": null,
            "_model_module": "@jupyter-widgets/base",
            "top": null,
            "grid_column": null,
            "overflow_y": null,
            "overflow_x": null,
            "grid_auto_flow": null,
            "grid_area": null,
            "grid_template_columns": null,
            "flex": null,
            "_model_name": "LayoutModel",
            "justify_items": null,
            "grid_row": null,
            "max_height": null,
            "align_content": null,
            "visibility": null,
            "align_self": null,
            "height": null,
            "min_height": null,
            "padding": null,
            "grid_auto_rows": null,
            "grid_gap": null,
            "max_width": null,
            "order": null,
            "_view_module_version": "1.2.0",
            "grid_template_areas": null,
            "object_position": null,
            "object_fit": null,
            "grid_auto_columns": null,
            "margin": null,
            "display": null,
            "left": null
          }
        },
        "4e6e840069924bc5a12b6e7d5e6760af": {
          "model_module": "@jupyter-widgets/controls",
          "model_name": "FloatProgressModel",
          "state": {
            "_view_name": "ProgressView",
            "style": "IPY_MODEL_ef80065181dd4a779d129d9defbf6362",
            "_dom_classes": [],
            "description": "Lotes : 100%",
            "_model_name": "FloatProgressModel",
            "bar_style": "success",
            "max": 125,
            "_view_module": "@jupyter-widgets/controls",
            "_model_module_version": "1.5.0",
            "value": 125,
            "_view_count": null,
            "_view_module_version": "1.5.0",
            "orientation": "horizontal",
            "min": 0,
            "description_tooltip": null,
            "_model_module": "@jupyter-widgets/controls",
            "layout": "IPY_MODEL_4c56b593c29646ea92c39999ffeb5ae6"
          }
        },
        "87544e6dec284207b583c6724fca108a": {
          "model_module": "@jupyter-widgets/controls",
          "model_name": "HTMLModel",
          "state": {
            "_view_name": "HTMLView",
            "style": "IPY_MODEL_4a59cb32c8bb4938a92706003e50e3b9",
            "_dom_classes": [],
            "description": "",
            "_model_name": "HTMLModel",
            "placeholder": "​",
            "_view_module": "@jupyter-widgets/controls",
            "_model_module_version": "1.5.0",
            "value": " 125/125 [15:48&lt;00:00,  7.59s/lotes]",
            "_view_count": null,
            "_view_module_version": "1.5.0",
            "description_tooltip": null,
            "_model_module": "@jupyter-widgets/controls",
            "layout": "IPY_MODEL_1cbe2146b0724d16817f7256e0087fb7"
          }
        },
        "ef80065181dd4a779d129d9defbf6362": {
          "model_module": "@jupyter-widgets/controls",
          "model_name": "ProgressStyleModel",
          "state": {
            "_view_name": "StyleView",
            "_model_name": "ProgressStyleModel",
            "description_width": "initial",
            "_view_module": "@jupyter-widgets/base",
            "_model_module_version": "1.5.0",
            "_view_count": null,
            "_view_module_version": "1.2.0",
            "bar_color": null,
            "_model_module": "@jupyter-widgets/controls"
          }
        },
        "4c56b593c29646ea92c39999ffeb5ae6": {
          "model_module": "@jupyter-widgets/base",
          "model_name": "LayoutModel",
          "state": {
            "_view_name": "LayoutView",
            "grid_template_rows": null,
            "right": null,
            "justify_content": null,
            "_view_module": "@jupyter-widgets/base",
            "overflow": null,
            "_model_module_version": "1.2.0",
            "_view_count": null,
            "flex_flow": null,
            "width": null,
            "min_width": null,
            "border": null,
            "align_items": null,
            "bottom": null,
            "_model_module": "@jupyter-widgets/base",
            "top": null,
            "grid_column": null,
            "overflow_y": null,
            "overflow_x": null,
            "grid_auto_flow": null,
            "grid_area": null,
            "grid_template_columns": null,
            "flex": null,
            "_model_name": "LayoutModel",
            "justify_items": null,
            "grid_row": null,
            "max_height": null,
            "align_content": null,
            "visibility": null,
            "align_self": null,
            "height": null,
            "min_height": null,
            "padding": null,
            "grid_auto_rows": null,
            "grid_gap": null,
            "max_width": null,
            "order": null,
            "_view_module_version": "1.2.0",
            "grid_template_areas": null,
            "object_position": null,
            "object_fit": null,
            "grid_auto_columns": null,
            "margin": null,
            "display": null,
            "left": null
          }
        },
        "4a59cb32c8bb4938a92706003e50e3b9": {
          "model_module": "@jupyter-widgets/controls",
          "model_name": "DescriptionStyleModel",
          "state": {
            "_view_name": "StyleView",
            "_model_name": "DescriptionStyleModel",
            "description_width": "",
            "_view_module": "@jupyter-widgets/base",
            "_model_module_version": "1.5.0",
            "_view_count": null,
            "_view_module_version": "1.2.0",
            "_model_module": "@jupyter-widgets/controls"
          }
        },
        "1cbe2146b0724d16817f7256e0087fb7": {
          "model_module": "@jupyter-widgets/base",
          "model_name": "LayoutModel",
          "state": {
            "_view_name": "LayoutView",
            "grid_template_rows": null,
            "right": null,
            "justify_content": null,
            "_view_module": "@jupyter-widgets/base",
            "overflow": null,
            "_model_module_version": "1.2.0",
            "_view_count": null,
            "flex_flow": null,
            "width": null,
            "min_width": null,
            "border": null,
            "align_items": null,
            "bottom": null,
            "_model_module": "@jupyter-widgets/base",
            "top": null,
            "grid_column": null,
            "overflow_y": null,
            "overflow_x": null,
            "grid_auto_flow": null,
            "grid_area": null,
            "grid_template_columns": null,
            "flex": null,
            "_model_name": "LayoutModel",
            "justify_items": null,
            "grid_row": null,
            "max_height": null,
            "align_content": null,
            "visibility": null,
            "align_self": null,
            "height": null,
            "min_height": null,
            "padding": null,
            "grid_auto_rows": null,
            "grid_gap": null,
            "max_width": null,
            "order": null,
            "_view_module_version": "1.2.0",
            "grid_template_areas": null,
            "object_position": null,
            "object_fit": null,
            "grid_auto_columns": null,
            "margin": null,
            "display": null,
            "left": null
          }
        },
        "d310ba60874e4b25a888d405e5045c5b": {
          "model_module": "@jupyter-widgets/controls",
          "model_name": "VBoxModel",
          "state": {
            "_view_name": "VBoxView",
            "_dom_classes": [],
            "_model_name": "VBoxModel",
            "_view_module": "@jupyter-widgets/controls",
            "_model_module_version": "1.5.0",
            "_view_count": null,
            "_view_module_version": "1.5.0",
            "box_style": "",
            "layout": "IPY_MODEL_1a7f508520f74381b29d656432027434",
            "_model_module": "@jupyter-widgets/controls",
            "children": [
              "IPY_MODEL_fd286c22416d42b0929e3bf18b588659",
              "IPY_MODEL_0547a59247724527822ff27b01c42d1f"
            ]
          }
        },
        "1a7f508520f74381b29d656432027434": {
          "model_module": "@jupyter-widgets/base",
          "model_name": "LayoutModel",
          "state": {
            "_view_name": "LayoutView",
            "grid_template_rows": null,
            "right": null,
            "justify_content": null,
            "_view_module": "@jupyter-widgets/base",
            "overflow": null,
            "_model_module_version": "1.2.0",
            "_view_count": null,
            "flex_flow": null,
            "width": null,
            "min_width": null,
            "border": null,
            "align_items": null,
            "bottom": null,
            "_model_module": "@jupyter-widgets/base",
            "top": null,
            "grid_column": null,
            "overflow_y": null,
            "overflow_x": null,
            "grid_auto_flow": null,
            "grid_area": null,
            "grid_template_columns": null,
            "flex": null,
            "_model_name": "LayoutModel",
            "justify_items": null,
            "grid_row": null,
            "max_height": null,
            "align_content": null,
            "visibility": null,
            "align_self": null,
            "height": null,
            "min_height": null,
            "padding": null,
            "grid_auto_rows": null,
            "grid_gap": null,
            "max_width": null,
            "order": null,
            "_view_module_version": "1.2.0",
            "grid_template_areas": null,
            "object_position": null,
            "object_fit": null,
            "grid_auto_columns": null,
            "margin": null,
            "display": null,
            "left": null
          }
        },
        "fd286c22416d42b0929e3bf18b588659": {
          "model_module": "@jupyter-widgets/controls",
          "model_name": "LabelModel",
          "state": {
            "_view_name": "LabelView",
            "style": "IPY_MODEL_323e8ff760694930bec18ae6c9339523",
            "_dom_classes": [],
            "description": "",
            "_model_name": "LabelModel",
            "placeholder": "​",
            "_view_module": "@jupyter-widgets/controls",
            "_model_module_version": "1.5.0",
            "value": " 0.82MB of 0.82MB uploaded (0.00MB deduped)\r",
            "_view_count": null,
            "_view_module_version": "1.5.0",
            "description_tooltip": null,
            "_model_module": "@jupyter-widgets/controls",
            "layout": "IPY_MODEL_95e0a82732294e2b995e886897b49dc9"
          }
        },
        "0547a59247724527822ff27b01c42d1f": {
          "model_module": "@jupyter-widgets/controls",
          "model_name": "FloatProgressModel",
          "state": {
            "_view_name": "ProgressView",
            "style": "IPY_MODEL_4af29241df4e489ebcb8a8f5b6993a2f",
            "_dom_classes": [],
            "description": "",
            "_model_name": "FloatProgressModel",
            "bar_style": "",
            "max": 1,
            "_view_module": "@jupyter-widgets/controls",
            "_model_module_version": "1.5.0",
            "value": 1,
            "_view_count": null,
            "_view_module_version": "1.5.0",
            "orientation": "horizontal",
            "min": 0,
            "description_tooltip": null,
            "_model_module": "@jupyter-widgets/controls",
            "layout": "IPY_MODEL_d8e0ee219520490db95444721f2c3bf9"
          }
        },
        "323e8ff760694930bec18ae6c9339523": {
          "model_module": "@jupyter-widgets/controls",
          "model_name": "DescriptionStyleModel",
          "state": {
            "_view_name": "StyleView",
            "_model_name": "DescriptionStyleModel",
            "description_width": "",
            "_view_module": "@jupyter-widgets/base",
            "_model_module_version": "1.5.0",
            "_view_count": null,
            "_view_module_version": "1.2.0",
            "_model_module": "@jupyter-widgets/controls"
          }
        },
        "95e0a82732294e2b995e886897b49dc9": {
          "model_module": "@jupyter-widgets/base",
          "model_name": "LayoutModel",
          "state": {
            "_view_name": "LayoutView",
            "grid_template_rows": null,
            "right": null,
            "justify_content": null,
            "_view_module": "@jupyter-widgets/base",
            "overflow": null,
            "_model_module_version": "1.2.0",
            "_view_count": null,
            "flex_flow": null,
            "width": null,
            "min_width": null,
            "border": null,
            "align_items": null,
            "bottom": null,
            "_model_module": "@jupyter-widgets/base",
            "top": null,
            "grid_column": null,
            "overflow_y": null,
            "overflow_x": null,
            "grid_auto_flow": null,
            "grid_area": null,
            "grid_template_columns": null,
            "flex": null,
            "_model_name": "LayoutModel",
            "justify_items": null,
            "grid_row": null,
            "max_height": null,
            "align_content": null,
            "visibility": null,
            "align_self": null,
            "height": null,
            "min_height": null,
            "padding": null,
            "grid_auto_rows": null,
            "grid_gap": null,
            "max_width": null,
            "order": null,
            "_view_module_version": "1.2.0",
            "grid_template_areas": null,
            "object_position": null,
            "object_fit": null,
            "grid_auto_columns": null,
            "margin": null,
            "display": null,
            "left": null
          }
        },
        "4af29241df4e489ebcb8a8f5b6993a2f": {
          "model_module": "@jupyter-widgets/controls",
          "model_name": "ProgressStyleModel",
          "state": {
            "_view_name": "StyleView",
            "_model_name": "ProgressStyleModel",
            "description_width": "",
            "_view_module": "@jupyter-widgets/base",
            "_model_module_version": "1.5.0",
            "_view_count": null,
            "_view_module_version": "1.2.0",
            "bar_color": null,
            "_model_module": "@jupyter-widgets/controls"
          }
        },
        "d8e0ee219520490db95444721f2c3bf9": {
          "model_module": "@jupyter-widgets/base",
          "model_name": "LayoutModel",
          "state": {
            "_view_name": "LayoutView",
            "grid_template_rows": null,
            "right": null,
            "justify_content": null,
            "_view_module": "@jupyter-widgets/base",
            "overflow": null,
            "_model_module_version": "1.2.0",
            "_view_count": null,
            "flex_flow": null,
            "width": null,
            "min_width": null,
            "border": null,
            "align_items": null,
            "bottom": null,
            "_model_module": "@jupyter-widgets/base",
            "top": null,
            "grid_column": null,
            "overflow_y": null,
            "overflow_x": null,
            "grid_auto_flow": null,
            "grid_area": null,
            "grid_template_columns": null,
            "flex": null,
            "_model_name": "LayoutModel",
            "justify_items": null,
            "grid_row": null,
            "max_height": null,
            "align_content": null,
            "visibility": null,
            "align_self": null,
            "height": null,
            "min_height": null,
            "padding": null,
            "grid_auto_rows": null,
            "grid_gap": null,
            "max_width": null,
            "order": null,
            "_view_module_version": "1.2.0",
            "grid_template_areas": null,
            "object_position": null,
            "object_fit": null,
            "grid_auto_columns": null,
            "margin": null,
            "display": null,
            "left": null
          }
        },
        "3fa292ad731f45f79026d8df79958166": {
          "model_module": "@jupyter-widgets/controls",
          "model_name": "HBoxModel",
          "state": {
            "_view_name": "HBoxView",
            "_dom_classes": [],
            "_model_name": "HBoxModel",
            "_view_module": "@jupyter-widgets/controls",
            "_model_module_version": "1.5.0",
            "_view_count": null,
            "_view_module_version": "1.5.0",
            "box_style": "",
            "layout": "IPY_MODEL_7da0b5b1c81d4a9ba0cf39fc713c7c8c",
            "_model_module": "@jupyter-widgets/controls",
            "children": [
              "IPY_MODEL_34d2e8101a694a208b3b2da17df68ad2",
              "IPY_MODEL_26015f8f87dc4e6c9078c07368973e03"
            ]
          }
        },
        "7da0b5b1c81d4a9ba0cf39fc713c7c8c": {
          "model_module": "@jupyter-widgets/base",
          "model_name": "LayoutModel",
          "state": {
            "_view_name": "LayoutView",
            "grid_template_rows": null,
            "right": null,
            "justify_content": null,
            "_view_module": "@jupyter-widgets/base",
            "overflow": null,
            "_model_module_version": "1.2.0",
            "_view_count": null,
            "flex_flow": null,
            "width": null,
            "min_width": null,
            "border": null,
            "align_items": null,
            "bottom": null,
            "_model_module": "@jupyter-widgets/base",
            "top": null,
            "grid_column": null,
            "overflow_y": null,
            "overflow_x": null,
            "grid_auto_flow": null,
            "grid_area": null,
            "grid_template_columns": null,
            "flex": null,
            "_model_name": "LayoutModel",
            "justify_items": null,
            "grid_row": null,
            "max_height": null,
            "align_content": null,
            "visibility": null,
            "align_self": null,
            "height": null,
            "min_height": null,
            "padding": null,
            "grid_auto_rows": null,
            "grid_gap": null,
            "max_width": null,
            "order": null,
            "_view_module_version": "1.2.0",
            "grid_template_areas": null,
            "object_position": null,
            "object_fit": null,
            "grid_auto_columns": null,
            "margin": null,
            "display": null,
            "left": null
          }
        },
        "34d2e8101a694a208b3b2da17df68ad2": {
          "model_module": "@jupyter-widgets/controls",
          "model_name": "FloatProgressModel",
          "state": {
            "_view_name": "ProgressView",
            "style": "IPY_MODEL_3fc2b4899cda45bbaa8353cf79ecda50",
            "_dom_classes": [],
            "description": "Épocas: 100%",
            "_model_name": "FloatProgressModel",
            "bar_style": "success",
            "max": 4,
            "_view_module": "@jupyter-widgets/controls",
            "_model_module_version": "1.5.0",
            "value": 4,
            "_view_count": null,
            "_view_module_version": "1.5.0",
            "orientation": "horizontal",
            "min": 0,
            "description_tooltip": null,
            "_model_module": "@jupyter-widgets/controls",
            "layout": "IPY_MODEL_64b7e6d7ad2c4eaa86d90315765afc57"
          }
        },
        "26015f8f87dc4e6c9078c07368973e03": {
          "model_module": "@jupyter-widgets/controls",
          "model_name": "HTMLModel",
          "state": {
            "_view_name": "HTMLView",
            "style": "IPY_MODEL_2e260ad8e64749f1a52a48bbedee2571",
            "_dom_classes": [],
            "description": "",
            "_model_name": "HTMLModel",
            "placeholder": "​",
            "_view_module": "@jupyter-widgets/controls",
            "_model_module_version": "1.5.0",
            "value": " 4/4 [57:29&lt;00:00, 862.48s/épocas]",
            "_view_count": null,
            "_view_module_version": "1.5.0",
            "description_tooltip": null,
            "_model_module": "@jupyter-widgets/controls",
            "layout": "IPY_MODEL_b2a85a100736486eb325e5a840018d1c"
          }
        },
        "3fc2b4899cda45bbaa8353cf79ecda50": {
          "model_module": "@jupyter-widgets/controls",
          "model_name": "ProgressStyleModel",
          "state": {
            "_view_name": "StyleView",
            "_model_name": "ProgressStyleModel",
            "description_width": "initial",
            "_view_module": "@jupyter-widgets/base",
            "_model_module_version": "1.5.0",
            "_view_count": null,
            "_view_module_version": "1.2.0",
            "bar_color": null,
            "_model_module": "@jupyter-widgets/controls"
          }
        },
        "64b7e6d7ad2c4eaa86d90315765afc57": {
          "model_module": "@jupyter-widgets/base",
          "model_name": "LayoutModel",
          "state": {
            "_view_name": "LayoutView",
            "grid_template_rows": null,
            "right": null,
            "justify_content": null,
            "_view_module": "@jupyter-widgets/base",
            "overflow": null,
            "_model_module_version": "1.2.0",
            "_view_count": null,
            "flex_flow": null,
            "width": null,
            "min_width": null,
            "border": null,
            "align_items": null,
            "bottom": null,
            "_model_module": "@jupyter-widgets/base",
            "top": null,
            "grid_column": null,
            "overflow_y": null,
            "overflow_x": null,
            "grid_auto_flow": null,
            "grid_area": null,
            "grid_template_columns": null,
            "flex": null,
            "_model_name": "LayoutModel",
            "justify_items": null,
            "grid_row": null,
            "max_height": null,
            "align_content": null,
            "visibility": null,
            "align_self": null,
            "height": null,
            "min_height": null,
            "padding": null,
            "grid_auto_rows": null,
            "grid_gap": null,
            "max_width": null,
            "order": null,
            "_view_module_version": "1.2.0",
            "grid_template_areas": null,
            "object_position": null,
            "object_fit": null,
            "grid_auto_columns": null,
            "margin": null,
            "display": null,
            "left": null
          }
        },
        "2e260ad8e64749f1a52a48bbedee2571": {
          "model_module": "@jupyter-widgets/controls",
          "model_name": "DescriptionStyleModel",
          "state": {
            "_view_name": "StyleView",
            "_model_name": "DescriptionStyleModel",
            "description_width": "",
            "_view_module": "@jupyter-widgets/base",
            "_model_module_version": "1.5.0",
            "_view_count": null,
            "_view_module_version": "1.2.0",
            "_model_module": "@jupyter-widgets/controls"
          }
        },
        "b2a85a100736486eb325e5a840018d1c": {
          "model_module": "@jupyter-widgets/base",
          "model_name": "LayoutModel",
          "state": {
            "_view_name": "LayoutView",
            "grid_template_rows": null,
            "right": null,
            "justify_content": null,
            "_view_module": "@jupyter-widgets/base",
            "overflow": null,
            "_model_module_version": "1.2.0",
            "_view_count": null,
            "flex_flow": null,
            "width": null,
            "min_width": null,
            "border": null,
            "align_items": null,
            "bottom": null,
            "_model_module": "@jupyter-widgets/base",
            "top": null,
            "grid_column": null,
            "overflow_y": null,
            "overflow_x": null,
            "grid_auto_flow": null,
            "grid_area": null,
            "grid_template_columns": null,
            "flex": null,
            "_model_name": "LayoutModel",
            "justify_items": null,
            "grid_row": null,
            "max_height": null,
            "align_content": null,
            "visibility": null,
            "align_self": null,
            "height": null,
            "min_height": null,
            "padding": null,
            "grid_auto_rows": null,
            "grid_gap": null,
            "max_width": null,
            "order": null,
            "_view_module_version": "1.2.0",
            "grid_template_areas": null,
            "object_position": null,
            "object_fit": null,
            "grid_auto_columns": null,
            "margin": null,
            "display": null,
            "left": null
          }
        },
        "2e920a6fe34549058d31edd7e4542f4f": {
          "model_module": "@jupyter-widgets/controls",
          "model_name": "HBoxModel",
          "state": {
            "_view_name": "HBoxView",
            "_dom_classes": [],
            "_model_name": "HBoxModel",
            "_view_module": "@jupyter-widgets/controls",
            "_model_module_version": "1.5.0",
            "_view_count": null,
            "_view_module_version": "1.5.0",
            "box_style": "",
            "layout": "IPY_MODEL_a537e8c7af2544748ec1d96e9ca7524c",
            "_model_module": "@jupyter-widgets/controls",
            "children": [
              "IPY_MODEL_64e5e4d9a52845e3859c2438004f58df",
              "IPY_MODEL_d3b05cf37f2e404a9edbf791580ed204"
            ]
          }
        },
        "a537e8c7af2544748ec1d96e9ca7524c": {
          "model_module": "@jupyter-widgets/base",
          "model_name": "LayoutModel",
          "state": {
            "_view_name": "LayoutView",
            "grid_template_rows": null,
            "right": null,
            "justify_content": null,
            "_view_module": "@jupyter-widgets/base",
            "overflow": null,
            "_model_module_version": "1.2.0",
            "_view_count": null,
            "flex_flow": null,
            "width": null,
            "min_width": null,
            "border": null,
            "align_items": null,
            "bottom": null,
            "_model_module": "@jupyter-widgets/base",
            "top": null,
            "grid_column": null,
            "overflow_y": null,
            "overflow_x": null,
            "grid_auto_flow": null,
            "grid_area": null,
            "grid_template_columns": null,
            "flex": null,
            "_model_name": "LayoutModel",
            "justify_items": null,
            "grid_row": null,
            "max_height": null,
            "align_content": null,
            "visibility": null,
            "align_self": null,
            "height": null,
            "min_height": null,
            "padding": null,
            "grid_auto_rows": null,
            "grid_gap": null,
            "max_width": null,
            "order": null,
            "_view_module_version": "1.2.0",
            "grid_template_areas": null,
            "object_position": null,
            "object_fit": null,
            "grid_auto_columns": null,
            "margin": null,
            "display": null,
            "left": null
          }
        },
        "64e5e4d9a52845e3859c2438004f58df": {
          "model_module": "@jupyter-widgets/controls",
          "model_name": "FloatProgressModel",
          "state": {
            "_view_name": "ProgressView",
            "style": "IPY_MODEL_726153c005574b9eba63c32f4e636fbd",
            "_dom_classes": [],
            "description": "Epoca 1: 100%",
            "_model_name": "FloatProgressModel",
            "bar_style": "success",
            "max": 2241,
            "_view_module": "@jupyter-widgets/controls",
            "_model_module_version": "1.5.0",
            "value": 2241,
            "_view_count": null,
            "_view_module_version": "1.5.0",
            "orientation": "horizontal",
            "min": 0,
            "description_tooltip": null,
            "_model_module": "@jupyter-widgets/controls",
            "layout": "IPY_MODEL_9046f4efafea4e799f7149b338119819"
          }
        },
        "d3b05cf37f2e404a9edbf791580ed204": {
          "model_module": "@jupyter-widgets/controls",
          "model_name": "HTMLModel",
          "state": {
            "_view_name": "HTMLView",
            "style": "IPY_MODEL_31674bacb5a24a698041bc5a195fb7db",
            "_dom_classes": [],
            "description": "",
            "_model_name": "HTMLModel",
            "placeholder": "​",
            "_view_module": "@jupyter-widgets/controls",
            "_model_module_version": "1.5.0",
            "value": " 2241/2241 [14:16&lt;00:00,  2.62lotes/s, loss=0.842]",
            "_view_count": null,
            "_view_module_version": "1.5.0",
            "description_tooltip": null,
            "_model_module": "@jupyter-widgets/controls",
            "layout": "IPY_MODEL_51f3c7d842064e1f8c6d29063a59b7a0"
          }
        },
        "726153c005574b9eba63c32f4e636fbd": {
          "model_module": "@jupyter-widgets/controls",
          "model_name": "ProgressStyleModel",
          "state": {
            "_view_name": "StyleView",
            "_model_name": "ProgressStyleModel",
            "description_width": "initial",
            "_view_module": "@jupyter-widgets/base",
            "_model_module_version": "1.5.0",
            "_view_count": null,
            "_view_module_version": "1.2.0",
            "bar_color": null,
            "_model_module": "@jupyter-widgets/controls"
          }
        },
        "9046f4efafea4e799f7149b338119819": {
          "model_module": "@jupyter-widgets/base",
          "model_name": "LayoutModel",
          "state": {
            "_view_name": "LayoutView",
            "grid_template_rows": null,
            "right": null,
            "justify_content": null,
            "_view_module": "@jupyter-widgets/base",
            "overflow": null,
            "_model_module_version": "1.2.0",
            "_view_count": null,
            "flex_flow": null,
            "width": null,
            "min_width": null,
            "border": null,
            "align_items": null,
            "bottom": null,
            "_model_module": "@jupyter-widgets/base",
            "top": null,
            "grid_column": null,
            "overflow_y": null,
            "overflow_x": null,
            "grid_auto_flow": null,
            "grid_area": null,
            "grid_template_columns": null,
            "flex": null,
            "_model_name": "LayoutModel",
            "justify_items": null,
            "grid_row": null,
            "max_height": null,
            "align_content": null,
            "visibility": null,
            "align_self": null,
            "height": null,
            "min_height": null,
            "padding": null,
            "grid_auto_rows": null,
            "grid_gap": null,
            "max_width": null,
            "order": null,
            "_view_module_version": "1.2.0",
            "grid_template_areas": null,
            "object_position": null,
            "object_fit": null,
            "grid_auto_columns": null,
            "margin": null,
            "display": null,
            "left": null
          }
        },
        "31674bacb5a24a698041bc5a195fb7db": {
          "model_module": "@jupyter-widgets/controls",
          "model_name": "DescriptionStyleModel",
          "state": {
            "_view_name": "StyleView",
            "_model_name": "DescriptionStyleModel",
            "description_width": "",
            "_view_module": "@jupyter-widgets/base",
            "_model_module_version": "1.5.0",
            "_view_count": null,
            "_view_module_version": "1.2.0",
            "_model_module": "@jupyter-widgets/controls"
          }
        },
        "51f3c7d842064e1f8c6d29063a59b7a0": {
          "model_module": "@jupyter-widgets/base",
          "model_name": "LayoutModel",
          "state": {
            "_view_name": "LayoutView",
            "grid_template_rows": null,
            "right": null,
            "justify_content": null,
            "_view_module": "@jupyter-widgets/base",
            "overflow": null,
            "_model_module_version": "1.2.0",
            "_view_count": null,
            "flex_flow": null,
            "width": null,
            "min_width": null,
            "border": null,
            "align_items": null,
            "bottom": null,
            "_model_module": "@jupyter-widgets/base",
            "top": null,
            "grid_column": null,
            "overflow_y": null,
            "overflow_x": null,
            "grid_auto_flow": null,
            "grid_area": null,
            "grid_template_columns": null,
            "flex": null,
            "_model_name": "LayoutModel",
            "justify_items": null,
            "grid_row": null,
            "max_height": null,
            "align_content": null,
            "visibility": null,
            "align_self": null,
            "height": null,
            "min_height": null,
            "padding": null,
            "grid_auto_rows": null,
            "grid_gap": null,
            "max_width": null,
            "order": null,
            "_view_module_version": "1.2.0",
            "grid_template_areas": null,
            "object_position": null,
            "object_fit": null,
            "grid_auto_columns": null,
            "margin": null,
            "display": null,
            "left": null
          }
        },
        "152e029dc14d43cf96997b22c2a1bc06": {
          "model_module": "@jupyter-widgets/controls",
          "model_name": "HBoxModel",
          "state": {
            "_view_name": "HBoxView",
            "_dom_classes": [],
            "_model_name": "HBoxModel",
            "_view_module": "@jupyter-widgets/controls",
            "_model_module_version": "1.5.0",
            "_view_count": null,
            "_view_module_version": "1.5.0",
            "box_style": "",
            "layout": "IPY_MODEL_8f876d8e747e49f9a72749959a1ae847",
            "_model_module": "@jupyter-widgets/controls",
            "children": [
              "IPY_MODEL_2f702b4f9ac5496891c5c2f46db6b613",
              "IPY_MODEL_90b71e1a6dcf45fd8bb449a4fd998a00"
            ]
          }
        },
        "8f876d8e747e49f9a72749959a1ae847": {
          "model_module": "@jupyter-widgets/base",
          "model_name": "LayoutModel",
          "state": {
            "_view_name": "LayoutView",
            "grid_template_rows": null,
            "right": null,
            "justify_content": null,
            "_view_module": "@jupyter-widgets/base",
            "overflow": null,
            "_model_module_version": "1.2.0",
            "_view_count": null,
            "flex_flow": null,
            "width": null,
            "min_width": null,
            "border": null,
            "align_items": null,
            "bottom": null,
            "_model_module": "@jupyter-widgets/base",
            "top": null,
            "grid_column": null,
            "overflow_y": null,
            "overflow_x": null,
            "grid_auto_flow": null,
            "grid_area": null,
            "grid_template_columns": null,
            "flex": null,
            "_model_name": "LayoutModel",
            "justify_items": null,
            "grid_row": null,
            "max_height": null,
            "align_content": null,
            "visibility": null,
            "align_self": null,
            "height": null,
            "min_height": null,
            "padding": null,
            "grid_auto_rows": null,
            "grid_gap": null,
            "max_width": null,
            "order": null,
            "_view_module_version": "1.2.0",
            "grid_template_areas": null,
            "object_position": null,
            "object_fit": null,
            "grid_auto_columns": null,
            "margin": null,
            "display": null,
            "left": null
          }
        },
        "2f702b4f9ac5496891c5c2f46db6b613": {
          "model_module": "@jupyter-widgets/controls",
          "model_name": "FloatProgressModel",
          "state": {
            "_view_name": "ProgressView",
            "style": "IPY_MODEL_de421a4c502e41f79197118b5f633fbe",
            "_dom_classes": [],
            "description": "Epoca 2: 100%",
            "_model_name": "FloatProgressModel",
            "bar_style": "success",
            "max": 2241,
            "_view_module": "@jupyter-widgets/controls",
            "_model_module_version": "1.5.0",
            "value": 2241,
            "_view_count": null,
            "_view_module_version": "1.5.0",
            "orientation": "horizontal",
            "min": 0,
            "description_tooltip": null,
            "_model_module": "@jupyter-widgets/controls",
            "layout": "IPY_MODEL_c9f15323024a4ae88df8626b2a7b294c"
          }
        },
        "90b71e1a6dcf45fd8bb449a4fd998a00": {
          "model_module": "@jupyter-widgets/controls",
          "model_name": "HTMLModel",
          "state": {
            "_view_name": "HTMLView",
            "style": "IPY_MODEL_91045b1eb9fd4c159fedc365b02fd3d3",
            "_dom_classes": [],
            "description": "",
            "_model_name": "HTMLModel",
            "placeholder": "​",
            "_view_module": "@jupyter-widgets/controls",
            "_model_module_version": "1.5.0",
            "value": " 2241/2241 [43:06&lt;00:00,  1.15s/lotes, loss=0.655]",
            "_view_count": null,
            "_view_module_version": "1.5.0",
            "description_tooltip": null,
            "_model_module": "@jupyter-widgets/controls",
            "layout": "IPY_MODEL_fd8139789b95415392bb30d3fcb6601c"
          }
        },
        "de421a4c502e41f79197118b5f633fbe": {
          "model_module": "@jupyter-widgets/controls",
          "model_name": "ProgressStyleModel",
          "state": {
            "_view_name": "StyleView",
            "_model_name": "ProgressStyleModel",
            "description_width": "initial",
            "_view_module": "@jupyter-widgets/base",
            "_model_module_version": "1.5.0",
            "_view_count": null,
            "_view_module_version": "1.2.0",
            "bar_color": null,
            "_model_module": "@jupyter-widgets/controls"
          }
        },
        "c9f15323024a4ae88df8626b2a7b294c": {
          "model_module": "@jupyter-widgets/base",
          "model_name": "LayoutModel",
          "state": {
            "_view_name": "LayoutView",
            "grid_template_rows": null,
            "right": null,
            "justify_content": null,
            "_view_module": "@jupyter-widgets/base",
            "overflow": null,
            "_model_module_version": "1.2.0",
            "_view_count": null,
            "flex_flow": null,
            "width": null,
            "min_width": null,
            "border": null,
            "align_items": null,
            "bottom": null,
            "_model_module": "@jupyter-widgets/base",
            "top": null,
            "grid_column": null,
            "overflow_y": null,
            "overflow_x": null,
            "grid_auto_flow": null,
            "grid_area": null,
            "grid_template_columns": null,
            "flex": null,
            "_model_name": "LayoutModel",
            "justify_items": null,
            "grid_row": null,
            "max_height": null,
            "align_content": null,
            "visibility": null,
            "align_self": null,
            "height": null,
            "min_height": null,
            "padding": null,
            "grid_auto_rows": null,
            "grid_gap": null,
            "max_width": null,
            "order": null,
            "_view_module_version": "1.2.0",
            "grid_template_areas": null,
            "object_position": null,
            "object_fit": null,
            "grid_auto_columns": null,
            "margin": null,
            "display": null,
            "left": null
          }
        },
        "91045b1eb9fd4c159fedc365b02fd3d3": {
          "model_module": "@jupyter-widgets/controls",
          "model_name": "DescriptionStyleModel",
          "state": {
            "_view_name": "StyleView",
            "_model_name": "DescriptionStyleModel",
            "description_width": "",
            "_view_module": "@jupyter-widgets/base",
            "_model_module_version": "1.5.0",
            "_view_count": null,
            "_view_module_version": "1.2.0",
            "_model_module": "@jupyter-widgets/controls"
          }
        },
        "fd8139789b95415392bb30d3fcb6601c": {
          "model_module": "@jupyter-widgets/base",
          "model_name": "LayoutModel",
          "state": {
            "_view_name": "LayoutView",
            "grid_template_rows": null,
            "right": null,
            "justify_content": null,
            "_view_module": "@jupyter-widgets/base",
            "overflow": null,
            "_model_module_version": "1.2.0",
            "_view_count": null,
            "flex_flow": null,
            "width": null,
            "min_width": null,
            "border": null,
            "align_items": null,
            "bottom": null,
            "_model_module": "@jupyter-widgets/base",
            "top": null,
            "grid_column": null,
            "overflow_y": null,
            "overflow_x": null,
            "grid_auto_flow": null,
            "grid_area": null,
            "grid_template_columns": null,
            "flex": null,
            "_model_name": "LayoutModel",
            "justify_items": null,
            "grid_row": null,
            "max_height": null,
            "align_content": null,
            "visibility": null,
            "align_self": null,
            "height": null,
            "min_height": null,
            "padding": null,
            "grid_auto_rows": null,
            "grid_gap": null,
            "max_width": null,
            "order": null,
            "_view_module_version": "1.2.0",
            "grid_template_areas": null,
            "object_position": null,
            "object_fit": null,
            "grid_auto_columns": null,
            "margin": null,
            "display": null,
            "left": null
          }
        },
        "427f9df3529e43518a5e2be398428242": {
          "model_module": "@jupyter-widgets/controls",
          "model_name": "HBoxModel",
          "state": {
            "_view_name": "HBoxView",
            "_dom_classes": [],
            "_model_name": "HBoxModel",
            "_view_module": "@jupyter-widgets/controls",
            "_model_module_version": "1.5.0",
            "_view_count": null,
            "_view_module_version": "1.5.0",
            "box_style": "",
            "layout": "IPY_MODEL_ae7f3705b69a4d62a86d2905c9d6503d",
            "_model_module": "@jupyter-widgets/controls",
            "children": [
              "IPY_MODEL_dbd92183b7d743869e5d611ef9e7d458",
              "IPY_MODEL_1035de6d4512404080a40d9b36976ea2"
            ]
          }
        },
        "ae7f3705b69a4d62a86d2905c9d6503d": {
          "model_module": "@jupyter-widgets/base",
          "model_name": "LayoutModel",
          "state": {
            "_view_name": "LayoutView",
            "grid_template_rows": null,
            "right": null,
            "justify_content": null,
            "_view_module": "@jupyter-widgets/base",
            "overflow": null,
            "_model_module_version": "1.2.0",
            "_view_count": null,
            "flex_flow": null,
            "width": null,
            "min_width": null,
            "border": null,
            "align_items": null,
            "bottom": null,
            "_model_module": "@jupyter-widgets/base",
            "top": null,
            "grid_column": null,
            "overflow_y": null,
            "overflow_x": null,
            "grid_auto_flow": null,
            "grid_area": null,
            "grid_template_columns": null,
            "flex": null,
            "_model_name": "LayoutModel",
            "justify_items": null,
            "grid_row": null,
            "max_height": null,
            "align_content": null,
            "visibility": null,
            "align_self": null,
            "height": null,
            "min_height": null,
            "padding": null,
            "grid_auto_rows": null,
            "grid_gap": null,
            "max_width": null,
            "order": null,
            "_view_module_version": "1.2.0",
            "grid_template_areas": null,
            "object_position": null,
            "object_fit": null,
            "grid_auto_columns": null,
            "margin": null,
            "display": null,
            "left": null
          }
        },
        "dbd92183b7d743869e5d611ef9e7d458": {
          "model_module": "@jupyter-widgets/controls",
          "model_name": "FloatProgressModel",
          "state": {
            "_view_name": "ProgressView",
            "style": "IPY_MODEL_76d278a83f13435b9e544b1ea70c988e",
            "_dom_classes": [],
            "description": "Epoca 3: 100%",
            "_model_name": "FloatProgressModel",
            "bar_style": "success",
            "max": 2241,
            "_view_module": "@jupyter-widgets/controls",
            "_model_module_version": "1.5.0",
            "value": 2241,
            "_view_count": null,
            "_view_module_version": "1.5.0",
            "orientation": "horizontal",
            "min": 0,
            "description_tooltip": null,
            "_model_module": "@jupyter-widgets/controls",
            "layout": "IPY_MODEL_49f349e8b31d45dbae20c78ae92ecbb6"
          }
        },
        "1035de6d4512404080a40d9b36976ea2": {
          "model_module": "@jupyter-widgets/controls",
          "model_name": "HTMLModel",
          "state": {
            "_view_name": "HTMLView",
            "style": "IPY_MODEL_0c17cb7ddb3b42f89149a93322a876d1",
            "_dom_classes": [],
            "description": "",
            "_model_name": "HTMLModel",
            "placeholder": "​",
            "_view_module": "@jupyter-widgets/controls",
            "_model_module_version": "1.5.0",
            "value": " 2241/2241 [29:04&lt;00:00,  1.28lotes/s, loss=0.528]",
            "_view_count": null,
            "_view_module_version": "1.5.0",
            "description_tooltip": null,
            "_model_module": "@jupyter-widgets/controls",
            "layout": "IPY_MODEL_c81af47ffac74452b76789fe058bdcc9"
          }
        },
        "76d278a83f13435b9e544b1ea70c988e": {
          "model_module": "@jupyter-widgets/controls",
          "model_name": "ProgressStyleModel",
          "state": {
            "_view_name": "StyleView",
            "_model_name": "ProgressStyleModel",
            "description_width": "initial",
            "_view_module": "@jupyter-widgets/base",
            "_model_module_version": "1.5.0",
            "_view_count": null,
            "_view_module_version": "1.2.0",
            "bar_color": null,
            "_model_module": "@jupyter-widgets/controls"
          }
        },
        "49f349e8b31d45dbae20c78ae92ecbb6": {
          "model_module": "@jupyter-widgets/base",
          "model_name": "LayoutModel",
          "state": {
            "_view_name": "LayoutView",
            "grid_template_rows": null,
            "right": null,
            "justify_content": null,
            "_view_module": "@jupyter-widgets/base",
            "overflow": null,
            "_model_module_version": "1.2.0",
            "_view_count": null,
            "flex_flow": null,
            "width": null,
            "min_width": null,
            "border": null,
            "align_items": null,
            "bottom": null,
            "_model_module": "@jupyter-widgets/base",
            "top": null,
            "grid_column": null,
            "overflow_y": null,
            "overflow_x": null,
            "grid_auto_flow": null,
            "grid_area": null,
            "grid_template_columns": null,
            "flex": null,
            "_model_name": "LayoutModel",
            "justify_items": null,
            "grid_row": null,
            "max_height": null,
            "align_content": null,
            "visibility": null,
            "align_self": null,
            "height": null,
            "min_height": null,
            "padding": null,
            "grid_auto_rows": null,
            "grid_gap": null,
            "max_width": null,
            "order": null,
            "_view_module_version": "1.2.0",
            "grid_template_areas": null,
            "object_position": null,
            "object_fit": null,
            "grid_auto_columns": null,
            "margin": null,
            "display": null,
            "left": null
          }
        },
        "0c17cb7ddb3b42f89149a93322a876d1": {
          "model_module": "@jupyter-widgets/controls",
          "model_name": "DescriptionStyleModel",
          "state": {
            "_view_name": "StyleView",
            "_model_name": "DescriptionStyleModel",
            "description_width": "",
            "_view_module": "@jupyter-widgets/base",
            "_model_module_version": "1.5.0",
            "_view_count": null,
            "_view_module_version": "1.2.0",
            "_model_module": "@jupyter-widgets/controls"
          }
        },
        "c81af47ffac74452b76789fe058bdcc9": {
          "model_module": "@jupyter-widgets/base",
          "model_name": "LayoutModel",
          "state": {
            "_view_name": "LayoutView",
            "grid_template_rows": null,
            "right": null,
            "justify_content": null,
            "_view_module": "@jupyter-widgets/base",
            "overflow": null,
            "_model_module_version": "1.2.0",
            "_view_count": null,
            "flex_flow": null,
            "width": null,
            "min_width": null,
            "border": null,
            "align_items": null,
            "bottom": null,
            "_model_module": "@jupyter-widgets/base",
            "top": null,
            "grid_column": null,
            "overflow_y": null,
            "overflow_x": null,
            "grid_auto_flow": null,
            "grid_area": null,
            "grid_template_columns": null,
            "flex": null,
            "_model_name": "LayoutModel",
            "justify_items": null,
            "grid_row": null,
            "max_height": null,
            "align_content": null,
            "visibility": null,
            "align_self": null,
            "height": null,
            "min_height": null,
            "padding": null,
            "grid_auto_rows": null,
            "grid_gap": null,
            "max_width": null,
            "order": null,
            "_view_module_version": "1.2.0",
            "grid_template_areas": null,
            "object_position": null,
            "object_fit": null,
            "grid_auto_columns": null,
            "margin": null,
            "display": null,
            "left": null
          }
        },
        "f0deafc6c0d44e9480a5a927cdb12309": {
          "model_module": "@jupyter-widgets/controls",
          "model_name": "HBoxModel",
          "state": {
            "_view_name": "HBoxView",
            "_dom_classes": [],
            "_model_name": "HBoxModel",
            "_view_module": "@jupyter-widgets/controls",
            "_model_module_version": "1.5.0",
            "_view_count": null,
            "_view_module_version": "1.5.0",
            "box_style": "",
            "layout": "IPY_MODEL_ad4033139c1040efb8573ce7cd2c81de",
            "_model_module": "@jupyter-widgets/controls",
            "children": [
              "IPY_MODEL_97472b64d6f6432fac19a5cf57981058",
              "IPY_MODEL_67e75e8296d347baa301aee2da0a5cb0"
            ]
          }
        },
        "ad4033139c1040efb8573ce7cd2c81de": {
          "model_module": "@jupyter-widgets/base",
          "model_name": "LayoutModel",
          "state": {
            "_view_name": "LayoutView",
            "grid_template_rows": null,
            "right": null,
            "justify_content": null,
            "_view_module": "@jupyter-widgets/base",
            "overflow": null,
            "_model_module_version": "1.2.0",
            "_view_count": null,
            "flex_flow": null,
            "width": null,
            "min_width": null,
            "border": null,
            "align_items": null,
            "bottom": null,
            "_model_module": "@jupyter-widgets/base",
            "top": null,
            "grid_column": null,
            "overflow_y": null,
            "overflow_x": null,
            "grid_auto_flow": null,
            "grid_area": null,
            "grid_template_columns": null,
            "flex": null,
            "_model_name": "LayoutModel",
            "justify_items": null,
            "grid_row": null,
            "max_height": null,
            "align_content": null,
            "visibility": null,
            "align_self": null,
            "height": null,
            "min_height": null,
            "padding": null,
            "grid_auto_rows": null,
            "grid_gap": null,
            "max_width": null,
            "order": null,
            "_view_module_version": "1.2.0",
            "grid_template_areas": null,
            "object_position": null,
            "object_fit": null,
            "grid_auto_columns": null,
            "margin": null,
            "display": null,
            "left": null
          }
        },
        "97472b64d6f6432fac19a5cf57981058": {
          "model_module": "@jupyter-widgets/controls",
          "model_name": "FloatProgressModel",
          "state": {
            "_view_name": "ProgressView",
            "style": "IPY_MODEL_354c2847baa0460aaf24dcd624484655",
            "_dom_classes": [],
            "description": "Epoca 4: 100%",
            "_model_name": "FloatProgressModel",
            "bar_style": "success",
            "max": 2241,
            "_view_module": "@jupyter-widgets/controls",
            "_model_module_version": "1.5.0",
            "value": 2241,
            "_view_count": null,
            "_view_module_version": "1.5.0",
            "orientation": "horizontal",
            "min": 0,
            "description_tooltip": null,
            "_model_module": "@jupyter-widgets/controls",
            "layout": "IPY_MODEL_76e209416d4f4d1dbf5e23b59398f541"
          }
        },
        "67e75e8296d347baa301aee2da0a5cb0": {
          "model_module": "@jupyter-widgets/controls",
          "model_name": "HTMLModel",
          "state": {
            "_view_name": "HTMLView",
            "style": "IPY_MODEL_3f5f3e5efd78447bbdb07149c2410d17",
            "_dom_classes": [],
            "description": "",
            "_model_name": "HTMLModel",
            "placeholder": "​",
            "_view_module": "@jupyter-widgets/controls",
            "_model_module_version": "1.5.0",
            "value": " 2241/2241 [15:03&lt;00:00,  2.48lotes/s, loss=0.707]",
            "_view_count": null,
            "_view_module_version": "1.5.0",
            "description_tooltip": null,
            "_model_module": "@jupyter-widgets/controls",
            "layout": "IPY_MODEL_97f3a3988ef94f9480196027d5b85dfb"
          }
        },
        "354c2847baa0460aaf24dcd624484655": {
          "model_module": "@jupyter-widgets/controls",
          "model_name": "ProgressStyleModel",
          "state": {
            "_view_name": "StyleView",
            "_model_name": "ProgressStyleModel",
            "description_width": "initial",
            "_view_module": "@jupyter-widgets/base",
            "_model_module_version": "1.5.0",
            "_view_count": null,
            "_view_module_version": "1.2.0",
            "bar_color": null,
            "_model_module": "@jupyter-widgets/controls"
          }
        },
        "76e209416d4f4d1dbf5e23b59398f541": {
          "model_module": "@jupyter-widgets/base",
          "model_name": "LayoutModel",
          "state": {
            "_view_name": "LayoutView",
            "grid_template_rows": null,
            "right": null,
            "justify_content": null,
            "_view_module": "@jupyter-widgets/base",
            "overflow": null,
            "_model_module_version": "1.2.0",
            "_view_count": null,
            "flex_flow": null,
            "width": null,
            "min_width": null,
            "border": null,
            "align_items": null,
            "bottom": null,
            "_model_module": "@jupyter-widgets/base",
            "top": null,
            "grid_column": null,
            "overflow_y": null,
            "overflow_x": null,
            "grid_auto_flow": null,
            "grid_area": null,
            "grid_template_columns": null,
            "flex": null,
            "_model_name": "LayoutModel",
            "justify_items": null,
            "grid_row": null,
            "max_height": null,
            "align_content": null,
            "visibility": null,
            "align_self": null,
            "height": null,
            "min_height": null,
            "padding": null,
            "grid_auto_rows": null,
            "grid_gap": null,
            "max_width": null,
            "order": null,
            "_view_module_version": "1.2.0",
            "grid_template_areas": null,
            "object_position": null,
            "object_fit": null,
            "grid_auto_columns": null,
            "margin": null,
            "display": null,
            "left": null
          }
        },
        "3f5f3e5efd78447bbdb07149c2410d17": {
          "model_module": "@jupyter-widgets/controls",
          "model_name": "DescriptionStyleModel",
          "state": {
            "_view_name": "StyleView",
            "_model_name": "DescriptionStyleModel",
            "description_width": "",
            "_view_module": "@jupyter-widgets/base",
            "_model_module_version": "1.5.0",
            "_view_count": null,
            "_view_module_version": "1.2.0",
            "_model_module": "@jupyter-widgets/controls"
          }
        },
        "97f3a3988ef94f9480196027d5b85dfb": {
          "model_module": "@jupyter-widgets/base",
          "model_name": "LayoutModel",
          "state": {
            "_view_name": "LayoutView",
            "grid_template_rows": null,
            "right": null,
            "justify_content": null,
            "_view_module": "@jupyter-widgets/base",
            "overflow": null,
            "_model_module_version": "1.2.0",
            "_view_count": null,
            "flex_flow": null,
            "width": null,
            "min_width": null,
            "border": null,
            "align_items": null,
            "bottom": null,
            "_model_module": "@jupyter-widgets/base",
            "top": null,
            "grid_column": null,
            "overflow_y": null,
            "overflow_x": null,
            "grid_auto_flow": null,
            "grid_area": null,
            "grid_template_columns": null,
            "flex": null,
            "_model_name": "LayoutModel",
            "justify_items": null,
            "grid_row": null,
            "max_height": null,
            "align_content": null,
            "visibility": null,
            "align_self": null,
            "height": null,
            "min_height": null,
            "padding": null,
            "grid_auto_rows": null,
            "grid_gap": null,
            "max_width": null,
            "order": null,
            "_view_module_version": "1.2.0",
            "grid_template_areas": null,
            "object_position": null,
            "object_fit": null,
            "grid_auto_columns": null,
            "margin": null,
            "display": null,
            "left": null
          }
        },
        "70f57dfeb82349d183474675707899ec": {
          "model_module": "@jupyter-widgets/controls",
          "model_name": "HBoxModel",
          "state": {
            "_view_name": "HBoxView",
            "_dom_classes": [],
            "_model_name": "HBoxModel",
            "_view_module": "@jupyter-widgets/controls",
            "_model_module_version": "1.5.0",
            "_view_count": null,
            "_view_module_version": "1.5.0",
            "box_style": "",
            "layout": "IPY_MODEL_3339a8e9278142eda6bfab7207b4d50d",
            "_model_module": "@jupyter-widgets/controls",
            "children": [
              "IPY_MODEL_332c022cafe3458389c0e31a4cf696e7",
              "IPY_MODEL_d3a115702f9848e485bdff9da9347e8e"
            ]
          }
        },
        "3339a8e9278142eda6bfab7207b4d50d": {
          "model_module": "@jupyter-widgets/base",
          "model_name": "LayoutModel",
          "state": {
            "_view_name": "LayoutView",
            "grid_template_rows": null,
            "right": null,
            "justify_content": null,
            "_view_module": "@jupyter-widgets/base",
            "overflow": null,
            "_model_module_version": "1.2.0",
            "_view_count": null,
            "flex_flow": null,
            "width": null,
            "min_width": null,
            "border": null,
            "align_items": null,
            "bottom": null,
            "_model_module": "@jupyter-widgets/base",
            "top": null,
            "grid_column": null,
            "overflow_y": null,
            "overflow_x": null,
            "grid_auto_flow": null,
            "grid_area": null,
            "grid_template_columns": null,
            "flex": null,
            "_model_name": "LayoutModel",
            "justify_items": null,
            "grid_row": null,
            "max_height": null,
            "align_content": null,
            "visibility": null,
            "align_self": null,
            "height": null,
            "min_height": null,
            "padding": null,
            "grid_auto_rows": null,
            "grid_gap": null,
            "max_width": null,
            "order": null,
            "_view_module_version": "1.2.0",
            "grid_template_areas": null,
            "object_position": null,
            "object_fit": null,
            "grid_auto_columns": null,
            "margin": null,
            "display": null,
            "left": null
          }
        },
        "332c022cafe3458389c0e31a4cf696e7": {
          "model_module": "@jupyter-widgets/controls",
          "model_name": "FloatProgressModel",
          "state": {
            "_view_name": "ProgressView",
            "style": "IPY_MODEL_d0b84ec546b14b358790f4ccfdca6fec",
            "_dom_classes": [],
            "description": "Lotes : 100%",
            "_model_name": "FloatProgressModel",
            "bar_style": "success",
            "max": 125,
            "_view_module": "@jupyter-widgets/controls",
            "_model_module_version": "1.5.0",
            "value": 125,
            "_view_count": null,
            "_view_module_version": "1.5.0",
            "orientation": "horizontal",
            "min": 0,
            "description_tooltip": null,
            "_model_module": "@jupyter-widgets/controls",
            "layout": "IPY_MODEL_03cfc5a3a70e4c30a5012e212ab8e05c"
          }
        },
        "d3a115702f9848e485bdff9da9347e8e": {
          "model_module": "@jupyter-widgets/controls",
          "model_name": "HTMLModel",
          "state": {
            "_view_name": "HTMLView",
            "style": "IPY_MODEL_723f9d0a21c440539248d0abef5d32d3",
            "_dom_classes": [],
            "description": "",
            "_model_name": "HTMLModel",
            "placeholder": "​",
            "_view_module": "@jupyter-widgets/controls",
            "_model_module_version": "1.5.0",
            "value": " 125/125 [00:33&lt;00:00,  3.77lotes/s]",
            "_view_count": null,
            "_view_module_version": "1.5.0",
            "description_tooltip": null,
            "_model_module": "@jupyter-widgets/controls",
            "layout": "IPY_MODEL_24d5644ec2a14397ac44a26c2e8ce06c"
          }
        },
        "d0b84ec546b14b358790f4ccfdca6fec": {
          "model_module": "@jupyter-widgets/controls",
          "model_name": "ProgressStyleModel",
          "state": {
            "_view_name": "StyleView",
            "_model_name": "ProgressStyleModel",
            "description_width": "initial",
            "_view_module": "@jupyter-widgets/base",
            "_model_module_version": "1.5.0",
            "_view_count": null,
            "_view_module_version": "1.2.0",
            "bar_color": null,
            "_model_module": "@jupyter-widgets/controls"
          }
        },
        "03cfc5a3a70e4c30a5012e212ab8e05c": {
          "model_module": "@jupyter-widgets/base",
          "model_name": "LayoutModel",
          "state": {
            "_view_name": "LayoutView",
            "grid_template_rows": null,
            "right": null,
            "justify_content": null,
            "_view_module": "@jupyter-widgets/base",
            "overflow": null,
            "_model_module_version": "1.2.0",
            "_view_count": null,
            "flex_flow": null,
            "width": null,
            "min_width": null,
            "border": null,
            "align_items": null,
            "bottom": null,
            "_model_module": "@jupyter-widgets/base",
            "top": null,
            "grid_column": null,
            "overflow_y": null,
            "overflow_x": null,
            "grid_auto_flow": null,
            "grid_area": null,
            "grid_template_columns": null,
            "flex": null,
            "_model_name": "LayoutModel",
            "justify_items": null,
            "grid_row": null,
            "max_height": null,
            "align_content": null,
            "visibility": null,
            "align_self": null,
            "height": null,
            "min_height": null,
            "padding": null,
            "grid_auto_rows": null,
            "grid_gap": null,
            "max_width": null,
            "order": null,
            "_view_module_version": "1.2.0",
            "grid_template_areas": null,
            "object_position": null,
            "object_fit": null,
            "grid_auto_columns": null,
            "margin": null,
            "display": null,
            "left": null
          }
        },
        "723f9d0a21c440539248d0abef5d32d3": {
          "model_module": "@jupyter-widgets/controls",
          "model_name": "DescriptionStyleModel",
          "state": {
            "_view_name": "StyleView",
            "_model_name": "DescriptionStyleModel",
            "description_width": "",
            "_view_module": "@jupyter-widgets/base",
            "_model_module_version": "1.5.0",
            "_view_count": null,
            "_view_module_version": "1.2.0",
            "_model_module": "@jupyter-widgets/controls"
          }
        },
        "24d5644ec2a14397ac44a26c2e8ce06c": {
          "model_module": "@jupyter-widgets/base",
          "model_name": "LayoutModel",
          "state": {
            "_view_name": "LayoutView",
            "grid_template_rows": null,
            "right": null,
            "justify_content": null,
            "_view_module": "@jupyter-widgets/base",
            "overflow": null,
            "_model_module_version": "1.2.0",
            "_view_count": null,
            "flex_flow": null,
            "width": null,
            "min_width": null,
            "border": null,
            "align_items": null,
            "bottom": null,
            "_model_module": "@jupyter-widgets/base",
            "top": null,
            "grid_column": null,
            "overflow_y": null,
            "overflow_x": null,
            "grid_auto_flow": null,
            "grid_area": null,
            "grid_template_columns": null,
            "flex": null,
            "_model_name": "LayoutModel",
            "justify_items": null,
            "grid_row": null,
            "max_height": null,
            "align_content": null,
            "visibility": null,
            "align_self": null,
            "height": null,
            "min_height": null,
            "padding": null,
            "grid_auto_rows": null,
            "grid_gap": null,
            "max_width": null,
            "order": null,
            "_view_module_version": "1.2.0",
            "grid_template_areas": null,
            "object_position": null,
            "object_fit": null,
            "grid_auto_columns": null,
            "margin": null,
            "display": null,
            "left": null
          }
        },
        "f89f69e0a9064e2ab8fcda9d4894b086": {
          "model_module": "@jupyter-widgets/controls",
          "model_name": "VBoxModel",
          "state": {
            "_view_name": "VBoxView",
            "_dom_classes": [],
            "_model_name": "VBoxModel",
            "_view_module": "@jupyter-widgets/controls",
            "_model_module_version": "1.5.0",
            "_view_count": null,
            "_view_module_version": "1.5.0",
            "box_style": "",
            "layout": "IPY_MODEL_5239d25c153c4392ab55524262fcb048",
            "_model_module": "@jupyter-widgets/controls",
            "children": [
              "IPY_MODEL_98709c3f34a24ea88bba04b631b1aa01",
              "IPY_MODEL_d2470743bc164e029589f6d699fe40a6"
            ]
          }
        },
        "5239d25c153c4392ab55524262fcb048": {
          "model_module": "@jupyter-widgets/base",
          "model_name": "LayoutModel",
          "state": {
            "_view_name": "LayoutView",
            "grid_template_rows": null,
            "right": null,
            "justify_content": null,
            "_view_module": "@jupyter-widgets/base",
            "overflow": null,
            "_model_module_version": "1.2.0",
            "_view_count": null,
            "flex_flow": null,
            "width": null,
            "min_width": null,
            "border": null,
            "align_items": null,
            "bottom": null,
            "_model_module": "@jupyter-widgets/base",
            "top": null,
            "grid_column": null,
            "overflow_y": null,
            "overflow_x": null,
            "grid_auto_flow": null,
            "grid_area": null,
            "grid_template_columns": null,
            "flex": null,
            "_model_name": "LayoutModel",
            "justify_items": null,
            "grid_row": null,
            "max_height": null,
            "align_content": null,
            "visibility": null,
            "align_self": null,
            "height": null,
            "min_height": null,
            "padding": null,
            "grid_auto_rows": null,
            "grid_gap": null,
            "max_width": null,
            "order": null,
            "_view_module_version": "1.2.0",
            "grid_template_areas": null,
            "object_position": null,
            "object_fit": null,
            "grid_auto_columns": null,
            "margin": null,
            "display": null,
            "left": null
          }
        },
        "98709c3f34a24ea88bba04b631b1aa01": {
          "model_module": "@jupyter-widgets/controls",
          "model_name": "LabelModel",
          "state": {
            "_view_name": "LabelView",
            "style": "IPY_MODEL_973f91361ddc4a829c9300f9a153b160",
            "_dom_classes": [],
            "description": "",
            "_model_name": "LabelModel",
            "placeholder": "​",
            "_view_module": "@jupyter-widgets/controls",
            "_model_module_version": "1.5.0",
            "value": " 0.82MB of 0.82MB uploaded (0.00MB deduped)\r",
            "_view_count": null,
            "_view_module_version": "1.5.0",
            "description_tooltip": null,
            "_model_module": "@jupyter-widgets/controls",
            "layout": "IPY_MODEL_50ac7524123c4b8baa931be3c4370a46"
          }
        },
        "d2470743bc164e029589f6d699fe40a6": {
          "model_module": "@jupyter-widgets/controls",
          "model_name": "FloatProgressModel",
          "state": {
            "_view_name": "ProgressView",
            "style": "IPY_MODEL_8fc54876e085450283db19ee676009b6",
            "_dom_classes": [],
            "description": "",
            "_model_name": "FloatProgressModel",
            "bar_style": "",
            "max": 1,
            "_view_module": "@jupyter-widgets/controls",
            "_model_module_version": "1.5.0",
            "value": 1,
            "_view_count": null,
            "_view_module_version": "1.5.0",
            "orientation": "horizontal",
            "min": 0,
            "description_tooltip": null,
            "_model_module": "@jupyter-widgets/controls",
            "layout": "IPY_MODEL_50e158e87b2146aea5163708598d6382"
          }
        },
        "973f91361ddc4a829c9300f9a153b160": {
          "model_module": "@jupyter-widgets/controls",
          "model_name": "DescriptionStyleModel",
          "state": {
            "_view_name": "StyleView",
            "_model_name": "DescriptionStyleModel",
            "description_width": "",
            "_view_module": "@jupyter-widgets/base",
            "_model_module_version": "1.5.0",
            "_view_count": null,
            "_view_module_version": "1.2.0",
            "_model_module": "@jupyter-widgets/controls"
          }
        },
        "50ac7524123c4b8baa931be3c4370a46": {
          "model_module": "@jupyter-widgets/base",
          "model_name": "LayoutModel",
          "state": {
            "_view_name": "LayoutView",
            "grid_template_rows": null,
            "right": null,
            "justify_content": null,
            "_view_module": "@jupyter-widgets/base",
            "overflow": null,
            "_model_module_version": "1.2.0",
            "_view_count": null,
            "flex_flow": null,
            "width": null,
            "min_width": null,
            "border": null,
            "align_items": null,
            "bottom": null,
            "_model_module": "@jupyter-widgets/base",
            "top": null,
            "grid_column": null,
            "overflow_y": null,
            "overflow_x": null,
            "grid_auto_flow": null,
            "grid_area": null,
            "grid_template_columns": null,
            "flex": null,
            "_model_name": "LayoutModel",
            "justify_items": null,
            "grid_row": null,
            "max_height": null,
            "align_content": null,
            "visibility": null,
            "align_self": null,
            "height": null,
            "min_height": null,
            "padding": null,
            "grid_auto_rows": null,
            "grid_gap": null,
            "max_width": null,
            "order": null,
            "_view_module_version": "1.2.0",
            "grid_template_areas": null,
            "object_position": null,
            "object_fit": null,
            "grid_auto_columns": null,
            "margin": null,
            "display": null,
            "left": null
          }
        },
        "8fc54876e085450283db19ee676009b6": {
          "model_module": "@jupyter-widgets/controls",
          "model_name": "ProgressStyleModel",
          "state": {
            "_view_name": "StyleView",
            "_model_name": "ProgressStyleModel",
            "description_width": "",
            "_view_module": "@jupyter-widgets/base",
            "_model_module_version": "1.5.0",
            "_view_count": null,
            "_view_module_version": "1.2.0",
            "bar_color": null,
            "_model_module": "@jupyter-widgets/controls"
          }
        },
        "50e158e87b2146aea5163708598d6382": {
          "model_module": "@jupyter-widgets/base",
          "model_name": "LayoutModel",
          "state": {
            "_view_name": "LayoutView",
            "grid_template_rows": null,
            "right": null,
            "justify_content": null,
            "_view_module": "@jupyter-widgets/base",
            "overflow": null,
            "_model_module_version": "1.2.0",
            "_view_count": null,
            "flex_flow": null,
            "width": null,
            "min_width": null,
            "border": null,
            "align_items": null,
            "bottom": null,
            "_model_module": "@jupyter-widgets/base",
            "top": null,
            "grid_column": null,
            "overflow_y": null,
            "overflow_x": null,
            "grid_auto_flow": null,
            "grid_area": null,
            "grid_template_columns": null,
            "flex": null,
            "_model_name": "LayoutModel",
            "justify_items": null,
            "grid_row": null,
            "max_height": null,
            "align_content": null,
            "visibility": null,
            "align_self": null,
            "height": null,
            "min_height": null,
            "padding": null,
            "grid_auto_rows": null,
            "grid_gap": null,
            "max_width": null,
            "order": null,
            "_view_module_version": "1.2.0",
            "grid_template_areas": null,
            "object_position": null,
            "object_fit": null,
            "grid_auto_columns": null,
            "margin": null,
            "display": null,
            "left": null
          }
        },
        "03f9ab707ba4481faa4d9db8e2fa4d72": {
          "model_module": "@jupyter-widgets/controls",
          "model_name": "HBoxModel",
          "state": {
            "_view_name": "HBoxView",
            "_dom_classes": [],
            "_model_name": "HBoxModel",
            "_view_module": "@jupyter-widgets/controls",
            "_model_module_version": "1.5.0",
            "_view_count": null,
            "_view_module_version": "1.5.0",
            "box_style": "",
            "layout": "IPY_MODEL_fa2738c8cca6485dbcc6bfc6ed9bf11d",
            "_model_module": "@jupyter-widgets/controls",
            "children": [
              "IPY_MODEL_1f8ee5c240134819b7e27d8d230145e8",
              "IPY_MODEL_be9e08ca97ef4466b1eb0a1eb35e4fe0"
            ]
          }
        },
        "fa2738c8cca6485dbcc6bfc6ed9bf11d": {
          "model_module": "@jupyter-widgets/base",
          "model_name": "LayoutModel",
          "state": {
            "_view_name": "LayoutView",
            "grid_template_rows": null,
            "right": null,
            "justify_content": null,
            "_view_module": "@jupyter-widgets/base",
            "overflow": null,
            "_model_module_version": "1.2.0",
            "_view_count": null,
            "flex_flow": null,
            "width": null,
            "min_width": null,
            "border": null,
            "align_items": null,
            "bottom": null,
            "_model_module": "@jupyter-widgets/base",
            "top": null,
            "grid_column": null,
            "overflow_y": null,
            "overflow_x": null,
            "grid_auto_flow": null,
            "grid_area": null,
            "grid_template_columns": null,
            "flex": null,
            "_model_name": "LayoutModel",
            "justify_items": null,
            "grid_row": null,
            "max_height": null,
            "align_content": null,
            "visibility": null,
            "align_self": null,
            "height": null,
            "min_height": null,
            "padding": null,
            "grid_auto_rows": null,
            "grid_gap": null,
            "max_width": null,
            "order": null,
            "_view_module_version": "1.2.0",
            "grid_template_areas": null,
            "object_position": null,
            "object_fit": null,
            "grid_auto_columns": null,
            "margin": null,
            "display": null,
            "left": null
          }
        },
        "1f8ee5c240134819b7e27d8d230145e8": {
          "model_module": "@jupyter-widgets/controls",
          "model_name": "FloatProgressModel",
          "state": {
            "_view_name": "ProgressView",
            "style": "IPY_MODEL_1e6c2c01e7974d748a51e03c43b253db",
            "_dom_classes": [],
            "description": "Épocas: 100%",
            "_model_name": "FloatProgressModel",
            "bar_style": "success",
            "max": 4,
            "_view_module": "@jupyter-widgets/controls",
            "_model_module_version": "1.5.0",
            "value": 4,
            "_view_count": null,
            "_view_module_version": "1.5.0",
            "orientation": "horizontal",
            "min": 0,
            "description_tooltip": null,
            "_model_module": "@jupyter-widgets/controls",
            "layout": "IPY_MODEL_e73ad6a587af46569c24ac943e0fe3d5"
          }
        },
        "be9e08ca97ef4466b1eb0a1eb35e4fe0": {
          "model_module": "@jupyter-widgets/controls",
          "model_name": "HTMLModel",
          "state": {
            "_view_name": "HTMLView",
            "style": "IPY_MODEL_26046e105e2d4dfc92ce74189048fe25",
            "_dom_classes": [],
            "description": "",
            "_model_name": "HTMLModel",
            "placeholder": "​",
            "_view_module": "@jupyter-widgets/controls",
            "_model_module_version": "1.5.0",
            "value": " 4/4 [56:04&lt;00:00, 841.17s/épocas]",
            "_view_count": null,
            "_view_module_version": "1.5.0",
            "description_tooltip": null,
            "_model_module": "@jupyter-widgets/controls",
            "layout": "IPY_MODEL_cf1f4e504a23456e8a92f5ded5e4b568"
          }
        },
        "1e6c2c01e7974d748a51e03c43b253db": {
          "model_module": "@jupyter-widgets/controls",
          "model_name": "ProgressStyleModel",
          "state": {
            "_view_name": "StyleView",
            "_model_name": "ProgressStyleModel",
            "description_width": "initial",
            "_view_module": "@jupyter-widgets/base",
            "_model_module_version": "1.5.0",
            "_view_count": null,
            "_view_module_version": "1.2.0",
            "bar_color": null,
            "_model_module": "@jupyter-widgets/controls"
          }
        },
        "e73ad6a587af46569c24ac943e0fe3d5": {
          "model_module": "@jupyter-widgets/base",
          "model_name": "LayoutModel",
          "state": {
            "_view_name": "LayoutView",
            "grid_template_rows": null,
            "right": null,
            "justify_content": null,
            "_view_module": "@jupyter-widgets/base",
            "overflow": null,
            "_model_module_version": "1.2.0",
            "_view_count": null,
            "flex_flow": null,
            "width": null,
            "min_width": null,
            "border": null,
            "align_items": null,
            "bottom": null,
            "_model_module": "@jupyter-widgets/base",
            "top": null,
            "grid_column": null,
            "overflow_y": null,
            "overflow_x": null,
            "grid_auto_flow": null,
            "grid_area": null,
            "grid_template_columns": null,
            "flex": null,
            "_model_name": "LayoutModel",
            "justify_items": null,
            "grid_row": null,
            "max_height": null,
            "align_content": null,
            "visibility": null,
            "align_self": null,
            "height": null,
            "min_height": null,
            "padding": null,
            "grid_auto_rows": null,
            "grid_gap": null,
            "max_width": null,
            "order": null,
            "_view_module_version": "1.2.0",
            "grid_template_areas": null,
            "object_position": null,
            "object_fit": null,
            "grid_auto_columns": null,
            "margin": null,
            "display": null,
            "left": null
          }
        },
        "26046e105e2d4dfc92ce74189048fe25": {
          "model_module": "@jupyter-widgets/controls",
          "model_name": "DescriptionStyleModel",
          "state": {
            "_view_name": "StyleView",
            "_model_name": "DescriptionStyleModel",
            "description_width": "",
            "_view_module": "@jupyter-widgets/base",
            "_model_module_version": "1.5.0",
            "_view_count": null,
            "_view_module_version": "1.2.0",
            "_model_module": "@jupyter-widgets/controls"
          }
        },
        "cf1f4e504a23456e8a92f5ded5e4b568": {
          "model_module": "@jupyter-widgets/base",
          "model_name": "LayoutModel",
          "state": {
            "_view_name": "LayoutView",
            "grid_template_rows": null,
            "right": null,
            "justify_content": null,
            "_view_module": "@jupyter-widgets/base",
            "overflow": null,
            "_model_module_version": "1.2.0",
            "_view_count": null,
            "flex_flow": null,
            "width": null,
            "min_width": null,
            "border": null,
            "align_items": null,
            "bottom": null,
            "_model_module": "@jupyter-widgets/base",
            "top": null,
            "grid_column": null,
            "overflow_y": null,
            "overflow_x": null,
            "grid_auto_flow": null,
            "grid_area": null,
            "grid_template_columns": null,
            "flex": null,
            "_model_name": "LayoutModel",
            "justify_items": null,
            "grid_row": null,
            "max_height": null,
            "align_content": null,
            "visibility": null,
            "align_self": null,
            "height": null,
            "min_height": null,
            "padding": null,
            "grid_auto_rows": null,
            "grid_gap": null,
            "max_width": null,
            "order": null,
            "_view_module_version": "1.2.0",
            "grid_template_areas": null,
            "object_position": null,
            "object_fit": null,
            "grid_auto_columns": null,
            "margin": null,
            "display": null,
            "left": null
          }
        },
        "a1d0b6fadf2e413286d29a8c049aae3f": {
          "model_module": "@jupyter-widgets/controls",
          "model_name": "HBoxModel",
          "state": {
            "_view_name": "HBoxView",
            "_dom_classes": [],
            "_model_name": "HBoxModel",
            "_view_module": "@jupyter-widgets/controls",
            "_model_module_version": "1.5.0",
            "_view_count": null,
            "_view_module_version": "1.5.0",
            "box_style": "",
            "layout": "IPY_MODEL_06ab8289cafb430986e6a914a89a0f4c",
            "_model_module": "@jupyter-widgets/controls",
            "children": [
              "IPY_MODEL_5aa897b0b19b4304b5d20382913b63f4",
              "IPY_MODEL_b62d016d935c40118b5dc60d76dbab30"
            ]
          }
        },
        "06ab8289cafb430986e6a914a89a0f4c": {
          "model_module": "@jupyter-widgets/base",
          "model_name": "LayoutModel",
          "state": {
            "_view_name": "LayoutView",
            "grid_template_rows": null,
            "right": null,
            "justify_content": null,
            "_view_module": "@jupyter-widgets/base",
            "overflow": null,
            "_model_module_version": "1.2.0",
            "_view_count": null,
            "flex_flow": null,
            "width": null,
            "min_width": null,
            "border": null,
            "align_items": null,
            "bottom": null,
            "_model_module": "@jupyter-widgets/base",
            "top": null,
            "grid_column": null,
            "overflow_y": null,
            "overflow_x": null,
            "grid_auto_flow": null,
            "grid_area": null,
            "grid_template_columns": null,
            "flex": null,
            "_model_name": "LayoutModel",
            "justify_items": null,
            "grid_row": null,
            "max_height": null,
            "align_content": null,
            "visibility": null,
            "align_self": null,
            "height": null,
            "min_height": null,
            "padding": null,
            "grid_auto_rows": null,
            "grid_gap": null,
            "max_width": null,
            "order": null,
            "_view_module_version": "1.2.0",
            "grid_template_areas": null,
            "object_position": null,
            "object_fit": null,
            "grid_auto_columns": null,
            "margin": null,
            "display": null,
            "left": null
          }
        },
        "5aa897b0b19b4304b5d20382913b63f4": {
          "model_module": "@jupyter-widgets/controls",
          "model_name": "FloatProgressModel",
          "state": {
            "_view_name": "ProgressView",
            "style": "IPY_MODEL_5b1a0cdc537847ef8141a351e4854b0b",
            "_dom_classes": [],
            "description": "Epoca 1: 100%",
            "_model_name": "FloatProgressModel",
            "bar_style": "success",
            "max": 2241,
            "_view_module": "@jupyter-widgets/controls",
            "_model_module_version": "1.5.0",
            "value": 2241,
            "_view_count": null,
            "_view_module_version": "1.5.0",
            "orientation": "horizontal",
            "min": 0,
            "description_tooltip": null,
            "_model_module": "@jupyter-widgets/controls",
            "layout": "IPY_MODEL_c4a1eeec2aae4e93b248c84bfd9616aa"
          }
        },
        "b62d016d935c40118b5dc60d76dbab30": {
          "model_module": "@jupyter-widgets/controls",
          "model_name": "HTMLModel",
          "state": {
            "_view_name": "HTMLView",
            "style": "IPY_MODEL_91b5bb95393c4764b884f082c8c4a020",
            "_dom_classes": [],
            "description": "",
            "_model_name": "HTMLModel",
            "placeholder": "​",
            "_view_module": "@jupyter-widgets/controls",
            "_model_module_version": "1.5.0",
            "value": " 2241/2241 [36:47&lt;00:00,  1.01lotes/s, loss=0.787]",
            "_view_count": null,
            "_view_module_version": "1.5.0",
            "description_tooltip": null,
            "_model_module": "@jupyter-widgets/controls",
            "layout": "IPY_MODEL_f54904e8f2ca432c9f4b396c0deaee68"
          }
        },
        "5b1a0cdc537847ef8141a351e4854b0b": {
          "model_module": "@jupyter-widgets/controls",
          "model_name": "ProgressStyleModel",
          "state": {
            "_view_name": "StyleView",
            "_model_name": "ProgressStyleModel",
            "description_width": "initial",
            "_view_module": "@jupyter-widgets/base",
            "_model_module_version": "1.5.0",
            "_view_count": null,
            "_view_module_version": "1.2.0",
            "bar_color": null,
            "_model_module": "@jupyter-widgets/controls"
          }
        },
        "c4a1eeec2aae4e93b248c84bfd9616aa": {
          "model_module": "@jupyter-widgets/base",
          "model_name": "LayoutModel",
          "state": {
            "_view_name": "LayoutView",
            "grid_template_rows": null,
            "right": null,
            "justify_content": null,
            "_view_module": "@jupyter-widgets/base",
            "overflow": null,
            "_model_module_version": "1.2.0",
            "_view_count": null,
            "flex_flow": null,
            "width": null,
            "min_width": null,
            "border": null,
            "align_items": null,
            "bottom": null,
            "_model_module": "@jupyter-widgets/base",
            "top": null,
            "grid_column": null,
            "overflow_y": null,
            "overflow_x": null,
            "grid_auto_flow": null,
            "grid_area": null,
            "grid_template_columns": null,
            "flex": null,
            "_model_name": "LayoutModel",
            "justify_items": null,
            "grid_row": null,
            "max_height": null,
            "align_content": null,
            "visibility": null,
            "align_self": null,
            "height": null,
            "min_height": null,
            "padding": null,
            "grid_auto_rows": null,
            "grid_gap": null,
            "max_width": null,
            "order": null,
            "_view_module_version": "1.2.0",
            "grid_template_areas": null,
            "object_position": null,
            "object_fit": null,
            "grid_auto_columns": null,
            "margin": null,
            "display": null,
            "left": null
          }
        },
        "91b5bb95393c4764b884f082c8c4a020": {
          "model_module": "@jupyter-widgets/controls",
          "model_name": "DescriptionStyleModel",
          "state": {
            "_view_name": "StyleView",
            "_model_name": "DescriptionStyleModel",
            "description_width": "",
            "_view_module": "@jupyter-widgets/base",
            "_model_module_version": "1.5.0",
            "_view_count": null,
            "_view_module_version": "1.2.0",
            "_model_module": "@jupyter-widgets/controls"
          }
        },
        "f54904e8f2ca432c9f4b396c0deaee68": {
          "model_module": "@jupyter-widgets/base",
          "model_name": "LayoutModel",
          "state": {
            "_view_name": "LayoutView",
            "grid_template_rows": null,
            "right": null,
            "justify_content": null,
            "_view_module": "@jupyter-widgets/base",
            "overflow": null,
            "_model_module_version": "1.2.0",
            "_view_count": null,
            "flex_flow": null,
            "width": null,
            "min_width": null,
            "border": null,
            "align_items": null,
            "bottom": null,
            "_model_module": "@jupyter-widgets/base",
            "top": null,
            "grid_column": null,
            "overflow_y": null,
            "overflow_x": null,
            "grid_auto_flow": null,
            "grid_area": null,
            "grid_template_columns": null,
            "flex": null,
            "_model_name": "LayoutModel",
            "justify_items": null,
            "grid_row": null,
            "max_height": null,
            "align_content": null,
            "visibility": null,
            "align_self": null,
            "height": null,
            "min_height": null,
            "padding": null,
            "grid_auto_rows": null,
            "grid_gap": null,
            "max_width": null,
            "order": null,
            "_view_module_version": "1.2.0",
            "grid_template_areas": null,
            "object_position": null,
            "object_fit": null,
            "grid_auto_columns": null,
            "margin": null,
            "display": null,
            "left": null
          }
        },
        "3ef1a9acea6444e78b9163ca5a4a3194": {
          "model_module": "@jupyter-widgets/controls",
          "model_name": "HBoxModel",
          "state": {
            "_view_name": "HBoxView",
            "_dom_classes": [],
            "_model_name": "HBoxModel",
            "_view_module": "@jupyter-widgets/controls",
            "_model_module_version": "1.5.0",
            "_view_count": null,
            "_view_module_version": "1.5.0",
            "box_style": "",
            "layout": "IPY_MODEL_6d28b2d03e154d878a7e7c5b9b63def4",
            "_model_module": "@jupyter-widgets/controls",
            "children": [
              "IPY_MODEL_66ee528abc584bbc897f5125e696d1d5",
              "IPY_MODEL_f01866e703a34b63a5d35d6498e4ec97"
            ]
          }
        },
        "6d28b2d03e154d878a7e7c5b9b63def4": {
          "model_module": "@jupyter-widgets/base",
          "model_name": "LayoutModel",
          "state": {
            "_view_name": "LayoutView",
            "grid_template_rows": null,
            "right": null,
            "justify_content": null,
            "_view_module": "@jupyter-widgets/base",
            "overflow": null,
            "_model_module_version": "1.2.0",
            "_view_count": null,
            "flex_flow": null,
            "width": null,
            "min_width": null,
            "border": null,
            "align_items": null,
            "bottom": null,
            "_model_module": "@jupyter-widgets/base",
            "top": null,
            "grid_column": null,
            "overflow_y": null,
            "overflow_x": null,
            "grid_auto_flow": null,
            "grid_area": null,
            "grid_template_columns": null,
            "flex": null,
            "_model_name": "LayoutModel",
            "justify_items": null,
            "grid_row": null,
            "max_height": null,
            "align_content": null,
            "visibility": null,
            "align_self": null,
            "height": null,
            "min_height": null,
            "padding": null,
            "grid_auto_rows": null,
            "grid_gap": null,
            "max_width": null,
            "order": null,
            "_view_module_version": "1.2.0",
            "grid_template_areas": null,
            "object_position": null,
            "object_fit": null,
            "grid_auto_columns": null,
            "margin": null,
            "display": null,
            "left": null
          }
        },
        "66ee528abc584bbc897f5125e696d1d5": {
          "model_module": "@jupyter-widgets/controls",
          "model_name": "FloatProgressModel",
          "state": {
            "_view_name": "ProgressView",
            "style": "IPY_MODEL_71341d4d209e4ddcad294700b78ff743",
            "_dom_classes": [],
            "description": "Epoca 2: 100%",
            "_model_name": "FloatProgressModel",
            "bar_style": "success",
            "max": 2241,
            "_view_module": "@jupyter-widgets/controls",
            "_model_module_version": "1.5.0",
            "value": 2241,
            "_view_count": null,
            "_view_module_version": "1.5.0",
            "orientation": "horizontal",
            "min": 0,
            "description_tooltip": null,
            "_model_module": "@jupyter-widgets/controls",
            "layout": "IPY_MODEL_bea116587fed44b9bf909a69ed662a4b"
          }
        },
        "f01866e703a34b63a5d35d6498e4ec97": {
          "model_module": "@jupyter-widgets/controls",
          "model_name": "HTMLModel",
          "state": {
            "_view_name": "HTMLView",
            "style": "IPY_MODEL_e930f9db4c8d416f890d01db6bb7bbb5",
            "_dom_classes": [],
            "description": "",
            "_model_name": "HTMLModel",
            "placeholder": "​",
            "_view_module": "@jupyter-widgets/controls",
            "_model_module_version": "1.5.0",
            "value": " 2241/2241 [22:47&lt;00:00,  1.64lotes/s, loss=0.709]",
            "_view_count": null,
            "_view_module_version": "1.5.0",
            "description_tooltip": null,
            "_model_module": "@jupyter-widgets/controls",
            "layout": "IPY_MODEL_c0ae558f668e48a3918b211322f28b1a"
          }
        },
        "71341d4d209e4ddcad294700b78ff743": {
          "model_module": "@jupyter-widgets/controls",
          "model_name": "ProgressStyleModel",
          "state": {
            "_view_name": "StyleView",
            "_model_name": "ProgressStyleModel",
            "description_width": "initial",
            "_view_module": "@jupyter-widgets/base",
            "_model_module_version": "1.5.0",
            "_view_count": null,
            "_view_module_version": "1.2.0",
            "bar_color": null,
            "_model_module": "@jupyter-widgets/controls"
          }
        },
        "bea116587fed44b9bf909a69ed662a4b": {
          "model_module": "@jupyter-widgets/base",
          "model_name": "LayoutModel",
          "state": {
            "_view_name": "LayoutView",
            "grid_template_rows": null,
            "right": null,
            "justify_content": null,
            "_view_module": "@jupyter-widgets/base",
            "overflow": null,
            "_model_module_version": "1.2.0",
            "_view_count": null,
            "flex_flow": null,
            "width": null,
            "min_width": null,
            "border": null,
            "align_items": null,
            "bottom": null,
            "_model_module": "@jupyter-widgets/base",
            "top": null,
            "grid_column": null,
            "overflow_y": null,
            "overflow_x": null,
            "grid_auto_flow": null,
            "grid_area": null,
            "grid_template_columns": null,
            "flex": null,
            "_model_name": "LayoutModel",
            "justify_items": null,
            "grid_row": null,
            "max_height": null,
            "align_content": null,
            "visibility": null,
            "align_self": null,
            "height": null,
            "min_height": null,
            "padding": null,
            "grid_auto_rows": null,
            "grid_gap": null,
            "max_width": null,
            "order": null,
            "_view_module_version": "1.2.0",
            "grid_template_areas": null,
            "object_position": null,
            "object_fit": null,
            "grid_auto_columns": null,
            "margin": null,
            "display": null,
            "left": null
          }
        },
        "e930f9db4c8d416f890d01db6bb7bbb5": {
          "model_module": "@jupyter-widgets/controls",
          "model_name": "DescriptionStyleModel",
          "state": {
            "_view_name": "StyleView",
            "_model_name": "DescriptionStyleModel",
            "description_width": "",
            "_view_module": "@jupyter-widgets/base",
            "_model_module_version": "1.5.0",
            "_view_count": null,
            "_view_module_version": "1.2.0",
            "_model_module": "@jupyter-widgets/controls"
          }
        },
        "c0ae558f668e48a3918b211322f28b1a": {
          "model_module": "@jupyter-widgets/base",
          "model_name": "LayoutModel",
          "state": {
            "_view_name": "LayoutView",
            "grid_template_rows": null,
            "right": null,
            "justify_content": null,
            "_view_module": "@jupyter-widgets/base",
            "overflow": null,
            "_model_module_version": "1.2.0",
            "_view_count": null,
            "flex_flow": null,
            "width": null,
            "min_width": null,
            "border": null,
            "align_items": null,
            "bottom": null,
            "_model_module": "@jupyter-widgets/base",
            "top": null,
            "grid_column": null,
            "overflow_y": null,
            "overflow_x": null,
            "grid_auto_flow": null,
            "grid_area": null,
            "grid_template_columns": null,
            "flex": null,
            "_model_name": "LayoutModel",
            "justify_items": null,
            "grid_row": null,
            "max_height": null,
            "align_content": null,
            "visibility": null,
            "align_self": null,
            "height": null,
            "min_height": null,
            "padding": null,
            "grid_auto_rows": null,
            "grid_gap": null,
            "max_width": null,
            "order": null,
            "_view_module_version": "1.2.0",
            "grid_template_areas": null,
            "object_position": null,
            "object_fit": null,
            "grid_auto_columns": null,
            "margin": null,
            "display": null,
            "left": null
          }
        },
        "7d2b043d2d3c4de49a5b045350106ce8": {
          "model_module": "@jupyter-widgets/controls",
          "model_name": "HBoxModel",
          "state": {
            "_view_name": "HBoxView",
            "_dom_classes": [],
            "_model_name": "HBoxModel",
            "_view_module": "@jupyter-widgets/controls",
            "_model_module_version": "1.5.0",
            "_view_count": null,
            "_view_module_version": "1.5.0",
            "box_style": "",
            "layout": "IPY_MODEL_79fd39ac12b24a12a562524adcd5a261",
            "_model_module": "@jupyter-widgets/controls",
            "children": [
              "IPY_MODEL_74c6214c77d145f2a09c779530e16c90",
              "IPY_MODEL_ec3c427cec5147b59bf2399fed71c91c"
            ]
          }
        },
        "79fd39ac12b24a12a562524adcd5a261": {
          "model_module": "@jupyter-widgets/base",
          "model_name": "LayoutModel",
          "state": {
            "_view_name": "LayoutView",
            "grid_template_rows": null,
            "right": null,
            "justify_content": null,
            "_view_module": "@jupyter-widgets/base",
            "overflow": null,
            "_model_module_version": "1.2.0",
            "_view_count": null,
            "flex_flow": null,
            "width": null,
            "min_width": null,
            "border": null,
            "align_items": null,
            "bottom": null,
            "_model_module": "@jupyter-widgets/base",
            "top": null,
            "grid_column": null,
            "overflow_y": null,
            "overflow_x": null,
            "grid_auto_flow": null,
            "grid_area": null,
            "grid_template_columns": null,
            "flex": null,
            "_model_name": "LayoutModel",
            "justify_items": null,
            "grid_row": null,
            "max_height": null,
            "align_content": null,
            "visibility": null,
            "align_self": null,
            "height": null,
            "min_height": null,
            "padding": null,
            "grid_auto_rows": null,
            "grid_gap": null,
            "max_width": null,
            "order": null,
            "_view_module_version": "1.2.0",
            "grid_template_areas": null,
            "object_position": null,
            "object_fit": null,
            "grid_auto_columns": null,
            "margin": null,
            "display": null,
            "left": null
          }
        },
        "74c6214c77d145f2a09c779530e16c90": {
          "model_module": "@jupyter-widgets/controls",
          "model_name": "FloatProgressModel",
          "state": {
            "_view_name": "ProgressView",
            "style": "IPY_MODEL_b827da7ffce148f69a5735d1fc93198c",
            "_dom_classes": [],
            "description": "Epoca 3: 100%",
            "_model_name": "FloatProgressModel",
            "bar_style": "success",
            "max": 2241,
            "_view_module": "@jupyter-widgets/controls",
            "_model_module_version": "1.5.0",
            "value": 2241,
            "_view_count": null,
            "_view_module_version": "1.5.0",
            "orientation": "horizontal",
            "min": 0,
            "description_tooltip": null,
            "_model_module": "@jupyter-widgets/controls",
            "layout": "IPY_MODEL_aa92438699df4b0485ebba256caf869e"
          }
        },
        "ec3c427cec5147b59bf2399fed71c91c": {
          "model_module": "@jupyter-widgets/controls",
          "model_name": "HTMLModel",
          "state": {
            "_view_name": "HTMLView",
            "style": "IPY_MODEL_aa630c64fe6a4b70b46a53c82650994e",
            "_dom_classes": [],
            "description": "",
            "_model_name": "HTMLModel",
            "placeholder": "​",
            "_view_module": "@jupyter-widgets/controls",
            "_model_module_version": "1.5.0",
            "value": " 2241/2241 [13:37&lt;00:00,  2.74lotes/s, loss=0.761]",
            "_view_count": null,
            "_view_module_version": "1.5.0",
            "description_tooltip": null,
            "_model_module": "@jupyter-widgets/controls",
            "layout": "IPY_MODEL_524f62296afc40f1a20dc95ae2f6e679"
          }
        },
        "b827da7ffce148f69a5735d1fc93198c": {
          "model_module": "@jupyter-widgets/controls",
          "model_name": "ProgressStyleModel",
          "state": {
            "_view_name": "StyleView",
            "_model_name": "ProgressStyleModel",
            "description_width": "initial",
            "_view_module": "@jupyter-widgets/base",
            "_model_module_version": "1.5.0",
            "_view_count": null,
            "_view_module_version": "1.2.0",
            "bar_color": null,
            "_model_module": "@jupyter-widgets/controls"
          }
        },
        "aa92438699df4b0485ebba256caf869e": {
          "model_module": "@jupyter-widgets/base",
          "model_name": "LayoutModel",
          "state": {
            "_view_name": "LayoutView",
            "grid_template_rows": null,
            "right": null,
            "justify_content": null,
            "_view_module": "@jupyter-widgets/base",
            "overflow": null,
            "_model_module_version": "1.2.0",
            "_view_count": null,
            "flex_flow": null,
            "width": null,
            "min_width": null,
            "border": null,
            "align_items": null,
            "bottom": null,
            "_model_module": "@jupyter-widgets/base",
            "top": null,
            "grid_column": null,
            "overflow_y": null,
            "overflow_x": null,
            "grid_auto_flow": null,
            "grid_area": null,
            "grid_template_columns": null,
            "flex": null,
            "_model_name": "LayoutModel",
            "justify_items": null,
            "grid_row": null,
            "max_height": null,
            "align_content": null,
            "visibility": null,
            "align_self": null,
            "height": null,
            "min_height": null,
            "padding": null,
            "grid_auto_rows": null,
            "grid_gap": null,
            "max_width": null,
            "order": null,
            "_view_module_version": "1.2.0",
            "grid_template_areas": null,
            "object_position": null,
            "object_fit": null,
            "grid_auto_columns": null,
            "margin": null,
            "display": null,
            "left": null
          }
        },
        "aa630c64fe6a4b70b46a53c82650994e": {
          "model_module": "@jupyter-widgets/controls",
          "model_name": "DescriptionStyleModel",
          "state": {
            "_view_name": "StyleView",
            "_model_name": "DescriptionStyleModel",
            "description_width": "",
            "_view_module": "@jupyter-widgets/base",
            "_model_module_version": "1.5.0",
            "_view_count": null,
            "_view_module_version": "1.2.0",
            "_model_module": "@jupyter-widgets/controls"
          }
        },
        "524f62296afc40f1a20dc95ae2f6e679": {
          "model_module": "@jupyter-widgets/base",
          "model_name": "LayoutModel",
          "state": {
            "_view_name": "LayoutView",
            "grid_template_rows": null,
            "right": null,
            "justify_content": null,
            "_view_module": "@jupyter-widgets/base",
            "overflow": null,
            "_model_module_version": "1.2.0",
            "_view_count": null,
            "flex_flow": null,
            "width": null,
            "min_width": null,
            "border": null,
            "align_items": null,
            "bottom": null,
            "_model_module": "@jupyter-widgets/base",
            "top": null,
            "grid_column": null,
            "overflow_y": null,
            "overflow_x": null,
            "grid_auto_flow": null,
            "grid_area": null,
            "grid_template_columns": null,
            "flex": null,
            "_model_name": "LayoutModel",
            "justify_items": null,
            "grid_row": null,
            "max_height": null,
            "align_content": null,
            "visibility": null,
            "align_self": null,
            "height": null,
            "min_height": null,
            "padding": null,
            "grid_auto_rows": null,
            "grid_gap": null,
            "max_width": null,
            "order": null,
            "_view_module_version": "1.2.0",
            "grid_template_areas": null,
            "object_position": null,
            "object_fit": null,
            "grid_auto_columns": null,
            "margin": null,
            "display": null,
            "left": null
          }
        },
        "4c2f0c0c94674774a87ffe73e663fec8": {
          "model_module": "@jupyter-widgets/controls",
          "model_name": "HBoxModel",
          "state": {
            "_view_name": "HBoxView",
            "_dom_classes": [],
            "_model_name": "HBoxModel",
            "_view_module": "@jupyter-widgets/controls",
            "_model_module_version": "1.5.0",
            "_view_count": null,
            "_view_module_version": "1.5.0",
            "box_style": "",
            "layout": "IPY_MODEL_aabad85e23a74e44b8ced1bfcd06ae08",
            "_model_module": "@jupyter-widgets/controls",
            "children": [
              "IPY_MODEL_1e3828c2a4264fe09a131ba89a37314b",
              "IPY_MODEL_0d0f377935754c16ad9434fd890d2cb5"
            ]
          }
        },
        "aabad85e23a74e44b8ced1bfcd06ae08": {
          "model_module": "@jupyter-widgets/base",
          "model_name": "LayoutModel",
          "state": {
            "_view_name": "LayoutView",
            "grid_template_rows": null,
            "right": null,
            "justify_content": null,
            "_view_module": "@jupyter-widgets/base",
            "overflow": null,
            "_model_module_version": "1.2.0",
            "_view_count": null,
            "flex_flow": null,
            "width": null,
            "min_width": null,
            "border": null,
            "align_items": null,
            "bottom": null,
            "_model_module": "@jupyter-widgets/base",
            "top": null,
            "grid_column": null,
            "overflow_y": null,
            "overflow_x": null,
            "grid_auto_flow": null,
            "grid_area": null,
            "grid_template_columns": null,
            "flex": null,
            "_model_name": "LayoutModel",
            "justify_items": null,
            "grid_row": null,
            "max_height": null,
            "align_content": null,
            "visibility": null,
            "align_self": null,
            "height": null,
            "min_height": null,
            "padding": null,
            "grid_auto_rows": null,
            "grid_gap": null,
            "max_width": null,
            "order": null,
            "_view_module_version": "1.2.0",
            "grid_template_areas": null,
            "object_position": null,
            "object_fit": null,
            "grid_auto_columns": null,
            "margin": null,
            "display": null,
            "left": null
          }
        },
        "1e3828c2a4264fe09a131ba89a37314b": {
          "model_module": "@jupyter-widgets/controls",
          "model_name": "FloatProgressModel",
          "state": {
            "_view_name": "ProgressView",
            "style": "IPY_MODEL_e293a5fbac7c4c07ae687d163754fb5e",
            "_dom_classes": [],
            "description": "Epoca 4: 100%",
            "_model_name": "FloatProgressModel",
            "bar_style": "success",
            "max": 2241,
            "_view_module": "@jupyter-widgets/controls",
            "_model_module_version": "1.5.0",
            "value": 2241,
            "_view_count": null,
            "_view_module_version": "1.5.0",
            "orientation": "horizontal",
            "min": 0,
            "description_tooltip": null,
            "_model_module": "@jupyter-widgets/controls",
            "layout": "IPY_MODEL_89bbf236fc2f4f38ba0105327639cdde"
          }
        },
        "0d0f377935754c16ad9434fd890d2cb5": {
          "model_module": "@jupyter-widgets/controls",
          "model_name": "HTMLModel",
          "state": {
            "_view_name": "HTMLView",
            "style": "IPY_MODEL_30825ee1d8354ab8994e600bf9fd596d",
            "_dom_classes": [],
            "description": "",
            "_model_name": "HTMLModel",
            "placeholder": "​",
            "_view_module": "@jupyter-widgets/controls",
            "_model_module_version": "1.5.0",
            "value": " 2241/2241 [13:37&lt;00:00,  2.74lotes/s, loss=0.705]",
            "_view_count": null,
            "_view_module_version": "1.5.0",
            "description_tooltip": null,
            "_model_module": "@jupyter-widgets/controls",
            "layout": "IPY_MODEL_0967f6a841ab47d89fbc6fee85c5aacb"
          }
        },
        "e293a5fbac7c4c07ae687d163754fb5e": {
          "model_module": "@jupyter-widgets/controls",
          "model_name": "ProgressStyleModel",
          "state": {
            "_view_name": "StyleView",
            "_model_name": "ProgressStyleModel",
            "description_width": "initial",
            "_view_module": "@jupyter-widgets/base",
            "_model_module_version": "1.5.0",
            "_view_count": null,
            "_view_module_version": "1.2.0",
            "bar_color": null,
            "_model_module": "@jupyter-widgets/controls"
          }
        },
        "89bbf236fc2f4f38ba0105327639cdde": {
          "model_module": "@jupyter-widgets/base",
          "model_name": "LayoutModel",
          "state": {
            "_view_name": "LayoutView",
            "grid_template_rows": null,
            "right": null,
            "justify_content": null,
            "_view_module": "@jupyter-widgets/base",
            "overflow": null,
            "_model_module_version": "1.2.0",
            "_view_count": null,
            "flex_flow": null,
            "width": null,
            "min_width": null,
            "border": null,
            "align_items": null,
            "bottom": null,
            "_model_module": "@jupyter-widgets/base",
            "top": null,
            "grid_column": null,
            "overflow_y": null,
            "overflow_x": null,
            "grid_auto_flow": null,
            "grid_area": null,
            "grid_template_columns": null,
            "flex": null,
            "_model_name": "LayoutModel",
            "justify_items": null,
            "grid_row": null,
            "max_height": null,
            "align_content": null,
            "visibility": null,
            "align_self": null,
            "height": null,
            "min_height": null,
            "padding": null,
            "grid_auto_rows": null,
            "grid_gap": null,
            "max_width": null,
            "order": null,
            "_view_module_version": "1.2.0",
            "grid_template_areas": null,
            "object_position": null,
            "object_fit": null,
            "grid_auto_columns": null,
            "margin": null,
            "display": null,
            "left": null
          }
        },
        "30825ee1d8354ab8994e600bf9fd596d": {
          "model_module": "@jupyter-widgets/controls",
          "model_name": "DescriptionStyleModel",
          "state": {
            "_view_name": "StyleView",
            "_model_name": "DescriptionStyleModel",
            "description_width": "",
            "_view_module": "@jupyter-widgets/base",
            "_model_module_version": "1.5.0",
            "_view_count": null,
            "_view_module_version": "1.2.0",
            "_model_module": "@jupyter-widgets/controls"
          }
        },
        "0967f6a841ab47d89fbc6fee85c5aacb": {
          "model_module": "@jupyter-widgets/base",
          "model_name": "LayoutModel",
          "state": {
            "_view_name": "LayoutView",
            "grid_template_rows": null,
            "right": null,
            "justify_content": null,
            "_view_module": "@jupyter-widgets/base",
            "overflow": null,
            "_model_module_version": "1.2.0",
            "_view_count": null,
            "flex_flow": null,
            "width": null,
            "min_width": null,
            "border": null,
            "align_items": null,
            "bottom": null,
            "_model_module": "@jupyter-widgets/base",
            "top": null,
            "grid_column": null,
            "overflow_y": null,
            "overflow_x": null,
            "grid_auto_flow": null,
            "grid_area": null,
            "grid_template_columns": null,
            "flex": null,
            "_model_name": "LayoutModel",
            "justify_items": null,
            "grid_row": null,
            "max_height": null,
            "align_content": null,
            "visibility": null,
            "align_self": null,
            "height": null,
            "min_height": null,
            "padding": null,
            "grid_auto_rows": null,
            "grid_gap": null,
            "max_width": null,
            "order": null,
            "_view_module_version": "1.2.0",
            "grid_template_areas": null,
            "object_position": null,
            "object_fit": null,
            "grid_auto_columns": null,
            "margin": null,
            "display": null,
            "left": null
          }
        },
        "611b0d42135e4252adad7aba0344adcd": {
          "model_module": "@jupyter-widgets/controls",
          "model_name": "HBoxModel",
          "state": {
            "_view_name": "HBoxView",
            "_dom_classes": [],
            "_model_name": "HBoxModel",
            "_view_module": "@jupyter-widgets/controls",
            "_model_module_version": "1.5.0",
            "_view_count": null,
            "_view_module_version": "1.5.0",
            "box_style": "",
            "layout": "IPY_MODEL_db7c9b89da834a859285f00f8eb10e35",
            "_model_module": "@jupyter-widgets/controls",
            "children": [
              "IPY_MODEL_27d6e6fb5c034ee882d226cd69a88393",
              "IPY_MODEL_49bc824360864b79bd5d502fa98d8b82"
            ]
          }
        },
        "db7c9b89da834a859285f00f8eb10e35": {
          "model_module": "@jupyter-widgets/base",
          "model_name": "LayoutModel",
          "state": {
            "_view_name": "LayoutView",
            "grid_template_rows": null,
            "right": null,
            "justify_content": null,
            "_view_module": "@jupyter-widgets/base",
            "overflow": null,
            "_model_module_version": "1.2.0",
            "_view_count": null,
            "flex_flow": null,
            "width": null,
            "min_width": null,
            "border": null,
            "align_items": null,
            "bottom": null,
            "_model_module": "@jupyter-widgets/base",
            "top": null,
            "grid_column": null,
            "overflow_y": null,
            "overflow_x": null,
            "grid_auto_flow": null,
            "grid_area": null,
            "grid_template_columns": null,
            "flex": null,
            "_model_name": "LayoutModel",
            "justify_items": null,
            "grid_row": null,
            "max_height": null,
            "align_content": null,
            "visibility": null,
            "align_self": null,
            "height": null,
            "min_height": null,
            "padding": null,
            "grid_auto_rows": null,
            "grid_gap": null,
            "max_width": null,
            "order": null,
            "_view_module_version": "1.2.0",
            "grid_template_areas": null,
            "object_position": null,
            "object_fit": null,
            "grid_auto_columns": null,
            "margin": null,
            "display": null,
            "left": null
          }
        },
        "27d6e6fb5c034ee882d226cd69a88393": {
          "model_module": "@jupyter-widgets/controls",
          "model_name": "FloatProgressModel",
          "state": {
            "_view_name": "ProgressView",
            "style": "IPY_MODEL_664be6d596f84cb1be31d79c4a4365ce",
            "_dom_classes": [],
            "description": "Lotes : 100%",
            "_model_name": "FloatProgressModel",
            "bar_style": "success",
            "max": 125,
            "_view_module": "@jupyter-widgets/controls",
            "_model_module_version": "1.5.0",
            "value": 125,
            "_view_count": null,
            "_view_module_version": "1.5.0",
            "orientation": "horizontal",
            "min": 0,
            "description_tooltip": null,
            "_model_module": "@jupyter-widgets/controls",
            "layout": "IPY_MODEL_a71dbf84222e465d9b4d6b81b9407d7b"
          }
        },
        "49bc824360864b79bd5d502fa98d8b82": {
          "model_module": "@jupyter-widgets/controls",
          "model_name": "HTMLModel",
          "state": {
            "_view_name": "HTMLView",
            "style": "IPY_MODEL_a2ef6ea41f91443a8fcdd39a1beff3ff",
            "_dom_classes": [],
            "description": "",
            "_model_name": "HTMLModel",
            "placeholder": "​",
            "_view_module": "@jupyter-widgets/controls",
            "_model_module_version": "1.5.0",
            "value": " 125/125 [00:25&lt;00:00,  4.94lotes/s]",
            "_view_count": null,
            "_view_module_version": "1.5.0",
            "description_tooltip": null,
            "_model_module": "@jupyter-widgets/controls",
            "layout": "IPY_MODEL_aa1935b83c3c4fde9fbb0fb0a9247786"
          }
        },
        "664be6d596f84cb1be31d79c4a4365ce": {
          "model_module": "@jupyter-widgets/controls",
          "model_name": "ProgressStyleModel",
          "state": {
            "_view_name": "StyleView",
            "_model_name": "ProgressStyleModel",
            "description_width": "initial",
            "_view_module": "@jupyter-widgets/base",
            "_model_module_version": "1.5.0",
            "_view_count": null,
            "_view_module_version": "1.2.0",
            "bar_color": null,
            "_model_module": "@jupyter-widgets/controls"
          }
        },
        "a71dbf84222e465d9b4d6b81b9407d7b": {
          "model_module": "@jupyter-widgets/base",
          "model_name": "LayoutModel",
          "state": {
            "_view_name": "LayoutView",
            "grid_template_rows": null,
            "right": null,
            "justify_content": null,
            "_view_module": "@jupyter-widgets/base",
            "overflow": null,
            "_model_module_version": "1.2.0",
            "_view_count": null,
            "flex_flow": null,
            "width": null,
            "min_width": null,
            "border": null,
            "align_items": null,
            "bottom": null,
            "_model_module": "@jupyter-widgets/base",
            "top": null,
            "grid_column": null,
            "overflow_y": null,
            "overflow_x": null,
            "grid_auto_flow": null,
            "grid_area": null,
            "grid_template_columns": null,
            "flex": null,
            "_model_name": "LayoutModel",
            "justify_items": null,
            "grid_row": null,
            "max_height": null,
            "align_content": null,
            "visibility": null,
            "align_self": null,
            "height": null,
            "min_height": null,
            "padding": null,
            "grid_auto_rows": null,
            "grid_gap": null,
            "max_width": null,
            "order": null,
            "_view_module_version": "1.2.0",
            "grid_template_areas": null,
            "object_position": null,
            "object_fit": null,
            "grid_auto_columns": null,
            "margin": null,
            "display": null,
            "left": null
          }
        },
        "a2ef6ea41f91443a8fcdd39a1beff3ff": {
          "model_module": "@jupyter-widgets/controls",
          "model_name": "DescriptionStyleModel",
          "state": {
            "_view_name": "StyleView",
            "_model_name": "DescriptionStyleModel",
            "description_width": "",
            "_view_module": "@jupyter-widgets/base",
            "_model_module_version": "1.5.0",
            "_view_count": null,
            "_view_module_version": "1.2.0",
            "_model_module": "@jupyter-widgets/controls"
          }
        },
        "aa1935b83c3c4fde9fbb0fb0a9247786": {
          "model_module": "@jupyter-widgets/base",
          "model_name": "LayoutModel",
          "state": {
            "_view_name": "LayoutView",
            "grid_template_rows": null,
            "right": null,
            "justify_content": null,
            "_view_module": "@jupyter-widgets/base",
            "overflow": null,
            "_model_module_version": "1.2.0",
            "_view_count": null,
            "flex_flow": null,
            "width": null,
            "min_width": null,
            "border": null,
            "align_items": null,
            "bottom": null,
            "_model_module": "@jupyter-widgets/base",
            "top": null,
            "grid_column": null,
            "overflow_y": null,
            "overflow_x": null,
            "grid_auto_flow": null,
            "grid_area": null,
            "grid_template_columns": null,
            "flex": null,
            "_model_name": "LayoutModel",
            "justify_items": null,
            "grid_row": null,
            "max_height": null,
            "align_content": null,
            "visibility": null,
            "align_self": null,
            "height": null,
            "min_height": null,
            "padding": null,
            "grid_auto_rows": null,
            "grid_gap": null,
            "max_width": null,
            "order": null,
            "_view_module_version": "1.2.0",
            "grid_template_areas": null,
            "object_position": null,
            "object_fit": null,
            "grid_auto_columns": null,
            "margin": null,
            "display": null,
            "left": null
          }
        },
        "c1b835939ae94b768ac5afee4018d9fc": {
          "model_module": "@jupyter-widgets/controls",
          "model_name": "VBoxModel",
          "state": {
            "_view_name": "VBoxView",
            "_dom_classes": [],
            "_model_name": "VBoxModel",
            "_view_module": "@jupyter-widgets/controls",
            "_model_module_version": "1.5.0",
            "_view_count": null,
            "_view_module_version": "1.5.0",
            "box_style": "",
            "layout": "IPY_MODEL_d1e5886c147d484e9b14b7161de11337",
            "_model_module": "@jupyter-widgets/controls",
            "children": [
              "IPY_MODEL_ddf4d8896a8b48ae9e6ea08f9e55ef81",
              "IPY_MODEL_642ac73c760641f6a8eb020bccbe4353"
            ]
          }
        },
        "d1e5886c147d484e9b14b7161de11337": {
          "model_module": "@jupyter-widgets/base",
          "model_name": "LayoutModel",
          "state": {
            "_view_name": "LayoutView",
            "grid_template_rows": null,
            "right": null,
            "justify_content": null,
            "_view_module": "@jupyter-widgets/base",
            "overflow": null,
            "_model_module_version": "1.2.0",
            "_view_count": null,
            "flex_flow": null,
            "width": null,
            "min_width": null,
            "border": null,
            "align_items": null,
            "bottom": null,
            "_model_module": "@jupyter-widgets/base",
            "top": null,
            "grid_column": null,
            "overflow_y": null,
            "overflow_x": null,
            "grid_auto_flow": null,
            "grid_area": null,
            "grid_template_columns": null,
            "flex": null,
            "_model_name": "LayoutModel",
            "justify_items": null,
            "grid_row": null,
            "max_height": null,
            "align_content": null,
            "visibility": null,
            "align_self": null,
            "height": null,
            "min_height": null,
            "padding": null,
            "grid_auto_rows": null,
            "grid_gap": null,
            "max_width": null,
            "order": null,
            "_view_module_version": "1.2.0",
            "grid_template_areas": null,
            "object_position": null,
            "object_fit": null,
            "grid_auto_columns": null,
            "margin": null,
            "display": null,
            "left": null
          }
        },
        "ddf4d8896a8b48ae9e6ea08f9e55ef81": {
          "model_module": "@jupyter-widgets/controls",
          "model_name": "LabelModel",
          "state": {
            "_view_name": "LabelView",
            "style": "IPY_MODEL_ba4c95efc6bd4405824d82db0f7ef7e6",
            "_dom_classes": [],
            "description": "",
            "_model_name": "LabelModel",
            "placeholder": "​",
            "_view_module": "@jupyter-widgets/controls",
            "_model_module_version": "1.5.0",
            "value": " 0.82MB of 0.82MB uploaded (0.00MB deduped)\r",
            "_view_count": null,
            "_view_module_version": "1.5.0",
            "description_tooltip": null,
            "_model_module": "@jupyter-widgets/controls",
            "layout": "IPY_MODEL_35d457fedc8348788be72603f29f68a1"
          }
        },
        "642ac73c760641f6a8eb020bccbe4353": {
          "model_module": "@jupyter-widgets/controls",
          "model_name": "FloatProgressModel",
          "state": {
            "_view_name": "ProgressView",
            "style": "IPY_MODEL_f01d637467214712a31f5785674f2085",
            "_dom_classes": [],
            "description": "",
            "_model_name": "FloatProgressModel",
            "bar_style": "",
            "max": 1,
            "_view_module": "@jupyter-widgets/controls",
            "_model_module_version": "1.5.0",
            "value": 1,
            "_view_count": null,
            "_view_module_version": "1.5.0",
            "orientation": "horizontal",
            "min": 0,
            "description_tooltip": null,
            "_model_module": "@jupyter-widgets/controls",
            "layout": "IPY_MODEL_740981fdb11c45d99fddf7a5bfea3f2d"
          }
        },
        "ba4c95efc6bd4405824d82db0f7ef7e6": {
          "model_module": "@jupyter-widgets/controls",
          "model_name": "DescriptionStyleModel",
          "state": {
            "_view_name": "StyleView",
            "_model_name": "DescriptionStyleModel",
            "description_width": "",
            "_view_module": "@jupyter-widgets/base",
            "_model_module_version": "1.5.0",
            "_view_count": null,
            "_view_module_version": "1.2.0",
            "_model_module": "@jupyter-widgets/controls"
          }
        },
        "35d457fedc8348788be72603f29f68a1": {
          "model_module": "@jupyter-widgets/base",
          "model_name": "LayoutModel",
          "state": {
            "_view_name": "LayoutView",
            "grid_template_rows": null,
            "right": null,
            "justify_content": null,
            "_view_module": "@jupyter-widgets/base",
            "overflow": null,
            "_model_module_version": "1.2.0",
            "_view_count": null,
            "flex_flow": null,
            "width": null,
            "min_width": null,
            "border": null,
            "align_items": null,
            "bottom": null,
            "_model_module": "@jupyter-widgets/base",
            "top": null,
            "grid_column": null,
            "overflow_y": null,
            "overflow_x": null,
            "grid_auto_flow": null,
            "grid_area": null,
            "grid_template_columns": null,
            "flex": null,
            "_model_name": "LayoutModel",
            "justify_items": null,
            "grid_row": null,
            "max_height": null,
            "align_content": null,
            "visibility": null,
            "align_self": null,
            "height": null,
            "min_height": null,
            "padding": null,
            "grid_auto_rows": null,
            "grid_gap": null,
            "max_width": null,
            "order": null,
            "_view_module_version": "1.2.0",
            "grid_template_areas": null,
            "object_position": null,
            "object_fit": null,
            "grid_auto_columns": null,
            "margin": null,
            "display": null,
            "left": null
          }
        },
        "f01d637467214712a31f5785674f2085": {
          "model_module": "@jupyter-widgets/controls",
          "model_name": "ProgressStyleModel",
          "state": {
            "_view_name": "StyleView",
            "_model_name": "ProgressStyleModel",
            "description_width": "",
            "_view_module": "@jupyter-widgets/base",
            "_model_module_version": "1.5.0",
            "_view_count": null,
            "_view_module_version": "1.2.0",
            "bar_color": null,
            "_model_module": "@jupyter-widgets/controls"
          }
        },
        "740981fdb11c45d99fddf7a5bfea3f2d": {
          "model_module": "@jupyter-widgets/base",
          "model_name": "LayoutModel",
          "state": {
            "_view_name": "LayoutView",
            "grid_template_rows": null,
            "right": null,
            "justify_content": null,
            "_view_module": "@jupyter-widgets/base",
            "overflow": null,
            "_model_module_version": "1.2.0",
            "_view_count": null,
            "flex_flow": null,
            "width": null,
            "min_width": null,
            "border": null,
            "align_items": null,
            "bottom": null,
            "_model_module": "@jupyter-widgets/base",
            "top": null,
            "grid_column": null,
            "overflow_y": null,
            "overflow_x": null,
            "grid_auto_flow": null,
            "grid_area": null,
            "grid_template_columns": null,
            "flex": null,
            "_model_name": "LayoutModel",
            "justify_items": null,
            "grid_row": null,
            "max_height": null,
            "align_content": null,
            "visibility": null,
            "align_self": null,
            "height": null,
            "min_height": null,
            "padding": null,
            "grid_auto_rows": null,
            "grid_gap": null,
            "max_width": null,
            "order": null,
            "_view_module_version": "1.2.0",
            "grid_template_areas": null,
            "object_position": null,
            "object_fit": null,
            "grid_auto_columns": null,
            "margin": null,
            "display": null,
            "left": null
          }
        }
      }
    }
  },
  "cells": [
    {
      "cell_type": "markdown",
      "metadata": {
        "id": "view-in-github",
        "colab_type": "text"
      },
      "source": [
        "<a href=\"https://colab.research.google.com/github/osmarbraz/coebert/blob/main/AjusteFinoCSTNews_v1_C_SB_KFold_Todos.ipynb\" target=\"_parent\"><img src=\"https://colab.research.google.com/assets/colab-badge.svg\" alt=\"Open In Colab\"/></a>"
      ]
    },
    {
      "cell_type": "markdown",
      "metadata": {
        "id": "78HE8FLsKN9Q"
      },
      "source": [
        "#Ajuste fino do conjunto de dados CSTNews usando BERT Transformers by HuggingFace e Lotes Inteligentes e Validação Cruzada para todos os Folds\n",
        "\n",
        "Com base no modelo BERT pré-treinado realiza o ajuste fino para os dados CSTNews para classificar documentos coerentes e incoerentes.\n",
        "\n",
        "- Realiza o ajuste fino nos dados de CSTNEWS de Márcio Dias.\n",
        "- Realiza a avaliação do conjunto de teste para um determinado fold(10%).\n",
        "- A seção 2 - parametrização define os argumentos da execução.\n",
        "\n",
        "Notebook base: https://colab.research.google.com/drive/1KDeFAHvRFq3bY5onzj8Wgul3rRcrQNaC?usp=sharing\n",
        "\n",
        "----------------------------\n",
        "\n",
        "**Link biblioteca Transformers:**\n",
        "https://github.com/huggingface/transformers\n",
        "\n",
        "\n",
        "**Artigo original BERT:**\n",
        "https://arxiv.org/pdf/1506.06724.pdf\n",
        "\n",
        "**Artigo padding dinâmico:**\n",
        "https://towardsdatascience.com/divide-hugging-face-transformers-training-time-by-2-or-more-21bf7129db9q-21bf7129db9e"
      ]
    },
    {
      "cell_type": "markdown",
      "metadata": {
        "id": "xyxb5Px3p1-e"
      },
      "source": [
        "# 1 Preparação do ambiente\n",
        "Preparação do ambiente para execução do notebook."
      ]
    },
    {
      "cell_type": "markdown",
      "metadata": {
        "id": "cW_5CN8En7zl"
      },
      "source": [
        "## 1.1 Tempo inicial de processamento"
      ]
    },
    {
      "cell_type": "code",
      "metadata": {
        "id": "LOHCMMDsiyZg"
      },
      "source": [
        "# Import das bibliotecas\n",
        "import time\n",
        "import datetime\n",
        "\n",
        "# Marca o tempo de início do processamento\n",
        "inicioProcessamento = time.time()"
      ],
      "execution_count": null,
      "outputs": []
    },
    {
      "cell_type": "code",
      "metadata": {
        "colab": {
          "base_uri": "https://localhost:8080/"
        },
        "id": "v2ROFCsyHu8B",
        "outputId": "18d74b87-5366-4e46-cf2d-9a29b1bc247d"
      },
      "source": [
        "print(\"  Tempo de início de processamento:  {:} (h:mm:ss)\".format(inicioProcessamento))"
      ],
      "execution_count": null,
      "outputs": [
        {
          "output_type": "stream",
          "text": [
            "  Tempo de início de processamento:  1621867157.1078568 (h:mm:ss)\n"
          ],
          "name": "stdout"
        }
      ]
    },
    {
      "cell_type": "markdown",
      "metadata": {
        "id": "GOcN8hK-scnt"
      },
      "source": [
        "## 1.2 Funções e classes auxiliares"
      ]
    },
    {
      "cell_type": "markdown",
      "metadata": {
        "id": "1q7fizBnsZFQ"
      },
      "source": [
        "Função auxiliar para formatar o tempo como `hh: mm: ss`"
      ]
    },
    {
      "cell_type": "code",
      "metadata": {
        "id": "Guy6B4whsZFR"
      },
      "source": [
        "# Import das bibliotecas\n",
        "import time\n",
        "import datetime\n",
        "\n",
        "def formataTempo(tempo):\n",
        "    '''\n",
        "    Pega a tempo em segundos e retorna uma string hh:mm:ss\n",
        "    '''\n",
        "    # Arredonda para o segundo mais próximo.\n",
        "    tempoArredondado = int(round((tempo)))\n",
        "    \n",
        "    # Formata como hh:mm:ss\n",
        "    return str(datetime.timedelta(seconds=tempoArredondado))"
      ],
      "execution_count": null,
      "outputs": []
    },
    {
      "cell_type": "markdown",
      "metadata": {
        "id": "nFoXtrnnMisv"
      },
      "source": [
        "Calcula a média de uma lista tempo string no formato hh:mm:ss."
      ]
    },
    {
      "cell_type": "code",
      "metadata": {
        "id": "PqS6-M1fqb9V"
      },
      "source": [
        "# Import das bibliotecas.\n",
        "from cmath import rect, phase\n",
        "from math import radians, degrees\n",
        "  \n",
        "def mediaAngulo(deg):\n",
        "    return degrees(phase(sum(rect(1, radians(d)) for d in deg)/len(deg)))\n",
        " \n",
        "def mediaTempo(tempos):\n",
        "    '''\n",
        "    Calcula a média de uma lista de tempo string no formato hh:mm:ss\n",
        "    '''\n",
        "    t = (tempo.split(':') for tempo in tempos)\n",
        "    # Converte para segundos\n",
        "    segundos = ((float(s) + int(m) * 60 + int(h) * 3600) for h, m, s in t)\n",
        "    # Verifica se deu algum dia\n",
        "    dia = 24 * 60 * 60\n",
        "    # Converte para angulos\n",
        "    paraAngulos = [s * 360. / dia for s in segundos]\n",
        "    # Calcula a média dos angulos\n",
        "    mediaComoAngulo = mediaAngulo(paraAngulos)\n",
        "    media_segundos = mediaComoAngulo * dia / 360.\n",
        "    if media_segundos < 0:\n",
        "        media_segundos += dia\n",
        "    # Recupera as horas e os minutos  \n",
        "    h, m = divmod(media_segundos, 3600)\n",
        "    # Recupera os minutos e os segundos\n",
        "    m, s = divmod(m, 60)    \n",
        "    return '{:02d}:{:02d}:{:02d}'.format(int(h), int(m), int(s))"
      ],
      "execution_count": null,
      "outputs": []
    },
    {
      "cell_type": "markdown",
      "metadata": {
        "id": "Mw8KyNOJJLwf"
      },
      "source": [
        "Calcula a soma de uma lista de tempo string no formato hh:mm:ss"
      ]
    },
    {
      "cell_type": "code",
      "metadata": {
        "id": "V4gekVLwJIcD"
      },
      "source": [
        "def somaTempo(tempos):\n",
        "    '''\n",
        "    Calcula a soma de uma lista de tempo string no formato hh:mm:ss\n",
        "    '''\n",
        "    t = (tempo.split(':') for tempo in tempos)\n",
        "    # Converte para segundos\n",
        "    segundos = ((float(s) + int(m) * 60 + int(h) * 3600) for h, m, s in t)\n",
        "    # Soma os segundos\n",
        "    soma_segundos = sum([s * 1. for s in segundos])\n",
        "    # Recupera as horas e os minutos   \n",
        "    h, m = divmod(soma_segundos, 3600)\n",
        "    # Recupera os minutos e os segundos\n",
        "    m, s = divmod(m, 60)    \n",
        "    return '{:02d}:{:02d}:{:02d}'.format(int(h), int(m), int(s))"
      ],
      "execution_count": null,
      "outputs": []
    },
    {
      "cell_type": "markdown",
      "metadata": {
        "id": "nszM7hA_IoKP"
      },
      "source": [
        "Em muitos dos meus loops for (de longa duração), imprimirei atualizações periódicas de progresso. Normalmente, eu escolho o intervalo de atualização manualmente, mas para este Notebook, defini uma função auxiliar para fazer essa escolha para mim :)"
      ]
    },
    {
      "cell_type": "code",
      "metadata": {
        "id": "iTrHp0_FgOSg"
      },
      "source": [
        "def obter_intervalo_atualizacao(total_iteracoes, numero_atualizacoes):\n",
        "    '''\n",
        "     Esta função tentará escolher um intervalo de atualização de progresso inteligente\n",
        "     com base na magnitude das iterações totais.\n",
        "\n",
        "     Parâmetros:\n",
        "       `total_iteracoes` - O número de iterações no loop for.\n",
        "       `numero_atualizacoes` - Quantas vezes queremos ver uma atualização sobre o\n",
        "                               curso do loop for.\n",
        "     '''\n",
        "    \n",
        "    # Divida o total de iterações pelo número desejado de atualizações. Provavelmente\n",
        "    # este será um número feio.\n",
        "    intervalo_exato = total_iteracoes / numero_atualizacoes\n",
        "\n",
        "    # A função `arredondar` tem a capacidade de arredondar um número para, por exemplo, o\n",
        "    # milésimo mais próximo: round (intervalo_exato, -3)\n",
        "    #\n",
        "    # Para determinar a magnitude para arredondar, encontre a magnitude do total,\n",
        "    # e então vá uma magnitude abaixo disso.\n",
        "    \n",
        "    # Obtenha a ordem de magnitude do total.\n",
        "    ordem_magnitude = len(str(total_iteracoes)) - 1\n",
        "    \n",
        "    # Nosso intervalo de atualização deve ser arredondado para uma ordem de magnitude menor.\n",
        "    magnitude_arrendonda = ordem_magnitude - 1\n",
        "\n",
        "    # Arredonde para baixo e lance para um int.\n",
        "    intervalo_atualizacao = int(round(intervalo_exato, -magnitude_arrendonda))\n",
        "\n",
        "    # Não permita que o intervalo seja zero!\n",
        "    if intervalo_atualizacao == 0:\n",
        "        intervalo_atualizacao = 1\n",
        "\n",
        "    return intervalo_atualizacao"
      ],
      "execution_count": null,
      "outputs": []
    },
    {
      "cell_type": "markdown",
      "metadata": {
        "id": "zVKAapz7RCxk"
      },
      "source": [
        "Classe(ModelArguments) de definição dos parâmetros do modelo"
      ]
    },
    {
      "cell_type": "code",
      "metadata": {
        "id": "zgmN6RqDRDZS"
      },
      "source": [
        "from dataclasses import dataclass, field\n",
        "from typing import Dict, Optional\n",
        "from typing import List\n",
        "\n",
        "@dataclass\n",
        "class ModelArguments:\n",
        "    max_seq_len: Optional[int] = field(\n",
        "        default=None,\n",
        "        metadata={\"help\": \"max seq len\"},\n",
        "    )    \n",
        "    pretrained_model_name_or_path: str = field(\n",
        "        default=\"neuralmind/bert-base-portuguese-cased\",\n",
        "        metadata={\"help\": \"nome do modelo pré-treinado do BERT.\"},\n",
        "    )\n",
        "    do_lower_case: bool = field(\n",
        "        default=False,\n",
        "        metadata={\"help\": \"define se o texto do modelo deve ser todo em minúsculo.\"},\n",
        "    )\n",
        "    num_labels: int = field(\n",
        "        default=2,\n",
        "        metadata={\"help\": \"número de rótulos a serem classificados.\"},\n",
        "    )\n",
        "    output_attentions: bool = field(\n",
        "        default=False,\n",
        "        metadata={\"help\": \"habilita se o modelo retorna os pesos de atenção.\"},\n",
        "    )\n",
        "    output_hidden_states: bool = field(\n",
        "        default=False,\n",
        "        metadata={\"help\": \"habilita gerar as camadas ocultas do modelo.\"},\n",
        "    )\n",
        "    optimizer: str = field(\n",
        "        default=\"AdamW\",\n",
        "        metadata={\"help\": \"otimizador do modelo.\"},\n",
        "    )\n",
        "    use_wandb : bool = field(\n",
        "        default=True,\n",
        "        metadata={\"help\": \"habilita o uso do wandb.\"},\n",
        "    )\n",
        "    salvar_modelo_wandb : bool = field(\n",
        "        default=True,\n",
        "        metadata={\"help\": \"habilita o salvamento do modelo no wandb.\"},\n",
        "    )\n",
        "    salvar_modelo : bool = field(\n",
        "        default=False,\n",
        "        metadata={\"help\": \"habilita o salvamento do modelo.\"},\n",
        "    )\n",
        "    salvar_avaliacao : bool = field(\n",
        "        default=True,\n",
        "        metadata={\"help\": \"habilita o salvamento do resultado da avaliação.\"},\n",
        "    )     \n",
        "    salvar_classificacao : bool = field(\n",
        "        default=False,\n",
        "        metadata={\"help\": \"habilita o salvamento da classificação.\"},\n",
        "    )\n",
        "    fold: int = field(\n",
        "        default=\"1\",\n",
        "        metadata={\"help\": \"fold a ser avaliado.\"},\n",
        "    )"
      ],
      "execution_count": null,
      "outputs": []
    },
    {
      "cell_type": "markdown",
      "metadata": {
        "id": "ksYnRk7zLGp0"
      },
      "source": [
        "Remove tags de um documento(texto)"
      ]
    },
    {
      "cell_type": "code",
      "metadata": {
        "id": "6qwKjGvyLG4v"
      },
      "source": [
        "def remove_tags(documento):\n",
        "    \"\"\"Remove tags de um documento(texto)\"\"\"\n",
        "    \n",
        "    import re\n",
        "\n",
        "    documentoLimpo = re.compile('<.*?>')\n",
        "    return re.sub(documentoLimpo, '', documento)"
      ],
      "execution_count": null,
      "outputs": []
    },
    {
      "cell_type": "markdown",
      "metadata": {
        "id": "1AbhztfwLF6u"
      },
      "source": [
        "Funções auxiliares de arquivos"
      ]
    },
    {
      "cell_type": "code",
      "metadata": {
        "id": "qPcKmSvcLFUo"
      },
      "source": [
        "# Gera um paragráfo com as linhas do arquivo especificado\n",
        "def carregar(nomeArquivo):\n",
        "    \"\"\"Carrega um arquivo texto e retorna as linhas como um único parágrafo(texto)\"\"\"\n",
        "\n",
        "    # Linha anterior    \n",
        "    arquivo = open(nomeArquivo, 'r')\n",
        "    \n",
        "    paragrafo = \"\"\n",
        "    for linha in arquivo:\n",
        "        linha = linha.splitlines()\n",
        "        linha = ' '.join(linha)\n",
        "        # Remove as tags existentes no final das linhas\n",
        "        linha = remove_tags(linha)\n",
        "        if linha != \"\":\n",
        "          paragrafo = paragrafo + linha.strip() + \" \"\n",
        "    arquivo.close()\n",
        "    # Remove os espaços em branco antes e depois do parágrafo\n",
        "    return paragrafo.strip()\n",
        "\n",
        "# Gera uma lista das linhas do arquivo especificado\n",
        "def carregarLista(nomeArquivo):\n",
        "    \"\"\"Carrega um arquivo texto e retorna as linhas como uma lista de sentenças(texto)\"\"\"\n",
        "\n",
        "    # Linha anterior    \n",
        "    arquivo = open(nomeArquivo, 'r')\n",
        "    \n",
        "    sentencas = []\n",
        "    for linha in arquivo:        \n",
        "        linha = linha.splitlines()\n",
        "        linha = ' '.join(linha)\n",
        "        linha = remove_tags(linha)\n",
        "        if linha != \"\":\n",
        "          sentencas.append(linha.strip())\n",
        "    arquivo.close()\n",
        "    return sentencas    \n",
        "\n",
        "def salvar(nomeArquivo,texto):                       \n",
        "    \"\"\"Salva um texto em um arquivo\"\"\"\n",
        "\n",
        "    arquivo = open(nomeArquivo, 'w')\n",
        "    arquivo.write(str(texto))\n",
        "    arquivo.close()"
      ],
      "execution_count": null,
      "outputs": []
    },
    {
      "cell_type": "markdown",
      "metadata": {
        "id": "iAPVtRXQqDim"
      },
      "source": [
        "## 1.3 Tratamento de logs"
      ]
    },
    {
      "cell_type": "code",
      "metadata": {
        "id": "DcopxbGZqDip"
      },
      "source": [
        "# Biblioteca de logging\n",
        "import logging\n",
        "\n",
        "# Formatando a mensagem de logging\n",
        "logging.basicConfig(format='%(asctime)s : %(levelname)s : %(message)s', level=logging.INFO)"
      ],
      "execution_count": null,
      "outputs": []
    },
    {
      "cell_type": "markdown",
      "metadata": {
        "id": "_GjYtXcMnSAe"
      },
      "source": [
        "## 1.4 Identificando o ambiente Colab"
      ]
    },
    {
      "cell_type": "code",
      "metadata": {
        "id": "YMiH0E3OnRa1"
      },
      "source": [
        "# Se estiver executando no Google Colaboratory\n",
        "import sys\n",
        "\n",
        "# Retorna true ou false se estiver no Google Colaboratory\n",
        "IN_COLAB = 'google.colab' in sys.modules"
      ],
      "execution_count": null,
      "outputs": []
    },
    {
      "cell_type": "markdown",
      "metadata": {
        "id": "rceIwWa7UmFZ"
      },
      "source": [
        "## 1.5 Biblioteca de limpeza de tela"
      ]
    },
    {
      "cell_type": "code",
      "metadata": {
        "id": "PXTEvmuhUmjO"
      },
      "source": [
        "from IPython.display import clear_output"
      ],
      "execution_count": null,
      "outputs": []
    },
    {
      "cell_type": "markdown",
      "metadata": {
        "id": "LJzK1XjCnZak"
      },
      "source": [
        "## 1.6 Conecta ao Google Drive\n",
        "\n",
        "É necessário existir a pasta '/content/drive/MyDrive/Colab Notebooks/Data/CSTNEWS/Resultados/' para receber os resutlados do notebook."
      ]
    },
    {
      "cell_type": "code",
      "metadata": {
        "colab": {
          "base_uri": "https://localhost:8080/"
        },
        "id": "Dz3RRgR-nZan",
        "outputId": "031fbaa8-688d-4014-a2bd-47d1fb9f6962"
      },
      "source": [
        "# Monta o Google Drive para esta instância de notebook.\n",
        "from google.colab import drive\n",
        "\n",
        "drive.mount('/content/drive')"
      ],
      "execution_count": null,
      "outputs": [
        {
          "output_type": "stream",
          "text": [
            "Mounted at /content/drive\n"
          ],
          "name": "stdout"
        }
      ]
    },
    {
      "cell_type": "markdown",
      "metadata": {
        "id": "u66iRrtwMrqy"
      },
      "source": [
        "## 1.7 Instalação do wandb"
      ]
    },
    {
      "cell_type": "markdown",
      "metadata": {
        "id": "dQd3BrhvMzZs"
      },
      "source": [
        "Instalação"
      ]
    },
    {
      "cell_type": "code",
      "metadata": {
        "colab": {
          "base_uri": "https://localhost:8080/"
        },
        "id": "ejzpgGrFM0-j",
        "outputId": "6fb7cbf1-dbd4-4809-9809-ec425f7e9140"
      },
      "source": [
        "!pip install --upgrade wandb"
      ],
      "execution_count": null,
      "outputs": [
        {
          "output_type": "stream",
          "text": [
            "Collecting wandb\n",
            "\u001b[?25l  Downloading https://files.pythonhosted.org/packages/98/5f/45439b4767334b868e1c8c35b1b0ba3747d8c21be77b79f09eed7aa3c72b/wandb-0.10.30-py2.py3-none-any.whl (1.8MB)\n",
            "\r\u001b[K     |▏                               | 10kB 19.2MB/s eta 0:00:01\r\u001b[K     |▍                               | 20kB 26.4MB/s eta 0:00:01\r\u001b[K     |▌                               | 30kB 20.7MB/s eta 0:00:01\r\u001b[K     |▊                               | 40kB 17.0MB/s eta 0:00:01\r\u001b[K     |█                               | 51kB 15.8MB/s eta 0:00:01\r\u001b[K     |█                               | 61kB 17.8MB/s eta 0:00:01\r\u001b[K     |█▎                              | 71kB 13.4MB/s eta 0:00:01\r\u001b[K     |█▌                              | 81kB 14.3MB/s eta 0:00:01\r\u001b[K     |█▋                              | 92kB 13.2MB/s eta 0:00:01\r\u001b[K     |█▉                              | 102kB 13.9MB/s eta 0:00:01\r\u001b[K     |██                              | 112kB 13.9MB/s eta 0:00:01\r\u001b[K     |██▏                             | 122kB 13.9MB/s eta 0:00:01\r\u001b[K     |██▍                             | 133kB 13.9MB/s eta 0:00:01\r\u001b[K     |██▌                             | 143kB 13.9MB/s eta 0:00:01\r\u001b[K     |██▊                             | 153kB 13.9MB/s eta 0:00:01\r\u001b[K     |███                             | 163kB 13.9MB/s eta 0:00:01\r\u001b[K     |███                             | 174kB 13.9MB/s eta 0:00:01\r\u001b[K     |███▎                            | 184kB 13.9MB/s eta 0:00:01\r\u001b[K     |███▍                            | 194kB 13.9MB/s eta 0:00:01\r\u001b[K     |███▋                            | 204kB 13.9MB/s eta 0:00:01\r\u001b[K     |███▉                            | 215kB 13.9MB/s eta 0:00:01\r\u001b[K     |████                            | 225kB 13.9MB/s eta 0:00:01\r\u001b[K     |████▏                           | 235kB 13.9MB/s eta 0:00:01\r\u001b[K     |████▍                           | 245kB 13.9MB/s eta 0:00:01\r\u001b[K     |████▌                           | 256kB 13.9MB/s eta 0:00:01\r\u001b[K     |████▊                           | 266kB 13.9MB/s eta 0:00:01\r\u001b[K     |█████                           | 276kB 13.9MB/s eta 0:00:01\r\u001b[K     |█████                           | 286kB 13.9MB/s eta 0:00:01\r\u001b[K     |█████▎                          | 296kB 13.9MB/s eta 0:00:01\r\u001b[K     |█████▍                          | 307kB 13.9MB/s eta 0:00:01\r\u001b[K     |█████▋                          | 317kB 13.9MB/s eta 0:00:01\r\u001b[K     |█████▉                          | 327kB 13.9MB/s eta 0:00:01\r\u001b[K     |██████                          | 337kB 13.9MB/s eta 0:00:01\r\u001b[K     |██████▏                         | 348kB 13.9MB/s eta 0:00:01\r\u001b[K     |██████▍                         | 358kB 13.9MB/s eta 0:00:01\r\u001b[K     |██████▌                         | 368kB 13.9MB/s eta 0:00:01\r\u001b[K     |██████▊                         | 378kB 13.9MB/s eta 0:00:01\r\u001b[K     |██████▉                         | 389kB 13.9MB/s eta 0:00:01\r\u001b[K     |███████                         | 399kB 13.9MB/s eta 0:00:01\r\u001b[K     |███████▎                        | 409kB 13.9MB/s eta 0:00:01\r\u001b[K     |███████▍                        | 419kB 13.9MB/s eta 0:00:01\r\u001b[K     |███████▋                        | 430kB 13.9MB/s eta 0:00:01\r\u001b[K     |███████▉                        | 440kB 13.9MB/s eta 0:00:01\r\u001b[K     |████████                        | 450kB 13.9MB/s eta 0:00:01\r\u001b[K     |████████▏                       | 460kB 13.9MB/s eta 0:00:01\r\u001b[K     |████████▍                       | 471kB 13.9MB/s eta 0:00:01\r\u001b[K     |████████▌                       | 481kB 13.9MB/s eta 0:00:01\r\u001b[K     |████████▊                       | 491kB 13.9MB/s eta 0:00:01\r\u001b[K     |████████▉                       | 501kB 13.9MB/s eta 0:00:01\r\u001b[K     |█████████                       | 512kB 13.9MB/s eta 0:00:01\r\u001b[K     |█████████▎                      | 522kB 13.9MB/s eta 0:00:01\r\u001b[K     |█████████▍                      | 532kB 13.9MB/s eta 0:00:01\r\u001b[K     |█████████▋                      | 542kB 13.9MB/s eta 0:00:01\r\u001b[K     |█████████▉                      | 552kB 13.9MB/s eta 0:00:01\r\u001b[K     |██████████                      | 563kB 13.9MB/s eta 0:00:01\r\u001b[K     |██████████▏                     | 573kB 13.9MB/s eta 0:00:01\r\u001b[K     |██████████▎                     | 583kB 13.9MB/s eta 0:00:01\r\u001b[K     |██████████▌                     | 593kB 13.9MB/s eta 0:00:01\r\u001b[K     |██████████▊                     | 604kB 13.9MB/s eta 0:00:01\r\u001b[K     |██████████▉                     | 614kB 13.9MB/s eta 0:00:01\r\u001b[K     |███████████                     | 624kB 13.9MB/s eta 0:00:01\r\u001b[K     |███████████▎                    | 634kB 13.9MB/s eta 0:00:01\r\u001b[K     |███████████▍                    | 645kB 13.9MB/s eta 0:00:01\r\u001b[K     |███████████▋                    | 655kB 13.9MB/s eta 0:00:01\r\u001b[K     |███████████▉                    | 665kB 13.9MB/s eta 0:00:01\r\u001b[K     |████████████                    | 675kB 13.9MB/s eta 0:00:01\r\u001b[K     |████████████▏                   | 686kB 13.9MB/s eta 0:00:01\r\u001b[K     |████████████▎                   | 696kB 13.9MB/s eta 0:00:01\r\u001b[K     |████████████▌                   | 706kB 13.9MB/s eta 0:00:01\r\u001b[K     |████████████▊                   | 716kB 13.9MB/s eta 0:00:01\r\u001b[K     |████████████▉                   | 727kB 13.9MB/s eta 0:00:01\r\u001b[K     |█████████████                   | 737kB 13.9MB/s eta 0:00:01\r\u001b[K     |█████████████▎                  | 747kB 13.9MB/s eta 0:00:01\r\u001b[K     |█████████████▍                  | 757kB 13.9MB/s eta 0:00:01\r\u001b[K     |█████████████▋                  | 768kB 13.9MB/s eta 0:00:01\r\u001b[K     |█████████████▊                  | 778kB 13.9MB/s eta 0:00:01\r\u001b[K     |██████████████                  | 788kB 13.9MB/s eta 0:00:01\r\u001b[K     |██████████████▏                 | 798kB 13.9MB/s eta 0:00:01\r\u001b[K     |██████████████▎                 | 808kB 13.9MB/s eta 0:00:01\r\u001b[K     |██████████████▌                 | 819kB 13.9MB/s eta 0:00:01\r\u001b[K     |██████████████▊                 | 829kB 13.9MB/s eta 0:00:01\r\u001b[K     |██████████████▉                 | 839kB 13.9MB/s eta 0:00:01\r\u001b[K     |███████████████                 | 849kB 13.9MB/s eta 0:00:01\r\u001b[K     |███████████████▎                | 860kB 13.9MB/s eta 0:00:01\r\u001b[K     |███████████████▍                | 870kB 13.9MB/s eta 0:00:01\r\u001b[K     |███████████████▋                | 880kB 13.9MB/s eta 0:00:01\r\u001b[K     |███████████████▊                | 890kB 13.9MB/s eta 0:00:01\r\u001b[K     |████████████████                | 901kB 13.9MB/s eta 0:00:01\r\u001b[K     |████████████████▏               | 911kB 13.9MB/s eta 0:00:01\r\u001b[K     |████████████████▎               | 921kB 13.9MB/s eta 0:00:01\r\u001b[K     |████████████████▌               | 931kB 13.9MB/s eta 0:00:01\r\u001b[K     |████████████████▊               | 942kB 13.9MB/s eta 0:00:01\r\u001b[K     |████████████████▉               | 952kB 13.9MB/s eta 0:00:01\r\u001b[K     |█████████████████               | 962kB 13.9MB/s eta 0:00:01\r\u001b[K     |█████████████████▏              | 972kB 13.9MB/s eta 0:00:01\r\u001b[K     |█████████████████▍              | 983kB 13.9MB/s eta 0:00:01\r\u001b[K     |█████████████████▋              | 993kB 13.9MB/s eta 0:00:01\r\u001b[K     |█████████████████▊              | 1.0MB 13.9MB/s eta 0:00:01\r\u001b[K     |██████████████████              | 1.0MB 13.9MB/s eta 0:00:01\r\u001b[K     |██████████████████▏             | 1.0MB 13.9MB/s eta 0:00:01\r\u001b[K     |██████████████████▎             | 1.0MB 13.9MB/s eta 0:00:01\r\u001b[K     |██████████████████▌             | 1.0MB 13.9MB/s eta 0:00:01\r\u001b[K     |██████████████████▊             | 1.1MB 13.9MB/s eta 0:00:01\r\u001b[K     |██████████████████▉             | 1.1MB 13.9MB/s eta 0:00:01\r\u001b[K     |███████████████████             | 1.1MB 13.9MB/s eta 0:00:01\r\u001b[K     |███████████████████▏            | 1.1MB 13.9MB/s eta 0:00:01\r\u001b[K     |███████████████████▍            | 1.1MB 13.9MB/s eta 0:00:01\r\u001b[K     |███████████████████▋            | 1.1MB 13.9MB/s eta 0:00:01\r\u001b[K     |███████████████████▊            | 1.1MB 13.9MB/s eta 0:00:01\r\u001b[K     |████████████████████            | 1.1MB 13.9MB/s eta 0:00:01\r\u001b[K     |████████████████████▏           | 1.1MB 13.9MB/s eta 0:00:01\r\u001b[K     |████████████████████▎           | 1.1MB 13.9MB/s eta 0:00:01\r\u001b[K     |████████████████████▌           | 1.2MB 13.9MB/s eta 0:00:01\r\u001b[K     |████████████████████▋           | 1.2MB 13.9MB/s eta 0:00:01\r\u001b[K     |████████████████████▉           | 1.2MB 13.9MB/s eta 0:00:01\r\u001b[K     |█████████████████████           | 1.2MB 13.9MB/s eta 0:00:01\r\u001b[K     |█████████████████████▏          | 1.2MB 13.9MB/s eta 0:00:01\r\u001b[K     |█████████████████████▍          | 1.2MB 13.9MB/s eta 0:00:01\r\u001b[K     |█████████████████████▋          | 1.2MB 13.9MB/s eta 0:00:01\r\u001b[K     |█████████████████████▊          | 1.2MB 13.9MB/s eta 0:00:01\r\u001b[K     |██████████████████████          | 1.2MB 13.9MB/s eta 0:00:01\r\u001b[K     |██████████████████████▏         | 1.2MB 13.9MB/s eta 0:00:01\r\u001b[K     |██████████████████████▎         | 1.3MB 13.9MB/s eta 0:00:01\r\u001b[K     |██████████████████████▌         | 1.3MB 13.9MB/s eta 0:00:01\r\u001b[K     |██████████████████████▋         | 1.3MB 13.9MB/s eta 0:00:01\r\u001b[K     |██████████████████████▉         | 1.3MB 13.9MB/s eta 0:00:01\r\u001b[K     |███████████████████████         | 1.3MB 13.9MB/s eta 0:00:01\r\u001b[K     |███████████████████████▏        | 1.3MB 13.9MB/s eta 0:00:01\r\u001b[K     |███████████████████████▍        | 1.3MB 13.9MB/s eta 0:00:01\r\u001b[K     |███████████████████████▋        | 1.3MB 13.9MB/s eta 0:00:01\r\u001b[K     |███████████████████████▊        | 1.3MB 13.9MB/s eta 0:00:01\r\u001b[K     |████████████████████████        | 1.4MB 13.9MB/s eta 0:00:01\r\u001b[K     |████████████████████████        | 1.4MB 13.9MB/s eta 0:00:01\r\u001b[K     |████████████████████████▎       | 1.4MB 13.9MB/s eta 0:00:01\r\u001b[K     |████████████████████████▌       | 1.4MB 13.9MB/s eta 0:00:01\r\u001b[K     |████████████████████████▋       | 1.4MB 13.9MB/s eta 0:00:01\r\u001b[K     |████████████████████████▉       | 1.4MB 13.9MB/s eta 0:00:01\r\u001b[K     |█████████████████████████       | 1.4MB 13.9MB/s eta 0:00:01\r\u001b[K     |█████████████████████████▏      | 1.4MB 13.9MB/s eta 0:00:01\r\u001b[K     |█████████████████████████▍      | 1.4MB 13.9MB/s eta 0:00:01\r\u001b[K     |█████████████████████████▋      | 1.4MB 13.9MB/s eta 0:00:01\r\u001b[K     |█████████████████████████▊      | 1.5MB 13.9MB/s eta 0:00:01\r\u001b[K     |██████████████████████████      | 1.5MB 13.9MB/s eta 0:00:01\r\u001b[K     |██████████████████████████      | 1.5MB 13.9MB/s eta 0:00:01\r\u001b[K     |██████████████████████████▎     | 1.5MB 13.9MB/s eta 0:00:01\r\u001b[K     |██████████████████████████▌     | 1.5MB 13.9MB/s eta 0:00:01\r\u001b[K     |██████████████████████████▋     | 1.5MB 13.9MB/s eta 0:00:01\r\u001b[K     |██████████████████████████▉     | 1.5MB 13.9MB/s eta 0:00:01\r\u001b[K     |███████████████████████████     | 1.5MB 13.9MB/s eta 0:00:01\r\u001b[K     |███████████████████████████▏    | 1.5MB 13.9MB/s eta 0:00:01\r\u001b[K     |███████████████████████████▍    | 1.5MB 13.9MB/s eta 0:00:01\r\u001b[K     |███████████████████████████▌    | 1.6MB 13.9MB/s eta 0:00:01\r\u001b[K     |███████████████████████████▊    | 1.6MB 13.9MB/s eta 0:00:01\r\u001b[K     |████████████████████████████    | 1.6MB 13.9MB/s eta 0:00:01\r\u001b[K     |████████████████████████████    | 1.6MB 13.9MB/s eta 0:00:01\r\u001b[K     |████████████████████████████▎   | 1.6MB 13.9MB/s eta 0:00:01\r\u001b[K     |████████████████████████████▌   | 1.6MB 13.9MB/s eta 0:00:01\r\u001b[K     |████████████████████████████▋   | 1.6MB 13.9MB/s eta 0:00:01\r\u001b[K     |████████████████████████████▉   | 1.6MB 13.9MB/s eta 0:00:01\r\u001b[K     |█████████████████████████████   | 1.6MB 13.9MB/s eta 0:00:01\r\u001b[K     |█████████████████████████████▏  | 1.6MB 13.9MB/s eta 0:00:01\r\u001b[K     |█████████████████████████████▍  | 1.7MB 13.9MB/s eta 0:00:01\r\u001b[K     |█████████████████████████████▌  | 1.7MB 13.9MB/s eta 0:00:01\r\u001b[K     |█████████████████████████████▊  | 1.7MB 13.9MB/s eta 0:00:01\r\u001b[K     |██████████████████████████████  | 1.7MB 13.9MB/s eta 0:00:01\r\u001b[K     |██████████████████████████████  | 1.7MB 13.9MB/s eta 0:00:01\r\u001b[K     |██████████████████████████████▎ | 1.7MB 13.9MB/s eta 0:00:01\r\u001b[K     |██████████████████████████████▌ | 1.7MB 13.9MB/s eta 0:00:01\r\u001b[K     |██████████████████████████████▋ | 1.7MB 13.9MB/s eta 0:00:01\r\u001b[K     |██████████████████████████████▉ | 1.7MB 13.9MB/s eta 0:00:01\r\u001b[K     |███████████████████████████████ | 1.8MB 13.9MB/s eta 0:00:01\r\u001b[K     |███████████████████████████████▏| 1.8MB 13.9MB/s eta 0:00:01\r\u001b[K     |███████████████████████████████▍| 1.8MB 13.9MB/s eta 0:00:01\r\u001b[K     |███████████████████████████████▌| 1.8MB 13.9MB/s eta 0:00:01\r\u001b[K     |███████████████████████████████▊| 1.8MB 13.9MB/s eta 0:00:01\r\u001b[K     |████████████████████████████████| 1.8MB 13.9MB/s eta 0:00:01\r\u001b[K     |████████████████████████████████| 1.8MB 13.9MB/s \n",
            "\u001b[?25hCollecting shortuuid>=0.5.0\n",
            "  Downloading https://files.pythonhosted.org/packages/25/a6/2ecc1daa6a304e7f1b216f0896b26156b78e7c38e1211e9b798b4716c53d/shortuuid-1.0.1-py3-none-any.whl\n",
            "Requirement already satisfied, skipping upgrade: PyYAML in /usr/local/lib/python3.7/dist-packages (from wandb) (3.13)\n",
            "Requirement already satisfied, skipping upgrade: Click>=7.0 in /usr/local/lib/python3.7/dist-packages (from wandb) (8.0.0)\n",
            "Requirement already satisfied, skipping upgrade: python-dateutil>=2.6.1 in /usr/local/lib/python3.7/dist-packages (from wandb) (2.8.1)\n",
            "Collecting pathtools\n",
            "  Downloading https://files.pythonhosted.org/packages/e7/7f/470d6fcdf23f9f3518f6b0b76be9df16dcc8630ad409947f8be2eb0ed13a/pathtools-0.1.2.tar.gz\n",
            "Requirement already satisfied, skipping upgrade: psutil>=5.0.0 in /usr/local/lib/python3.7/dist-packages (from wandb) (5.4.8)\n",
            "Requirement already satisfied, skipping upgrade: protobuf>=3.12.0 in /usr/local/lib/python3.7/dist-packages (from wandb) (3.12.4)\n",
            "Collecting sentry-sdk>=0.4.0\n",
            "\u001b[?25l  Downloading https://files.pythonhosted.org/packages/1c/4a/a54b254f67d8f4052338d54ebe90126f200693440a93ef76d254d581e3ec/sentry_sdk-1.1.0-py2.py3-none-any.whl (131kB)\n",
            "\u001b[K     |████████████████████████████████| 133kB 38.8MB/s \n",
            "\u001b[?25hCollecting docker-pycreds>=0.4.0\n",
            "  Downloading https://files.pythonhosted.org/packages/f5/e8/f6bd1eee09314e7e6dee49cbe2c5e22314ccdb38db16c9fc72d2fa80d054/docker_pycreds-0.4.0-py2.py3-none-any.whl\n",
            "Requirement already satisfied, skipping upgrade: requests<3,>=2.0.0 in /usr/local/lib/python3.7/dist-packages (from wandb) (2.23.0)\n",
            "Collecting subprocess32>=3.5.3\n",
            "\u001b[?25l  Downloading https://files.pythonhosted.org/packages/32/c8/564be4d12629b912ea431f1a50eb8b3b9d00f1a0b1ceff17f266be190007/subprocess32-3.5.4.tar.gz (97kB)\n",
            "\u001b[K     |████████████████████████████████| 102kB 13.3MB/s \n",
            "\u001b[?25hRequirement already satisfied, skipping upgrade: promise<3,>=2.0 in /usr/local/lib/python3.7/dist-packages (from wandb) (2.3)\n",
            "Collecting configparser>=3.8.1\n",
            "  Downloading https://files.pythonhosted.org/packages/fd/01/ff260a18caaf4457eb028c96eeb405c4a230ca06c8ec9c1379f813caa52e/configparser-5.0.2-py3-none-any.whl\n",
            "Collecting GitPython>=1.0.0\n",
            "\u001b[?25l  Downloading https://files.pythonhosted.org/packages/27/da/6f6224fdfc47dab57881fe20c0d1bc3122be290198ba0bf26a953a045d92/GitPython-3.1.17-py3-none-any.whl (166kB)\n",
            "\u001b[K     |████████████████████████████████| 174kB 53.4MB/s \n",
            "\u001b[?25hRequirement already satisfied, skipping upgrade: six>=1.13.0 in /usr/local/lib/python3.7/dist-packages (from wandb) (1.15.0)\n",
            "Requirement already satisfied, skipping upgrade: setuptools in /usr/local/lib/python3.7/dist-packages (from protobuf>=3.12.0->wandb) (56.1.0)\n",
            "Requirement already satisfied, skipping upgrade: certifi in /usr/local/lib/python3.7/dist-packages (from sentry-sdk>=0.4.0->wandb) (2020.12.5)\n",
            "Requirement already satisfied, skipping upgrade: urllib3>=1.10.0 in /usr/local/lib/python3.7/dist-packages (from sentry-sdk>=0.4.0->wandb) (1.24.3)\n",
            "Requirement already satisfied, skipping upgrade: idna<3,>=2.5 in /usr/local/lib/python3.7/dist-packages (from requests<3,>=2.0.0->wandb) (2.10)\n",
            "Requirement already satisfied, skipping upgrade: chardet<4,>=3.0.2 in /usr/local/lib/python3.7/dist-packages (from requests<3,>=2.0.0->wandb) (3.0.4)\n",
            "Collecting gitdb<5,>=4.0.1\n",
            "\u001b[?25l  Downloading https://files.pythonhosted.org/packages/ea/e8/f414d1a4f0bbc668ed441f74f44c116d9816833a48bf81d22b697090dba8/gitdb-4.0.7-py3-none-any.whl (63kB)\n",
            "\u001b[K     |████████████████████████████████| 71kB 11.2MB/s \n",
            "\u001b[?25hRequirement already satisfied, skipping upgrade: typing-extensions>=3.7.4.0; python_version < \"3.8\" in /usr/local/lib/python3.7/dist-packages (from GitPython>=1.0.0->wandb) (3.7.4.3)\n",
            "Collecting smmap<5,>=3.0.1\n",
            "  Downloading https://files.pythonhosted.org/packages/68/ee/d540eb5e5996eb81c26ceffac6ee49041d473bc5125f2aa995cf51ec1cf1/smmap-4.0.0-py2.py3-none-any.whl\n",
            "Building wheels for collected packages: pathtools, subprocess32\n",
            "  Building wheel for pathtools (setup.py) ... \u001b[?25l\u001b[?25hdone\n",
            "  Created wheel for pathtools: filename=pathtools-0.1.2-cp37-none-any.whl size=8786 sha256=83ee1c57b004b6a5ddd6fdf6dfc5d9bf0d56eae942a8a5d48aa82ae9917ce342\n",
            "  Stored in directory: /root/.cache/pip/wheels/0b/04/79/c3b0c3a0266a3cb4376da31e5bfe8bba0c489246968a68e843\n",
            "  Building wheel for subprocess32 (setup.py) ... \u001b[?25l\u001b[?25hdone\n",
            "  Created wheel for subprocess32: filename=subprocess32-3.5.4-cp37-none-any.whl size=6489 sha256=7667c6e27521560b7ec94eb9313d05722654e040c03dc031a4527a9afa3da7f5\n",
            "  Stored in directory: /root/.cache/pip/wheels/68/39/1a/5e402bdfdf004af1786c8b853fd92f8c4a04f22aad179654d1\n",
            "Successfully built pathtools subprocess32\n",
            "Installing collected packages: shortuuid, pathtools, sentry-sdk, docker-pycreds, subprocess32, configparser, smmap, gitdb, GitPython, wandb\n",
            "Successfully installed GitPython-3.1.17 configparser-5.0.2 docker-pycreds-0.4.0 gitdb-4.0.7 pathtools-0.1.2 sentry-sdk-1.1.0 shortuuid-1.0.1 smmap-4.0.0 subprocess32-3.5.4 wandb-0.10.30\n"
          ],
          "name": "stdout"
        }
      ]
    },
    {
      "cell_type": "markdown",
      "metadata": {
        "id": "Pqa-7WXBAw8q"
      },
      "source": [
        "## 1.8 Instalação BERT da Hugging Face"
      ]
    },
    {
      "cell_type": "markdown",
      "metadata": {
        "id": "eCdqJCtQN52l"
      },
      "source": [
        "Instala a interface pytorch para o BERT by Hugging Face. "
      ]
    },
    {
      "cell_type": "code",
      "metadata": {
        "colab": {
          "base_uri": "https://localhost:8080/"
        },
        "id": "1RfUN_KolV-f",
        "outputId": "069290ab-3aaa-4065-ad9a-9f9f3817307f"
      },
      "source": [
        "!pip install -U transformers==4.5.1"
      ],
      "execution_count": null,
      "outputs": [
        {
          "output_type": "stream",
          "text": [
            "Collecting transformers==4.5.1\n",
            "\u001b[?25l  Downloading https://files.pythonhosted.org/packages/d8/b2/57495b5309f09fa501866e225c84532d1fd89536ea62406b2181933fb418/transformers-4.5.1-py3-none-any.whl (2.1MB)\n",
            "\u001b[K     |████████████████████████████████| 2.1MB 14.1MB/s \n",
            "\u001b[?25hRequirement already satisfied, skipping upgrade: importlib-metadata; python_version < \"3.8\" in /usr/local/lib/python3.7/dist-packages (from transformers==4.5.1) (4.0.1)\n",
            "Collecting sacremoses\n",
            "\u001b[?25l  Downloading https://files.pythonhosted.org/packages/75/ee/67241dc87f266093c533a2d4d3d69438e57d7a90abb216fa076e7d475d4a/sacremoses-0.0.45-py3-none-any.whl (895kB)\n",
            "\u001b[K     |████████████████████████████████| 901kB 54.5MB/s \n",
            "\u001b[?25hRequirement already satisfied, skipping upgrade: regex!=2019.12.17 in /usr/local/lib/python3.7/dist-packages (from transformers==4.5.1) (2019.12.20)\n",
            "Collecting tokenizers<0.11,>=0.10.1\n",
            "\u001b[?25l  Downloading https://files.pythonhosted.org/packages/ae/04/5b870f26a858552025a62f1649c20d29d2672c02ff3c3fb4c688ca46467a/tokenizers-0.10.2-cp37-cp37m-manylinux2010_x86_64.whl (3.3MB)\n",
            "\u001b[K     |████████████████████████████████| 3.3MB 46.9MB/s \n",
            "\u001b[?25hRequirement already satisfied, skipping upgrade: tqdm>=4.27 in /usr/local/lib/python3.7/dist-packages (from transformers==4.5.1) (4.41.1)\n",
            "Requirement already satisfied, skipping upgrade: numpy>=1.17 in /usr/local/lib/python3.7/dist-packages (from transformers==4.5.1) (1.19.5)\n",
            "Requirement already satisfied, skipping upgrade: filelock in /usr/local/lib/python3.7/dist-packages (from transformers==4.5.1) (3.0.12)\n",
            "Requirement already satisfied, skipping upgrade: packaging in /usr/local/lib/python3.7/dist-packages (from transformers==4.5.1) (20.9)\n",
            "Requirement already satisfied, skipping upgrade: requests in /usr/local/lib/python3.7/dist-packages (from transformers==4.5.1) (2.23.0)\n",
            "Requirement already satisfied, skipping upgrade: zipp>=0.5 in /usr/local/lib/python3.7/dist-packages (from importlib-metadata; python_version < \"3.8\"->transformers==4.5.1) (3.4.1)\n",
            "Requirement already satisfied, skipping upgrade: typing-extensions>=3.6.4; python_version < \"3.8\" in /usr/local/lib/python3.7/dist-packages (from importlib-metadata; python_version < \"3.8\"->transformers==4.5.1) (3.7.4.3)\n",
            "Requirement already satisfied, skipping upgrade: joblib in /usr/local/lib/python3.7/dist-packages (from sacremoses->transformers==4.5.1) (1.0.1)\n",
            "Requirement already satisfied, skipping upgrade: six in /usr/local/lib/python3.7/dist-packages (from sacremoses->transformers==4.5.1) (1.15.0)\n",
            "Requirement already satisfied, skipping upgrade: click in /usr/local/lib/python3.7/dist-packages (from sacremoses->transformers==4.5.1) (8.0.0)\n",
            "Requirement already satisfied, skipping upgrade: pyparsing>=2.0.2 in /usr/local/lib/python3.7/dist-packages (from packaging->transformers==4.5.1) (2.4.7)\n",
            "Requirement already satisfied, skipping upgrade: idna<3,>=2.5 in /usr/local/lib/python3.7/dist-packages (from requests->transformers==4.5.1) (2.10)\n",
            "Requirement already satisfied, skipping upgrade: chardet<4,>=3.0.2 in /usr/local/lib/python3.7/dist-packages (from requests->transformers==4.5.1) (3.0.4)\n",
            "Requirement already satisfied, skipping upgrade: urllib3!=1.25.0,!=1.25.1,<1.26,>=1.21.1 in /usr/local/lib/python3.7/dist-packages (from requests->transformers==4.5.1) (1.24.3)\n",
            "Requirement already satisfied, skipping upgrade: certifi>=2017.4.17 in /usr/local/lib/python3.7/dist-packages (from requests->transformers==4.5.1) (2020.12.5)\n",
            "Installing collected packages: sacremoses, tokenizers, transformers\n",
            "Successfully installed sacremoses-0.0.45 tokenizers-0.10.2 transformers-4.5.1\n"
          ],
          "name": "stdout"
        }
      ]
    },
    {
      "cell_type": "markdown",
      "metadata": {
        "id": "RinFHFesVKis"
      },
      "source": [
        "## 1.9 Colaboratory"
      ]
    },
    {
      "cell_type": "markdown",
      "metadata": {
        "id": "MPngEboiVbfi"
      },
      "source": [
        "Usando Colab GPU para Treinamento\n"
      ]
    },
    {
      "cell_type": "markdown",
      "metadata": {
        "id": "EjWE6WlvVbfj"
      },
      "source": [
        "Uma GPU pode ser adicionada acessando o menu e selecionando:\n",
        "\n",
        "`Edit -> Notebook Settings -> Hardware accelerator -> (GPU)`\n",
        "\n",
        "Em seguida, execute a célula a seguir para confirmar que a GPU foi detectada."
      ]
    },
    {
      "cell_type": "code",
      "metadata": {
        "colab": {
          "base_uri": "https://localhost:8080/"
        },
        "id": "vtaYZmc3Vbfj",
        "outputId": "9d87ff53-7f7e-4fe2-cd96-369e3fe4feae"
      },
      "source": [
        "# Importando a biblioteca\n",
        "import tensorflow as tf\n",
        "\n",
        "# Recupera o nome do dispositido da GPU.\n",
        "device_name = tf.test.gpu_device_name()\n",
        "\n",
        "# O nome do dispositivo deve ser parecido com o seguinte:\n",
        "if device_name == '/device:GPU:0':\n",
        "    print('Encontrei GPU em: {}'.format(device_name))\n",
        "else:\n",
        "    print('Dispositivo GPU não encontrado')\n",
        "    #raise SystemError('Dispositivo GPU não encontrado')"
      ],
      "execution_count": null,
      "outputs": [
        {
          "output_type": "stream",
          "text": [
            "Encontrei GPU em: /device:GPU:0\n"
          ],
          "name": "stdout"
        }
      ]
    },
    {
      "cell_type": "markdown",
      "metadata": {
        "id": "iYRrUo2XWa8G"
      },
      "source": [
        "Nome da GPU\n",
        "\n",
        "Para que a torch use a GPU, precisamos identificar e especificar a GPU como o dispositivo. Posteriormente, em nosso ciclo de treinamento, carregaremos dados no dispositivo.\n",
        "\n",
        "Vale a pena observar qual GPU você recebeu. A GPU Tesla V100 é muito mais rápido que as outras GPUs, abaixo uma lista ordenada:\n",
        "- 1o Tesla V100-SXM2-16GB(Pro)\n",
        "- 2o Tesla P100-PCIE-16GB\n",
        "- 3o Tesla T4\n",
        "- 4o Tesla P4 (Não tem memória para execução 4 lotes de treino x 8 lotes de avaliação, somente 2 x 4)\n",
        "- 5o Tesla K80 (Não tem memória para execução 4 lotes de treino x 8 lotes de avaliação, somente 2 x 4)"
      ]
    },
    {
      "cell_type": "code",
      "metadata": {
        "id": "zrjqDO6nWa8J",
        "colab": {
          "base_uri": "https://localhost:8080/"
        },
        "outputId": "82f78c35-ef8e-47ba-8239-9569aff25d81"
      },
      "source": [
        "# Importando a biblioteca\n",
        "import torch\n",
        "\n",
        "# Se existe GPU disponível...\n",
        "if torch.cuda.is_available():    \n",
        "\n",
        "    # Diz ao PyTorch para usar GPU.    \n",
        "    device = torch.device(\"cuda\")\n",
        "\n",
        "    print('Existem {} GPU(s) disponíveis.'.format(torch.cuda.device_count()))\n",
        "\n",
        "    print('Iremos usar a GPU: {}'.format(torch.cuda.get_device_name(0)))\n",
        "\n",
        "# Se não...\n",
        "else:\n",
        "    print('Sem GPU disponível, usando CPU.')\n",
        "    device = torch.device(\"cpu\")"
      ],
      "execution_count": null,
      "outputs": [
        {
          "output_type": "stream",
          "text": [
            "Existem 1 GPU(s) disponíveis.\n",
            "Iremos usar a GPU: Tesla P100-PCIE-16GB\n"
          ],
          "name": "stdout"
        }
      ]
    },
    {
      "cell_type": "markdown",
      "metadata": {
        "id": "fGf59D0yVNx9"
      },
      "source": [
        "Memória\n",
        "\n",
        "Memória disponível no ambiente"
      ]
    },
    {
      "cell_type": "code",
      "metadata": {
        "colab": {
          "base_uri": "https://localhost:8080/"
        },
        "id": "1iC5-pSAVh7_",
        "outputId": "e36f6d08-c362-4537-e610-8b58fff3f6b2"
      },
      "source": [
        "# Importando as bibliotecas.\n",
        "from psutil import virtual_memory\n",
        "\n",
        "ram_gb = virtual_memory().total / 1e9\n",
        "print('Seu ambiente de execução tem {: .1f} gigabytes de RAM disponível\\n'.format(ram_gb))\n",
        "\n",
        "if ram_gb < 20:\n",
        "  print('Para habilitar um tempo de execução de RAM alta, selecione menu o ambiente de execução> \"Alterar tipo de tempo de execução\"')\n",
        "  print('e selecione High-RAM. Então, execute novamente está célula')\n",
        "else:\n",
        "  print('Você está usando um ambiente de execução de memória RAM alta!')"
      ],
      "execution_count": null,
      "outputs": [
        {
          "output_type": "stream",
          "text": [
            "Seu ambiente de execução tem  13.6 gigabytes de RAM disponível\n",
            "\n",
            "Para habilitar um tempo de execução de RAM alta, selecione menu o ambiente de execução> \"Alterar tipo de tempo de execução\"\n",
            "e selecione High-RAM. Então, execute novamente está célula\n"
          ],
          "name": "stdout"
        }
      ]
    },
    {
      "cell_type": "markdown",
      "metadata": {
        "id": "8bGda5JgMtQe"
      },
      "source": [
        "# 2 Parametrização"
      ]
    },
    {
      "cell_type": "code",
      "metadata": {
        "id": "oJ15-ylRRRdD"
      },
      "source": [
        "# Importando as bibliotecas.\n",
        "from transformers import TrainingArguments\n",
        "\n",
        "# Definição dos parâmetros de Treinamento.\n",
        "training_args = TrainingArguments(\n",
        "    # AjusteFinoCSTNews_v1_C_SB_KF = nome do notebook\n",
        "    # E = número de épocas\n",
        "    # lr = taxa de aprendizagem\n",
        "    # b = lotes de treino e avaliação\n",
        "    # f = número do fold\n",
        "    output_dir = 'AjusteFinoCSTNews_v1_C_SB_KF_E_4_lr_5_b_4_8_f',    \n",
        "    save_steps = 0,    \n",
        "    seed = 42,\n",
        "    num_train_epochs = 4, # Intervalo de valores: 2, 3, 4\n",
        "    learning_rate = 5e-5, # Intervalo de valores: 1e-5, 2e-5, 3e-5, 4e-5, 5e-5 \n",
        "    gradient_accumulation_steps = 1,\n",
        "    per_device_train_batch_size = 4, \n",
        "    per_device_eval_batch_size = 8,        \n",
        "    evaluation_strategy = 'epoch'\n",
        ")\n",
        "\n",
        "# Definição dos parâmetros do Modelo.\n",
        "model_args = ModelArguments(     \n",
        "    max_seq_len = 512,\n",
        "    pretrained_model_name_or_path = \"https://neuralmind-ai.s3.us-east-2.amazonaws.com/nlp/bert-large-portuguese-cased/bert-large-portuguese-cased_pytorch_checkpoint.zip\",\n",
        "    #pretrained_model_name_or_path = \"https://neuralmind-ai.s3.us-east-2.amazonaws.com/nlp/bert-base-portuguese-cased/bert-base-portuguese-cased_pytorch_checkpoint.zip\",    \n",
        "    #pretrained_model_name_or_path = 'bert-base-multilingual-cased',\n",
        "    do_lower_case = False,   # default True\n",
        "    num_labels = 2,\n",
        "    output_attentions = False,    # default False\n",
        "    output_hidden_states = False, # default False \n",
        "    optimizer = 'AdamW',\n",
        "    use_wandb = True,\n",
        "    salvar_modelo_wandb = False,\n",
        "    salvar_modelo = False,\n",
        "    salvar_avaliacao = True, # Salva o resultado classificações\n",
        "    salvar_classificacao = True, # Salva o resultado da avaliação das classificações\n",
        "    fold = 1 # Intervalo de valores: 1 a 10, É utilizado somente para logs. Use as variáveis das últimas linhas de bloco para definir um intervalo.\n",
        ")\n",
        "\n",
        "# Determina o intervalo de folds a ser avaliado\n",
        "inicioFold = 1\n",
        "fimFold = 10"
      ],
      "execution_count": null,
      "outputs": []
    },
    {
      "cell_type": "code",
      "metadata": {
        "id": "he244EnGnqT4"
      },
      "source": [
        "# Verifica o nome do modelo BERT a ser utilizado\n",
        "MODELO_BERT = 'SEM_MODELO_BERT'\n",
        "if 'neuralmind' in model_args.pretrained_model_name_or_path:\n",
        "  MODELO_BERT = '_BERTimbau'\n",
        "else:\n",
        "  if 'multilingual' in model_args.pretrained_model_name_or_path:\n",
        "    MODELO_BERT = '_BERTmultilingual'\n",
        "\n",
        "# Verifica o tamanho do modelo(default large)\n",
        "TAMANHO_BERT = '_large'\n",
        "if 'base' in model_args.pretrained_model_name_or_path:\n",
        "  TAMANHO_BERT = '_base'"
      ],
      "execution_count": null,
      "outputs": []
    },
    {
      "cell_type": "markdown",
      "metadata": {
        "id": "Gk9I_DX5coOI"
      },
      "source": [
        "# 3 BERT"
      ]
    },
    {
      "cell_type": "markdown",
      "metadata": {
        "id": "uQj2wmKDpkrH"
      },
      "source": [
        "## 3.1 Arquivo do PyTorch Checkpoint\n",
        "\n",
        "Lista de modelos da comunidade:\n",
        "* https://huggingface.co/models\n",
        "\n",
        "Português(https://github.com/neuralmind-ai/portuguese-bert):  \n",
        "* **'neuralmind/bert-base-portuguese-cased'**\n",
        "* **'neuralmind/bert-large-portuguese-cased'**"
      ]
    },
    {
      "cell_type": "markdown",
      "metadata": {
        "id": "s88stcJRwbhW"
      },
      "source": [
        "### Função download modelo"
      ]
    },
    {
      "cell_type": "code",
      "metadata": {
        "id": "ajrTjZzapkrK"
      },
      "source": [
        "def downloadModelo(MODELO):\n",
        "  # Importando as bibliotecas.\n",
        "  import os\n",
        "\n",
        "  # Variável para setar o arquivo.\n",
        "  URL_MODELO = None\n",
        "\n",
        "  if 'http' in MODELO:\n",
        "    URL_MODELO = MODELO\n",
        "\n",
        "  # Se a variável foi setada.\n",
        "  if URL_MODELO:\n",
        "\n",
        "    # Diretório descompactação.\n",
        "    DIRETORIO_MODELO = '/content/modelo'\n",
        "\n",
        "    # Recupera o nome do arquivo do modelo da url.\n",
        "    arquivo = URL_MODELO.split(\"/\")[-1]\n",
        "\n",
        "    # Nome do arquivo do vocabulário.\n",
        "    arquivo_vocab = \"vocab.txt\"\n",
        "\n",
        "    # Caminho do arquivo na url.\n",
        "    caminho = URL_MODELO[0:len(URL_MODELO)-len(arquivo)]\n",
        "\n",
        "     # Verifica se a pasta de descompactação existe na pasta corrente\n",
        "    if os.path.exists(DIRETORIO_MODELO):\n",
        "      print(\"Apagando diretório existente do modelo!\")\n",
        "      # Apaga a pasta e os arquivos existentes\n",
        "      !rm -rf $DIRETORIO_MODELO  \n",
        "   \n",
        "    # Baixa o arquivo do modelo.\n",
        "    !wget $URL_MODELO\n",
        "    \n",
        "    # Descompacta o arquivo na pasta de descompactação.\n",
        "    !unzip -o $arquivo -d $DIRETORIO_MODELO\n",
        "\n",
        "    # Baixa o arquivo do vocabulário.\n",
        "    # O vocabulário não está no arquivo compactado acima, mesma url mas arquivo diferente.\n",
        "    URL_MODELO_VOCAB = caminho + arquivo_vocab\n",
        "    !wget $URL_MODELO_VOCAB\n",
        "    \n",
        "    # Coloca o arquivo do vocabulário no diretório de descompactação.\n",
        "    !mv $arquivo_vocab $DIRETORIO_MODELO\n",
        "            \n",
        "    # Move o arquivo para pasta de descompactação\n",
        "    !mv $arquivo $DIRETORIO_MODELO\n",
        "       \n",
        "    print('Pasta do {} pronta!'.format(DIRETORIO_MODELO))\n",
        "    \n",
        "    # Lista a pasta corrente.\n",
        "    !ls -la $DIRETORIO_MODELO\n",
        "  else:\n",
        "    print('Variável URL_MODELO não setada!')"
      ],
      "execution_count": null,
      "outputs": []
    },
    {
      "cell_type": "markdown",
      "metadata": {
        "id": "n0AFEvj8wee_"
      },
      "source": [
        "### Download do modelo"
      ]
    },
    {
      "cell_type": "code",
      "metadata": {
        "colab": {
          "base_uri": "https://localhost:8080/"
        },
        "id": "mP2IQKH5wepm",
        "outputId": "85e2353b-efc4-48f8-88b0-df634abe85ab"
      },
      "source": [
        "downloadModelo(model_args.pretrained_model_name_or_path)"
      ],
      "execution_count": null,
      "outputs": [
        {
          "output_type": "stream",
          "text": [
            "--2021-05-24 14:41:26--  https://neuralmind-ai.s3.us-east-2.amazonaws.com/nlp/bert-large-portuguese-cased/bert-large-portuguese-cased_pytorch_checkpoint.zip\n",
            "Resolving neuralmind-ai.s3.us-east-2.amazonaws.com (neuralmind-ai.s3.us-east-2.amazonaws.com)... 52.219.102.2\n",
            "Connecting to neuralmind-ai.s3.us-east-2.amazonaws.com (neuralmind-ai.s3.us-east-2.amazonaws.com)|52.219.102.2|:443... connected.\n",
            "HTTP request sent, awaiting response... 200 OK\n",
            "Length: 1244275810 (1.2G) [application/zip]\n",
            "Saving to: ‘bert-large-portuguese-cased_pytorch_checkpoint.zip’\n",
            "\n",
            "bert-large-portugue 100%[===================>]   1.16G  30.8MB/s    in 39s     \n",
            "\n",
            "2021-05-24 14:42:05 (30.2 MB/s) - ‘bert-large-portuguese-cased_pytorch_checkpoint.zip’ saved [1244275810/1244275810]\n",
            "\n",
            "Archive:  bert-large-portuguese-cased_pytorch_checkpoint.zip\n",
            "  inflating: /content/modelo/config.json  \n",
            "  inflating: /content/modelo/pytorch_model.bin  \n",
            "--2021-05-24 14:42:18--  https://neuralmind-ai.s3.us-east-2.amazonaws.com/nlp/bert-large-portuguese-cased/vocab.txt\n",
            "Resolving neuralmind-ai.s3.us-east-2.amazonaws.com (neuralmind-ai.s3.us-east-2.amazonaws.com)... 52.219.105.98\n",
            "Connecting to neuralmind-ai.s3.us-east-2.amazonaws.com (neuralmind-ai.s3.us-east-2.amazonaws.com)|52.219.105.98|:443... connected.\n",
            "HTTP request sent, awaiting response... 200 OK\n",
            "Length: 209528 (205K) [text/plain]\n",
            "Saving to: ‘vocab.txt’\n",
            "\n",
            "vocab.txt           100%[===================>] 204.62K   718KB/s    in 0.3s    \n",
            "\n",
            "2021-05-24 14:42:18 (718 KB/s) - ‘vocab.txt’ saved [209528/209528]\n",
            "\n",
            "Pasta do /content/modelo pronta!\n",
            "total 2525908\n",
            "drwxr-xr-x 2 root root       4096 May 24 14:42 .\n",
            "drwxr-xr-x 1 root root       4096 May 24 14:42 ..\n",
            "-rw-r--r-- 1 root root 1244275810 Jan 22  2020 bert-large-portuguese-cased_pytorch_checkpoint.zip\n",
            "-rw-rw-r-- 1 root root        874 Jan 12  2020 config.json\n",
            "-rw-rw-r-- 1 root root 1342014951 Jan 12  2020 pytorch_model.bin\n",
            "-rw-r--r-- 1 root root     209528 Jan 21  2020 vocab.txt\n"
          ],
          "name": "stdout"
        }
      ]
    },
    {
      "cell_type": "markdown",
      "metadata": {
        "id": "Bcpd9t9PpkrX"
      },
      "source": [
        "## 3.2 Tokenizador(tokenizer) BERT\n",
        "\n",
        "O tokenizador utiliza WordPiece, veja em [artigo original](https://arxiv.org/pdf/1609.08144.pdf).\n",
        "\n",
        "Carregando o tokenizador da pasta '/content/modelo/' do diretório padrão se variável `URL_MODELO` setada.\n",
        "\n",
        "**Caso contrário carrega da comunidade**\n",
        "\n",
        "Por default(`do_lower_case=True`) todas as letras são colocadas para minúsculas. Para ignorar a conversão para minúsculo use o parâmetro `do_lower_case=False`. Esta opção também considera as letras acentuadas(ãçéí...), que são necessárias a língua portuguesa.\n",
        "\n",
        "O parâmetro `do_lower_case` interfere na quantidade tokens a ser gerado apartir de um texto. Quando igual a `False` reduz a quantidade de tokens gerados."
      ]
    },
    {
      "cell_type": "markdown",
      "metadata": {
        "id": "JeUi177TwUmW"
      },
      "source": [
        "### Função carrega tokenizador"
      ]
    },
    {
      "cell_type": "code",
      "metadata": {
        "id": "Z8cKVs4fpkrY"
      },
      "source": [
        "def carregaTokenizador(MODELO):\n",
        "  # Importando as bibliotecas do tokenizador.\n",
        "  from transformers import BertTokenizer\n",
        "\n",
        "  # Variável para setar o arquivo.\n",
        "  URL_MODELO = None\n",
        "\n",
        "  if 'http' in MODELO:\n",
        "    URL_MODELO = MODELO\n",
        "\n",
        "  # Se a variável URL_MODELO foi setada.\n",
        "  if URL_MODELO:\n",
        "\n",
        "    # Diretório descompactação.\n",
        "    DIRETORIO_MODELO = '/content/modelo'\n",
        "\n",
        "    # Carregando o Tokenizador.\n",
        "    print('Carregando o tokenizador BERT do diretório {}...'.format(DIRETORIO_MODELO))\n",
        "\n",
        "    tokenizer = BertTokenizer.from_pretrained(DIRETORIO_MODELO, \n",
        "                                              do_lower_case=model_args.do_lower_case)\n",
        "    \n",
        "  else:\n",
        "    # Carregando o Tokenizador da comunidade.\n",
        "    print('Carregando o tokenizador da comunidade...')\n",
        "    \n",
        "    tokenizer = BertTokenizer.from_pretrained(MODELO, \n",
        "                                              do_lower_case=model_args.do_lower_case)\n",
        "\n",
        "  return tokenizer"
      ],
      "execution_count": null,
      "outputs": []
    },
    {
      "cell_type": "markdown",
      "metadata": {
        "id": "Q_JOQKI3wNMe"
      },
      "source": [
        "### Carregando o tokenizador"
      ]
    },
    {
      "cell_type": "code",
      "metadata": {
        "colab": {
          "base_uri": "https://localhost:8080/"
        },
        "id": "ltWHFPZ_wNjl",
        "outputId": "e1c7b0a8-dca5-4696-b9e8-f264ed375da6"
      },
      "source": [
        "tokenizer = carregaTokenizador(model_args.pretrained_model_name_or_path)"
      ],
      "execution_count": null,
      "outputs": [
        {
          "output_type": "stream",
          "text": [
            "Carregando o tokenizador BERT do diretório /content/modelo...\n"
          ],
          "name": "stdout"
        }
      ]
    },
    {
      "cell_type": "markdown",
      "metadata": {
        "id": "m__On2g1a--K"
      },
      "source": [
        "## 3.3 Modelo(model) BERT\n",
        "\n",
        "Se a variável `URL_MODELO` estiver setada carrega o modelo do diretório `content/modelo`.\n",
        "\n",
        "Caso contrário carrega da comunidade.\n",
        "\n",
        "Carregando o modelo da pasta '/content/modelo/' do diretório padrão.\n",
        "\n",
        "A implementação do huggingface pytorch inclui um conjunto de interfaces projetadas para uma variedade de tarefas de PNL. Embora essas interfaces sejam todas construídas sobre um modelo treinado de BERT, cada uma possui diferentes camadas superiores e tipos de saída projetados para acomodar suas tarefas específicas de PNL.\n",
        "\n",
        "A documentação para estas pode ser encontrada em [aqui](https://huggingface.co/transformers/v2.2.0/model_doc/bert.html).\n",
        "\n",
        "Por default o modelo está em modo avaliação ou seja `model.eval()`.\n",
        "\n",
        "-----------------------\n",
        "\n",
        "Durante a avaliação do modelo, este retorna um número de diferentes objetos com base em como é configurado na chamada do método `from_pretrained`. \n",
        "\n",
        "Quando definimos `output_hidden_states = True` na chamada do método `from_pretrained`, retorno do modelo possui no terceiro item os estados ocultos(**hidden_states**) de todas as camadas.  Veja a documentação para mais detalhes: https://huggingface.co/transformers/model_doc/bert.html#bertmodel\n",
        "\n",
        "Quando **`output_hidden_states = True`** model retorna:\n",
        "- outputs[0] = last_hidden_state;\n",
        "- outputs[1] = pooler_output; \n",
        "- outputs[2] = hidden_states.\n",
        "\n",
        "Quando **`output_hidden_states = False`** ou não especificado model retorna:\n",
        "- outputs[0] = last_hidden_state;\n",
        "- outputs[1] = pooler_output.\n",
        "\n",
        "\n",
        "**ATENÇÃO**: O parâmetro ´**output_hidden_states = True**´ habilita gerar as camadas ocultas do modelo. Caso contrário somente a última camada é mantida. Este parâmetro otimiza a memória mas não os resultados.\n"
      ]
    },
    {
      "cell_type": "markdown",
      "metadata": {
        "id": "BlhhexvMxAQ6"
      },
      "source": [
        "### Função carrega modelo"
      ]
    },
    {
      "cell_type": "code",
      "metadata": {
        "id": "zRV6l_I-qg9s"
      },
      "source": [
        "def carregaModelo(MODELO):\n",
        "\n",
        "  # Importando as bibliotecas do Modelo\n",
        "  from transformers import BertForSequenceClassification\n",
        "\n",
        "  # Variável para setar o arquivo.\n",
        "  URL_MODELO = None\n",
        "\n",
        "  if 'http' in MODELO:\n",
        "    URL_MODELO = MODELO\n",
        "\n",
        "  # Se a variável URL_MODELO foi setada\n",
        "  if URL_MODELO:\n",
        "\n",
        "    # Diretório descompactação.\n",
        "    DIRETORIO_MODELO = '/content/modelo'\n",
        "\n",
        "    # Carregando o Modelo BERT\n",
        "    print('Carregando o modelo BERT do diretório {}...'.format(DIRETORIO_MODELO))\n",
        "\n",
        "    model = BertForSequenceClassification.from_pretrained(DIRETORIO_MODELO,   \n",
        "                                                          num_labels = model_args.num_labels,\n",
        "                                                          output_attentions = model_args.output_attentions,\n",
        "                                                          output_hidden_states = model_args.output_hidden_states)\n",
        "  else:\n",
        "    # Carregando o Modelo BERT da comunidade\n",
        "    print('Carregando o modelo BERT da comunidade ...')\n",
        "    \n",
        "    model = BertForSequenceClassification.from_pretrained(MODELO,\n",
        "                                                          num_labels = model_args.num_labels,                                                       \n",
        "                                                          output_attentions = model_args.output_attentions,\n",
        "                                                          output_hidden_states = model_args.output_hidden_states)\n",
        "  return model"
      ],
      "execution_count": null,
      "outputs": []
    },
    {
      "cell_type": "markdown",
      "metadata": {
        "id": "wJdbTzeejhOE"
      },
      "source": [
        "# 4 Treino"
      ]
    },
    {
      "cell_type": "markdown",
      "metadata": {
        "id": "IrKMXRNm7OI6"
      },
      "source": [
        "## 4.1 Wandb\n",
        "\n",
        "https://wandb.ai/osmar-braz/ajustefinocstnews_v1_c_sb_kfold/table?workspace=user-osmar-braz\n"
      ]
    },
    {
      "cell_type": "markdown",
      "metadata": {
        "id": "ezk8hklEvPYq"
      },
      "source": [
        "### Função de inicialização wandb"
      ]
    },
    {
      "cell_type": "code",
      "metadata": {
        "id": "rdsn_fhsvPwO"
      },
      "source": [
        "def inicializacaoWandb():\n",
        "\n",
        "  if model_args.use_wandb:\n",
        "\n",
        "    # Importando a biblioteca.\n",
        "    import wandb\n",
        "\n",
        "    #Login via linha de comando\n",
        "    !wandb login aded3bc0ea651fff536cc08ba69caf8ac4141cfd\n",
        "\n",
        "    # Inicializando o registro do experimento.\n",
        "    # Na execução só pode existir de um init  para que não gere dois registros no wandb.\n",
        "    wandb.init(project=\"ajustefinocstnews_v1_c_sb_kfold\", name=training_args.output_dir + str(model_args.fold))\n",
        "\n",
        "    # Atualiza os parâmetros do modelo no wandb.\n",
        "    wandb.config.update(model_args)\n",
        "    # Atualiza os parâmetros de treinamento no wandb.\n",
        "    wandb.config.update(training_args)\n",
        "\n",
        "    # Registra os parämetros não literais do model_args.\n",
        "    wandb.log({\"max_seq_len\": model_args.max_seq_len})\n",
        "    wandb.log({\"do_lower_case\": model_args.do_lower_case})\n",
        "    wandb.log({\"output_hidden_states\": model_args.output_hidden_states})    \n",
        "    wandb.log({\"fold\": model_args.fold})\n",
        "\n",
        "    return wandb"
      ],
      "execution_count": null,
      "outputs": []
    },
    {
      "cell_type": "markdown",
      "metadata": {
        "id": "nJzDVmgts4nd"
      },
      "source": [
        "## 4.2 Colab GPU\n",
        "\n",
        "Conecta o modelo carregado do BERT a GPU para reduzir o tempo de processamento."
      ]
    },
    {
      "cell_type": "markdown",
      "metadata": {
        "id": "5YRD8msZyLWh"
      },
      "source": [
        "### Função conecta GPU"
      ]
    },
    {
      "cell_type": "code",
      "metadata": {
        "id": "3x2zp5UnCN4E"
      },
      "source": [
        "def conectaGPU(model):\n",
        "  # Associa a GPU ao modelo.\n",
        "  model.to(device)\n",
        "\n",
        "  # Se existe GPU disponível.\n",
        "  if torch.cuda.is_available():    \n",
        "    # Diga ao pytorch para rodar este modelo na GPU.\n",
        "    print(\"Pytorch rodando o modelo na GPU\")\n",
        "    model.cuda()\n",
        "  else:\n",
        "    print(\"Pytorch rodando sem GPU\")\n",
        "    \n",
        "  return model"
      ],
      "execution_count": null,
      "outputs": []
    },
    {
      "cell_type": "markdown",
      "metadata": {
        "id": "xI3kvpJaFqYq"
      },
      "source": [
        "## 4.3 Arquivo dos dados\n",
        "\n",
        "\n"
      ]
    },
    {
      "cell_type": "markdown",
      "metadata": {
        "id": "4y2EOkgR0dBD"
      },
      "source": [
        "### Função de download dos arquivos de dados"
      ]
    },
    {
      "cell_type": "code",
      "metadata": {
        "id": "brUDPsSC0gPJ"
      },
      "source": [
        "def downloadArquivoDados():\n",
        "\n",
        "  # Cria o diretório para receber os arquivos de dados\n",
        "\n",
        "  # Import das bibliotecas.\n",
        "  import os\n",
        "\n",
        "  # Diretório dos arquivos de dados.\n",
        "  DIRETORIO = \"/content/validacao_kfold\"\n",
        "\n",
        "  # Apaga o diretório e seus arquivos.\n",
        "  !rm -rf \"$DIRETORIO\"\n",
        "\n",
        "  # Verifica se o diretório existe\n",
        "  if not os.path.exists(DIRETORIO):  \n",
        "    # Cria o diretório\n",
        "    os.makedirs(DIRETORIO)\n",
        "    print('Diretório criado: {}'.format(DIRETORIO))\n",
        "  else:\n",
        "    print('Diretório já existe: {}'.format(DIRETORIO))\n",
        "\n",
        "  # Download do arquivo de dados\n",
        "  \n",
        "  # Nome do arquivo a ser criado.\n",
        "  NOME_ARQUIVO = 'CSTNEWS_MD_KFOLD_10.zip'\n",
        "\n",
        "  # Apaga o arquivo.\n",
        "  !rm $NOME_ARQUIVO\n",
        "\n",
        "  # Realiza o download do arquivo da url especificada                       \n",
        "  !wget -O $NOME_ARQUIVO  https://github.com/osmarbraz/coebert/blob/main/conjuntodedado/$NOME_ARQUIVO?raw=true\n",
        "\n",
        "  # Descompactando os arquivos\n",
        "  # Lista o diretório corrente e os arquivos.\n",
        "  !pwd\n",
        "  !ls -la\n",
        "\n",
        "  # Descompacta o arquivo.\n",
        "  !unzip -o $NOME_ARQUIVO -d $DIRETORIO\n",
        "\n",
        "  # Lista os arquivos do diretório corrente.\n",
        "  !ls -la  "
      ],
      "execution_count": null,
      "outputs": []
    },
    {
      "cell_type": "markdown",
      "metadata": {
        "id": "ql6f11tI1OqZ"
      },
      "source": [
        "### Download do arquivo de dados"
      ]
    },
    {
      "cell_type": "code",
      "metadata": {
        "colab": {
          "base_uri": "https://localhost:8080/"
        },
        "id": "0JJqPd441O3i",
        "outputId": "c6173831-8abb-4d20-bc4c-8d0603861389"
      },
      "source": [
        "downloadArquivoDados()"
      ],
      "execution_count": null,
      "outputs": [
        {
          "output_type": "stream",
          "text": [
            "Diretório criado: /content/validacao_kfold\n",
            "rm: cannot remove 'CSTNEWS_MD_KFOLD_10.zip': No such file or directory\n",
            "--2021-07-12 20:22:21--  https://github.com/osmarbraz/coebert/blob/main/conjuntodedado/CSTNEWS_MD_KFOLD_10.zip?raw=true\n",
            "Resolving github.com (github.com)... 140.82.112.3\n",
            "Connecting to github.com (github.com)|140.82.112.3|:443... connected.\n",
            "HTTP request sent, awaiting response... 302 Found\n",
            "Location: https://github.com/osmarbraz/coebert/raw/main/conjuntodedado/CSTNEWS_MD_KFOLD_10.zip [following]\n",
            "--2021-07-12 20:22:21--  https://github.com/osmarbraz/coebert/raw/main/conjuntodedado/CSTNEWS_MD_KFOLD_10.zip\n",
            "Reusing existing connection to github.com:443.\n",
            "HTTP request sent, awaiting response... 302 Found\n",
            "Location: https://raw.githubusercontent.com/osmarbraz/coebert/main/conjuntodedado/CSTNEWS_MD_KFOLD_10.zip [following]\n",
            "--2021-07-12 20:22:21--  https://raw.githubusercontent.com/osmarbraz/coebert/main/conjuntodedado/CSTNEWS_MD_KFOLD_10.zip\n",
            "Resolving raw.githubusercontent.com (raw.githubusercontent.com)... 185.199.108.133, 185.199.109.133, 185.199.110.133, ...\n",
            "Connecting to raw.githubusercontent.com (raw.githubusercontent.com)|185.199.108.133|:443... connected.\n",
            "HTTP request sent, awaiting response... 200 OK\n",
            "Length: 3877269 (3.7M) [application/zip]\n",
            "Saving to: ‘CSTNEWS_MD_KFOLD_10.zip’\n",
            "\n",
            "CSTNEWS_MD_KFOLD_10 100%[===================>]   3.70M  --.-KB/s    in 0.06s   \n",
            "\n",
            "2021-07-12 20:22:21 (60.9 MB/s) - ‘CSTNEWS_MD_KFOLD_10.zip’ saved [3877269/3877269]\n",
            "\n",
            "/content\n",
            "total 3812\n",
            "drwxr-xr-x 1 root root    4096 Jul 12 20:22 .\n",
            "drwxr-xr-x 1 root root    4096 Jul 12 20:13 ..\n",
            "drwxr-xr-x 4 root root    4096 Jul  1 13:41 .config\n",
            "-rw-r--r-- 1 root root 3877269 Jul 12 20:22 CSTNEWS_MD_KFOLD_10.zip\n",
            "drwxr-xr-x 2 root root    4096 Jul 12 20:18 .ipynb_checkpoints\n",
            "drwxr-xr-x 1 root root    4096 Jul  1 13:42 sample_data\n",
            "drwxr-xr-x 2 root root    4096 Jul 12 20:22 validacao_kfold\n",
            "Archive:  CSTNEWS_MD_KFOLD_10.zip\n",
            "  inflating: /content/validacao_kfold/cstnews_md_test_f1.csv  \n",
            "  inflating: /content/validacao_kfold/cstnews_md_test_f10.csv  \n",
            "  inflating: /content/validacao_kfold/cstnews_md_test_f2.csv  \n",
            "  inflating: /content/validacao_kfold/cstnews_md_test_f3.csv  \n",
            "  inflating: /content/validacao_kfold/cstnews_md_test_f4.csv  \n",
            "  inflating: /content/validacao_kfold/cstnews_md_test_f5.csv  \n",
            "  inflating: /content/validacao_kfold/cstnews_md_test_f6.csv  \n",
            "  inflating: /content/validacao_kfold/cstnews_md_test_f7.csv  \n",
            "  inflating: /content/validacao_kfold/cstnews_md_test_f8.csv  \n",
            "  inflating: /content/validacao_kfold/cstnews_md_test_f9.csv  \n",
            "  inflating: /content/validacao_kfold/cstnews_md_train_f1.csv  \n",
            "  inflating: /content/validacao_kfold/cstnews_md_train_f10.csv  \n",
            "  inflating: /content/validacao_kfold/cstnews_md_train_f2.csv  \n",
            "  inflating: /content/validacao_kfold/cstnews_md_train_f3.csv  \n",
            "  inflating: /content/validacao_kfold/cstnews_md_train_f4.csv  \n",
            "  inflating: /content/validacao_kfold/cstnews_md_train_f5.csv  \n",
            "  inflating: /content/validacao_kfold/cstnews_md_train_f6.csv  \n",
            "  inflating: /content/validacao_kfold/cstnews_md_train_f7.csv  \n",
            "  inflating: /content/validacao_kfold/cstnews_md_train_f8.csv  \n",
            "  inflating: /content/validacao_kfold/cstnews_md_train_f9.csv  \n",
            "total 3812\n",
            "drwxr-xr-x 1 root root    4096 Jul 12 20:22 .\n",
            "drwxr-xr-x 1 root root    4096 Jul 12 20:13 ..\n",
            "drwxr-xr-x 4 root root    4096 Jul  1 13:41 .config\n",
            "-rw-r--r-- 1 root root 3877269 Jul 12 20:22 CSTNEWS_MD_KFOLD_10.zip\n",
            "drwxr-xr-x 2 root root    4096 Jul 12 20:18 .ipynb_checkpoints\n",
            "drwxr-xr-x 1 root root    4096 Jul  1 13:42 sample_data\n",
            "drwxr-xr-x 2 root root    4096 Jul 12 20:22 validacao_kfold\n"
          ],
          "name": "stdout"
        }
      ]
    },
    {
      "cell_type": "markdown",
      "metadata": {
        "id": "5EbwyBfvHrbj"
      },
      "source": [
        "### Carregando os dados do fold"
      ]
    },
    {
      "cell_type": "markdown",
      "metadata": {
        "id": "cKaU03Si1U4E"
      },
      "source": [
        "### Função de carregamento dos dados de um fold"
      ]
    },
    {
      "cell_type": "code",
      "metadata": {
        "id": "DrtbjCZb1ZMY"
      },
      "source": [
        "def carregamentoDadosFold(fold):\n",
        "\n",
        "  # Import das bibliotecas.\n",
        "  import pandas as pd\n",
        "\n",
        "  # Diretório dos arquivos de dados.\n",
        "  DIRETORIO = \"/content/validacao_kfold\"\n",
        "\n",
        "  # Define o prefixo do nome dos arquivos dos folds\n",
        "  PREFIXO_NOME_ARQUIVO_TREINO = \"cstnews_md_train_f\"\n",
        "  PREFIXO_NOME_ARQUIVO_TESTE = \"cstnews_md_test_f\"\n",
        "\n",
        "  # Nome dos arquivos.\n",
        "  ARQUIVO_TREINO = DIRETORIO + \"/\" + PREFIXO_NOME_ARQUIVO_TREINO + str(fold) + \".csv\"\n",
        "  ARQUIVO_TESTE = DIRETORIO + \"/\" + PREFIXO_NOME_ARQUIVO_TESTE + str(fold) + \".csv\" \n",
        "\n",
        "  print(\"Carregando arquivo de treino: {}\".format(ARQUIVO_TREINO))\n",
        "  print(\"Carregando arquivo de teste: {}\".format(ARQUIVO_TESTE))\n",
        "\n",
        "  # Carrega o dataset de treino e teste.\n",
        "  dfdados_train = pd.read_csv(ARQUIVO_TREINO, sep=';')\n",
        "  print('Qtde de dados de treino: {}'.format(len(dfdados_train)))\n",
        "  dfdados_test = pd.read_csv(ARQUIVO_TESTE, sep=';')\n",
        "  print('Qtde de dados de teste: {}'.format(len(dfdados_test)))\n",
        "\n",
        "  return dfdados_train, dfdados_test"
      ],
      "execution_count": null,
      "outputs": []
    },
    {
      "cell_type": "markdown",
      "metadata": {
        "id": "oQUy9Tat2EF_"
      },
      "source": [
        "## 4.4 Análise"
      ]
    },
    {
      "cell_type": "markdown",
      "metadata": {
        "id": "N2wEm3z-2Lld"
      },
      "source": [
        "### Função descarte documentos muito grandes"
      ]
    },
    {
      "cell_type": "code",
      "metadata": {
        "id": "nPeajX8C2QX-"
      },
      "source": [
        "def descarteDocumentosGrandes(tamanho_maximo_token, dfdados_train, dfdados_test):\n",
        "\n",
        "  # Define o tamanho máximo para os tokens.\n",
        "  tamanho_maximo = tamanho_maximo_token\n",
        "\n",
        "  # Tokenize a codifica as setenças para o BERT.     \n",
        "  dfdados_train['input_ids'] = dfdados_train['documento'].apply(lambda tokens: tokenizer.encode(tokens, add_special_tokens=True))\n",
        "        \n",
        "  dfdados_train = dfdados_train[dfdados_train['input_ids'].apply(len)<tamanho_maximo]\n",
        "\n",
        "  print('Tamanho do dataset de treino: {}'.format(len(dfdados_train)))\n",
        "\n",
        "  # Remove as colunas desnecessárias.\n",
        "  dfdados_train = dfdados_train.drop(columns=['input_ids'])\n",
        "\n",
        "  # Tokenize a codifica as setenças para o BERT.     \n",
        "  dfdados_test['input_ids'] = dfdados_test['documento'].apply(lambda tokens: tokenizer.encode(tokens, add_special_tokens=True))\n",
        "\n",
        "  # Corta os inputs para o tamanho máximo 512.\n",
        "  dfdados_test = dfdados_test[dfdados_test['input_ids'].apply(len)<tamanho_maximo]\n",
        "\n",
        "  print('Tamanho do dataset de teste: {}'.format(len(dfdados_test)))\n",
        "  \n",
        "  # Remove as colunas desnecessárias.\n",
        "  dfdados_test = dfdados_test.drop(columns=['input_ids'])\n",
        "\n",
        "  return dfdados_train, dfdados_test"
      ],
      "execution_count": null,
      "outputs": []
    },
    {
      "cell_type": "markdown",
      "metadata": {
        "id": "o6InuUN12wri"
      },
      "source": [
        "### Descartando documentos muito grandes"
      ]
    },
    {
      "cell_type": "markdown",
      "metadata": {
        "id": "_PCYbCqvc8bS"
      },
      "source": [
        "### Seleciona as colunas de treino"
      ]
    },
    {
      "cell_type": "markdown",
      "metadata": {
        "id": "iGR1EHcrLfOB"
      },
      "source": [
        "### Seleciona as colunas de teste"
      ]
    },
    {
      "cell_type": "markdown",
      "metadata": {
        "id": "aRp4O7D295d_"
      },
      "source": [
        "### Conjunto de dados em Treinamento & Teste"
      ]
    },
    {
      "cell_type": "markdown",
      "metadata": {
        "id": "8bwa6Rts-02-"
      },
      "source": [
        "## 4.5 Treinando o modelo de classificação"
      ]
    },
    {
      "cell_type": "markdown",
      "metadata": {
        "id": "qRWT-D4U_Pvx"
      },
      "source": [
        "### Otimizador e Agendador de Taxas de Aprendizado/Optimizer & Learning Rate Scheduler\n",
        "\n"
      ]
    },
    {
      "cell_type": "markdown",
      "metadata": {
        "id": "8o-VEBobKwHk"
      },
      "source": [
        "Agora que temos nosso modelo carregado, precisamos pegar os hiperparâmetros de treinamento no modelo armazenado.\n",
        "\n",
        "Para fins de ajuste fino, os autores recomendam escolher entre os seguintes valores (no Apêndice A.3 do [artigo BERT](https://arxiv.org/pdf/1810.04805.pdf)):\n",
        "\n",
        "> - **Tamanho do lote(Batch size):** 16, 32\n",
        "- **Taxa de aprendizado (Adam):** 5e-5, 3e-5, 2e-5\n",
        "- **Número de épocas:** 2, 3, 4\n",
        "\n",
        "O parâmetro epsilon `eps = 1e-6` é\" um número muito pequeno para impedir qualquer divisão por zero na implementação \"(a partir de [aqui](https://machinelearningmastery.com/adam-optimization-algorithm-for-deep-learning/)).\n",
        "\n",
        "Você pode encontrar a criação do otimizador do AdamW em `run_glue.py` [aqui](https://github.com/huggingface/transformers/blob/5bfcd0485ece086ebcbed2d008813037968a9e58/examples/run_glue.py#L109)."
      ]
    },
    {
      "cell_type": "markdown",
      "metadata": {
        "id": "MKecsl5K3LR9"
      },
      "source": [
        "### Função carrega otimizador\n"
      ]
    },
    {
      "cell_type": "code",
      "metadata": {
        "id": "ajnrdhF63N-r"
      },
      "source": [
        "def carregaOtimizador():\n",
        "\n",
        "  '''\n",
        "    Esta função carrega o otimizador utilizado no agendador de aprendizado.\n",
        "  '''\n",
        "\n",
        "  # Import das bibliotecas.\n",
        "  from transformers import AdamW\n",
        "\n",
        "  # Nota: AdamW é uma classe da biblioteca huggingface (ao contrário de pytorch).\n",
        "  # Eu acredito que o 'W' significa 'Correção de redução de peso \"\n",
        "  optimizer = AdamW(model.parameters(),\n",
        "                  lr = training_args.learning_rate, # (ou alfa) A taxa de aprendizado a ser usada. - default é 3e-5\n",
        "                  # betas = (0.9, 0.999), # (beta1, beta2) - default é (0.9, 0.999)\n",
        "                    # beta1 é taxa de decaimento exponencial para as estimativas do primeiro momento. \n",
        "                    # beta2 é taxa de decaimento exponencial para as estimativas do segundo momento. Este valor deve ser definido próximo a 1,0 em problemas com gradiente esparso (por exemplo, PNL e problemas de visão de computacional)\n",
        "                  # eps = 1e-6, #  É um número muito pequeno para evitar qualquer divisão por zero na implementação - default é 1e-6.\n",
        "                  # weight_decay = 0.0, # Correção de redução de peso. - default é 0.0\n",
        "                    # A redução da taxa de aprendizagem também pode ser usada com Adam. A taxa de decaimento é atualizada a cada época para a demonstração da regressão logística.\n",
        "                  # correct_bias = True #  Se não deve corrigir o viés(bias) no Adam mudar para False.- default é True\n",
        "                )\n",
        "  \n",
        "  return optimizer"
      ],
      "execution_count": null,
      "outputs": []
    },
    {
      "cell_type": "markdown",
      "metadata": {
        "id": "N-Aqb27R3cci"
      },
      "source": [
        "### Função carrega agendador"
      ]
    },
    {
      "cell_type": "markdown",
      "metadata": {
        "id": "W2MT7UK84srM"
      },
      "source": [
        "A função **get_linear_schedule_with_warmup** cria um agendador com uma taxa de aprendizado que diminua linearmente da taxa de aprendizagem inicial definido no otimizador até 0, após um período de aquecimento durante o qual ele aumenta linearmente de 0 para a taxa de aprendizagem inicial definido no otimizador.\n",
        "\n",
        "Se `num_warmup_steps=0` e `weight_decay=0`(otimizador) não ocorre a etapa de aquecimento."
      ]
    },
    {
      "cell_type": "code",
      "metadata": {
        "id": "XMCaS1VqNr5y"
      },
      "source": [
        "def carregaAgendador():\n",
        "\n",
        "  '''\n",
        "    Esta função carrega o agendador com um taxa de aprendizado que diminua linearmente até 0.\n",
        "  '''\n",
        "\n",
        "  # Import das bibliotecas.\n",
        "  from transformers import get_linear_schedule_with_warmup\n",
        "\n",
        "  # O número total de etapas de ajuste fino é [número de lotes] x [número de épocas].\n",
        "  # (Observe que este não é o mesmo que o número de amostras de ajuste fino).\n",
        "  total_etapas = len(documentos_treino) * training_args.num_train_epochs\n",
        "\n",
        "  #Cria o agendador de taxa de aprendizagem.\n",
        "  scheduler = get_linear_schedule_with_warmup(optimizer, # O otimizador para o qual agendar a taxa de aprendizado.\n",
        "                                            num_warmup_steps = 0, # O número de etapas para a fase de aquecimento. Valor default value em run_glue.py\n",
        "                                            num_training_steps = total_etapas) # O número total de etapas de treinamento.\n",
        "\n",
        "\n",
        "  print(\"Total de etapas: {}\".format(total_etapas))\n",
        "\n",
        "  return scheduler"
      ],
      "execution_count": null,
      "outputs": []
    },
    {
      "cell_type": "markdown",
      "metadata": {
        "id": "O0my3USqpC45"
      },
      "source": [
        "### função: cria_lotes_inteligentes"
      ]
    },
    {
      "cell_type": "code",
      "metadata": {
        "id": "hGpsZgnDolp9"
      },
      "source": [
        "def cria_lotes_inteligentes(documentos, classes, documentoids, batch_size):\n",
        "    '''\n",
        "    Esta função combina todos os passos para preparar os lotes.\n",
        "    '''\n",
        "    print('Criando Lotes Inteligentes de {:,} amostras com tamanho de lote {:,}...\\n'.format(len(documentos), batch_size))\n",
        "\n",
        "    # ============================\n",
        "    #   Tokenização & Truncamento\n",
        "    # ============================\n",
        "\n",
        "    input_ids_completos = []\n",
        "    \n",
        "    # Tokeniza todas as amostras de treinamento\n",
        "    print('Tokenizando {:,} amostra...'.format(len(classes)))\n",
        "    \n",
        "    # Escolha o intervalo que o progresso será atualizado.\n",
        "    intervalo_atualizacao = obter_intervalo_atualizacao(total_iteracoes=len(classes), numero_atualizacoes=10)\n",
        "    \n",
        "    # Para cada amostra de treinamento...\n",
        "    for documento in documentos:\n",
        "        \n",
        "        # Relatório de progresso\n",
        "        if ((len(input_ids_completos) % intervalo_atualizacao) == 0):\n",
        "            print('  Tokenizado {:,} amostras.'.format(len(input_ids_completos)))\n",
        "\n",
        "        # Tokeniza a amostra.\n",
        "        input_ids = tokenizer.encode(text=documento,                    # Documento a ser codificado.\n",
        "                                    add_special_tokens=True,            # Adiciona os ttokens especiais.\n",
        "                                    max_length=model_args.max_seq_len,  # Tamanho do truncamento!\n",
        "                                    truncation=True,                    # Faz o truncamento!\n",
        "                                    padding=False)                      # Não preenche.\n",
        "                \n",
        "        # Adicione o resultado tokenizado à nossa lista.\n",
        "        input_ids_completos.append(input_ids)\n",
        "        \n",
        "    print('FEITO.')\n",
        "    print('{:>10,} amostras\\n'.format(len(input_ids_completos)))\n",
        "\n",
        "    # =========================\n",
        "    #      Seleciona os Lotes\n",
        "    # =========================    \n",
        "    \n",
        "    # Classifique as duas listas pelo comprimento da sequência de entrada.\n",
        "    amostras = sorted(zip(input_ids_completos, classes, documentoids), key=lambda x: len(x[0]))\n",
        "\n",
        "    print('{:>10,} amostras após classificação\\n'.format(len(amostras)))\n",
        "\n",
        "    import random\n",
        "\n",
        "    # Lista de lotes que iremos construir.\n",
        "    batch_ordered_documentos = []\n",
        "    batch_ordered_classes = []\n",
        "    batch_ordered_documentoids = []\n",
        "\n",
        "    print('Criando lotes de tamanho {:}...'.format(batch_size))\n",
        "\n",
        "    # Escolha um intervalo no qual imprimir atualizações de progresso.\n",
        "    intervalo_atualizacao = obter_intervalo_atualizacao(total_iteracoes=len(amostras), numero_atualizacoes=10)\n",
        "        \n",
        "    # Faça um loop em todas as amostras de entrada ... \n",
        "    while len(amostras) > 0:\n",
        "        \n",
        "        # Mostra o progresso.\n",
        "        if ((len(batch_ordered_documentos) % intervalo_atualizacao) == 0 \\\n",
        "            and not len(batch_ordered_documentos) == 0):\n",
        "            print('  Selecionado {:,} lotes.'.format(len(batch_ordered_documentos)))\n",
        "        \n",
        "        # `to_take` é o tamanho real do nosso lote. Será `batch_size` até\n",
        "        # chegamos ao último lote, que pode ser menor.\n",
        "        to_take = min(batch_size, len(amostras))\n",
        "        \n",
        "        # Escolha um índice aleatório na lista de amostras restantes para começar o nosso lote.\n",
        "        select = random.randint(0, len(amostras) - to_take)\n",
        "\n",
        "        # Selecione um lote contíguo de amostras começando em `select`.\n",
        "        #print (\"Selecionando lote de {:} a {:}\".format(select, select+to_take))\n",
        "        batch = amostras[select:(select + to_take)]\n",
        "\n",
        "        #print(\"Tamanho do lote:\", len(batch))\n",
        "        \n",
        "        # Cada amostra é uma tupla --divida para criar uma lista separada de\n",
        "        # sequências e uma lista de rótulos para este lote.\n",
        "        batch_ordered_documentos.append([s[0] for s in batch])\n",
        "        batch_ordered_classes.append([s[1] for s in batch])\n",
        "        batch_ordered_documentoids.append([s[2] for s in batch])\n",
        "        \n",
        "        # Remova a amostra da lista\n",
        "        del amostras[select:select + to_take]\n",
        "\n",
        "    print('\\n  FEITO - Selecionado {:,} lotes.\\n'.format(len(batch_ordered_documentos)))\n",
        "\n",
        "    # =========================\n",
        "    #        Adicionando o preenchimento\n",
        "    # =========================    \n",
        "\n",
        "    print('Preenchendo sequências dentro de cada lote...')\n",
        "\n",
        "    py_input_ids = []\n",
        "    py_attention_masks = []\n",
        "    py_labels = []\n",
        "    list_documentoids = []\n",
        "\n",
        "    # Para cada lote...\n",
        "    for (batch_input_ids, batch_labels, batch_documentoids) in zip(batch_ordered_documentos, batch_ordered_classes, batch_ordered_documentoids):\n",
        "\n",
        "        # Nova versão do lote, desta vez com sequências preenchidas e agora com\n",
        "        # as máscaras de atenção definidas.\n",
        "        batch_padded_input_ids = []\n",
        "        batch_attention_masks = []\n",
        "                \n",
        "        # Primeiro, encontre a amostra mais longa do lote.\n",
        "        # Observe que as sequências atualmente incluem os tokens especiais!\n",
        "        max_size = max([len(input) for input in batch_input_ids])\n",
        "        \n",
        "        # Para cada entrada neste lote...\n",
        "        for input in batch_input_ids:\n",
        "                        \n",
        "            # Quantos tokens pad precisam ser adicionados\n",
        "            num_pads = max_size - len(input)\n",
        "\n",
        "            # Adiciona `num_pads` do pad token(tokenizer.pad_token_id) até o final da sequência.\n",
        "            padded_input = input + [tokenizer.pad_token_id] * num_pads\n",
        "\n",
        "            # Define a máscara de atenção --é apenas um `1` para cada token real\n",
        "            # e um `0` para cada token de preenchimento(pad).\n",
        "            attention_mask = [1] * len(input) + [0] * num_pads\n",
        "            \n",
        "            # Adiciona o resultado preenchido ao lote.\n",
        "            batch_padded_input_ids.append(padded_input)\n",
        "            batch_attention_masks.append(attention_mask)\n",
        "        \n",
        "        # Nosso lote foi preenchido, portanto, precisamos salvar este lote atualizado.\n",
        "        # Também precisamos que as entradas sejam tensores PyTorch, então faremos isso aqui.\n",
        "        py_input_ids.append(torch.tensor(batch_padded_input_ids))\n",
        "        py_attention_masks.append(torch.tensor(batch_attention_masks))\n",
        "        py_labels.append(torch.tensor(batch_labels))\n",
        "        list_documentoids.append(batch_documentoids)\n",
        "    \n",
        "    # Retorna o conjunto de dados em lotes inteligentes!\n",
        "    return (py_input_ids, py_attention_masks, py_labels, list_documentoids)"
      ],
      "execution_count": null,
      "outputs": []
    },
    {
      "cell_type": "markdown",
      "metadata": {
        "id": "Thh-qfv5q4tI"
      },
      "source": [
        "### Função de Treinamento"
      ]
    },
    {
      "cell_type": "code",
      "metadata": {
        "id": "ox8cl_CZDxc-"
      },
      "source": [
        "# Import das bibliotecas\n",
        "import random\n",
        "import numpy as np\n",
        "from tqdm.notebook import tqdm as tqdm_notebook\n",
        "\n",
        "def realizaTreinamento(documentos_treino, classes_treino, documentoids_treino, EPOCAS = 4):\n",
        "  \n",
        "  print(\"\\nRealizando Treinamento fold: {}\".format(model_args.fold))\n",
        "\n",
        "  # Defina o valor da semente em todos os lugares para torná-lo reproduzível.\n",
        "  seed_val = training_args.seed\n",
        "\n",
        "  random.seed(seed_val)\n",
        "  np.random.seed(seed_val)\n",
        "  torch.manual_seed(seed_val)\n",
        "  torch.cuda.manual_seed_all(seed_val)\n",
        "\n",
        "  # Atualize todos os lotes ʻintervalo_atualizacao`.\n",
        "  intervalo_atualizacao = obter_intervalo_atualizacao(total_iteracoes=len(documentos_treino), numero_atualizacoes=10)\n",
        "\n",
        "  # Medida do tempo total de treinamento.\n",
        "  treinamento_t0 = time.time()\n",
        "\n",
        "  # Limpa o cache da GPU.\n",
        "  torch.cuda.empty_cache()\n",
        "\n",
        "  # Coloque o modelo em modo de treinamento. \n",
        "  model.train()\n",
        "\n",
        "  # Acumula as perdas do treinamento.\n",
        "  train_losses = []\n",
        "\n",
        "  if model_args.use_wandb:\n",
        "    # Log das métricas com wandb.\n",
        "    wandb.watch(model)\n",
        "\n",
        "  # Barra de progresso da época.\n",
        "  epoca_bar = tqdm_notebook(range(training_args.num_train_epochs), desc=f'Épocas', unit=f'épocas')\n",
        "\n",
        "  # Para cada época.\n",
        "  for epoca_i in epoca_bar:\n",
        "    \n",
        "    # ========================================\n",
        "    #               Treinamento\n",
        "    # ========================================\n",
        "    \n",
        "    # Execute uma passada completa sobre o conjunto de treinamento.\n",
        "\n",
        "    # Recupera o lote inteligente\n",
        "    (py_input_ids, py_attention_masks, py_labels, documentoids) = cria_lotes_inteligentes(documentos_treino, classes_treino, documentoids_treino, training_args.per_device_train_batch_size)\n",
        "\n",
        "    # Medida de quanto tempo leva o período de treinamento.\n",
        "    treinamento_epoca_t0 = time.time()\n",
        "\n",
        "    # Acumula as perdas do treinamento da época.\n",
        "    train_epoca_losses = []\n",
        "\n",
        "    # Barras de progresso.    \n",
        "    lote_treino_bar = tqdm_notebook(range(0, len(py_input_ids)), desc=f'Epoca {epoca_i+1}', unit=f'lotes', total=len(py_input_ids) )\n",
        "\n",
        "    # Para cada lote dos dados de treinamento.\n",
        "    for index in lote_treino_bar:      \n",
        "\n",
        "        # Progresso é atualizado a cada lotes, por exemplo, 100 lotes.\n",
        "        if index % intervalo_atualizacao == 0 and not index == 0:            \n",
        "            # Calcula gasto o tempo em minutos.\n",
        "            tempoGasto = formataTempo(time.time() - treinamento_epoca_t0)\n",
        "                        \n",
        "            # Calcule o tempo restante com base em nosso progresso.\n",
        "            passos_por_segundo = (time.time() - treinamento_epoca_t0) / index\n",
        "            segundos_restantes = passos_por_segundo * (len(py_input_ids) - index)\n",
        "            tempoRestante = formataTempo(segundos_restantes)\n",
        "\n",
        "            # Mostra o progresso.\n",
        "            print('  Lote {:>7,}  de  {:>7,}.    Gasto: {:}.  Restante: {:}'.format(index, len(py_input_ids), tempoGasto, tempoRestante))\n",
        "\n",
        "        # Descompacte este lote de treinamento de nosso dataloader.\n",
        "        #\n",
        "        # À medida que descompactamos o lote, também copiaremos cada tensor para a GPU usando o\n",
        "        # o método `to`\n",
        "        #\n",
        "        # `lote` é uma lista contém três tensores pytorch:\n",
        "        #   [0]: input ids \n",
        "        #   [1]: attention masks\n",
        "        #   [2]: labels \n",
        "\n",
        "        # Recupera os tensores do lote e copia para a GPU usando o método `to` \n",
        "        d_input_ids = py_input_ids[index].to(device)\n",
        "        d_input_mask = py_attention_masks[index].to(device)\n",
        "        d_labels = py_labels[index].to(device)     \n",
        "        \n",
        "        # Sempre limpe quaisquer gradientes calculados anteriormente antes de realizar um\n",
        "        # passe para trás. PyTorch não faz isso automaticamente porque\n",
        "        # acumular os gradientes é \"conveniente durante o treinamento de RNNs\".\n",
        "        # (source: https://stackoverflow.com/questions/48001598/why-do-we-need-to-call-zero-grad-in-pytorch)\n",
        "        model.zero_grad()\n",
        "\n",
        "        # Execute um passe para frente (avalie o modelo neste lote de treinamento).\n",
        "        # A documentação para esta função `model` está aqui:\n",
        "        # https://huggingface.co/transformers/v2.2.0/model_doc/bert.html#transformers.BertForSequenceClassification\n",
        "        # Ele retorna diferentes números de parâmetros dependendo de quais argumentos\n",
        "        # são fornecidos e quais sinalizadores estão definidos. Para nosso uso aqui, ele retorna\n",
        "        # a perda (porque fornecemos rótulos) e os \"logits\" - o modelo de saídas antes da ativação.     \n",
        "\n",
        "        # last_hidden_state = outputs[0], pooler_output = outputs[1], hidden_states = outputs[2]\n",
        "        outputs = model(d_input_ids, \n",
        "                        token_type_ids=None, \n",
        "                        attention_mask=d_input_mask, \n",
        "                        labels=d_labels)\n",
        "        \n",
        "        # A perda(loss) é retornado em outputs[0] porque fornecemos rótulos(labels))                  \n",
        "        loss = outputs[0]\n",
        "\n",
        "        # E outputs[1] os \"logits\" - o modelo de saídas antes da ativação.\n",
        "        # logits possui duas dimensões, a primeira do lote e a segunda do rótulo da predição                        \n",
        "        # A função `.detach().cpu()` retira da gpu.\n",
        "        logits = outputs[1].detach().cpu()\n",
        "  \n",
        "        # Acumule a perda de treinamento em todos os lotes da época para que possamos\n",
        "        # calcular a perda média no final da época. `loss` é um tensor contendo um único valor.   \n",
        "        # A função `.item ()` retorna apenas o valor Python do tensor.\n",
        "        train_epoca_losses.append(loss.item())\n",
        "\n",
        "        # Mostra a perda na barra de progresso.\n",
        "        lote_treino_bar.set_postfix(loss=loss.item())\n",
        "\n",
        "        if model_args.use_wandb:\n",
        "          wandb.log({\"train_batch_loss\": loss.item()})\n",
        "\n",
        "        # Execute uma passagem para trás para calcular os gradientes.\n",
        "        # Todos os parâmetros do modelo deve ter sido setado para param.requires_grad = False\n",
        "        loss.backward()            \n",
        "\n",
        "        # Corte a norma dos gradientes para 1.0.\n",
        "        # Isso ajuda a evitar o problema de \"gradientes explosivos\".\n",
        "        torch.nn.utils.clip_grad_norm_(model.parameters(), 1.0)\n",
        "       \n",
        "        # Atualize os parâmetros e dê um passo usando o gradiente calculado.\n",
        "        # O otimizador dita a \"regra de atualização\" - como os parâmetros são\n",
        "        # modificados com base em seus gradientes, taxa de aprendizagem, etc.\n",
        "        optimizer.step()\n",
        "                           \n",
        "        # Atualize a taxa de aprendizagem.\n",
        "        scheduler.step()\n",
        "\n",
        "        del outputs\n",
        "\n",
        "    # Média da perda do treinamento de todos os lotes da época.\n",
        "    media_train_epoca_loss = np.mean(train_epoca_losses)\n",
        "\n",
        "    # Acumule a perda de treinamento de todas as épocas para calcular a perda média do treinamento.    \n",
        "    train_losses.append(media_train_epoca_loss)\n",
        "\n",
        "    if model_args.use_wandb:\n",
        "        wandb.log({\"media_train_epoca_loss\": media_train_epoca_loss})           \n",
        "        \n",
        "    # Medida de quanto tempo levou essa época.\n",
        "    treinamento_epoca_total = formataTempo(time.time() - treinamento_epoca_t0)\n",
        "\n",
        "    print(\"  Média perda(loss) do treinamento da época : {0:.8f}\".format(media_train_epoca_loss))\n",
        "    print(\"  Tempo de treinamento da época             : {:}\".format(treinamento_epoca_total))    \n",
        "    print(\"  Tempo parcial do treinamento              : {:} (h:mm:ss)\".format(formataTempo(time.time()-treinamento_t0)))\n",
        "\n",
        "    del py_input_ids\n",
        "    del py_attention_masks\n",
        "    del py_labels\n",
        "    del train_epoca_losses\n",
        "    del lote_treino_bar\n",
        "  \n",
        "  # Média da perda do treinamento de todas as épocas.\n",
        "  media_train_loss = np.mean(train_losses)\n",
        "\n",
        "  if model_args.use_wandb:\n",
        "    wandb.log({\"media_train_loss\": media_train_loss})   \n",
        "\n",
        "  print(\"  Média perda(loss) treinamento : {0:.8f}\".format(media_train_loss))\n",
        "\n",
        "  del train_losses\n",
        "  del epoca_bar\n",
        "\n",
        "  print(\"Treinamento completo!\")"
      ],
      "execution_count": null,
      "outputs": []
    },
    {
      "cell_type": "markdown",
      "metadata": {
        "id": "av-_hPByrUCA"
      },
      "source": [
        "# 5 Avaliação\n",
        "\n",
        "Avaliando o modelo treinado no conjunto de dados de teste."
      ]
    },
    {
      "cell_type": "markdown",
      "metadata": {
        "id": "teXptLZNjszT"
      },
      "source": [
        "## 5.1 Função de Avaliação"
      ]
    },
    {
      "cell_type": "code",
      "metadata": {
        "id": "R8DIJXnmjw5v"
      },
      "source": [
        "# Import das bibliotecas.\n",
        "import torch\n",
        "from tqdm.notebook import tqdm as tqdm_notebook\n",
        "\n",
        "def realizaAvaliacao(documentos_teste, classes_teste, documentoids_teste):\n",
        "\n",
        "  # Armazena o resultado da avaliação executada\n",
        "  lista_resultado_avaliacao = []\n",
        "\n",
        "  print(\"\\nRealizando Avaliação fold: {}\".format(model_args.fold))\n",
        "\n",
        "  # Predição no conjunto de teste no modelo.\n",
        "  print('Predizendo rótulos para {:,} documentos de teste...'.format(len(documentos_teste)))\n",
        "\n",
        "  # Use nossa nova função para preparar completamente nosso conjunto de dados.\n",
        "  (py_input_ids, py_attention_masks, py_labels, documentosids) = cria_lotes_inteligentes(documentos_teste, classes_teste, documentoids_teste, training_args.per_device_eval_batch_size)\n",
        "\n",
        "  # Escolha um intervalo para imprimir atualizações de progresso.\n",
        "  intervalo_atualizacao = obter_intervalo_atualizacao(total_iteracoes=len(py_input_ids), numero_atualizacoes=10)\n",
        "\n",
        "  # Coloque o modelo em modo de avaliação.\n",
        "  model.eval()\n",
        "\n",
        "  # Acumula as perdas.\n",
        "  test_losses = []\n",
        "\n",
        "  totalacuracia = 0\n",
        "\n",
        "  # Acumula os resultados dos testes.\n",
        "  vp = [] # Verdadeiro positivo\n",
        "  vn = [] # Verdadeiro negativo\n",
        "  fp = [] # Falso positivo\n",
        "  fn = [] # Falso negativo\n",
        "\n",
        "  # Barra de progresso dos lotes de teste.\n",
        "  lote_teste_bar = tqdm_notebook(range(0, len(py_input_ids)), desc=f'Lotes ', unit=f'lotes', total=len(py_input_ids))\n",
        "\n",
        "  # Para cada lote dos dados de avaliação(teste).\n",
        "  for index in lote_teste_bar:\n",
        "\n",
        "    # Progresso é atualizado a cada lotes, por exemplo, 100 lotes.\n",
        "    if index % intervalo_atualizacao == 0 and not index == 0:        \n",
        "        # Calcula o tempo gasto em minutos.\n",
        "        tempoGasto = formataTempo(time.time() - avaliacao_t0)\n",
        "        \n",
        "        # Calcula o tempo restante baseado no progresso.\n",
        "        passos_por_segundo = (time.time() - avaliacao_t0) / index\n",
        "        segundos_restantes = passos_por_segundo * (len(py_input_ids) - index)\n",
        "        tempoRestante = formataTempo(segundos_restantes)\n",
        "\n",
        "        # Mostra o progresso.\n",
        "        print('  Lote {:>7,}  de  {:>7,}.    Gasto: {:}.  Restando: {:}'.format(index, len(py_input_ids), tempoGasto, tempoRestante))\n",
        "    \n",
        "    # Copia o lote para a GPU.\n",
        "    d_input_ids = py_input_ids[index].to(device)\n",
        "    d_input_mask = py_attention_masks[index].to(device)\n",
        "    d_labels = py_labels[index].to(device)\n",
        "    d_documentoids = documentosids[index]\n",
        "\n",
        "    # Diga a pytorch para não se preocupar em construir o gráfico de computação durante\n",
        "    # o passe para frente, já que isso só é necessário para backprop (treinamento).\n",
        "    with torch.no_grad():\n",
        "        # Obtenha a saída de \"logits\" pelo modelo. Os \"logits\" são a saída\n",
        "        # valores antes de aplicar uma função de ativação como o softmax.        \n",
        "        # Retorno de model quando ´last_hidden_state=True´ é setado:    \n",
        "        # last_hidden_state = outputs[0], pooler_output = outputs[1], hidden_states = outputs[2]\n",
        "        outputs = model(d_input_ids,\n",
        "                        token_type_ids=None, \n",
        "                        attention_mask=d_input_mask, \n",
        "                        labels=d_labels)\n",
        "        \n",
        "    # A perda(loss) é retornado em outputs[0] porque fornecemos rótulos(labels). \n",
        "    # É útil para comparar com a perda do treinamento, quando é realizado a avaliação entre as épocas de treinamento.\n",
        "    loss = outputs[0]\n",
        "\n",
        "    # E outputs[1] os \"logits\" - o modelo de saídas antes da ativação.\n",
        "    # logits possui duas dimensões, a primeira do lote e a segunda do rótulo da predição                        \n",
        "    logits = outputs[1]\n",
        "        \n",
        "    # Acumule a perda da avaliação em todos os lotes para que possamos\n",
        "    # calcular a perda média no final. `loss` é um tensor contendo um único valor.\n",
        "    # A função '.cpu()' move loss para a cpu.\n",
        "    # A função `.item ()` retorna apenas o valor Python do tensor.         \n",
        "    test_losses.append(loss.cpu().item())\n",
        "\n",
        "    # Recupera o índice do melhor resultado, maior valor dos tensores para coluna(1)\n",
        "    _, classificacao = torch.max(logits, 1)\n",
        "\n",
        "    # Verifica a classificação realizada e o rótulo previsto\n",
        "    vp.append(((classificacao==1) & (d_labels==1)).sum().cpu().item())\n",
        "    vn.append(((classificacao==0) & (d_labels==0)).sum().cpu().item())\n",
        "    fp.append(((classificacao==1) & (d_labels==0)).sum().cpu().item())\n",
        "    fn.append(((classificacao==0) & (d_labels==1)).sum().cpu().item())\n",
        "\n",
        "    # Adiciona o documento de teste, o rótulo e a classificação realizada a lista de resultado\n",
        "    for lote in range(len(d_labels)):\n",
        "                \n",
        "        lista_resultado_avaliacao.append([d_documentoids[lote],\n",
        "                                d_labels[lote].cpu().item(), \n",
        "                                classificacao[lote].cpu().item()])\n",
        "\n",
        "    del outputs\n",
        "\n",
        "  # Soma as classificações realizadas\n",
        "  vp_s, vn_s, fp_s, fn_s = sum(vp), sum(vn), sum(fp), sum(fn)\n",
        "  \n",
        "  # Acurácia indica uma performance geral do modelo. \n",
        "  # Dentre todas as classificações, quantas o modelo classificou corretamente(vp=1 e vn=0).\n",
        "  acc = (vp_s+vn_s)/(vp_s+vn_s+fp_s+fn_s)\n",
        "\n",
        "  # Recall(Revocação) avalia todas as situações da classe Positivo(vp=1) com o valor esperado e quantas estão corretas.\n",
        "  if (vp_s+fn_s) != 0:\n",
        "      rec = (vp_s)/(vp_s+fn_s)\n",
        "  else:\n",
        "      rec = 0\n",
        "  \n",
        "  # Precisão avalia as classificações da classe positivo(vp=1 e fp=0) que o modelo fez e quantas estão corretas.\n",
        "  if (vp_s+fp_s) != 0:\n",
        "      pre = (vp_s)/(vp_s+fp_s)\n",
        "  else:\n",
        "      pre = 0  \n",
        "\n",
        "  # F1 é a média harmônica entre precisão e recall.\n",
        "  if (pre + rec) != 0:  \n",
        "    f1 = 2 * ((pre * rec)/(pre + rec))\n",
        "  else:\n",
        "    f1 = 0\n",
        "\n",
        "  # Média da perda da avaliação  \n",
        "  media_test_loss = np.mean(test_losses)\n",
        "\n",
        "  if model_args.use_wandb:\n",
        "    # Log do wandb\n",
        "    wandb.log({\"acuracia\": acc})\n",
        "    wandb.log({\"vp\": vp_s})\n",
        "    wandb.log({\"vn\": vn_s})\n",
        "    wandb.log({\"fp\": fp_s})\n",
        "    wandb.log({\"fn\": fn_s})\n",
        "    wandb.log({\"media_test_loss\": media_test_loss})\n",
        "\n",
        "  del py_input_ids\n",
        "  del py_attention_masks\n",
        "  del py_labels\n",
        "  del test_losses\n",
        "  del lote_teste_bar\n",
        "\n",
        "  return media_test_loss, acc, rec, pre, f1, vp_s, vn_s, fp_s, fn_s, lista_resultado_avaliacao"
      ],
      "execution_count": null,
      "outputs": []
    },
    {
      "cell_type": "markdown",
      "metadata": {
        "id": "VtblUQT0EAO5"
      },
      "source": [
        "## 5.2 Salvando o resultado da classificação"
      ]
    },
    {
      "cell_type": "code",
      "metadata": {
        "id": "vnu6iKHwAaTb"
      },
      "source": [
        "def salvaResultadoClassificacao(lista_resultado_avaliacao):\n",
        "\n",
        "  if model_args.salvar_classificacao:\n",
        "\n",
        "    # Import das bibliotecas.\n",
        "    import os\n",
        "    import datetime\n",
        "\n",
        "    # Recupera a hora do sistema.\n",
        "    data_e_hora = datetime.datetime.now()\n",
        "\n",
        "    # Nome arquivo resultado\n",
        "    NOME_ARQUIVO_CLASSIFICACAO = training_args.output_dir + str(model_args.fold) + MODELO_BERT + TAMANHO_BERT \n",
        "  \n",
        "    # Diretório para salvar o arquivo.\n",
        "    DIRETORIO_CLASSIFICACAO = \"/content/drive/MyDrive/Colab Notebooks/Data/CSTNEWS/validacao_classificacao/kfold/Classificacao/\"\n",
        "\n",
        "    # Verifica se o diretório existe\n",
        "    if not os.path.exists(DIRETORIO_CLASSIFICACAO):  \n",
        "      # Cria o diretório\n",
        "      os.makedirs(DIRETORIO_CLASSIFICACAO)\n",
        "      print('Diretório criado: {}'.format(DIRETORIO_CLASSIFICACAO))\n",
        "    else:\n",
        "      print('Diretório já existe: {}'.format(DIRETORIO_CLASSIFICACAO))\n",
        "\n",
        "    # Nome do arquivo a ser aberto.\n",
        "    NOME_ARQUIVO_CLASSIFICACAO_COMPLETO = DIRETORIO_CLASSIFICACAO + NOME_ARQUIVO_CLASSIFICACAO + \".csv\"\n",
        "\n",
        "    # Gera todo o conteúdo a ser salvo no arquivo\n",
        "    novoConteudo = \"\"        \n",
        "    for resultado in lista_resultado_avaliacao:      \n",
        "      novoConteudo = novoConteudo + data_e_hora.strftime(\"%d/%m/%Y %H:%M\") + \";\" + str(resultado[0]) + \";\" + str(resultado[1]) + \";\" + str(resultado[2]) + \"\\n\"\n",
        "\n",
        "    # Verifica se o arquivo existe.\n",
        "    if os.path.isfile(NOME_ARQUIVO_CLASSIFICACAO_COMPLETO):\n",
        "      print(\"Atualizando arquivo classificação: {}\".format(NOME_ARQUIVO_CLASSIFICACAO_COMPLETO))\n",
        "      # Abre o arquivo para leitura.\n",
        "      arquivo = open(NOME_ARQUIVO_CLASSIFICACAO_COMPLETO,'r')\n",
        "      # Leitura de todas as linhas do arquivo.\n",
        "      conteudo = arquivo.readlines()\n",
        "      # Conteúdo a ser adicionado.\n",
        "      conteudo.append(novoConteudo)\n",
        "\n",
        "      # Abre novamente o arquivo (escrita).\n",
        "      arquivo = open(NOME_ARQUIVO_CLASSIFICACAO_COMPLETO,'w')\n",
        "      # escreva o conteúdo criado anteriormente nele.\n",
        "      arquivo.writelines(conteudo)  \n",
        "      # Fecha o arquivo.\n",
        "      arquivo.close()\n",
        "    else:\n",
        "      print(\"Criando arquivo classificação: {}\".format(NOME_ARQUIVO_CLASSIFICACAO_COMPLETO))\n",
        "      # Abre novamente o arquivo (escrita).\n",
        "      arquivo = open(NOME_ARQUIVO_CLASSIFICACAO_COMPLETO,'w')\n",
        "      arquivo.writelines('data;id;classe;predicao\\n' + novoConteudo)  # escreva o conteúdo criado anteriormente nele.\n",
        "      # Fecha o arquivo.\n",
        "      arquivo.close()"
      ],
      "execution_count": null,
      "outputs": []
    },
    {
      "cell_type": "markdown",
      "metadata": {
        "id": "DloA0HIShFzW"
      },
      "source": [
        "## 5.3 Salvando o resultado da avaliação"
      ]
    },
    {
      "cell_type": "markdown",
      "metadata": {
        "id": "PUjV5m1X_TYH"
      },
      "source": [
        "### Salva o resultado da avaliação \n",
        "\n",
        "Salva o resultado da avaliação do conjunto de dados de teste do fold especificado."
      ]
    },
    {
      "cell_type": "code",
      "metadata": {
        "id": "4aiVdm7P_TlV"
      },
      "source": [
        "def salvaResultadoAvaliacao():\n",
        "\n",
        "  if model_args.salvar_avaliacao:\n",
        "\n",
        "    # Import das bibliotecas.\n",
        "    import os\n",
        "    import datetime\n",
        "\n",
        "    # Recupera a hora do sistema.\n",
        "    data_e_hora = datetime.datetime.now()\n",
        "\n",
        "    # Nome arquivo resultado\n",
        "    NOME_ARQUIVO_AVALIACAO = training_args.output_dir + str(model_args.fold) + MODELO_BERT + TAMANHO_BERT \n",
        "\n",
        "    # Diretório para salvar o arquivo.\n",
        "    DIRETORIO_AVALIACAO = \"/content/drive/MyDrive/Colab Notebooks/Data/CSTNEWS/validacao_classificacao/kfold/Avaliacao/\"\n",
        "\n",
        "    # Verifica se o diretório existe\n",
        "    if not os.path.exists(DIRETORIO_AVALIACAO):  \n",
        "      # Cria o diretório\n",
        "      os.makedirs(DIRETORIO_AVALIACAO)\n",
        "      print('Diretório criado: {}'.format(DIRETORIO_AVALIACAO))\n",
        "    else:\n",
        "      print('Diretório já existe: {}'.format(DIRETORIO_AVALIACAO))\n",
        "\n",
        "    # Nome do arquivo a ser aberto.\n",
        "    NOME_ARQUIVO_AVALIACAO_COMPLETO = DIRETORIO_AVALIACAO + NOME_ARQUIVO_AVALIACAO + \".csv\"\n",
        "\n",
        "    # Conteúdo a ser adicionado.\n",
        "    novoConteudo = NOME_ARQUIVO_AVALIACAO + \";\" +  data_e_hora.strftime(\"%d/%m/%Y %H:%M\") + \";\"  + treinamento_total + \";\"  + str(acc) + \";\"  +  str(vp_s) + \";\"  +  str(vn_s) + \";\" +  str(fp_s) + \";\" +  str(fn_s) + \"\\n\"\n",
        "\n",
        "    # Verifica se o arquivo existe.\n",
        "    if os.path.isfile(NOME_ARQUIVO_AVALIACAO_COMPLETO):\n",
        "      print(\"Atualizando arquivo resultado: {}\".format(NOME_ARQUIVO_AVALIACAO_COMPLETO))\n",
        "      # Abre o arquivo para leitura.\n",
        "      arquivo = open(NOME_ARQUIVO_AVALIACAO_COMPLETO,'r')\n",
        "      # Leitura de todas as linhas do arquivo.\n",
        "      conteudo = arquivo.readlines()\n",
        "      # Conteúdo a ser adicionado.\n",
        "      conteudo.append(novoConteudo)\n",
        "\n",
        "      # Abre novamente o arquivo (escrita).\n",
        "      arquivo = open(NOME_ARQUIVO_AVALIACAO_COMPLETO,'w')\n",
        "      # escreva o conteúdo criado anteriormente nele.\n",
        "      arquivo.writelines(conteudo)  \n",
        "      # Fecha o arquivo.\n",
        "      arquivo.close()\n",
        "    else:\n",
        "      print(\"Criando arquivo resultado: {}\".format(NOME_ARQUIVO_AVALIACAO_COMPLETO))\n",
        "      # Abre novamente o arquivo (escrita).\n",
        "      arquivo = open(NOME_ARQUIVO_AVALIACAO_COMPLETO,'w')\n",
        "      arquivo.writelines('arquivo;data;tempo;acuracia;vp;vn;fp;fn\\n' + novoConteudo)  # escreva o conteúdo criado anteriormente nele.\n",
        "      # Fecha o arquivo.\n",
        "      arquivo.close()"
      ],
      "execution_count": null,
      "outputs": []
    },
    {
      "cell_type": "markdown",
      "metadata": {
        "id": "bUskOwzJmpDB"
      },
      "source": [
        "### Carrega e calcula a média da acurácia dos folds\n"
      ]
    },
    {
      "cell_type": "code",
      "metadata": {
        "id": "C7e4KBUq5iHF"
      },
      "source": [
        "def carregaResultadoAvaliacao():\n",
        "\n",
        "  # Import das bibliotecas.\n",
        "  import os\n",
        "  import pandas as pd\n",
        "\n",
        "  # Acumuladores.\n",
        "  somaAcuracia = 0\n",
        "  listaTempo = []\n",
        "  contaFolds = 0\n",
        "\n",
        "  # Nome arquivo resultado avaliação\n",
        "  NOME_ARQUIVO_AVALIACAO = training_args.output_dir\n",
        "\n",
        "  print(\"Média dos arquivos: \", NOME_ARQUIVO_AVALIACAO + \"X\" + TAMANHO_BERT)\n",
        "\n",
        "  # Diretório para salvar o arquivo.\n",
        "  DIRETORIO_AVALIACAO = \"/content/drive/MyDrive/Colab Notebooks/Data/CSTNEWS/validacao_classificacao/kfold/Avaliacao/\"\n",
        "\n",
        "  # Verifica se o diretório dos resultados existem.\n",
        "  if os.path.exists(DIRETORIO_AVALIACAO):\n",
        "    # Percorre os arquivos de resultados.\n",
        "    for f in range(10):  \n",
        "      # Nome do arquivo a ser aberto.\n",
        "      NOME_ARQUIVO_AVALIACAO_COMPLETO = DIRETORIO_AVALIACAO + NOME_ARQUIVO_AVALIACAO + str(f+1) + MODELO_BERT + TAMANHO_BERT + \".csv\"    \n",
        "      # Verifica se o arquivo existe.\n",
        "      if os.path.isfile(NOME_ARQUIVO_AVALIACAO_COMPLETO):\n",
        "        # Carrega os dados do arquivo  \n",
        "        dados = pd.read_csv(NOME_ARQUIVO_AVALIACAO_COMPLETO, sep=';')\n",
        "        # Mostra os dados do teste do fold.\n",
        "        for index, linha in dados.iterrows():\n",
        "        \n",
        "          # Cálculo das estatísticas\n",
        "          acc = (linha['vp']+linha['vn'])/(linha['vp']+linha['vn']+linha['fp']+linha['fn'])\n",
        "          if (linha['vp']+linha['fn']) != 0:\n",
        "              rec = (linha['vp'])/(linha['vp']+linha['fn'])\n",
        "          else:\n",
        "              rec = 0\n",
        "          if (linha['vp']+linha['fp']) != 0:\n",
        "              pre = (linha['vp'])/(linha['vp']+linha['fp'])\n",
        "          else:  \n",
        "              pre = 0\n",
        "          if (pre + rec) != 0:  \n",
        "              f1 = 2 * ((pre * rec)/(pre + rec))\n",
        "          else:\n",
        "              f1 = 0\n",
        "          qtdeTestes = linha['vp']+linha['vn']+linha['fp']+linha['fn']\n",
        "          print('Arquivo: {}, Data: {}, Tempo: {}, QtdeTeste: {:3d}, Acc: {:.8f}, Rec: {:.8f}, Pre: {:.8f}, F1:{:.8f}, vp: {:4d}; vn: {:4d}; fp: {:4d}; fn: {:4d}'.format( \n",
        "               linha['arquivo'], linha['data'], linha['tempo'], qtdeTestes, acc, rec, pre, f1, linha['vp'], linha['vn'], linha['fp'], linha['fn']))    \n",
        "           \n",
        "          # Guarda o tempo.\n",
        "          listaTempo.append(str(linha['tempo']))\n",
        "\n",
        "        # Procura a maior acurácia.\n",
        "        somaAcuracia = somaAcuracia + dados['acuracia'].max()\n",
        "        # Conta o número de folds.\n",
        "        contaFolds = contaFolds + 1\n",
        "    \n",
        "    # Mostra a soma da acurácia . \n",
        "    print('Total acurácia                                       : {:.8f}'.format(somaAcuracia))\n",
        "    # Mostra a quantidade de folds.\n",
        "    print('Quantidade de folds                                  : {}'.format(contaFolds))  \n",
        "    # Calcula a média.\n",
        "    media = somaAcuracia/contaFolds\n",
        "    print('A média da acurácia de {:2d} folds é                    : {:.8f}'.format(contaFolds, media))\n",
        "    print('O tempo gasto na execução do treinamentoa {:2d} folds é : {}'.format(contaFolds, somaTempo(listaTempo)))\n",
        "    print('A média de tempo de execução de {:2d} folds é           : {}'.format(contaFolds, mediaTempo(listaTempo)))\n",
        "  else:\n",
        "    print('Diretório com os resultados não encontrado')"
      ],
      "execution_count": null,
      "outputs": []
    },
    {
      "cell_type": "markdown",
      "metadata": {
        "id": "MPRD4HkL2Ymp"
      },
      "source": [
        "## 5.4 Execução do treinamento e avaliação de todos os Folds"
      ]
    },
    {
      "cell_type": "code",
      "metadata": {
        "colab": {
          "base_uri": "https://localhost:8080/",
          "height": 1000,
          "referenced_widgets": [
            "b5a0ba6747214caeb0ab9f6d1c972b18",
            "0e5161417fae45dc8989ccdcf80af39d",
            "37698c7c11cf41e8af058b04630d1a5f",
            "e66baec4a9b34b2fa652888e05bafe9f",
            "0d818fe301d34deab2cd54d4c7f2c30c",
            "d48dd14f45894430954eaf8f9af9a122",
            "56137943fdf24fbe96fe9e7a02b70147",
            "25999f50c2504aa1b71b8f81d189a0da",
            "02578d2309c34a2f904b386fc086b3d0",
            "4bd1b14356c04281aaff0aa4f6c98458",
            "33691b7d271d418dbea012201e5bc1ff",
            "e76a3c1f17b54c7ea334f9a5e3420043",
            "283bf611bda640b0ac8543eecdd130d2",
            "627e577ea12841bfa9bf27d2e99fa00a",
            "1354ee0cbb0c47e88c023c0d6483dba5",
            "6e0b5a1cd1044677a72b196874d051ed",
            "5321e7dd5bda470fa7c20d56ed9bd085",
            "37e0c188f8f34cc7a0b3953c570b5fd2",
            "673801877053487a96e43f3c4229c66a",
            "88d6701e807a4adeba5bfe2734d4f360",
            "b04aeea06815475d9441619453a01cb0",
            "1ad8ea8672584d37b3f148d80096fb83",
            "65b06833424340de831859765a0db175",
            "82399ac718364a8c92be4cf03cab9e89",
            "f9f9618f59cf4a4e9be254f7a816571d",
            "1850eb65c7114b4884ebc7b30d9fe3ab",
            "76cb2a13dbc94c8eaba436cff4d0404b",
            "87407850c88542f884eaec3266ddabde",
            "96089f888b9449bbaac3952b7c7a70e2",
            "7072de38d9ee4dd194e6711a2dffd900",
            "e467c2b6e40e47199d416a767b597d46",
            "1745d67c454947b3a9f6650c2ddf7398",
            "726c0184dbc74c4b8f51a6a6887de300",
            "bfb25e6ad105479ebd2427e78f7497f7",
            "c72fe755f84645dba558440e2f8702ee",
            "b1664054920944d9ac6b0a40b8f01a83",
            "890065b847d74ead93cf440d4e8470ec",
            "2a607acafe7943b0a5f9ff559787463e",
            "61422bf1a3db4ad2a28fc1ecc0e5ba44",
            "aac2db26ff0148ba984bacb2fb9050bf",
            "d3a1329102ab4b7f93871757085a55df",
            "a0b900520fbe4ad8a06a5bbc57b18d8a",
            "d747987e47ef49c590d925df44fc5a50",
            "6e91c95ecc914029b5cd451bfe8ba107",
            "d1dfda6c6f3848aebccdafb98e7fc71d",
            "e69a96bb1924443f93f46ac47dee8d98",
            "7cd2f989f2a546a0a4728284901ab45c",
            "8e18d5fb853d4a33979914dff270d7e2",
            "c7b6d97eec2745579aad827981e50fab",
            "f4f716a404504d63a2855b90b25d3348",
            "390dd1ca72144a2f84abc67a96a3db96",
            "0cf9ac1f35ea44588d99d86336e5f2c9",
            "f984751edc66473d96df5b5f63e4668c",
            "9f70ba8cacbe432a8d1baf1da78a8bd4",
            "8998d36c21044bb591cffed8587fab7f",
            "2ec912de65444dc391d0e0007d640866",
            "c9ae4a3d033d41e2bc33dc7ce82233df",
            "57c96416d2c74402a74f6cd3ae818d53",
            "3822bd0caded40c8b249004ac710286f",
            "24e606164e614e2db4b78453ae461509",
            "ea7dae2b13984124ab84beff3fd271af",
            "1d690162d0a14a83bd9489cbe4b44b5a",
            "01343f489236449bb01ecfcac6ae8319",
            "8d6422287f90474bac334d79883b4104",
            "21c1c435451640e19860848d26f24747",
            "1254d923147142719fb88590e2b3c3ad",
            "d84e8293042f49fabd87628a9bce0ef9",
            "e5025091158e4869b2472e0f115b3d84",
            "89b7fcd315864eaba2d15ff017ba297b",
            "af6c90bd8fe048d28a64a95608b61366",
            "249a2d44d25642cca2c1f919b49eaab5",
            "69f4f7a3b88447b7968a38ceabe6c9f4",
            "b323a1cb866941c79773699d1297a220",
            "73288b7682e9494ca0d0acde795b3c7f",
            "4f233a6f0f7e449eac225e8e9df3d4ed",
            "f4c81907cc85430f8e2784e856d69608",
            "37d2277b732446d7afa95decd7c2ca00",
            "e453304896d44aa495748a71332b99d1",
            "8a247b478c3c44589a6ab2aa00434114",
            "40d46c9a9c1242259a17423eca024f63",
            "522b028575b54829b520b27dc9532c3e",
            "14ace2c77bcb400392bd68d9208897e7",
            "7937d6078bdf443a83d4aee2b701936a",
            "e3099c91d351436eb18c0861b1dab88c",
            "16dc2015393a4383a14aada654a29efd",
            "62da8f71023b40169b09ee6220abd17d",
            "2a82ec91b7fc473a944995ce75159f58",
            "8732df09844b4c76b7feae9463d41eb3",
            "27cec6626840467880bc72138c2f698e",
            "b36972c1bf3546ce956898c1658cdcd4",
            "d25b460a14674267a8b9bd99c8f46981",
            "6dc41638faf547979cf08858a0ad5209",
            "b8e4fe840e864d6a8215dc0b113eac8e",
            "edaf382c110b440b865bfa1a64c91c9c",
            "36e0001f69714076bf462b0617d57e3c",
            "84d91f2157784bf3bd9c2ab65ff6187b",
            "10410498cf014289b6f478c42442378a",
            "c6ed7ebebe3f4cf8b4068412d6471992",
            "9cebff4f7b514ed784e35cd801e4e65f",
            "bcdf3f94890a4774bead074ec8510570",
            "15ef0ba18db04775ba66c8a2b023a142",
            "30cdec9bb817405da437e49357998a5f",
            "4deb0653342e4bfabbaa0fcbf22e2d79",
            "1cdc9725b3ea455692b2019880936bc9",
            "6e0a11c4719a44aaa1ae25efd4c00ff8",
            "9988ea41f3bd4bd59fbca507261f2e7c",
            "f89326abf0654fc39de58bd7d3eab843",
            "e9b752ef92574734b675f3851abc8cd4",
            "c286a1b43653440c94e4830177c300eb",
            "012a4e16bbe844f984b394dd9b503a5c",
            "9e14e78e2a744932baa8e5b9df0f58e2",
            "669ddeeef0f94b05bd858d1422ecea59",
            "393725a8793f428487f4a3e495cf9c1a",
            "c1f974b151be4466b1be7ecd2baadce4",
            "b28e74ed156448c98328def8840a56d0",
            "9064e54012f64387b054d42f9ad469c5",
            "ae3e630cf0344b9eba5bdf04e42459dd",
            "e106f18b129849d6a37d54cdb9401fea",
            "a573e713280a4a4192bc5853337e2615",
            "525a123f33374cc9bb67b264eb8ba73c",
            "8ae978a26fdd4a2880669d2cfdb1fbae",
            "28e023a3e0e54ed68e6f219144e6a012",
            "5c1a5841ceb74c8e847a014d21b4f438",
            "d9b85e5c35d94eef937c09b79b43c247",
            "32517deabe7e4120aa9035e8578435a5",
            "4b6405b3b5c14c8ea3b6d44cffdb9ef7",
            "f685fe09869644fb92580998775a8201",
            "d0b690e9711745f09a393ac97fe12ad4",
            "daa68bfed9634ad6a9ac3b4bc3ace0d1",
            "b2dbdb084bfd43468a64fb35b6f7b145",
            "e74f108f52e0475abe5ce086794e7b1e",
            "ef7d2a342d8b4294bbfeab1170bc8c49",
            "bfe171bb6cb74574ac54ba156193cdab",
            "d02555db86b84975ab883ffda4f3eca4",
            "20cc672717714146a0b63fe7d49b9549",
            "f99cbdf52f684e88a68beac74438d4f2",
            "1469dec1e8af4aad8c1e565813b486a8",
            "839ceb9c48654fa0af94fb7ec155ccb9",
            "392df7cd1e5e477ca541628343aff387",
            "6425d7a754254645a3063c87302d4fd1",
            "23fef13768ba429f883f9da85360582f",
            "c91d5ebce26542b188ebef7b91ca4a6d",
            "4f3619282bdc4faa8ba6d8f35ad423d5",
            "6d144a5ec16a41508a1b3aef856ba0fd",
            "6739f1f7c10b416a8131bcb33e6eecc1",
            "b037d460ad7d438b851dba505734dcd2",
            "fca88d7e76bb478eba4a247795905d3b",
            "4d0bb4f276624237afce23e7c17a0c29",
            "b25c345432894b558e7a6319254a15d0",
            "35438e6fa3384e8ab83785211d651e42",
            "39471c272a304f25adb49cac8aafc5cf",
            "68f2c69f8b134a0a85c8ab7bb7066950",
            "cd40c73776f14b7e93690979200e8720",
            "000c4a431fd34526b26f0f2a4fdab167",
            "4e6e840069924bc5a12b6e7d5e6760af",
            "87544e6dec284207b583c6724fca108a",
            "ef80065181dd4a779d129d9defbf6362",
            "4c56b593c29646ea92c39999ffeb5ae6",
            "4a59cb32c8bb4938a92706003e50e3b9",
            "1cbe2146b0724d16817f7256e0087fb7",
            "d310ba60874e4b25a888d405e5045c5b",
            "1a7f508520f74381b29d656432027434",
            "fd286c22416d42b0929e3bf18b588659",
            "0547a59247724527822ff27b01c42d1f",
            "323e8ff760694930bec18ae6c9339523",
            "95e0a82732294e2b995e886897b49dc9",
            "4af29241df4e489ebcb8a8f5b6993a2f",
            "d8e0ee219520490db95444721f2c3bf9",
            "3fa292ad731f45f79026d8df79958166",
            "7da0b5b1c81d4a9ba0cf39fc713c7c8c",
            "34d2e8101a694a208b3b2da17df68ad2",
            "26015f8f87dc4e6c9078c07368973e03",
            "3fc2b4899cda45bbaa8353cf79ecda50",
            "64b7e6d7ad2c4eaa86d90315765afc57",
            "2e260ad8e64749f1a52a48bbedee2571",
            "b2a85a100736486eb325e5a840018d1c",
            "2e920a6fe34549058d31edd7e4542f4f",
            "a537e8c7af2544748ec1d96e9ca7524c",
            "64e5e4d9a52845e3859c2438004f58df",
            "d3b05cf37f2e404a9edbf791580ed204",
            "726153c005574b9eba63c32f4e636fbd",
            "9046f4efafea4e799f7149b338119819",
            "31674bacb5a24a698041bc5a195fb7db",
            "51f3c7d842064e1f8c6d29063a59b7a0",
            "152e029dc14d43cf96997b22c2a1bc06",
            "8f876d8e747e49f9a72749959a1ae847",
            "2f702b4f9ac5496891c5c2f46db6b613",
            "90b71e1a6dcf45fd8bb449a4fd998a00",
            "de421a4c502e41f79197118b5f633fbe",
            "c9f15323024a4ae88df8626b2a7b294c",
            "91045b1eb9fd4c159fedc365b02fd3d3",
            "fd8139789b95415392bb30d3fcb6601c",
            "427f9df3529e43518a5e2be398428242",
            "ae7f3705b69a4d62a86d2905c9d6503d",
            "dbd92183b7d743869e5d611ef9e7d458",
            "1035de6d4512404080a40d9b36976ea2",
            "76d278a83f13435b9e544b1ea70c988e",
            "49f349e8b31d45dbae20c78ae92ecbb6",
            "0c17cb7ddb3b42f89149a93322a876d1",
            "c81af47ffac74452b76789fe058bdcc9",
            "f0deafc6c0d44e9480a5a927cdb12309",
            "ad4033139c1040efb8573ce7cd2c81de",
            "97472b64d6f6432fac19a5cf57981058",
            "67e75e8296d347baa301aee2da0a5cb0",
            "354c2847baa0460aaf24dcd624484655",
            "76e209416d4f4d1dbf5e23b59398f541",
            "3f5f3e5efd78447bbdb07149c2410d17",
            "97f3a3988ef94f9480196027d5b85dfb",
            "70f57dfeb82349d183474675707899ec",
            "3339a8e9278142eda6bfab7207b4d50d",
            "332c022cafe3458389c0e31a4cf696e7",
            "d3a115702f9848e485bdff9da9347e8e",
            "d0b84ec546b14b358790f4ccfdca6fec",
            "03cfc5a3a70e4c30a5012e212ab8e05c",
            "723f9d0a21c440539248d0abef5d32d3",
            "24d5644ec2a14397ac44a26c2e8ce06c",
            "f89f69e0a9064e2ab8fcda9d4894b086",
            "5239d25c153c4392ab55524262fcb048",
            "98709c3f34a24ea88bba04b631b1aa01",
            "d2470743bc164e029589f6d699fe40a6",
            "973f91361ddc4a829c9300f9a153b160",
            "50ac7524123c4b8baa931be3c4370a46",
            "8fc54876e085450283db19ee676009b6",
            "50e158e87b2146aea5163708598d6382",
            "03f9ab707ba4481faa4d9db8e2fa4d72",
            "fa2738c8cca6485dbcc6bfc6ed9bf11d",
            "1f8ee5c240134819b7e27d8d230145e8",
            "be9e08ca97ef4466b1eb0a1eb35e4fe0",
            "1e6c2c01e7974d748a51e03c43b253db",
            "e73ad6a587af46569c24ac943e0fe3d5",
            "26046e105e2d4dfc92ce74189048fe25",
            "cf1f4e504a23456e8a92f5ded5e4b568",
            "a1d0b6fadf2e413286d29a8c049aae3f",
            "06ab8289cafb430986e6a914a89a0f4c",
            "5aa897b0b19b4304b5d20382913b63f4",
            "b62d016d935c40118b5dc60d76dbab30",
            "5b1a0cdc537847ef8141a351e4854b0b",
            "c4a1eeec2aae4e93b248c84bfd9616aa",
            "91b5bb95393c4764b884f082c8c4a020",
            "f54904e8f2ca432c9f4b396c0deaee68",
            "3ef1a9acea6444e78b9163ca5a4a3194",
            "6d28b2d03e154d878a7e7c5b9b63def4",
            "66ee528abc584bbc897f5125e696d1d5",
            "f01866e703a34b63a5d35d6498e4ec97",
            "71341d4d209e4ddcad294700b78ff743",
            "bea116587fed44b9bf909a69ed662a4b",
            "e930f9db4c8d416f890d01db6bb7bbb5",
            "c0ae558f668e48a3918b211322f28b1a",
            "7d2b043d2d3c4de49a5b045350106ce8",
            "79fd39ac12b24a12a562524adcd5a261",
            "74c6214c77d145f2a09c779530e16c90",
            "ec3c427cec5147b59bf2399fed71c91c",
            "b827da7ffce148f69a5735d1fc93198c",
            "aa92438699df4b0485ebba256caf869e",
            "aa630c64fe6a4b70b46a53c82650994e",
            "524f62296afc40f1a20dc95ae2f6e679",
            "4c2f0c0c94674774a87ffe73e663fec8",
            "aabad85e23a74e44b8ced1bfcd06ae08",
            "1e3828c2a4264fe09a131ba89a37314b",
            "0d0f377935754c16ad9434fd890d2cb5",
            "e293a5fbac7c4c07ae687d163754fb5e",
            "89bbf236fc2f4f38ba0105327639cdde",
            "30825ee1d8354ab8994e600bf9fd596d",
            "0967f6a841ab47d89fbc6fee85c5aacb",
            "611b0d42135e4252adad7aba0344adcd",
            "db7c9b89da834a859285f00f8eb10e35",
            "27d6e6fb5c034ee882d226cd69a88393",
            "49bc824360864b79bd5d502fa98d8b82",
            "664be6d596f84cb1be31d79c4a4365ce",
            "a71dbf84222e465d9b4d6b81b9407d7b",
            "a2ef6ea41f91443a8fcdd39a1beff3ff",
            "aa1935b83c3c4fde9fbb0fb0a9247786"
          ]
        },
        "id": "XTt9_BAS2adF",
        "outputId": "1c56c508-588f-4747-d619-c3546cb51cd5"
      },
      "source": [
        "# Import das bibliotecas\n",
        "import time\n",
        "import datetime\n",
        "\n",
        "# Percorre todos os folds do intervalo de inicioFold até fimFold\n",
        "for ifold in range(inicioFold,fimFold+1):\n",
        "\n",
        "  # Seta o parâmetro do fold\n",
        "  model_args.fold = ifold\n",
        "  print(\"\\nProcessamendo do fold: {}\".format(model_args.fold))\n",
        "  \n",
        "  # Marca o tempo de início do processamento\n",
        "  inicioProcessamentof = time.time()\n",
        "\n",
        "  print(\"  Tempo de início de processamento fold:  {:} (h:mm:ss)\".format(inicioProcessamentof))\n",
        "\n",
        "  # Carregando o modelo \n",
        "  model = carregaModelo(model_args.pretrained_model_name_or_path)\n",
        "  \n",
        "  # Inicializa o wandb para registro\n",
        "  wandb = inicializacaoWandb()\n",
        "\n",
        "  # Conecta o modelo a GPU\n",
        "  model = conectaGPU(model)\n",
        "\n",
        "  # Função de carregamento dos dados de um fold\n",
        "  dfdados_train, dfdados_test = carregamentoDadosFold(model_args.fold)\n",
        "\n",
        "  # Descartando documentos muito grandes\n",
        "  dfdados_train, dfdados_test = descarteDocumentosGrandes(model_args.max_seq_len, dfdados_train, dfdados_test)\n",
        "  \n",
        "  # Pega as listas de documentos de treino e seus rótulos.\n",
        "  documentos_treino = dfdados_train.documento.values\n",
        "  classes_treino = dfdados_train.classe.values\n",
        "  documentoids_treino = dfdados_train.id.values\n",
        "\n",
        "  # Pega as listas de documentos teste e seus rótulos.\n",
        "  documentos_teste = dfdados_test.documento.values\n",
        "  classes_teste = dfdados_test.classe.values\n",
        "  documentoids_teste = dfdados_test.id.values\n",
        "\n",
        "  # Mostra o resultado dos dados carregados.\n",
        "  print(\"Total do conjunto de dados          : {}.\".format(len(documentos_treino) + len(documentos_teste)))\n",
        "  print(\"Total do conjunto de dados de treino: {}.\".format(len(documentos_treino)))\n",
        "  print(\"Total do conjunto de dados de teste : {}.\".format(len(documentos_teste)))\n",
        "\n",
        "  #################  Treinamento\n",
        "\n",
        "  # Carrega o otimizador\n",
        "  optimizer = carregaOtimizador()\n",
        "\n",
        "  # Carrega o agendador\n",
        "  scheduler = carregaAgendador()\n",
        "\n",
        "  # Registra o tempo inicial.\n",
        "  treinamento_t0 = time.time()\n",
        "\n",
        "  # Realiza o treinamento.\n",
        "  realizaTreinamento(documentos_treino, classes_treino, documentoids_treino, training_args.num_train_epochs)\n",
        "  \n",
        "  # Medida de quanto tempo levou a execução do treinamento.\n",
        "  treinamento_total = formataTempo(time.time() - treinamento_t0)\n",
        "\n",
        "  print(\"  Tempo total treinamento       : {:}\".format(treinamento_total))\n",
        "  \n",
        "  #################  Treinamento\n",
        "\n",
        "  ################# Avaliação\n",
        "\n",
        "  # Registra o tempo inicial.\n",
        "  avaliacao_t0 = time.time()\n",
        "\n",
        "  # Realiza a avaliação do modelo.\n",
        "  media_test_loss, acc, rec, pre, f1, vp_s, vn_s, fp_s, fn_s, lista_resultado_avaliacao = realizaAvaliacao(documentos_teste, classes_teste, documentoids_teste)\n",
        "\n",
        "  print('Avaliação loss: {:.8f}; Acc: {:.8f}; Rec: {:.8f}; Pre: {:.8f}, F1:{:.8f}, vp: {:3d}; vn: {:3d}; fp: {:3d}; fn: {:3d}'.format( \n",
        "        media_test_loss, acc, rec, pre, f1, vp_s, vn_s, fp_s, fn_s))      \n",
        "    \n",
        "  print(\"Acurácia do fold {}        : {:.8f}\".format(model_args.fold, acc))  \n",
        "\n",
        "  # Medida de quanto tempo levou a execução do treinamento e avaliação\n",
        "  avaliacao_total = formataTempo(time.time() - avaliacao_t0)\n",
        "\n",
        "  print(\"Tempo gasto na avaliação  : {:}\".format(avaliacao_total))\n",
        "\n",
        "  ################# Avaliação\n",
        "\n",
        "  # Salva o resultado da classificação\n",
        "  salvaResultadoClassificacao(lista_resultado_avaliacao)\n",
        "\n",
        "  # Salva o resultado da avaliação\n",
        "  salvaResultadoAvaliacao()\n",
        "\n",
        "  # Apaga os dados\n",
        "  del dfdados_train\n",
        "  del dfdados_test\n",
        "  del documentos_treino\n",
        "  del classes_treino\n",
        "  del documentoids_treino\n",
        "  del documentos_teste\n",
        "  del classes_teste\n",
        "  del documentoids_teste\n",
        "  del lista_resultado_avaliacao\n",
        "  del optimizer\n",
        "  del scheduler\n",
        "  del model\n",
        "\n",
        "  # Pega o tempo atual menos o tempo do início do processamento.\n",
        "  finalProcessamentof = time.time()\n",
        "  tempoTotalProcessamentof = formataTempo(finalProcessamentof - inicioProcessamentof)\n",
        "\n",
        "  print(\"\")\n",
        "  print(\"  Tempo processamento fold: {:} (h:mm:ss)\".format(tempoTotalProcessamentof))"
      ],
      "execution_count": null,
      "outputs": [
        {
          "output_type": "stream",
          "text": [
            "\n",
            "Processamendo do fold: 6\n",
            "  Tempo de início de processamento fold:  1621867346.1301177 (h:mm:ss)\n",
            "Carregando o modelo BERT do diretório /content/modelo...\n"
          ],
          "name": "stdout"
        },
        {
          "output_type": "stream",
          "text": [
            "Some weights of the model checkpoint at /content/modelo were not used when initializing BertForSequenceClassification: ['cls.predictions.bias', 'cls.predictions.transform.dense.weight', 'cls.predictions.transform.dense.bias', 'cls.predictions.transform.LayerNorm.weight', 'cls.predictions.transform.LayerNorm.bias', 'cls.predictions.decoder.weight', 'cls.seq_relationship.weight', 'cls.seq_relationship.bias']\n",
            "- This IS expected if you are initializing BertForSequenceClassification from the checkpoint of a model trained on another task or with another architecture (e.g. initializing a BertForSequenceClassification model from a BertForPreTraining model).\n",
            "- This IS NOT expected if you are initializing BertForSequenceClassification from the checkpoint of a model that you expect to be exactly identical (initializing a BertForSequenceClassification model from a BertForSequenceClassification model).\n",
            "Some weights of BertForSequenceClassification were not initialized from the model checkpoint at /content/modelo and are newly initialized: ['classifier.weight', 'classifier.bias']\n",
            "You should probably TRAIN this model on a down-stream task to be able to use it for predictions and inference.\n"
          ],
          "name": "stderr"
        },
        {
          "output_type": "stream",
          "text": [
            "\u001b[34m\u001b[1mwandb\u001b[0m: Appending key for api.wandb.ai to your netrc file: /root/.netrc\n"
          ],
          "name": "stdout"
        },
        {
          "output_type": "stream",
          "text": [
            "\u001b[34m\u001b[1mwandb\u001b[0m: Currently logged in as: \u001b[33mosmar-braz\u001b[0m (use `wandb login --relogin` to force relogin)\n"
          ],
          "name": "stderr"
        },
        {
          "output_type": "display_data",
          "data": {
            "text/html": [
              "\n",
              "                Tracking run with wandb version 0.10.30<br/>\n",
              "                Syncing run <strong style=\"color:#cdcd00\">AjusteFinoCSTNews_v1_C_SB_KF_E_4_lr_5_b_4_8_f6</strong> to <a href=\"https://wandb.ai\" target=\"_blank\">Weights & Biases</a> <a href=\"https://docs.wandb.com/integrations/jupyter.html\" target=\"_blank\">(Documentation)</a>.<br/>\n",
              "                Project page: <a href=\"https://wandb.ai/osmar-braz/ajustefinocstnews_v1_c_sb_kfold\" target=\"_blank\">https://wandb.ai/osmar-braz/ajustefinocstnews_v1_c_sb_kfold</a><br/>\n",
              "                Run page: <a href=\"https://wandb.ai/osmar-braz/ajustefinocstnews_v1_c_sb_kfold/runs/qqlbtti9\" target=\"_blank\">https://wandb.ai/osmar-braz/ajustefinocstnews_v1_c_sb_kfold/runs/qqlbtti9</a><br/>\n",
              "                Run data is saved locally in <code>/content/wandb/run-20210524_144239-qqlbtti9</code><br/><br/>\n",
              "            "
            ],
            "text/plain": [
              "<IPython.core.display.HTML object>"
            ]
          },
          "metadata": {
            "tags": []
          }
        },
        {
          "output_type": "stream",
          "text": [
            "Pytorch rodando o modelo na GPU\n",
            "Carregando arquivo de treino: /content/validacao_kfold/cstnews_md_train_f6.csv\n",
            "Carregando arquivo de teste: /content/validacao_kfold/cstnews_md_test_f6.csv\n",
            "Qtde de dados de treino: 8964\n",
            "Qtde de dados de teste: 996\n"
          ],
          "name": "stdout"
        },
        {
          "output_type": "stream",
          "text": [
            "2021-05-24 14:43:11,161 : INFO : NumExpr defaulting to 2 threads.\n"
          ],
          "name": "stderr"
        },
        {
          "output_type": "stream",
          "text": [
            "Tamanho do dataset de treino: 8964\n",
            "Tamanho do dataset de teste: 996\n",
            "Total do conjunto de dados          : 9960.\n",
            "Total do conjunto de dados de treino: 8964.\n",
            "Total do conjunto de dados de teste : 996.\n",
            "Total de etapas: 35856\n",
            "\n",
            "Realizando Treinamento fold: 6\n"
          ],
          "name": "stdout"
        },
        {
          "output_type": "display_data",
          "data": {
            "application/vnd.jupyter.widget-view+json": {
              "model_id": "b5a0ba6747214caeb0ab9f6d1c972b18",
              "version_minor": 0,
              "version_major": 2
            },
            "text/plain": [
              "HBox(children=(FloatProgress(value=0.0, description='Épocas', max=4.0, style=ProgressStyle(description_width='…"
            ]
          },
          "metadata": {
            "tags": []
          }
        },
        {
          "output_type": "stream",
          "text": [
            "Criando Lotes Inteligentes de 8,964 amostras com tamanho de lote 4...\n",
            "\n",
            "Tokenizando 8,964 amostra...\n",
            "  Tokenizado 0 amostras.\n",
            "  Tokenizado 900 amostras.\n",
            "  Tokenizado 1,800 amostras.\n",
            "  Tokenizado 2,700 amostras.\n",
            "  Tokenizado 3,600 amostras.\n",
            "  Tokenizado 4,500 amostras.\n",
            "  Tokenizado 5,400 amostras.\n",
            "  Tokenizado 6,300 amostras.\n",
            "  Tokenizado 7,200 amostras.\n",
            "  Tokenizado 8,100 amostras.\n",
            "FEITO.\n",
            "     8,964 amostras\n",
            "\n",
            "     8,964 amostras após classificação\n",
            "\n",
            "Criando lotes de tamanho 4...\n",
            "  Selecionado 900 lotes.\n",
            "  Selecionado 1,800 lotes.\n",
            "\n",
            "  FEITO - Selecionado 2,241 lotes.\n",
            "\n",
            "Preenchendo sequências dentro de cada lote...\n"
          ],
          "name": "stdout"
        },
        {
          "output_type": "display_data",
          "data": {
            "application/vnd.jupyter.widget-view+json": {
              "model_id": "02578d2309c34a2f904b386fc086b3d0",
              "version_minor": 0,
              "version_major": 2
            },
            "text/plain": [
              "HBox(children=(FloatProgress(value=0.0, description='Epoca 1', max=2241.0, style=ProgressStyle(description_wid…"
            ]
          },
          "metadata": {
            "tags": []
          }
        },
        {
          "output_type": "stream",
          "text": [
            "  Lote     900  de    2,241.    Gasto: 0:05:26.  Restante: 0:08:06\n",
            "  Lote   1,800  de    2,241.    Gasto: 0:10:55.  Restante: 0:02:40\n",
            "\n",
            "  Média perda(loss) do treinamento da época : 0.70451532\n",
            "  Tempo de treinamento da época             : 0:13:35\n",
            "  Tempo parcial do treinamento              : 0:13:59 (h:mm:ss)\n",
            "Criando Lotes Inteligentes de 8,964 amostras com tamanho de lote 4...\n",
            "\n",
            "Tokenizando 8,964 amostra...\n",
            "  Tokenizado 0 amostras.\n",
            "  Tokenizado 900 amostras.\n",
            "  Tokenizado 1,800 amostras.\n",
            "  Tokenizado 2,700 amostras.\n",
            "  Tokenizado 3,600 amostras.\n",
            "  Tokenizado 4,500 amostras.\n",
            "  Tokenizado 5,400 amostras.\n",
            "  Tokenizado 6,300 amostras.\n",
            "  Tokenizado 7,200 amostras.\n",
            "  Tokenizado 8,100 amostras.\n",
            "FEITO.\n",
            "     8,964 amostras\n",
            "\n",
            "     8,964 amostras após classificação\n",
            "\n",
            "Criando lotes de tamanho 4...\n",
            "  Selecionado 900 lotes.\n",
            "  Selecionado 1,800 lotes.\n",
            "\n",
            "  FEITO - Selecionado 2,241 lotes.\n",
            "\n",
            "Preenchendo sequências dentro de cada lote...\n"
          ],
          "name": "stdout"
        },
        {
          "output_type": "display_data",
          "data": {
            "application/vnd.jupyter.widget-view+json": {
              "model_id": "5321e7dd5bda470fa7c20d56ed9bd085",
              "version_minor": 0,
              "version_major": 2
            },
            "text/plain": [
              "HBox(children=(FloatProgress(value=0.0, description='Epoca 2', max=2241.0, style=ProgressStyle(description_wid…"
            ]
          },
          "metadata": {
            "tags": []
          }
        },
        {
          "output_type": "stream",
          "text": [
            "  Lote     900  de    2,241.    Gasto: 0:05:31.  Restante: 0:08:12\n",
            "  Lote   1,800  de    2,241.    Gasto: 0:10:53.  Restante: 0:02:40\n",
            "\n",
            "  Média perda(loss) do treinamento da época : 0.70420804\n",
            "  Tempo de treinamento da época             : 0:13:35\n",
            "  Tempo parcial do treinamento              : 0:27:58 (h:mm:ss)\n",
            "Criando Lotes Inteligentes de 8,964 amostras com tamanho de lote 4...\n",
            "\n",
            "Tokenizando 8,964 amostra...\n",
            "  Tokenizado 0 amostras.\n",
            "  Tokenizado 900 amostras.\n",
            "  Tokenizado 1,800 amostras.\n",
            "  Tokenizado 2,700 amostras.\n",
            "  Tokenizado 3,600 amostras.\n",
            "  Tokenizado 4,500 amostras.\n",
            "  Tokenizado 5,400 amostras.\n",
            "  Tokenizado 6,300 amostras.\n",
            "  Tokenizado 7,200 amostras.\n",
            "  Tokenizado 8,100 amostras.\n",
            "FEITO.\n",
            "     8,964 amostras\n",
            "\n",
            "     8,964 amostras após classificação\n",
            "\n",
            "Criando lotes de tamanho 4...\n",
            "  Selecionado 900 lotes.\n",
            "  Selecionado 1,800 lotes.\n",
            "\n",
            "  FEITO - Selecionado 2,241 lotes.\n",
            "\n",
            "Preenchendo sequências dentro de cada lote...\n"
          ],
          "name": "stdout"
        },
        {
          "output_type": "display_data",
          "data": {
            "application/vnd.jupyter.widget-view+json": {
              "model_id": "f9f9618f59cf4a4e9be254f7a816571d",
              "version_minor": 0,
              "version_major": 2
            },
            "text/plain": [
              "HBox(children=(FloatProgress(value=0.0, description='Epoca 3', max=2241.0, style=ProgressStyle(description_wid…"
            ]
          },
          "metadata": {
            "tags": []
          }
        },
        {
          "output_type": "stream",
          "text": [
            "  Lote     900  de    2,241.    Gasto: 0:05:30.  Restante: 0:08:12\n",
            "  Lote   1,800  de    2,241.    Gasto: 0:10:55.  Restante: 0:02:41\n",
            "\n",
            "  Média perda(loss) do treinamento da época : 0.70329479\n",
            "  Tempo de treinamento da época             : 0:13:34\n",
            "  Tempo parcial do treinamento              : 0:41:56 (h:mm:ss)\n",
            "Criando Lotes Inteligentes de 8,964 amostras com tamanho de lote 4...\n",
            "\n",
            "Tokenizando 8,964 amostra...\n",
            "  Tokenizado 0 amostras.\n",
            "  Tokenizado 900 amostras.\n",
            "  Tokenizado 1,800 amostras.\n",
            "  Tokenizado 2,700 amostras.\n",
            "  Tokenizado 3,600 amostras.\n",
            "  Tokenizado 4,500 amostras.\n",
            "  Tokenizado 5,400 amostras.\n",
            "  Tokenizado 6,300 amostras.\n",
            "  Tokenizado 7,200 amostras.\n",
            "  Tokenizado 8,100 amostras.\n",
            "FEITO.\n",
            "     8,964 amostras\n",
            "\n",
            "     8,964 amostras após classificação\n",
            "\n",
            "Criando lotes de tamanho 4...\n",
            "  Selecionado 900 lotes.\n",
            "  Selecionado 1,800 lotes.\n",
            "\n",
            "  FEITO - Selecionado 2,241 lotes.\n",
            "\n",
            "Preenchendo sequências dentro de cada lote...\n"
          ],
          "name": "stdout"
        },
        {
          "output_type": "display_data",
          "data": {
            "application/vnd.jupyter.widget-view+json": {
              "model_id": "726c0184dbc74c4b8f51a6a6887de300",
              "version_minor": 0,
              "version_major": 2
            },
            "text/plain": [
              "HBox(children=(FloatProgress(value=0.0, description='Epoca 4', max=2241.0, style=ProgressStyle(description_wid…"
            ]
          },
          "metadata": {
            "tags": []
          }
        },
        {
          "output_type": "stream",
          "text": [
            "  Lote     900  de    2,241.    Gasto: 0:05:28.  Restante: 0:08:08\n",
            "  Lote   1,800  de    2,241.    Gasto: 0:10:53.  Restante: 0:02:40\n",
            "\n",
            "  Média perda(loss) do treinamento da época : 0.70070934\n",
            "  Tempo de treinamento da época             : 0:13:35\n",
            "  Tempo parcial do treinamento              : 0:55:55 (h:mm:ss)\n",
            "\n",
            "  Média perda(loss) treinamento : 0.70318187\n",
            "Treinamento completo!\n",
            "  Tempo total treinamento       : 0:55:55\n",
            "\n",
            "Realizando Avaliação fold: 6\n",
            "Predizendo rótulos para 996 documentos de teste...\n",
            "Criando Lotes Inteligentes de 996 amostras com tamanho de lote 8...\n",
            "\n",
            "Tokenizando 996 amostra...\n",
            "  Tokenizado 0 amostras.\n",
            "  Tokenizado 100 amostras.\n",
            "  Tokenizado 200 amostras.\n",
            "  Tokenizado 300 amostras.\n",
            "  Tokenizado 400 amostras.\n",
            "  Tokenizado 500 amostras.\n",
            "  Tokenizado 600 amostras.\n",
            "  Tokenizado 700 amostras.\n",
            "  Tokenizado 800 amostras.\n",
            "  Tokenizado 900 amostras.\n",
            "FEITO.\n",
            "       996 amostras\n",
            "\n",
            "       996 amostras após classificação\n",
            "\n",
            "Criando lotes de tamanho 8...\n",
            "  Selecionado 100 lotes.\n",
            "\n",
            "  FEITO - Selecionado 125 lotes.\n",
            "\n",
            "Preenchendo sequências dentro de cada lote...\n"
          ],
          "name": "stdout"
        },
        {
          "output_type": "display_data",
          "data": {
            "application/vnd.jupyter.widget-view+json": {
              "model_id": "d3a1329102ab4b7f93871757085a55df",
              "version_minor": 0,
              "version_major": 2
            },
            "text/plain": [
              "HBox(children=(FloatProgress(value=0.0, description='Lotes ', max=125.0, style=ProgressStyle(description_width…"
            ]
          },
          "metadata": {
            "tags": []
          }
        },
        {
          "output_type": "stream",
          "text": [
            "  Lote      10  de      125.    Gasto: 0:00:05.  Restando: 0:00:58\n",
            "  Lote      20  de      125.    Gasto: 0:00:07.  Restando: 0:00:37\n",
            "  Lote      30  de      125.    Gasto: 0:00:09.  Restando: 0:00:28\n",
            "  Lote      40  de      125.    Gasto: 0:00:11.  Restando: 0:00:23\n",
            "  Lote      50  de      125.    Gasto: 0:00:13.  Restando: 0:00:19\n",
            "  Lote      60  de      125.    Gasto: 0:00:15.  Restando: 0:00:16\n",
            "  Lote      70  de      125.    Gasto: 0:00:17.  Restando: 0:00:13\n",
            "  Lote      80  de      125.    Gasto: 0:00:18.  Restando: 0:00:10\n",
            "  Lote      90  de      125.    Gasto: 0:00:20.  Restando: 0:00:08\n",
            "  Lote     100  de      125.    Gasto: 0:00:23.  Restando: 0:00:06\n",
            "  Lote     110  de      125.    Gasto: 0:00:24.  Restando: 0:00:03\n",
            "  Lote     120  de      125.    Gasto: 0:00:26.  Restando: 0:00:01\n",
            "\n",
            "Avaliação loss: 0.69349298; Acc: 0.50000000; Rec: 0.00000000; Pre: 0.00000000, F1:0.00000000, vp:   0; vn: 498; fp:   0; fn: 498\n",
            "Acurácia do fold 6        : 0.50000000\n",
            "Tempo gasto na avaliação  : 0:00:28\n",
            "Diretório já existe: /content/drive/MyDrive/Colab Notebooks/Data/CSTNEWS/validacao_classificacao/kfold/Classificacao/\n",
            "Criando arquivo classificação: /content/drive/MyDrive/Colab Notebooks/Data/CSTNEWS/validacao_classificacao/kfold/Classificacao/AjusteFinoCSTNews_v1_C_SB_KF_E_4_lr_5_b_4_8_f6_BERTimbau_large.csv\n",
            "Diretório já existe: /content/drive/MyDrive/Colab Notebooks/Data/CSTNEWS/validacao_classificacao/kfold/Avaliacao/\n",
            "Criando arquivo resultado: /content/drive/MyDrive/Colab Notebooks/Data/CSTNEWS/validacao_classificacao/kfold/Avaliacao/AjusteFinoCSTNews_v1_C_SB_KF_E_4_lr_5_b_4_8_f6_BERTimbau_large.csv\n",
            "\n",
            "  Tempo processamento fold: 0:57:23 (h:mm:ss)\n",
            "\n",
            "Processamendo do fold: 7\n",
            "  Tempo de início de processamento fold:  1621870789.2280815 (h:mm:ss)\n",
            "Carregando o modelo BERT do diretório /content/modelo...\n"
          ],
          "name": "stdout"
        },
        {
          "output_type": "stream",
          "text": [
            "Some weights of the model checkpoint at /content/modelo were not used when initializing BertForSequenceClassification: ['cls.predictions.bias', 'cls.predictions.transform.dense.weight', 'cls.predictions.transform.dense.bias', 'cls.predictions.transform.LayerNorm.weight', 'cls.predictions.transform.LayerNorm.bias', 'cls.predictions.decoder.weight', 'cls.seq_relationship.weight', 'cls.seq_relationship.bias']\n",
            "- This IS expected if you are initializing BertForSequenceClassification from the checkpoint of a model trained on another task or with another architecture (e.g. initializing a BertForSequenceClassification model from a BertForPreTraining model).\n",
            "- This IS NOT expected if you are initializing BertForSequenceClassification from the checkpoint of a model that you expect to be exactly identical (initializing a BertForSequenceClassification model from a BertForSequenceClassification model).\n",
            "Some weights of BertForSequenceClassification were not initialized from the model checkpoint at /content/modelo and are newly initialized: ['classifier.weight', 'classifier.bias']\n",
            "You should probably TRAIN this model on a down-stream task to be able to use it for predictions and inference.\n"
          ],
          "name": "stderr"
        },
        {
          "output_type": "stream",
          "text": [
            "\u001b[34m\u001b[1mwandb\u001b[0m: Appending key for api.wandb.ai to your netrc file: /root/.netrc\n"
          ],
          "name": "stdout"
        },
        {
          "output_type": "display_data",
          "data": {
            "text/html": [
              "Finishing last run (ID:qqlbtti9) before initializing another..."
            ],
            "text/plain": [
              "<IPython.core.display.HTML object>"
            ]
          },
          "metadata": {
            "tags": []
          }
        },
        {
          "output_type": "display_data",
          "data": {
            "text/html": [
              "<br/>Waiting for W&B process to finish, PID 566<br/>Program ended successfully."
            ],
            "text/plain": [
              "<IPython.core.display.HTML object>"
            ]
          },
          "metadata": {
            "tags": []
          }
        },
        {
          "output_type": "display_data",
          "data": {
            "application/vnd.jupyter.widget-view+json": {
              "model_id": "c7b6d97eec2745579aad827981e50fab",
              "version_minor": 0,
              "version_major": 2
            },
            "text/plain": [
              "VBox(children=(Label(value=' 0.05MB of 0.05MB uploaded (0.00MB deduped)\\r'), FloatProgress(value=1.0, max=1.0)…"
            ]
          },
          "metadata": {
            "tags": []
          }
        },
        {
          "output_type": "display_data",
          "data": {
            "text/html": [
              "Find user logs for this run at: <code>/content/wandb/run-20210524_144239-qqlbtti9/logs/debug.log</code>"
            ],
            "text/plain": [
              "<IPython.core.display.HTML object>"
            ]
          },
          "metadata": {
            "tags": []
          }
        },
        {
          "output_type": "display_data",
          "data": {
            "text/html": [
              "Find internal logs for this run at: <code>/content/wandb/run-20210524_144239-qqlbtti9/logs/debug-internal.log</code>"
            ],
            "text/plain": [
              "<IPython.core.display.HTML object>"
            ]
          },
          "metadata": {
            "tags": []
          }
        },
        {
          "output_type": "display_data",
          "data": {
            "text/html": [
              "<h3>Run summary:</h3><br/><style>\n",
              "    table.wandb td:nth-child(1) { padding: 0 10px; text-align: right }\n",
              "    </style><table class=\"wandb\">\n",
              "<tr><td>max_seq_len</td><td>512</td></tr><tr><td>_runtime</td><td>3418</td></tr><tr><td>_timestamp</td><td>1621870777</td></tr><tr><td>_step</td><td>8978</td></tr><tr><td>do_lower_case</td><td>False</td></tr><tr><td>output_hidden_states</td><td>False</td></tr><tr><td>fold</td><td>6</td></tr><tr><td>train_batch_loss</td><td>0.69427</td></tr><tr><td>media_train_epoca_loss</td><td>0.70071</td></tr><tr><td>media_train_loss</td><td>0.70318</td></tr><tr><td>acuracia</td><td>0.5</td></tr><tr><td>vp</td><td>0</td></tr><tr><td>vn</td><td>498</td></tr><tr><td>fp</td><td>0</td></tr><tr><td>fn</td><td>498</td></tr><tr><td>media_test_loss</td><td>0.69349</td></tr></table>"
            ],
            "text/plain": [
              "<IPython.core.display.HTML object>"
            ]
          },
          "metadata": {
            "tags": []
          }
        },
        {
          "output_type": "display_data",
          "data": {
            "text/html": [
              "<h3>Run history:</h3><br/><style>\n",
              "    table.wandb td:nth-child(1) { padding: 0 10px; text-align: right }\n",
              "    </style><table class=\"wandb\">\n",
              "<tr><td>max_seq_len</td><td>▁</td></tr><tr><td>_runtime</td><td>▁▁▁▁▂▂▂▂▂▂▃▃▃▃▃▄▄▄▄▄▅▅▅▅▅▅▆▆▆▆▆▇▇▇▇▇▇███</td></tr><tr><td>_timestamp</td><td>▁▁▁▁▂▂▂▂▂▂▃▃▃▃▃▄▄▄▄▄▅▅▅▅▅▅▆▆▆▆▆▇▇▇▇▇▇███</td></tr><tr><td>_step</td><td>▁▁▁▂▂▂▂▂▂▃▃▃▃▃▃▄▄▄▄▄▅▅▅▅▅▅▆▆▆▆▆▆▇▇▇▇▇███</td></tr><tr><td>do_lower_case</td><td>▁</td></tr><tr><td>output_hidden_states</td><td>▁</td></tr><tr><td>fold</td><td>▁</td></tr><tr><td>train_batch_loss</td><td>▄▅▆▃▄▃▁▅▇█▅▂▅▂▂▂▅▆▄▂▄▂▂▅▆▅▄▆▃▆▄▃▄▅▆▄▃▅▃▅</td></tr><tr><td>media_train_epoca_loss</td><td>█▇▆▁</td></tr><tr><td>media_train_loss</td><td>▁</td></tr><tr><td>acuracia</td><td>▁</td></tr><tr><td>vp</td><td>▁</td></tr><tr><td>vn</td><td>▁</td></tr><tr><td>fp</td><td>▁</td></tr><tr><td>fn</td><td>▁</td></tr><tr><td>media_test_loss</td><td>▁</td></tr></table><br/>"
            ],
            "text/plain": [
              "<IPython.core.display.HTML object>"
            ]
          },
          "metadata": {
            "tags": []
          }
        },
        {
          "output_type": "display_data",
          "data": {
            "text/html": [
              "Synced 5 W&B file(s), 1 media file(s), 0 artifact file(s) and 0 other file(s)"
            ],
            "text/plain": [
              "<IPython.core.display.HTML object>"
            ]
          },
          "metadata": {
            "tags": []
          }
        },
        {
          "output_type": "display_data",
          "data": {
            "text/html": [
              "\n",
              "                    <br/>Synced <strong style=\"color:#cdcd00\">AjusteFinoCSTNews_v1_C_SB_KF_E_4_lr_5_b_4_8_f6</strong>: <a href=\"https://wandb.ai/osmar-braz/ajustefinocstnews_v1_c_sb_kfold/runs/qqlbtti9\" target=\"_blank\">https://wandb.ai/osmar-braz/ajustefinocstnews_v1_c_sb_kfold/runs/qqlbtti9</a><br/>\n",
              "                "
            ],
            "text/plain": [
              "<IPython.core.display.HTML object>"
            ]
          },
          "metadata": {
            "tags": []
          }
        },
        {
          "output_type": "display_data",
          "data": {
            "text/html": [
              "...Successfully finished last run (ID:qqlbtti9). Initializing new run:<br/><br/>"
            ],
            "text/plain": [
              "<IPython.core.display.HTML object>"
            ]
          },
          "metadata": {
            "tags": []
          }
        },
        {
          "output_type": "display_data",
          "data": {
            "text/html": [
              "\n",
              "                Tracking run with wandb version 0.10.30<br/>\n",
              "                Syncing run <strong style=\"color:#cdcd00\">AjusteFinoCSTNews_v1_C_SB_KF_E_4_lr_5_b_4_8_f7</strong> to <a href=\"https://wandb.ai\" target=\"_blank\">Weights & Biases</a> <a href=\"https://docs.wandb.com/integrations/jupyter.html\" target=\"_blank\">(Documentation)</a>.<br/>\n",
              "                Project page: <a href=\"https://wandb.ai/osmar-braz/ajustefinocstnews_v1_c_sb_kfold\" target=\"_blank\">https://wandb.ai/osmar-braz/ajustefinocstnews_v1_c_sb_kfold</a><br/>\n",
              "                Run page: <a href=\"https://wandb.ai/osmar-braz/ajustefinocstnews_v1_c_sb_kfold/runs/1qccbmf3\" target=\"_blank\">https://wandb.ai/osmar-braz/ajustefinocstnews_v1_c_sb_kfold/runs/1qccbmf3</a><br/>\n",
              "                Run data is saved locally in <code>/content/wandb/run-20210524_153959-1qccbmf3</code><br/><br/>\n",
              "            "
            ],
            "text/plain": [
              "<IPython.core.display.HTML object>"
            ]
          },
          "metadata": {
            "tags": []
          }
        },
        {
          "output_type": "stream",
          "text": [
            "Pytorch rodando o modelo na GPU\n",
            "Carregando arquivo de treino: /content/validacao_kfold/cstnews_md_train_f7.csv\n",
            "Carregando arquivo de teste: /content/validacao_kfold/cstnews_md_test_f7.csv\n",
            "Qtde de dados de treino: 8964\n",
            "Qtde de dados de teste: 996\n",
            "Tamanho do dataset de treino: 8964\n",
            "Tamanho do dataset de teste: 996\n",
            "Total do conjunto de dados          : 9960.\n",
            "Total do conjunto de dados de treino: 8964.\n",
            "Total do conjunto de dados de teste : 996.\n",
            "Total de etapas: 35856\n",
            "\n",
            "Realizando Treinamento fold: 7\n"
          ],
          "name": "stdout"
        },
        {
          "output_type": "display_data",
          "data": {
            "application/vnd.jupyter.widget-view+json": {
              "model_id": "c9ae4a3d033d41e2bc33dc7ce82233df",
              "version_minor": 0,
              "version_major": 2
            },
            "text/plain": [
              "HBox(children=(FloatProgress(value=0.0, description='Épocas', max=4.0, style=ProgressStyle(description_width='…"
            ]
          },
          "metadata": {
            "tags": []
          }
        },
        {
          "output_type": "stream",
          "text": [
            "Criando Lotes Inteligentes de 8,964 amostras com tamanho de lote 4...\n",
            "\n",
            "Tokenizando 8,964 amostra...\n",
            "  Tokenizado 0 amostras.\n",
            "  Tokenizado 900 amostras.\n",
            "  Tokenizado 1,800 amostras.\n",
            "  Tokenizado 2,700 amostras.\n",
            "  Tokenizado 3,600 amostras.\n",
            "  Tokenizado 4,500 amostras.\n",
            "  Tokenizado 5,400 amostras.\n",
            "  Tokenizado 6,300 amostras.\n",
            "  Tokenizado 7,200 amostras.\n",
            "  Tokenizado 8,100 amostras.\n",
            "FEITO.\n",
            "     8,964 amostras\n",
            "\n",
            "     8,964 amostras após classificação\n",
            "\n",
            "Criando lotes de tamanho 4...\n",
            "  Selecionado 900 lotes.\n",
            "  Selecionado 1,800 lotes.\n",
            "\n",
            "  FEITO - Selecionado 2,241 lotes.\n",
            "\n",
            "Preenchendo sequências dentro de cada lote...\n"
          ],
          "name": "stdout"
        },
        {
          "output_type": "display_data",
          "data": {
            "application/vnd.jupyter.widget-view+json": {
              "model_id": "21c1c435451640e19860848d26f24747",
              "version_minor": 0,
              "version_major": 2
            },
            "text/plain": [
              "HBox(children=(FloatProgress(value=0.0, description='Epoca 1', max=2241.0, style=ProgressStyle(description_wid…"
            ]
          },
          "metadata": {
            "tags": []
          }
        },
        {
          "output_type": "stream",
          "text": [
            "  Lote     900  de    2,241.    Gasto: 0:05:25.  Restante: 0:08:05\n",
            "  Lote   1,800  de    2,241.    Gasto: 0:10:54.  Restante: 0:02:40\n",
            "\n",
            "  Média perda(loss) do treinamento da época : 0.66649846\n",
            "  Tempo de treinamento da época             : 0:13:34\n",
            "  Tempo parcial do treinamento              : 0:13:58 (h:mm:ss)\n",
            "Criando Lotes Inteligentes de 8,964 amostras com tamanho de lote 4...\n",
            "\n",
            "Tokenizando 8,964 amostra...\n",
            "  Tokenizado 0 amostras.\n",
            "  Tokenizado 900 amostras.\n",
            "  Tokenizado 1,800 amostras.\n",
            "  Tokenizado 2,700 amostras.\n",
            "  Tokenizado 3,600 amostras.\n",
            "  Tokenizado 4,500 amostras.\n",
            "  Tokenizado 5,400 amostras.\n",
            "  Tokenizado 6,300 amostras.\n",
            "  Tokenizado 7,200 amostras.\n",
            "  Tokenizado 8,100 amostras.\n",
            "FEITO.\n",
            "     8,964 amostras\n",
            "\n",
            "     8,964 amostras após classificação\n",
            "\n",
            "Criando lotes de tamanho 4...\n",
            "  Selecionado 900 lotes.\n",
            "  Selecionado 1,800 lotes.\n",
            "\n",
            "  FEITO - Selecionado 2,241 lotes.\n",
            "\n",
            "Preenchendo sequências dentro de cada lote...\n"
          ],
          "name": "stdout"
        },
        {
          "output_type": "display_data",
          "data": {
            "application/vnd.jupyter.widget-view+json": {
              "model_id": "b323a1cb866941c79773699d1297a220",
              "version_minor": 0,
              "version_major": 2
            },
            "text/plain": [
              "HBox(children=(FloatProgress(value=0.0, description='Epoca 2', max=2241.0, style=ProgressStyle(description_wid…"
            ]
          },
          "metadata": {
            "tags": []
          }
        },
        {
          "output_type": "stream",
          "text": [
            "  Lote     900  de    2,241.    Gasto: 0:05:31.  Restante: 0:08:13\n",
            "  Lote   1,800  de    2,241.    Gasto: 0:10:54.  Restante: 0:02:40\n",
            "\n",
            "  Média perda(loss) do treinamento da época : 0.70147134\n",
            "  Tempo de treinamento da época             : 0:13:35\n",
            "  Tempo parcial do treinamento              : 0:27:58 (h:mm:ss)\n",
            "Criando Lotes Inteligentes de 8,964 amostras com tamanho de lote 4...\n",
            "\n",
            "Tokenizando 8,964 amostra...\n",
            "  Tokenizado 0 amostras.\n",
            "  Tokenizado 900 amostras.\n",
            "  Tokenizado 1,800 amostras.\n",
            "  Tokenizado 2,700 amostras.\n",
            "  Tokenizado 3,600 amostras.\n",
            "  Tokenizado 4,500 amostras.\n",
            "  Tokenizado 5,400 amostras.\n",
            "  Tokenizado 6,300 amostras.\n",
            "  Tokenizado 7,200 amostras.\n",
            "  Tokenizado 8,100 amostras.\n",
            "FEITO.\n",
            "     8,964 amostras\n",
            "\n",
            "     8,964 amostras após classificação\n",
            "\n",
            "Criando lotes de tamanho 4...\n",
            "  Selecionado 900 lotes.\n",
            "  Selecionado 1,800 lotes.\n",
            "\n",
            "  FEITO - Selecionado 2,241 lotes.\n",
            "\n",
            "Preenchendo sequências dentro de cada lote...\n"
          ],
          "name": "stdout"
        },
        {
          "output_type": "display_data",
          "data": {
            "application/vnd.jupyter.widget-view+json": {
              "model_id": "522b028575b54829b520b27dc9532c3e",
              "version_minor": 0,
              "version_major": 2
            },
            "text/plain": [
              "HBox(children=(FloatProgress(value=0.0, description='Epoca 3', max=2241.0, style=ProgressStyle(description_wid…"
            ]
          },
          "metadata": {
            "tags": []
          }
        },
        {
          "output_type": "stream",
          "text": [
            "  Lote     900  de    2,241.    Gasto: 0:05:30.  Restante: 0:08:12\n",
            "  Lote   1,800  de    2,241.    Gasto: 0:10:56.  Restante: 0:02:41\n",
            "\n",
            "  Média perda(loss) do treinamento da época : 0.70170581\n",
            "  Tempo de treinamento da época             : 0:13:35\n",
            "  Tempo parcial do treinamento              : 0:41:58 (h:mm:ss)\n",
            "Criando Lotes Inteligentes de 8,964 amostras com tamanho de lote 4...\n",
            "\n",
            "Tokenizando 8,964 amostra...\n",
            "  Tokenizado 0 amostras.\n",
            "  Tokenizado 900 amostras.\n",
            "  Tokenizado 1,800 amostras.\n",
            "  Tokenizado 2,700 amostras.\n",
            "  Tokenizado 3,600 amostras.\n",
            "  Tokenizado 4,500 amostras.\n",
            "  Tokenizado 5,400 amostras.\n",
            "  Tokenizado 6,300 amostras.\n",
            "  Tokenizado 7,200 amostras.\n",
            "  Tokenizado 8,100 amostras.\n",
            "FEITO.\n",
            "     8,964 amostras\n",
            "\n",
            "     8,964 amostras após classificação\n",
            "\n",
            "Criando lotes de tamanho 4...\n",
            "  Selecionado 900 lotes.\n",
            "  Selecionado 1,800 lotes.\n",
            "\n",
            "  FEITO - Selecionado 2,241 lotes.\n",
            "\n",
            "Preenchendo sequências dentro de cada lote...\n"
          ],
          "name": "stdout"
        },
        {
          "output_type": "display_data",
          "data": {
            "application/vnd.jupyter.widget-view+json": {
              "model_id": "27cec6626840467880bc72138c2f698e",
              "version_minor": 0,
              "version_major": 2
            },
            "text/plain": [
              "HBox(children=(FloatProgress(value=0.0, description='Epoca 4', max=2241.0, style=ProgressStyle(description_wid…"
            ]
          },
          "metadata": {
            "tags": []
          }
        },
        {
          "output_type": "stream",
          "text": [
            "  Lote     900  de    2,241.    Gasto: 0:05:28.  Restante: 0:08:09\n",
            "  Lote   1,800  de    2,241.    Gasto: 0:10:53.  Restante: 0:02:40\n",
            "\n",
            "  Média perda(loss) do treinamento da época : 0.69844424\n",
            "  Tempo de treinamento da época             : 0:13:35\n",
            "  Tempo parcial do treinamento              : 0:55:57 (h:mm:ss)\n",
            "\n",
            "  Média perda(loss) treinamento : 0.69202996\n",
            "Treinamento completo!\n",
            "  Tempo total treinamento       : 0:55:57\n",
            "\n",
            "Realizando Avaliação fold: 7\n",
            "Predizendo rótulos para 996 documentos de teste...\n",
            "Criando Lotes Inteligentes de 996 amostras com tamanho de lote 8...\n",
            "\n",
            "Tokenizando 996 amostra...\n",
            "  Tokenizado 0 amostras.\n",
            "  Tokenizado 100 amostras.\n",
            "  Tokenizado 200 amostras.\n",
            "  Tokenizado 300 amostras.\n",
            "  Tokenizado 400 amostras.\n",
            "  Tokenizado 500 amostras.\n",
            "  Tokenizado 600 amostras.\n",
            "  Tokenizado 700 amostras.\n",
            "  Tokenizado 800 amostras.\n",
            "  Tokenizado 900 amostras.\n",
            "FEITO.\n",
            "       996 amostras\n",
            "\n",
            "       996 amostras após classificação\n",
            "\n",
            "Criando lotes de tamanho 8...\n",
            "  Selecionado 100 lotes.\n",
            "\n",
            "  FEITO - Selecionado 125 lotes.\n",
            "\n",
            "Preenchendo sequências dentro de cada lote...\n"
          ],
          "name": "stdout"
        },
        {
          "output_type": "display_data",
          "data": {
            "application/vnd.jupyter.widget-view+json": {
              "model_id": "10410498cf014289b6f478c42442378a",
              "version_minor": 0,
              "version_major": 2
            },
            "text/plain": [
              "HBox(children=(FloatProgress(value=0.0, description='Lotes ', max=125.0, style=ProgressStyle(description_width…"
            ]
          },
          "metadata": {
            "tags": []
          }
        },
        {
          "output_type": "stream",
          "text": [
            "  Lote      10  de      125.    Gasto: 0:00:05.  Restando: 0:00:59\n",
            "  Lote      20  de      125.    Gasto: 0:00:07.  Restando: 0:00:37\n",
            "  Lote      30  de      125.    Gasto: 0:00:09.  Restando: 0:00:28\n",
            "  Lote      40  de      125.    Gasto: 0:00:11.  Restando: 0:00:23\n",
            "  Lote      50  de      125.    Gasto: 0:00:13.  Restando: 0:00:20\n",
            "  Lote      60  de      125.    Gasto: 0:00:15.  Restando: 0:00:16\n",
            "  Lote      70  de      125.    Gasto: 0:00:17.  Restando: 0:00:13\n",
            "  Lote      80  de      125.    Gasto: 0:00:19.  Restando: 0:00:11\n",
            "  Lote      90  de      125.    Gasto: 0:00:21.  Restando: 0:00:08\n",
            "  Lote     100  de      125.    Gasto: 0:00:23.  Restando: 0:00:06\n",
            "  Lote     110  de      125.    Gasto: 0:00:25.  Restando: 0:00:03\n",
            "  Lote     120  de      125.    Gasto: 0:00:27.  Restando: 0:00:01\n",
            "\n",
            "Avaliação loss: 0.69321932; Acc: 0.50000000; Rec: 0.00000000; Pre: 0.00000000, F1:0.00000000, vp:   0; vn: 498; fp:   0; fn: 498\n",
            "Acurácia do fold 7        : 0.50000000\n",
            "Tempo gasto na avaliação  : 0:00:28\n",
            "Diretório já existe: /content/drive/MyDrive/Colab Notebooks/Data/CSTNEWS/validacao_classificacao/kfold/Classificacao/\n",
            "Criando arquivo classificação: /content/drive/MyDrive/Colab Notebooks/Data/CSTNEWS/validacao_classificacao/kfold/Classificacao/AjusteFinoCSTNews_v1_C_SB_KF_E_4_lr_5_b_4_8_f7_BERTimbau_large.csv\n",
            "Diretório já existe: /content/drive/MyDrive/Colab Notebooks/Data/CSTNEWS/validacao_classificacao/kfold/Avaliacao/\n",
            "Criando arquivo resultado: /content/drive/MyDrive/Colab Notebooks/Data/CSTNEWS/validacao_classificacao/kfold/Avaliacao/AjusteFinoCSTNews_v1_C_SB_KF_E_4_lr_5_b_4_8_f7_BERTimbau_large.csv\n",
            "\n",
            "  Tempo processamento fold: 0:57:08 (h:mm:ss)\n",
            "\n",
            "Processamendo do fold: 8\n",
            "  Tempo de início de processamento fold:  1621874217.018608 (h:mm:ss)\n",
            "Carregando o modelo BERT do diretório /content/modelo...\n"
          ],
          "name": "stdout"
        },
        {
          "output_type": "stream",
          "text": [
            "Some weights of the model checkpoint at /content/modelo were not used when initializing BertForSequenceClassification: ['cls.predictions.bias', 'cls.predictions.transform.dense.weight', 'cls.predictions.transform.dense.bias', 'cls.predictions.transform.LayerNorm.weight', 'cls.predictions.transform.LayerNorm.bias', 'cls.predictions.decoder.weight', 'cls.seq_relationship.weight', 'cls.seq_relationship.bias']\n",
            "- This IS expected if you are initializing BertForSequenceClassification from the checkpoint of a model trained on another task or with another architecture (e.g. initializing a BertForSequenceClassification model from a BertForPreTraining model).\n",
            "- This IS NOT expected if you are initializing BertForSequenceClassification from the checkpoint of a model that you expect to be exactly identical (initializing a BertForSequenceClassification model from a BertForSequenceClassification model).\n",
            "Some weights of BertForSequenceClassification were not initialized from the model checkpoint at /content/modelo and are newly initialized: ['classifier.weight', 'classifier.bias']\n",
            "You should probably TRAIN this model on a down-stream task to be able to use it for predictions and inference.\n"
          ],
          "name": "stderr"
        },
        {
          "output_type": "stream",
          "text": [
            "\u001b[34m\u001b[1mwandb\u001b[0m: Appending key for api.wandb.ai to your netrc file: /root/.netrc\n"
          ],
          "name": "stdout"
        },
        {
          "output_type": "display_data",
          "data": {
            "text/html": [
              "Finishing last run (ID:1qccbmf3) before initializing another..."
            ],
            "text/plain": [
              "<IPython.core.display.HTML object>"
            ]
          },
          "metadata": {
            "tags": []
          }
        },
        {
          "output_type": "display_data",
          "data": {
            "text/html": [
              "<br/>Waiting for W&B process to finish, PID 1209<br/>Program ended successfully."
            ],
            "text/plain": [
              "<IPython.core.display.HTML object>"
            ]
          },
          "metadata": {
            "tags": []
          }
        },
        {
          "output_type": "display_data",
          "data": {
            "application/vnd.jupyter.widget-view+json": {
              "model_id": "6e0a11c4719a44aaa1ae25efd4c00ff8",
              "version_minor": 0,
              "version_major": 2
            },
            "text/plain": [
              "VBox(children=(Label(value=' 0.05MB of 0.05MB uploaded (0.00MB deduped)\\r'), FloatProgress(value=1.0, max=1.0)…"
            ]
          },
          "metadata": {
            "tags": []
          }
        },
        {
          "output_type": "display_data",
          "data": {
            "text/html": [
              "Find user logs for this run at: <code>/content/wandb/run-20210524_153959-1qccbmf3/logs/debug.log</code>"
            ],
            "text/plain": [
              "<IPython.core.display.HTML object>"
            ]
          },
          "metadata": {
            "tags": []
          }
        },
        {
          "output_type": "display_data",
          "data": {
            "text/html": [
              "Find internal logs for this run at: <code>/content/wandb/run-20210524_153959-1qccbmf3/logs/debug-internal.log</code>"
            ],
            "text/plain": [
              "<IPython.core.display.HTML object>"
            ]
          },
          "metadata": {
            "tags": []
          }
        },
        {
          "output_type": "display_data",
          "data": {
            "text/html": [
              "<h3>Run summary:</h3><br/><style>\n",
              "    table.wandb td:nth-child(1) { padding: 0 10px; text-align: right }\n",
              "    </style><table class=\"wandb\">\n",
              "<tr><td>max_seq_len</td><td>512</td></tr><tr><td>_runtime</td><td>3414</td></tr><tr><td>_timestamp</td><td>1621874216</td></tr><tr><td>_step</td><td>8978</td></tr><tr><td>do_lower_case</td><td>False</td></tr><tr><td>output_hidden_states</td><td>False</td></tr><tr><td>fold</td><td>7</td></tr><tr><td>train_batch_loss</td><td>0.72699</td></tr><tr><td>media_train_epoca_loss</td><td>0.69844</td></tr><tr><td>media_train_loss</td><td>0.69203</td></tr><tr><td>acuracia</td><td>0.5</td></tr><tr><td>vp</td><td>0</td></tr><tr><td>vn</td><td>498</td></tr><tr><td>fp</td><td>0</td></tr><tr><td>fn</td><td>498</td></tr><tr><td>media_test_loss</td><td>0.69322</td></tr></table>"
            ],
            "text/plain": [
              "<IPython.core.display.HTML object>"
            ]
          },
          "metadata": {
            "tags": []
          }
        },
        {
          "output_type": "display_data",
          "data": {
            "text/html": [
              "<h3>Run history:</h3><br/><style>\n",
              "    table.wandb td:nth-child(1) { padding: 0 10px; text-align: right }\n",
              "    </style><table class=\"wandb\">\n",
              "<tr><td>max_seq_len</td><td>▁</td></tr><tr><td>_runtime</td><td>▁▁▁▁▂▂▂▂▂▂▃▃▃▃▃▄▄▄▄▄▅▅▅▅▅▅▆▆▆▆▆▇▇▇▇▇▇███</td></tr><tr><td>_timestamp</td><td>▁▁▁▁▂▂▂▂▂▂▃▃▃▃▃▄▄▄▄▄▅▅▅▅▅▅▆▆▆▆▆▇▇▇▇▇▇███</td></tr><tr><td>_step</td><td>▁▁▁▂▂▂▂▂▂▃▃▃▃▃▃▄▄▄▄▄▅▅▅▅▅▅▆▆▆▆▆▆▇▇▇▇▇███</td></tr><tr><td>do_lower_case</td><td>▁</td></tr><tr><td>output_hidden_states</td><td>▁</td></tr><tr><td>fold</td><td>▁</td></tr><tr><td>train_batch_loss</td><td>▅▁█▆▇▇▆▆▇▇▇█▇▆█▇▇▆▇▇▇█▇▆▇▇▇▇██▇▇▇▇▇▇▇▆▇▆</td></tr><tr><td>media_train_epoca_loss</td><td>▁██▇</td></tr><tr><td>media_train_loss</td><td>▁</td></tr><tr><td>acuracia</td><td>▁</td></tr><tr><td>vp</td><td>▁</td></tr><tr><td>vn</td><td>▁</td></tr><tr><td>fp</td><td>▁</td></tr><tr><td>fn</td><td>▁</td></tr><tr><td>media_test_loss</td><td>▁</td></tr></table><br/>"
            ],
            "text/plain": [
              "<IPython.core.display.HTML object>"
            ]
          },
          "metadata": {
            "tags": []
          }
        },
        {
          "output_type": "display_data",
          "data": {
            "text/html": [
              "Synced 5 W&B file(s), 1 media file(s), 0 artifact file(s) and 0 other file(s)"
            ],
            "text/plain": [
              "<IPython.core.display.HTML object>"
            ]
          },
          "metadata": {
            "tags": []
          }
        },
        {
          "output_type": "display_data",
          "data": {
            "text/html": [
              "\n",
              "                    <br/>Synced <strong style=\"color:#cdcd00\">AjusteFinoCSTNews_v1_C_SB_KF_E_4_lr_5_b_4_8_f7</strong>: <a href=\"https://wandb.ai/osmar-braz/ajustefinocstnews_v1_c_sb_kfold/runs/1qccbmf3\" target=\"_blank\">https://wandb.ai/osmar-braz/ajustefinocstnews_v1_c_sb_kfold/runs/1qccbmf3</a><br/>\n",
              "                "
            ],
            "text/plain": [
              "<IPython.core.display.HTML object>"
            ]
          },
          "metadata": {
            "tags": []
          }
        },
        {
          "output_type": "display_data",
          "data": {
            "text/html": [
              "...Successfully finished last run (ID:1qccbmf3). Initializing new run:<br/><br/>"
            ],
            "text/plain": [
              "<IPython.core.display.HTML object>"
            ]
          },
          "metadata": {
            "tags": []
          }
        },
        {
          "output_type": "display_data",
          "data": {
            "text/html": [
              "\n",
              "                Tracking run with wandb version 0.10.30<br/>\n",
              "                Syncing run <strong style=\"color:#cdcd00\">AjusteFinoCSTNews_v1_C_SB_KF_E_4_lr_5_b_4_8_f8</strong> to <a href=\"https://wandb.ai\" target=\"_blank\">Weights & Biases</a> <a href=\"https://docs.wandb.com/integrations/jupyter.html\" target=\"_blank\">(Documentation)</a>.<br/>\n",
              "                Project page: <a href=\"https://wandb.ai/osmar-braz/ajustefinocstnews_v1_c_sb_kfold\" target=\"_blank\">https://wandb.ai/osmar-braz/ajustefinocstnews_v1_c_sb_kfold</a><br/>\n",
              "                Run page: <a href=\"https://wandb.ai/osmar-braz/ajustefinocstnews_v1_c_sb_kfold/runs/2ks56fgf\" target=\"_blank\">https://wandb.ai/osmar-braz/ajustefinocstnews_v1_c_sb_kfold/runs/2ks56fgf</a><br/>\n",
              "                Run data is saved locally in <code>/content/wandb/run-20210524_163707-2ks56fgf</code><br/><br/>\n",
              "            "
            ],
            "text/plain": [
              "<IPython.core.display.HTML object>"
            ]
          },
          "metadata": {
            "tags": []
          }
        },
        {
          "output_type": "stream",
          "text": [
            "Pytorch rodando o modelo na GPU\n",
            "Carregando arquivo de treino: /content/validacao_kfold/cstnews_md_train_f8.csv\n",
            "Carregando arquivo de teste: /content/validacao_kfold/cstnews_md_test_f8.csv\n",
            "Qtde de dados de treino: 8964\n",
            "Qtde de dados de teste: 996\n",
            "Tamanho do dataset de treino: 8964\n",
            "Tamanho do dataset de teste: 996\n",
            "Total do conjunto de dados          : 9960.\n",
            "Total do conjunto de dados de treino: 8964.\n",
            "Total do conjunto de dados de teste : 996.\n",
            "Total de etapas: 35856\n",
            "\n",
            "Realizando Treinamento fold: 8\n"
          ],
          "name": "stdout"
        },
        {
          "output_type": "display_data",
          "data": {
            "application/vnd.jupyter.widget-view+json": {
              "model_id": "393725a8793f428487f4a3e495cf9c1a",
              "version_minor": 0,
              "version_major": 2
            },
            "text/plain": [
              "HBox(children=(FloatProgress(value=0.0, description='Épocas', max=4.0, style=ProgressStyle(description_width='…"
            ]
          },
          "metadata": {
            "tags": []
          }
        },
        {
          "output_type": "stream",
          "text": [
            "Criando Lotes Inteligentes de 8,964 amostras com tamanho de lote 4...\n",
            "\n",
            "Tokenizando 8,964 amostra...\n",
            "  Tokenizado 0 amostras.\n",
            "  Tokenizado 900 amostras.\n",
            "  Tokenizado 1,800 amostras.\n",
            "  Tokenizado 2,700 amostras.\n",
            "  Tokenizado 3,600 amostras.\n",
            "  Tokenizado 4,500 amostras.\n",
            "  Tokenizado 5,400 amostras.\n",
            "  Tokenizado 6,300 amostras.\n",
            "  Tokenizado 7,200 amostras.\n",
            "  Tokenizado 8,100 amostras.\n",
            "FEITO.\n",
            "     8,964 amostras\n",
            "\n",
            "     8,964 amostras após classificação\n",
            "\n",
            "Criando lotes de tamanho 4...\n",
            "  Selecionado 900 lotes.\n",
            "  Selecionado 1,800 lotes.\n",
            "\n",
            "  FEITO - Selecionado 2,241 lotes.\n",
            "\n",
            "Preenchendo sequências dentro de cada lote...\n"
          ],
          "name": "stdout"
        },
        {
          "output_type": "display_data",
          "data": {
            "application/vnd.jupyter.widget-view+json": {
              "model_id": "8ae978a26fdd4a2880669d2cfdb1fbae",
              "version_minor": 0,
              "version_major": 2
            },
            "text/plain": [
              "HBox(children=(FloatProgress(value=0.0, description='Epoca 1', max=2241.0, style=ProgressStyle(description_wid…"
            ]
          },
          "metadata": {
            "tags": []
          }
        },
        {
          "output_type": "stream",
          "text": [
            "  Lote     900  de    2,241.    Gasto: 0:05:27.  Restante: 0:08:07\n",
            "  Lote   1,800  de    2,241.    Gasto: 0:10:57.  Restante: 0:02:41\n",
            "\n",
            "  Média perda(loss) do treinamento da época : 0.70444954\n",
            "  Tempo de treinamento da época             : 0:13:37\n",
            "  Tempo parcial do treinamento              : 0:14:02 (h:mm:ss)\n",
            "Criando Lotes Inteligentes de 8,964 amostras com tamanho de lote 4...\n",
            "\n",
            "Tokenizando 8,964 amostra...\n",
            "  Tokenizado 0 amostras.\n",
            "  Tokenizado 900 amostras.\n",
            "  Tokenizado 1,800 amostras.\n",
            "  Tokenizado 2,700 amostras.\n",
            "  Tokenizado 3,600 amostras.\n",
            "  Tokenizado 4,500 amostras.\n",
            "  Tokenizado 5,400 amostras.\n",
            "  Tokenizado 6,300 amostras.\n",
            "  Tokenizado 7,200 amostras.\n",
            "  Tokenizado 8,100 amostras.\n",
            "FEITO.\n",
            "     8,964 amostras\n",
            "\n",
            "     8,964 amostras após classificação\n",
            "\n",
            "Criando lotes de tamanho 4...\n",
            "  Selecionado 900 lotes.\n",
            "  Selecionado 1,800 lotes.\n",
            "\n",
            "  FEITO - Selecionado 2,241 lotes.\n",
            "\n",
            "Preenchendo sequências dentro de cada lote...\n"
          ],
          "name": "stdout"
        },
        {
          "output_type": "display_data",
          "data": {
            "application/vnd.jupyter.widget-view+json": {
              "model_id": "daa68bfed9634ad6a9ac3b4bc3ace0d1",
              "version_minor": 0,
              "version_major": 2
            },
            "text/plain": [
              "HBox(children=(FloatProgress(value=0.0, description='Epoca 2', max=2241.0, style=ProgressStyle(description_wid…"
            ]
          },
          "metadata": {
            "tags": []
          }
        },
        {
          "output_type": "stream",
          "text": [
            "  Lote     900  de    2,241.    Gasto: 0:05:32.  Restante: 0:08:14\n",
            "  Lote   1,800  de    2,241.    Gasto: 0:10:55.  Restante: 0:02:40\n",
            "\n",
            "  Média perda(loss) do treinamento da época : 0.70421600\n",
            "  Tempo de treinamento da época             : 0:13:37\n",
            "  Tempo parcial do treinamento              : 0:28:03 (h:mm:ss)\n",
            "Criando Lotes Inteligentes de 8,964 amostras com tamanho de lote 4...\n",
            "\n",
            "Tokenizando 8,964 amostra...\n",
            "  Tokenizado 0 amostras.\n",
            "  Tokenizado 900 amostras.\n",
            "  Tokenizado 1,800 amostras.\n",
            "  Tokenizado 2,700 amostras.\n",
            "  Tokenizado 3,600 amostras.\n",
            "  Tokenizado 4,500 amostras.\n",
            "  Tokenizado 5,400 amostras.\n",
            "  Tokenizado 6,300 amostras.\n",
            "  Tokenizado 7,200 amostras.\n",
            "  Tokenizado 8,100 amostras.\n",
            "FEITO.\n",
            "     8,964 amostras\n",
            "\n",
            "     8,964 amostras após classificação\n",
            "\n",
            "Criando lotes de tamanho 4...\n",
            "  Selecionado 900 lotes.\n",
            "  Selecionado 1,800 lotes.\n",
            "\n",
            "  FEITO - Selecionado 2,241 lotes.\n",
            "\n",
            "Preenchendo sequências dentro de cada lote...\n"
          ],
          "name": "stdout"
        },
        {
          "output_type": "display_data",
          "data": {
            "application/vnd.jupyter.widget-view+json": {
              "model_id": "1469dec1e8af4aad8c1e565813b486a8",
              "version_minor": 0,
              "version_major": 2
            },
            "text/plain": [
              "HBox(children=(FloatProgress(value=0.0, description='Epoca 3', max=2241.0, style=ProgressStyle(description_wid…"
            ]
          },
          "metadata": {
            "tags": []
          }
        },
        {
          "output_type": "stream",
          "text": [
            "  Lote     900  de    2,241.    Gasto: 0:05:31.  Restante: 0:08:13\n",
            "  Lote   1,800  de    2,241.    Gasto: 0:10:57.  Restante: 0:02:41\n",
            "\n",
            "  Média perda(loss) do treinamento da época : 0.70298897\n",
            "  Tempo de treinamento da época             : 0:13:36\n",
            "  Tempo parcial do treinamento              : 0:42:03 (h:mm:ss)\n",
            "Criando Lotes Inteligentes de 8,964 amostras com tamanho de lote 4...\n",
            "\n",
            "Tokenizando 8,964 amostra...\n",
            "  Tokenizado 0 amostras.\n",
            "  Tokenizado 900 amostras.\n",
            "  Tokenizado 1,800 amostras.\n",
            "  Tokenizado 2,700 amostras.\n",
            "  Tokenizado 3,600 amostras.\n",
            "  Tokenizado 4,500 amostras.\n",
            "  Tokenizado 5,400 amostras.\n",
            "  Tokenizado 6,300 amostras.\n",
            "  Tokenizado 7,200 amostras.\n",
            "  Tokenizado 8,100 amostras.\n",
            "FEITO.\n",
            "     8,964 amostras\n",
            "\n",
            "     8,964 amostras após classificação\n",
            "\n",
            "Criando lotes de tamanho 4...\n",
            "  Selecionado 900 lotes.\n",
            "  Selecionado 1,800 lotes.\n",
            "\n",
            "  FEITO - Selecionado 2,241 lotes.\n",
            "\n",
            "Preenchendo sequências dentro de cada lote...\n"
          ],
          "name": "stdout"
        },
        {
          "output_type": "display_data",
          "data": {
            "application/vnd.jupyter.widget-view+json": {
              "model_id": "6739f1f7c10b416a8131bcb33e6eecc1",
              "version_minor": 0,
              "version_major": 2
            },
            "text/plain": [
              "HBox(children=(FloatProgress(value=0.0, description='Epoca 4', max=2241.0, style=ProgressStyle(description_wid…"
            ]
          },
          "metadata": {
            "tags": []
          }
        },
        {
          "output_type": "stream",
          "text": [
            "  Lote     900  de    2,241.    Gasto: 0:05:28.  Restante: 0:08:09\n",
            "  Lote   1,800  de    2,241.    Gasto: 0:10:54.  Restante: 0:02:40\n",
            "\n",
            "  Média perda(loss) do treinamento da época : 0.70147112\n",
            "  Tempo de treinamento da época             : 0:13:37\n",
            "  Tempo parcial do treinamento              : 0:56:04 (h:mm:ss)\n",
            "\n",
            "  Média perda(loss) treinamento : 0.70328141\n",
            "Treinamento completo!\n",
            "  Tempo total treinamento       : 0:56:04\n",
            "\n",
            "Realizando Avaliação fold: 8\n",
            "Predizendo rótulos para 996 documentos de teste...\n",
            "Criando Lotes Inteligentes de 996 amostras com tamanho de lote 8...\n",
            "\n",
            "Tokenizando 996 amostra...\n",
            "  Tokenizado 0 amostras.\n",
            "  Tokenizado 100 amostras.\n",
            "  Tokenizado 200 amostras.\n",
            "  Tokenizado 300 amostras.\n",
            "  Tokenizado 400 amostras.\n",
            "  Tokenizado 500 amostras.\n",
            "  Tokenizado 600 amostras.\n",
            "  Tokenizado 700 amostras.\n",
            "  Tokenizado 800 amostras.\n",
            "  Tokenizado 900 amostras.\n",
            "FEITO.\n",
            "       996 amostras\n",
            "\n",
            "       996 amostras após classificação\n",
            "\n",
            "Criando lotes de tamanho 8...\n",
            "  Selecionado 100 lotes.\n",
            "\n",
            "  FEITO - Selecionado 125 lotes.\n",
            "\n",
            "Preenchendo sequências dentro de cada lote...\n"
          ],
          "name": "stdout"
        },
        {
          "output_type": "display_data",
          "data": {
            "application/vnd.jupyter.widget-view+json": {
              "model_id": "cd40c73776f14b7e93690979200e8720",
              "version_minor": 0,
              "version_major": 2
            },
            "text/plain": [
              "HBox(children=(FloatProgress(value=0.0, description='Lotes ', max=125.0, style=ProgressStyle(description_width…"
            ]
          },
          "metadata": {
            "tags": []
          }
        },
        {
          "output_type": "stream",
          "text": [
            "  Lote      10  de      125.    Gasto: 0:00:05.  Restando: 0:00:59\n",
            "  Lote      20  de      125.    Gasto: 0:00:07.  Restando: 0:00:37\n",
            "  Lote      30  de      125.    Gasto: 0:00:09.  Restando: 0:00:28\n",
            "  Lote      40  de      125.    Gasto: 0:00:11.  Restando: 0:00:23\n",
            "  Lote      50  de      125.    Gasto: 0:00:13.  Restando: 0:00:19\n",
            "  Lote      60  de      125.    Gasto: 0:00:15.  Restando: 0:00:16\n",
            "  Lote      70  de      125.    Gasto: 0:00:17.  Restando: 0:00:13\n",
            "  Lote      80  de      125.    Gasto: 0:00:19.  Restando: 0:00:10\n",
            "  Lote      90  de      125.    Gasto: 0:00:20.  Restando: 0:00:08\n",
            "  Lote     100  de      125.    Gasto: 0:00:23.  Restando: 0:00:06\n",
            "  Lote     110  de      125.    Gasto: 0:00:24.  Restando: 0:00:03\n",
            "  Lote     120  de      125.    Gasto: 0:00:26.  Restando: 0:00:01\n",
            "\n",
            "Avaliação loss: 0.69346119; Acc: 0.50000000; Rec: 0.00000000; Pre: 0.00000000, F1:0.00000000, vp:   0; vn: 498; fp:   0; fn: 498\n",
            "Acurácia do fold 8        : 0.50000000\n",
            "Tempo gasto na avaliação  : 0:00:28\n",
            "Diretório já existe: /content/drive/MyDrive/Colab Notebooks/Data/CSTNEWS/validacao_classificacao/kfold/Classificacao/\n",
            "Criando arquivo classificação: /content/drive/MyDrive/Colab Notebooks/Data/CSTNEWS/validacao_classificacao/kfold/Classificacao/AjusteFinoCSTNews_v1_C_SB_KF_E_4_lr_5_b_4_8_f8_BERTimbau_large.csv\n",
            "Diretório já existe: /content/drive/MyDrive/Colab Notebooks/Data/CSTNEWS/validacao_classificacao/kfold/Avaliacao/\n",
            "Criando arquivo resultado: /content/drive/MyDrive/Colab Notebooks/Data/CSTNEWS/validacao_classificacao/kfold/Avaliacao/AjusteFinoCSTNews_v1_C_SB_KF_E_4_lr_5_b_4_8_f8_BERTimbau_large.csv\n",
            "\n",
            "  Tempo processamento fold: 0:57:14 (h:mm:ss)\n",
            "\n",
            "Processamendo do fold: 9\n",
            "  Tempo de início de processamento fold:  1621877651.240501 (h:mm:ss)\n",
            "Carregando o modelo BERT do diretório /content/modelo...\n"
          ],
          "name": "stdout"
        },
        {
          "output_type": "stream",
          "text": [
            "Some weights of the model checkpoint at /content/modelo were not used when initializing BertForSequenceClassification: ['cls.predictions.bias', 'cls.predictions.transform.dense.weight', 'cls.predictions.transform.dense.bias', 'cls.predictions.transform.LayerNorm.weight', 'cls.predictions.transform.LayerNorm.bias', 'cls.predictions.decoder.weight', 'cls.seq_relationship.weight', 'cls.seq_relationship.bias']\n",
            "- This IS expected if you are initializing BertForSequenceClassification from the checkpoint of a model trained on another task or with another architecture (e.g. initializing a BertForSequenceClassification model from a BertForPreTraining model).\n",
            "- This IS NOT expected if you are initializing BertForSequenceClassification from the checkpoint of a model that you expect to be exactly identical (initializing a BertForSequenceClassification model from a BertForSequenceClassification model).\n",
            "Some weights of BertForSequenceClassification were not initialized from the model checkpoint at /content/modelo and are newly initialized: ['classifier.weight', 'classifier.bias']\n",
            "You should probably TRAIN this model on a down-stream task to be able to use it for predictions and inference.\n"
          ],
          "name": "stderr"
        },
        {
          "output_type": "stream",
          "text": [
            "\u001b[34m\u001b[1mwandb\u001b[0m: Appending key for api.wandb.ai to your netrc file: /root/.netrc\n"
          ],
          "name": "stdout"
        },
        {
          "output_type": "display_data",
          "data": {
            "text/html": [
              "Finishing last run (ID:2ks56fgf) before initializing another..."
            ],
            "text/plain": [
              "<IPython.core.display.HTML object>"
            ]
          },
          "metadata": {
            "tags": []
          }
        },
        {
          "output_type": "display_data",
          "data": {
            "text/html": [
              "<br/>Waiting for W&B process to finish, PID 1777<br/>Program ended successfully."
            ],
            "text/plain": [
              "<IPython.core.display.HTML object>"
            ]
          },
          "metadata": {
            "tags": []
          }
        },
        {
          "output_type": "display_data",
          "data": {
            "application/vnd.jupyter.widget-view+json": {
              "model_id": "d310ba60874e4b25a888d405e5045c5b",
              "version_minor": 0,
              "version_major": 2
            },
            "text/plain": [
              "VBox(children=(Label(value=' 0.05MB of 0.05MB uploaded (0.00MB deduped)\\r'), FloatProgress(value=1.0, max=1.0)…"
            ]
          },
          "metadata": {
            "tags": []
          }
        },
        {
          "output_type": "display_data",
          "data": {
            "text/html": [
              "Find user logs for this run at: <code>/content/wandb/run-20210524_163707-2ks56fgf/logs/debug.log</code>"
            ],
            "text/plain": [
              "<IPython.core.display.HTML object>"
            ]
          },
          "metadata": {
            "tags": []
          }
        },
        {
          "output_type": "display_data",
          "data": {
            "text/html": [
              "Find internal logs for this run at: <code>/content/wandb/run-20210524_163707-2ks56fgf/logs/debug-internal.log</code>"
            ],
            "text/plain": [
              "<IPython.core.display.HTML object>"
            ]
          },
          "metadata": {
            "tags": []
          }
        },
        {
          "output_type": "display_data",
          "data": {
            "text/html": [
              "<h3>Run summary:</h3><br/><style>\n",
              "    table.wandb td:nth-child(1) { padding: 0 10px; text-align: right }\n",
              "    </style><table class=\"wandb\">\n",
              "<tr><td>max_seq_len</td><td>512</td></tr><tr><td>_runtime</td><td>3421</td></tr><tr><td>_timestamp</td><td>1621877651</td></tr><tr><td>_step</td><td>8978</td></tr><tr><td>do_lower_case</td><td>False</td></tr><tr><td>output_hidden_states</td><td>False</td></tr><tr><td>fold</td><td>8</td></tr><tr><td>train_batch_loss</td><td>0.67248</td></tr><tr><td>media_train_epoca_loss</td><td>0.70147</td></tr><tr><td>media_train_loss</td><td>0.70328</td></tr><tr><td>acuracia</td><td>0.5</td></tr><tr><td>vp</td><td>0</td></tr><tr><td>vn</td><td>498</td></tr><tr><td>fp</td><td>0</td></tr><tr><td>fn</td><td>498</td></tr><tr><td>media_test_loss</td><td>0.69346</td></tr></table>"
            ],
            "text/plain": [
              "<IPython.core.display.HTML object>"
            ]
          },
          "metadata": {
            "tags": []
          }
        },
        {
          "output_type": "display_data",
          "data": {
            "text/html": [
              "<h3>Run history:</h3><br/><style>\n",
              "    table.wandb td:nth-child(1) { padding: 0 10px; text-align: right }\n",
              "    </style><table class=\"wandb\">\n",
              "<tr><td>max_seq_len</td><td>▁</td></tr><tr><td>_runtime</td><td>▁▁▁▁▂▂▂▂▂▂▃▃▃▃▃▄▄▄▄▄▅▅▅▅▅▅▆▆▆▆▆▇▇▇▇▇▇███</td></tr><tr><td>_timestamp</td><td>▁▁▁▁▂▂▂▂▂▂▃▃▃▃▃▄▄▄▄▄▅▅▅▅▅▅▆▆▆▆▆▇▇▇▇▇▇███</td></tr><tr><td>_step</td><td>▁▁▁▂▂▂▂▂▂▃▃▃▃▃▃▄▄▄▄▄▅▅▅▅▅▅▆▆▆▆▆▆▇▇▇▇▇███</td></tr><tr><td>do_lower_case</td><td>▁</td></tr><tr><td>output_hidden_states</td><td>▁</td></tr><tr><td>fold</td><td>▁</td></tr><tr><td>train_batch_loss</td><td>█▂▂▂▂▂▂▂▂▂▂▂▂▂▂▂▂▃▂▂▂▂▂▁▂▂▂▂▂▃▂▂▂▂▂▂▂▂▂▁</td></tr><tr><td>media_train_epoca_loss</td><td>█▇▅▁</td></tr><tr><td>media_train_loss</td><td>▁</td></tr><tr><td>acuracia</td><td>▁</td></tr><tr><td>vp</td><td>▁</td></tr><tr><td>vn</td><td>▁</td></tr><tr><td>fp</td><td>▁</td></tr><tr><td>fn</td><td>▁</td></tr><tr><td>media_test_loss</td><td>▁</td></tr></table><br/>"
            ],
            "text/plain": [
              "<IPython.core.display.HTML object>"
            ]
          },
          "metadata": {
            "tags": []
          }
        },
        {
          "output_type": "display_data",
          "data": {
            "text/html": [
              "Synced 5 W&B file(s), 1 media file(s), 0 artifact file(s) and 0 other file(s)"
            ],
            "text/plain": [
              "<IPython.core.display.HTML object>"
            ]
          },
          "metadata": {
            "tags": []
          }
        },
        {
          "output_type": "display_data",
          "data": {
            "text/html": [
              "\n",
              "                    <br/>Synced <strong style=\"color:#cdcd00\">AjusteFinoCSTNews_v1_C_SB_KF_E_4_lr_5_b_4_8_f8</strong>: <a href=\"https://wandb.ai/osmar-braz/ajustefinocstnews_v1_c_sb_kfold/runs/2ks56fgf\" target=\"_blank\">https://wandb.ai/osmar-braz/ajustefinocstnews_v1_c_sb_kfold/runs/2ks56fgf</a><br/>\n",
              "                "
            ],
            "text/plain": [
              "<IPython.core.display.HTML object>"
            ]
          },
          "metadata": {
            "tags": []
          }
        },
        {
          "output_type": "display_data",
          "data": {
            "text/html": [
              "...Successfully finished last run (ID:2ks56fgf). Initializing new run:<br/><br/>"
            ],
            "text/plain": [
              "<IPython.core.display.HTML object>"
            ]
          },
          "metadata": {
            "tags": []
          }
        },
        {
          "output_type": "display_data",
          "data": {
            "text/html": [
              "\n",
              "                Tracking run with wandb version 0.10.30<br/>\n",
              "                Syncing run <strong style=\"color:#cdcd00\">AjusteFinoCSTNews_v1_C_SB_KF_E_4_lr_5_b_4_8_f9</strong> to <a href=\"https://wandb.ai\" target=\"_blank\">Weights & Biases</a> <a href=\"https://docs.wandb.com/integrations/jupyter.html\" target=\"_blank\">(Documentation)</a>.<br/>\n",
              "                Project page: <a href=\"https://wandb.ai/osmar-braz/ajustefinocstnews_v1_c_sb_kfold\" target=\"_blank\">https://wandb.ai/osmar-braz/ajustefinocstnews_v1_c_sb_kfold</a><br/>\n",
              "                Run page: <a href=\"https://wandb.ai/osmar-braz/ajustefinocstnews_v1_c_sb_kfold/runs/2bjhb44t\" target=\"_blank\">https://wandb.ai/osmar-braz/ajustefinocstnews_v1_c_sb_kfold/runs/2bjhb44t</a><br/>\n",
              "                Run data is saved locally in <code>/content/wandb/run-20210524_173421-2bjhb44t</code><br/><br/>\n",
              "            "
            ],
            "text/plain": [
              "<IPython.core.display.HTML object>"
            ]
          },
          "metadata": {
            "tags": []
          }
        },
        {
          "output_type": "stream",
          "text": [
            "Pytorch rodando o modelo na GPU\n",
            "Carregando arquivo de treino: /content/validacao_kfold/cstnews_md_train_f9.csv\n",
            "Carregando arquivo de teste: /content/validacao_kfold/cstnews_md_test_f9.csv\n",
            "Qtde de dados de treino: 8964\n",
            "Qtde de dados de teste: 996\n",
            "Tamanho do dataset de treino: 8964\n",
            "Tamanho do dataset de teste: 996\n",
            "Total do conjunto de dados          : 9960.\n",
            "Total do conjunto de dados de treino: 8964.\n",
            "Total do conjunto de dados de teste : 996.\n",
            "Total de etapas: 35856\n",
            "\n",
            "Realizando Treinamento fold: 9\n"
          ],
          "name": "stdout"
        },
        {
          "output_type": "display_data",
          "data": {
            "application/vnd.jupyter.widget-view+json": {
              "model_id": "3fa292ad731f45f79026d8df79958166",
              "version_minor": 0,
              "version_major": 2
            },
            "text/plain": [
              "HBox(children=(FloatProgress(value=0.0, description='Épocas', max=4.0, style=ProgressStyle(description_width='…"
            ]
          },
          "metadata": {
            "tags": []
          }
        },
        {
          "output_type": "stream",
          "text": [
            "Criando Lotes Inteligentes de 8,964 amostras com tamanho de lote 4...\n",
            "\n",
            "Tokenizando 8,964 amostra...\n",
            "  Tokenizado 0 amostras.\n",
            "  Tokenizado 900 amostras.\n",
            "  Tokenizado 1,800 amostras.\n",
            "  Tokenizado 2,700 amostras.\n",
            "  Tokenizado 3,600 amostras.\n",
            "  Tokenizado 4,500 amostras.\n",
            "  Tokenizado 5,400 amostras.\n",
            "  Tokenizado 6,300 amostras.\n",
            "  Tokenizado 7,200 amostras.\n",
            "  Tokenizado 8,100 amostras.\n",
            "FEITO.\n",
            "     8,964 amostras\n",
            "\n",
            "     8,964 amostras após classificação\n",
            "\n",
            "Criando lotes de tamanho 4...\n",
            "  Selecionado 900 lotes.\n",
            "  Selecionado 1,800 lotes.\n",
            "\n",
            "  FEITO - Selecionado 2,241 lotes.\n",
            "\n",
            "Preenchendo sequências dentro de cada lote...\n"
          ],
          "name": "stdout"
        },
        {
          "output_type": "display_data",
          "data": {
            "application/vnd.jupyter.widget-view+json": {
              "model_id": "2e920a6fe34549058d31edd7e4542f4f",
              "version_minor": 0,
              "version_major": 2
            },
            "text/plain": [
              "HBox(children=(FloatProgress(value=0.0, description='Epoca 1', max=2241.0, style=ProgressStyle(description_wid…"
            ]
          },
          "metadata": {
            "tags": []
          }
        },
        {
          "output_type": "stream",
          "text": [
            "  Lote     900  de    2,241.    Gasto: 0:05:26.  Restante: 0:08:06\n",
            "  Lote   1,800  de    2,241.    Gasto: 0:10:55.  Restante: 0:02:41\n",
            "\n",
            "  Média perda(loss) do treinamento da época : 0.69594668\n",
            "  Tempo de treinamento da época             : 0:13:36\n",
            "  Tempo parcial do treinamento              : 0:14:00 (h:mm:ss)\n",
            "Criando Lotes Inteligentes de 8,964 amostras com tamanho de lote 4...\n",
            "\n",
            "Tokenizando 8,964 amostra...\n",
            "  Tokenizado 0 amostras.\n",
            "  Tokenizado 900 amostras.\n",
            "  Tokenizado 1,800 amostras.\n",
            "  Tokenizado 2,700 amostras.\n",
            "  Tokenizado 3,600 amostras.\n",
            "  Tokenizado 4,500 amostras.\n",
            "  Tokenizado 5,400 amostras.\n",
            "  Tokenizado 6,300 amostras.\n",
            "  Tokenizado 7,200 amostras.\n",
            "  Tokenizado 8,100 amostras.\n",
            "FEITO.\n",
            "     8,964 amostras\n",
            "\n",
            "     8,964 amostras após classificação\n",
            "\n",
            "Criando lotes de tamanho 4...\n",
            "  Selecionado 900 lotes.\n",
            "  Selecionado 1,800 lotes.\n",
            "\n",
            "  FEITO - Selecionado 2,241 lotes.\n",
            "\n",
            "Preenchendo sequências dentro de cada lote...\n"
          ],
          "name": "stdout"
        },
        {
          "output_type": "display_data",
          "data": {
            "application/vnd.jupyter.widget-view+json": {
              "model_id": "152e029dc14d43cf96997b22c2a1bc06",
              "version_minor": 0,
              "version_major": 2
            },
            "text/plain": [
              "HBox(children=(FloatProgress(value=0.0, description='Epoca 2', max=2241.0, style=ProgressStyle(description_wid…"
            ]
          },
          "metadata": {
            "tags": []
          }
        },
        {
          "output_type": "stream",
          "text": [
            "  Lote     900  de    2,241.    Gasto: 0:05:32.  Restante: 0:08:14\n",
            "  Lote   1,800  de    2,241.    Gasto: 0:10:55.  Restante: 0:02:40\n",
            "\n",
            "  Média perda(loss) do treinamento da época : 0.70072024\n",
            "  Tempo de treinamento da época             : 0:13:37\n",
            "  Tempo parcial do treinamento              : 0:28:02 (h:mm:ss)\n",
            "Criando Lotes Inteligentes de 8,964 amostras com tamanho de lote 4...\n",
            "\n",
            "Tokenizando 8,964 amostra...\n",
            "  Tokenizado 0 amostras.\n",
            "  Tokenizado 900 amostras.\n",
            "  Tokenizado 1,800 amostras.\n",
            "  Tokenizado 2,700 amostras.\n",
            "  Tokenizado 3,600 amostras.\n",
            "  Tokenizado 4,500 amostras.\n",
            "  Tokenizado 5,400 amostras.\n",
            "  Tokenizado 6,300 amostras.\n",
            "  Tokenizado 7,200 amostras.\n",
            "  Tokenizado 8,100 amostras.\n",
            "FEITO.\n",
            "     8,964 amostras\n",
            "\n",
            "     8,964 amostras após classificação\n",
            "\n",
            "Criando lotes de tamanho 4...\n",
            "  Selecionado 900 lotes.\n",
            "  Selecionado 1,800 lotes.\n",
            "\n",
            "  FEITO - Selecionado 2,241 lotes.\n",
            "\n",
            "Preenchendo sequências dentro de cada lote...\n"
          ],
          "name": "stdout"
        },
        {
          "output_type": "display_data",
          "data": {
            "application/vnd.jupyter.widget-view+json": {
              "model_id": "427f9df3529e43518a5e2be398428242",
              "version_minor": 0,
              "version_major": 2
            },
            "text/plain": [
              "HBox(children=(FloatProgress(value=0.0, description='Epoca 3', max=2241.0, style=ProgressStyle(description_wid…"
            ]
          },
          "metadata": {
            "tags": []
          }
        },
        {
          "output_type": "stream",
          "text": [
            "  Lote     900  de    2,241.    Gasto: 0:05:32.  Restante: 0:08:14\n",
            "  Lote   1,800  de    2,241.    Gasto: 0:10:58.  Restante: 0:02:41\n",
            "\n",
            "  Média perda(loss) do treinamento da época : 0.70520155\n",
            "  Tempo de treinamento da época             : 0:13:37\n",
            "  Tempo parcial do treinamento              : 0:42:03 (h:mm:ss)\n",
            "Criando Lotes Inteligentes de 8,964 amostras com tamanho de lote 4...\n",
            "\n",
            "Tokenizando 8,964 amostra...\n",
            "  Tokenizado 0 amostras.\n",
            "  Tokenizado 900 amostras.\n",
            "  Tokenizado 1,800 amostras.\n",
            "  Tokenizado 2,700 amostras.\n",
            "  Tokenizado 3,600 amostras.\n",
            "  Tokenizado 4,500 amostras.\n",
            "  Tokenizado 5,400 amostras.\n",
            "  Tokenizado 6,300 amostras.\n",
            "  Tokenizado 7,200 amostras.\n",
            "  Tokenizado 8,100 amostras.\n",
            "FEITO.\n",
            "     8,964 amostras\n",
            "\n",
            "     8,964 amostras após classificação\n",
            "\n",
            "Criando lotes de tamanho 4...\n",
            "  Selecionado 900 lotes.\n",
            "  Selecionado 1,800 lotes.\n",
            "\n",
            "  FEITO - Selecionado 2,241 lotes.\n",
            "\n",
            "Preenchendo sequências dentro de cada lote...\n"
          ],
          "name": "stdout"
        },
        {
          "output_type": "display_data",
          "data": {
            "application/vnd.jupyter.widget-view+json": {
              "model_id": "f0deafc6c0d44e9480a5a927cdb12309",
              "version_minor": 0,
              "version_major": 2
            },
            "text/plain": [
              "HBox(children=(FloatProgress(value=0.0, description='Epoca 4', max=2241.0, style=ProgressStyle(description_wid…"
            ]
          },
          "metadata": {
            "tags": []
          }
        },
        {
          "output_type": "stream",
          "text": [
            "  Lote     900  de    2,241.    Gasto: 0:05:28.  Restante: 0:08:09\n",
            "  Lote   1,800  de    2,241.    Gasto: 0:10:54.  Restante: 0:02:40\n",
            "\n",
            "  Média perda(loss) do treinamento da época : 0.70115876\n",
            "  Tempo de treinamento da época             : 0:13:37\n",
            "  Tempo parcial do treinamento              : 0:56:04 (h:mm:ss)\n",
            "\n",
            "  Média perda(loss) treinamento : 0.70075681\n",
            "Treinamento completo!\n",
            "  Tempo total treinamento       : 0:56:04\n",
            "\n",
            "Realizando Avaliação fold: 9\n",
            "Predizendo rótulos para 996 documentos de teste...\n",
            "Criando Lotes Inteligentes de 996 amostras com tamanho de lote 8...\n",
            "\n",
            "Tokenizando 996 amostra...\n",
            "  Tokenizado 0 amostras.\n",
            "  Tokenizado 100 amostras.\n",
            "  Tokenizado 200 amostras.\n",
            "  Tokenizado 300 amostras.\n",
            "  Tokenizado 400 amostras.\n",
            "  Tokenizado 500 amostras.\n",
            "  Tokenizado 600 amostras.\n",
            "  Tokenizado 700 amostras.\n",
            "  Tokenizado 800 amostras.\n",
            "  Tokenizado 900 amostras.\n",
            "FEITO.\n",
            "       996 amostras\n",
            "\n",
            "       996 amostras após classificação\n",
            "\n",
            "Criando lotes de tamanho 8...\n",
            "  Selecionado 100 lotes.\n",
            "\n",
            "  FEITO - Selecionado 125 lotes.\n",
            "\n",
            "Preenchendo sequências dentro de cada lote...\n"
          ],
          "name": "stdout"
        },
        {
          "output_type": "display_data",
          "data": {
            "application/vnd.jupyter.widget-view+json": {
              "model_id": "70f57dfeb82349d183474675707899ec",
              "version_minor": 0,
              "version_major": 2
            },
            "text/plain": [
              "HBox(children=(FloatProgress(value=0.0, description='Lotes ', max=125.0, style=ProgressStyle(description_width…"
            ]
          },
          "metadata": {
            "tags": []
          }
        },
        {
          "output_type": "stream",
          "text": [
            "  Lote      10  de      125.    Gasto: 0:00:05.  Restando: 0:00:59\n",
            "  Lote      20  de      125.    Gasto: 0:00:07.  Restando: 0:00:37\n",
            "  Lote      30  de      125.    Gasto: 0:00:09.  Restando: 0:00:28\n",
            "  Lote      40  de      125.    Gasto: 0:00:11.  Restando: 0:00:23\n",
            "  Lote      50  de      125.    Gasto: 0:00:13.  Restando: 0:00:19\n",
            "  Lote      60  de      125.    Gasto: 0:00:15.  Restando: 0:00:16\n",
            "  Lote      70  de      125.    Gasto: 0:00:17.  Restando: 0:00:13\n",
            "  Lote      80  de      125.    Gasto: 0:00:19.  Restando: 0:00:10\n",
            "  Lote      90  de      125.    Gasto: 0:00:20.  Restando: 0:00:08\n",
            "  Lote     100  de      125.    Gasto: 0:00:23.  Restando: 0:00:06\n",
            "  Lote     110  de      125.    Gasto: 0:00:24.  Restando: 0:00:03\n",
            "  Lote     120  de      125.    Gasto: 0:00:26.  Restando: 0:00:01\n",
            "\n",
            "Avaliação loss: 0.69314941; Acc: 0.50000000; Rec: 0.00000000; Pre: 0.00000000, F1:0.00000000, vp:   0; vn: 498; fp:   0; fn: 498\n",
            "Acurácia do fold 9        : 0.50000000\n",
            "Tempo gasto na avaliação  : 0:00:28\n",
            "Diretório já existe: /content/drive/MyDrive/Colab Notebooks/Data/CSTNEWS/validacao_classificacao/kfold/Classificacao/\n",
            "Criando arquivo classificação: /content/drive/MyDrive/Colab Notebooks/Data/CSTNEWS/validacao_classificacao/kfold/Classificacao/AjusteFinoCSTNews_v1_C_SB_KF_E_4_lr_5_b_4_8_f9_BERTimbau_large.csv\n",
            "Diretório já existe: /content/drive/MyDrive/Colab Notebooks/Data/CSTNEWS/validacao_classificacao/kfold/Avaliacao/\n",
            "Criando arquivo resultado: /content/drive/MyDrive/Colab Notebooks/Data/CSTNEWS/validacao_classificacao/kfold/Avaliacao/AjusteFinoCSTNews_v1_C_SB_KF_E_4_lr_5_b_4_8_f9_BERTimbau_large.csv\n",
            "\n",
            "  Tempo processamento fold: 0:57:14 (h:mm:ss)\n",
            "\n",
            "Processamendo do fold: 10\n",
            "  Tempo de início de processamento fold:  1621881085.2671516 (h:mm:ss)\n",
            "Carregando o modelo BERT do diretório /content/modelo...\n"
          ],
          "name": "stdout"
        },
        {
          "output_type": "stream",
          "text": [
            "Some weights of the model checkpoint at /content/modelo were not used when initializing BertForSequenceClassification: ['cls.predictions.bias', 'cls.predictions.transform.dense.weight', 'cls.predictions.transform.dense.bias', 'cls.predictions.transform.LayerNorm.weight', 'cls.predictions.transform.LayerNorm.bias', 'cls.predictions.decoder.weight', 'cls.seq_relationship.weight', 'cls.seq_relationship.bias']\n",
            "- This IS expected if you are initializing BertForSequenceClassification from the checkpoint of a model trained on another task or with another architecture (e.g. initializing a BertForSequenceClassification model from a BertForPreTraining model).\n",
            "- This IS NOT expected if you are initializing BertForSequenceClassification from the checkpoint of a model that you expect to be exactly identical (initializing a BertForSequenceClassification model from a BertForSequenceClassification model).\n",
            "Some weights of BertForSequenceClassification were not initialized from the model checkpoint at /content/modelo and are newly initialized: ['classifier.weight', 'classifier.bias']\n",
            "You should probably TRAIN this model on a down-stream task to be able to use it for predictions and inference.\n"
          ],
          "name": "stderr"
        },
        {
          "output_type": "stream",
          "text": [
            "\u001b[34m\u001b[1mwandb\u001b[0m: Appending key for api.wandb.ai to your netrc file: /root/.netrc\n"
          ],
          "name": "stdout"
        },
        {
          "output_type": "display_data",
          "data": {
            "text/html": [
              "Finishing last run (ID:2bjhb44t) before initializing another..."
            ],
            "text/plain": [
              "<IPython.core.display.HTML object>"
            ]
          },
          "metadata": {
            "tags": []
          }
        },
        {
          "output_type": "display_data",
          "data": {
            "text/html": [
              "<br/>Waiting for W&B process to finish, PID 1935<br/>Program ended successfully."
            ],
            "text/plain": [
              "<IPython.core.display.HTML object>"
            ]
          },
          "metadata": {
            "tags": []
          }
        },
        {
          "output_type": "display_data",
          "data": {
            "application/vnd.jupyter.widget-view+json": {
              "model_id": "f89f69e0a9064e2ab8fcda9d4894b086",
              "version_minor": 0,
              "version_major": 2
            },
            "text/plain": [
              "VBox(children=(Label(value=' 0.05MB of 0.05MB uploaded (0.00MB deduped)\\r'), FloatProgress(value=1.0, max=1.0)…"
            ]
          },
          "metadata": {
            "tags": []
          }
        },
        {
          "output_type": "display_data",
          "data": {
            "text/html": [
              "Find user logs for this run at: <code>/content/wandb/run-20210524_173421-2bjhb44t/logs/debug.log</code>"
            ],
            "text/plain": [
              "<IPython.core.display.HTML object>"
            ]
          },
          "metadata": {
            "tags": []
          }
        },
        {
          "output_type": "display_data",
          "data": {
            "text/html": [
              "Find internal logs for this run at: <code>/content/wandb/run-20210524_173421-2bjhb44t/logs/debug-internal.log</code>"
            ],
            "text/plain": [
              "<IPython.core.display.HTML object>"
            ]
          },
          "metadata": {
            "tags": []
          }
        },
        {
          "output_type": "display_data",
          "data": {
            "text/html": [
              "<h3>Run summary:</h3><br/><style>\n",
              "    table.wandb td:nth-child(1) { padding: 0 10px; text-align: right }\n",
              "    </style><table class=\"wandb\">\n",
              "<tr><td>max_seq_len</td><td>512</td></tr><tr><td>_runtime</td><td>3421</td></tr><tr><td>_timestamp</td><td>1621881085</td></tr><tr><td>_step</td><td>8978</td></tr><tr><td>do_lower_case</td><td>False</td></tr><tr><td>output_hidden_states</td><td>False</td></tr><tr><td>fold</td><td>9</td></tr><tr><td>train_batch_loss</td><td>0.70717</td></tr><tr><td>media_train_epoca_loss</td><td>0.70116</td></tr><tr><td>media_train_loss</td><td>0.70076</td></tr><tr><td>acuracia</td><td>0.5</td></tr><tr><td>vp</td><td>0</td></tr><tr><td>vn</td><td>498</td></tr><tr><td>fp</td><td>0</td></tr><tr><td>fn</td><td>498</td></tr><tr><td>media_test_loss</td><td>0.69315</td></tr></table>"
            ],
            "text/plain": [
              "<IPython.core.display.HTML object>"
            ]
          },
          "metadata": {
            "tags": []
          }
        },
        {
          "output_type": "display_data",
          "data": {
            "text/html": [
              "<h3>Run history:</h3><br/><style>\n",
              "    table.wandb td:nth-child(1) { padding: 0 10px; text-align: right }\n",
              "    </style><table class=\"wandb\">\n",
              "<tr><td>max_seq_len</td><td>▁</td></tr><tr><td>_runtime</td><td>▁▁▁▁▂▂▂▂▂▂▃▃▃▃▃▄▄▄▄▄▅▅▅▅▅▅▆▆▆▆▆▇▇▇▇▇▇███</td></tr><tr><td>_timestamp</td><td>▁▁▁▁▂▂▂▂▂▂▃▃▃▃▃▄▄▄▄▄▅▅▅▅▅▅▆▆▆▆▆▇▇▇▇▇▇███</td></tr><tr><td>_step</td><td>▁▁▁▂▂▂▂▂▂▃▃▃▃▃▃▄▄▄▄▄▅▅▅▅▅▅▆▆▆▆▆▆▇▇▇▇▇███</td></tr><tr><td>do_lower_case</td><td>▁</td></tr><tr><td>output_hidden_states</td><td>▁</td></tr><tr><td>fold</td><td>▁</td></tr><tr><td>train_batch_loss</td><td>▂▁▂▅█▂▃▂▂▂▂▂▃▁▃▂▂▂▁▂▂▂▂▂▁▂▂▂▂▂▂▂▂▂▂▂▂▂▃▂</td></tr><tr><td>media_train_epoca_loss</td><td>▁▅█▅</td></tr><tr><td>media_train_loss</td><td>▁</td></tr><tr><td>acuracia</td><td>▁</td></tr><tr><td>vp</td><td>▁</td></tr><tr><td>vn</td><td>▁</td></tr><tr><td>fp</td><td>▁</td></tr><tr><td>fn</td><td>▁</td></tr><tr><td>media_test_loss</td><td>▁</td></tr></table><br/>"
            ],
            "text/plain": [
              "<IPython.core.display.HTML object>"
            ]
          },
          "metadata": {
            "tags": []
          }
        },
        {
          "output_type": "display_data",
          "data": {
            "text/html": [
              "Synced 5 W&B file(s), 1 media file(s), 0 artifact file(s) and 0 other file(s)"
            ],
            "text/plain": [
              "<IPython.core.display.HTML object>"
            ]
          },
          "metadata": {
            "tags": []
          }
        },
        {
          "output_type": "display_data",
          "data": {
            "text/html": [
              "\n",
              "                    <br/>Synced <strong style=\"color:#cdcd00\">AjusteFinoCSTNews_v1_C_SB_KF_E_4_lr_5_b_4_8_f9</strong>: <a href=\"https://wandb.ai/osmar-braz/ajustefinocstnews_v1_c_sb_kfold/runs/2bjhb44t\" target=\"_blank\">https://wandb.ai/osmar-braz/ajustefinocstnews_v1_c_sb_kfold/runs/2bjhb44t</a><br/>\n",
              "                "
            ],
            "text/plain": [
              "<IPython.core.display.HTML object>"
            ]
          },
          "metadata": {
            "tags": []
          }
        },
        {
          "output_type": "display_data",
          "data": {
            "text/html": [
              "...Successfully finished last run (ID:2bjhb44t). Initializing new run:<br/><br/>"
            ],
            "text/plain": [
              "<IPython.core.display.HTML object>"
            ]
          },
          "metadata": {
            "tags": []
          }
        },
        {
          "output_type": "display_data",
          "data": {
            "text/html": [
              "\n",
              "                Tracking run with wandb version 0.10.30<br/>\n",
              "                Syncing run <strong style=\"color:#cdcd00\">AjusteFinoCSTNews_v1_C_SB_KF_E_4_lr_5_b_4_8_f10</strong> to <a href=\"https://wandb.ai\" target=\"_blank\">Weights & Biases</a> <a href=\"https://docs.wandb.com/integrations/jupyter.html\" target=\"_blank\">(Documentation)</a>.<br/>\n",
              "                Project page: <a href=\"https://wandb.ai/osmar-braz/ajustefinocstnews_v1_c_sb_kfold\" target=\"_blank\">https://wandb.ai/osmar-braz/ajustefinocstnews_v1_c_sb_kfold</a><br/>\n",
              "                Run page: <a href=\"https://wandb.ai/osmar-braz/ajustefinocstnews_v1_c_sb_kfold/runs/263y9uza\" target=\"_blank\">https://wandb.ai/osmar-braz/ajustefinocstnews_v1_c_sb_kfold/runs/263y9uza</a><br/>\n",
              "                Run data is saved locally in <code>/content/wandb/run-20210524_183135-263y9uza</code><br/><br/>\n",
              "            "
            ],
            "text/plain": [
              "<IPython.core.display.HTML object>"
            ]
          },
          "metadata": {
            "tags": []
          }
        },
        {
          "output_type": "stream",
          "text": [
            "Pytorch rodando o modelo na GPU\n",
            "Carregando arquivo de treino: /content/validacao_kfold/cstnews_md_train_f10.csv\n",
            "Carregando arquivo de teste: /content/validacao_kfold/cstnews_md_test_f10.csv\n",
            "Qtde de dados de treino: 8964\n",
            "Qtde de dados de teste: 996\n",
            "Tamanho do dataset de treino: 8964\n",
            "Tamanho do dataset de teste: 996\n",
            "Total do conjunto de dados          : 9960.\n",
            "Total do conjunto de dados de treino: 8964.\n",
            "Total do conjunto de dados de teste : 996.\n",
            "Total de etapas: 35856\n",
            "\n",
            "Realizando Treinamento fold: 10\n"
          ],
          "name": "stdout"
        },
        {
          "output_type": "display_data",
          "data": {
            "application/vnd.jupyter.widget-view+json": {
              "model_id": "03f9ab707ba4481faa4d9db8e2fa4d72",
              "version_minor": 0,
              "version_major": 2
            },
            "text/plain": [
              "HBox(children=(FloatProgress(value=0.0, description='Épocas', max=4.0, style=ProgressStyle(description_width='…"
            ]
          },
          "metadata": {
            "tags": []
          }
        },
        {
          "output_type": "stream",
          "text": [
            "Criando Lotes Inteligentes de 8,964 amostras com tamanho de lote 4...\n",
            "\n",
            "Tokenizando 8,964 amostra...\n",
            "  Tokenizado 0 amostras.\n",
            "  Tokenizado 900 amostras.\n",
            "  Tokenizado 1,800 amostras.\n",
            "  Tokenizado 2,700 amostras.\n",
            "  Tokenizado 3,600 amostras.\n",
            "  Tokenizado 4,500 amostras.\n",
            "  Tokenizado 5,400 amostras.\n",
            "  Tokenizado 6,300 amostras.\n",
            "  Tokenizado 7,200 amostras.\n",
            "  Tokenizado 8,100 amostras.\n",
            "FEITO.\n",
            "     8,964 amostras\n",
            "\n",
            "     8,964 amostras após classificação\n",
            "\n",
            "Criando lotes de tamanho 4...\n",
            "  Selecionado 900 lotes.\n",
            "  Selecionado 1,800 lotes.\n",
            "\n",
            "  FEITO - Selecionado 2,241 lotes.\n",
            "\n",
            "Preenchendo sequências dentro de cada lote...\n"
          ],
          "name": "stdout"
        },
        {
          "output_type": "display_data",
          "data": {
            "application/vnd.jupyter.widget-view+json": {
              "model_id": "a1d0b6fadf2e413286d29a8c049aae3f",
              "version_minor": 0,
              "version_major": 2
            },
            "text/plain": [
              "HBox(children=(FloatProgress(value=0.0, description='Epoca 1', max=2241.0, style=ProgressStyle(description_wid…"
            ]
          },
          "metadata": {
            "tags": []
          }
        },
        {
          "output_type": "stream",
          "text": [
            "  Lote     900  de    2,241.    Gasto: 0:05:26.  Restante: 0:08:06\n",
            "  Lote   1,800  de    2,241.    Gasto: 0:10:55.  Restante: 0:02:41\n",
            "\n",
            "  Média perda(loss) do treinamento da época : 0.70172719\n",
            "  Tempo de treinamento da época             : 0:13:36\n",
            "  Tempo parcial do treinamento              : 0:14:01 (h:mm:ss)\n",
            "Criando Lotes Inteligentes de 8,964 amostras com tamanho de lote 4...\n",
            "\n",
            "Tokenizando 8,964 amostra...\n",
            "  Tokenizado 0 amostras.\n",
            "  Tokenizado 900 amostras.\n",
            "  Tokenizado 1,800 amostras.\n",
            "  Tokenizado 2,700 amostras.\n",
            "  Tokenizado 3,600 amostras.\n",
            "  Tokenizado 4,500 amostras.\n",
            "  Tokenizado 5,400 amostras.\n",
            "  Tokenizado 6,300 amostras.\n",
            "  Tokenizado 7,200 amostras.\n",
            "  Tokenizado 8,100 amostras.\n",
            "FEITO.\n",
            "     8,964 amostras\n",
            "\n",
            "     8,964 amostras após classificação\n",
            "\n",
            "Criando lotes de tamanho 4...\n",
            "  Selecionado 900 lotes.\n",
            "  Selecionado 1,800 lotes.\n",
            "\n",
            "  FEITO - Selecionado 2,241 lotes.\n",
            "\n",
            "Preenchendo sequências dentro de cada lote...\n"
          ],
          "name": "stdout"
        },
        {
          "output_type": "display_data",
          "data": {
            "application/vnd.jupyter.widget-view+json": {
              "model_id": "3ef1a9acea6444e78b9163ca5a4a3194",
              "version_minor": 0,
              "version_major": 2
            },
            "text/plain": [
              "HBox(children=(FloatProgress(value=0.0, description='Epoca 2', max=2241.0, style=ProgressStyle(description_wid…"
            ]
          },
          "metadata": {
            "tags": []
          }
        },
        {
          "output_type": "stream",
          "text": [
            "  Lote     900  de    2,241.    Gasto: 0:05:32.  Restante: 0:08:14\n",
            "  Lote   1,800  de    2,241.    Gasto: 0:10:56.  Restante: 0:02:41\n",
            "\n",
            "  Média perda(loss) do treinamento da época : 0.70487293\n",
            "  Tempo de treinamento da época             : 0:13:38\n",
            "  Tempo parcial do treinamento              : 0:28:02 (h:mm:ss)\n",
            "Criando Lotes Inteligentes de 8,964 amostras com tamanho de lote 4...\n",
            "\n",
            "Tokenizando 8,964 amostra...\n",
            "  Tokenizado 0 amostras.\n",
            "  Tokenizado 900 amostras.\n",
            "  Tokenizado 1,800 amostras.\n",
            "  Tokenizado 2,700 amostras.\n",
            "  Tokenizado 3,600 amostras.\n",
            "  Tokenizado 4,500 amostras.\n",
            "  Tokenizado 5,400 amostras.\n",
            "  Tokenizado 6,300 amostras.\n",
            "  Tokenizado 7,200 amostras.\n",
            "  Tokenizado 8,100 amostras.\n",
            "FEITO.\n",
            "     8,964 amostras\n",
            "\n",
            "     8,964 amostras após classificação\n",
            "\n",
            "Criando lotes de tamanho 4...\n",
            "  Selecionado 900 lotes.\n",
            "  Selecionado 1,800 lotes.\n",
            "\n",
            "  FEITO - Selecionado 2,241 lotes.\n",
            "\n",
            "Preenchendo sequências dentro de cada lote...\n"
          ],
          "name": "stdout"
        },
        {
          "output_type": "display_data",
          "data": {
            "application/vnd.jupyter.widget-view+json": {
              "model_id": "7d2b043d2d3c4de49a5b045350106ce8",
              "version_minor": 0,
              "version_major": 2
            },
            "text/plain": [
              "HBox(children=(FloatProgress(value=0.0, description='Epoca 3', max=2241.0, style=ProgressStyle(description_wid…"
            ]
          },
          "metadata": {
            "tags": []
          }
        },
        {
          "output_type": "stream",
          "text": [
            "  Lote     900  de    2,241.    Gasto: 0:05:31.  Restante: 0:08:14\n",
            "  Lote   1,800  de    2,241.    Gasto: 0:10:58.  Restante: 0:02:41\n",
            "\n",
            "  Média perda(loss) do treinamento da época : 0.70426897\n",
            "  Tempo de treinamento da época             : 0:13:37\n",
            "  Tempo parcial do treinamento              : 0:42:04 (h:mm:ss)\n",
            "Criando Lotes Inteligentes de 8,964 amostras com tamanho de lote 4...\n",
            "\n",
            "Tokenizando 8,964 amostra...\n",
            "  Tokenizado 0 amostras.\n",
            "  Tokenizado 900 amostras.\n",
            "  Tokenizado 1,800 amostras.\n",
            "  Tokenizado 2,700 amostras.\n",
            "  Tokenizado 3,600 amostras.\n",
            "  Tokenizado 4,500 amostras.\n",
            "  Tokenizado 5,400 amostras.\n",
            "  Tokenizado 6,300 amostras.\n",
            "  Tokenizado 7,200 amostras.\n",
            "  Tokenizado 8,100 amostras.\n",
            "FEITO.\n",
            "     8,964 amostras\n",
            "\n",
            "     8,964 amostras após classificação\n",
            "\n",
            "Criando lotes de tamanho 4...\n",
            "  Selecionado 900 lotes.\n",
            "  Selecionado 1,800 lotes.\n",
            "\n",
            "  FEITO - Selecionado 2,241 lotes.\n",
            "\n",
            "Preenchendo sequências dentro de cada lote...\n"
          ],
          "name": "stdout"
        },
        {
          "output_type": "display_data",
          "data": {
            "application/vnd.jupyter.widget-view+json": {
              "model_id": "4c2f0c0c94674774a87ffe73e663fec8",
              "version_minor": 0,
              "version_major": 2
            },
            "text/plain": [
              "HBox(children=(FloatProgress(value=0.0, description='Epoca 4', max=2241.0, style=ProgressStyle(description_wid…"
            ]
          },
          "metadata": {
            "tags": []
          }
        },
        {
          "output_type": "stream",
          "text": [
            "  Lote     900  de    2,241.    Gasto: 0:05:29.  Restante: 0:08:10\n",
            "  Lote   1,800  de    2,241.    Gasto: 0:10:55.  Restante: 0:02:40\n",
            "\n",
            "  Média perda(loss) do treinamento da época : 0.70201063\n",
            "  Tempo de treinamento da época             : 0:13:37\n",
            "  Tempo parcial do treinamento              : 0:56:05 (h:mm:ss)\n",
            "\n",
            "  Média perda(loss) treinamento : 0.70321993\n",
            "Treinamento completo!\n",
            "  Tempo total treinamento       : 0:56:05\n",
            "\n",
            "Realizando Avaliação fold: 10\n",
            "Predizendo rótulos para 996 documentos de teste...\n",
            "Criando Lotes Inteligentes de 996 amostras com tamanho de lote 8...\n",
            "\n",
            "Tokenizando 996 amostra...\n",
            "  Tokenizado 0 amostras.\n",
            "  Tokenizado 100 amostras.\n",
            "  Tokenizado 200 amostras.\n",
            "  Tokenizado 300 amostras.\n",
            "  Tokenizado 400 amostras.\n",
            "  Tokenizado 500 amostras.\n",
            "  Tokenizado 600 amostras.\n",
            "  Tokenizado 700 amostras.\n",
            "  Tokenizado 800 amostras.\n",
            "  Tokenizado 900 amostras.\n",
            "FEITO.\n",
            "       996 amostras\n",
            "\n",
            "       996 amostras após classificação\n",
            "\n",
            "Criando lotes de tamanho 8...\n",
            "  Selecionado 100 lotes.\n",
            "\n",
            "  FEITO - Selecionado 125 lotes.\n",
            "\n",
            "Preenchendo sequências dentro de cada lote...\n"
          ],
          "name": "stdout"
        },
        {
          "output_type": "display_data",
          "data": {
            "application/vnd.jupyter.widget-view+json": {
              "model_id": "611b0d42135e4252adad7aba0344adcd",
              "version_minor": 0,
              "version_major": 2
            },
            "text/plain": [
              "HBox(children=(FloatProgress(value=0.0, description='Lotes ', max=125.0, style=ProgressStyle(description_width…"
            ]
          },
          "metadata": {
            "tags": []
          }
        },
        {
          "output_type": "stream",
          "text": [
            "  Lote      10  de      125.    Gasto: 0:00:05.  Restando: 0:00:58\n",
            "  Lote      20  de      125.    Gasto: 0:00:07.  Restando: 0:00:38\n",
            "  Lote      30  de      125.    Gasto: 0:00:09.  Restando: 0:00:29\n",
            "  Lote      40  de      125.    Gasto: 0:00:11.  Restando: 0:00:23\n",
            "  Lote      50  de      125.    Gasto: 0:00:13.  Restando: 0:00:20\n",
            "  Lote      60  de      125.    Gasto: 0:00:15.  Restando: 0:00:16\n",
            "  Lote      70  de      125.    Gasto: 0:00:17.  Restando: 0:00:13\n",
            "  Lote      80  de      125.    Gasto: 0:00:19.  Restando: 0:00:11\n",
            "  Lote      90  de      125.    Gasto: 0:00:21.  Restando: 0:00:08\n",
            "  Lote     100  de      125.    Gasto: 0:00:23.  Restando: 0:00:06\n",
            "  Lote     110  de      125.    Gasto: 0:00:25.  Restando: 0:00:03\n",
            "  Lote     120  de      125.    Gasto: 0:00:27.  Restando: 0:00:01\n",
            "\n",
            "Avaliação loss: 0.69318070; Acc: 0.50000000; Rec: 1.00000000; Pre: 0.50000000, F1:0.66666667, vp: 498; vn:   0; fp: 498; fn:   0\n",
            "Acurácia do fold 10        : 0.50000000\n",
            "Tempo gasto na avaliação  : 0:00:28\n",
            "Diretório já existe: /content/drive/MyDrive/Colab Notebooks/Data/CSTNEWS/validacao_classificacao/kfold/Classificacao/\n",
            "Criando arquivo classificação: /content/drive/MyDrive/Colab Notebooks/Data/CSTNEWS/validacao_classificacao/kfold/Classificacao/AjusteFinoCSTNews_v1_C_SB_KF_E_4_lr_5_b_4_8_f10_BERTimbau_large.csv\n",
            "Diretório já existe: /content/drive/MyDrive/Colab Notebooks/Data/CSTNEWS/validacao_classificacao/kfold/Avaliacao/\n",
            "Criando arquivo resultado: /content/drive/MyDrive/Colab Notebooks/Data/CSTNEWS/validacao_classificacao/kfold/Avaliacao/AjusteFinoCSTNews_v1_C_SB_KF_E_4_lr_5_b_4_8_f10_BERTimbau_large.csv\n",
            "\n",
            "  Tempo processamento fold: 0:57:16 (h:mm:ss)\n"
          ],
          "name": "stdout"
        }
      ]
    },
    {
      "cell_type": "code",
      "metadata": {
        "id": "BahqkebDFOye",
        "colab": {
          "base_uri": "https://localhost:8080/"
        },
        "outputId": "f310a8ad-6123-4553-8859-896d3e8b563c"
      },
      "source": [
        "carregaResultadoAvaliacao()"
      ],
      "execution_count": null,
      "outputs": [
        {
          "output_type": "stream",
          "text": [
            "Média dos arquivos:  AjusteFinoCSTNews_v1_C_SB_KF_E_4_lr_5_b_4_8_fX_large\n",
            "Arquivo: AjusteFinoCSTNews_v1_C_SB_KF_E_4_lr_5_b_4_8_f1_BERTimbau_large, Data: 24/05/2021 00:02, Tempo: 0:34:53, QtdeTeste: 996, Acc: 0.50000000, Rec: 1.00000000, Pre: 0.50000000, F1:0.66666667, vp:  498; vn:    0; fp:  498; fn:    0\n",
            "Arquivo: AjusteFinoCSTNews_v1_C_SB_KF_E_4_lr_5_b_4_8_f2_BERTimbau_large, Data: 24/05/2021 00:38, Tempo: 0:35:00, QtdeTeste: 996, Acc: 0.50000000, Rec: 1.00000000, Pre: 0.50000000, F1:0.66666667, vp:  498; vn:    0; fp:  498; fn:    0\n",
            "Arquivo: AjusteFinoCSTNews_v1_C_SB_KF_E_4_lr_5_b_4_8_f3_BERTimbau_large, Data: 24/05/2021 01:14, Tempo: 0:35:23, QtdeTeste: 996, Acc: 0.50000000, Rec: 0.00000000, Pre: 0.00000000, F1:0.00000000, vp:    0; vn:  498; fp:    0; fn:  498\n",
            "Arquivo: AjusteFinoCSTNews_v1_C_SB_KF_E_4_lr_5_b_4_8_f4_BERTimbau_large, Data: 24/05/2021 01:51, Tempo: 0:35:23, QtdeTeste: 996, Acc: 0.50000000, Rec: 1.00000000, Pre: 0.50000000, F1:0.66666667, vp:  498; vn:    0; fp:  498; fn:    0\n",
            "Arquivo: AjusteFinoCSTNews_v1_C_SB_KF_E_4_lr_5_b_4_8_f5_BERTimbau_large, Data: 24/05/2021 02:27, Tempo: 0:35:44, QtdeTeste: 996, Acc: 0.50000000, Rec: 0.00000000, Pre: 0.00000000, F1:0.00000000, vp:    0; vn:  498; fp:    0; fn:  498\n",
            "Arquivo: AjusteFinoCSTNews_v1_C_SB_KF_E_4_lr_5_b_4_8_f6_BERTimbau_large, Data: 24/05/2021 15:39, Tempo: 0:55:55, QtdeTeste: 996, Acc: 0.50000000, Rec: 0.00000000, Pre: 0.00000000, F1:0.00000000, vp:    0; vn:  498; fp:    0; fn:  498\n",
            "Arquivo: AjusteFinoCSTNews_v1_C_SB_KF_E_4_lr_5_b_4_8_f7_BERTimbau_large, Data: 24/05/2021 16:36, Tempo: 0:55:57, QtdeTeste: 996, Acc: 0.50000000, Rec: 0.00000000, Pre: 0.00000000, F1:0.00000000, vp:    0; vn:  498; fp:    0; fn:  498\n",
            "Arquivo: AjusteFinoCSTNews_v1_C_SB_KF_E_4_lr_5_b_4_8_f8_BERTimbau_large, Data: 24/05/2021 17:34, Tempo: 0:56:04, QtdeTeste: 996, Acc: 0.50000000, Rec: 0.00000000, Pre: 0.00000000, F1:0.00000000, vp:    0; vn:  498; fp:    0; fn:  498\n",
            "Arquivo: AjusteFinoCSTNews_v1_C_SB_KF_E_4_lr_5_b_4_8_f9_BERTimbau_large, Data: 24/05/2021 18:31, Tempo: 0:56:04, QtdeTeste: 996, Acc: 0.50000000, Rec: 0.00000000, Pre: 0.00000000, F1:0.00000000, vp:    0; vn:  498; fp:    0; fn:  498\n",
            "Arquivo: AjusteFinoCSTNews_v1_C_SB_KF_E_4_lr_5_b_4_8_f10_BERTimbau_large, Data: 24/05/2021 19:28, Tempo: 0:56:05, QtdeTeste: 996, Acc: 0.50000000, Rec: 1.00000000, Pre: 0.50000000, F1:0.66666667, vp:  498; vn:    0; fp:  498; fn:    0\n",
            "Total acurácia                                       : 5.00000000\n",
            "Quantidade de folds                                  : 10\n",
            "A média da acurácia de 10 folds é                    : 0.50000000\n",
            "O tempo gasto na execução do treinamentoa 10 folds é : 07:36:28\n",
            "A média de tempo de execução de 10 folds é           : 00:45:38\n"
          ],
          "name": "stdout"
        }
      ]
    },
    {
      "cell_type": "markdown",
      "metadata": {
        "id": "Yj0ya60zrm8t"
      },
      "source": [
        "# 6 Finalização"
      ]
    },
    {
      "cell_type": "markdown",
      "metadata": {
        "id": "Q_zqfWmlIjMc"
      },
      "source": [
        "## 6.1 Salvando o Modelo para o wandb"
      ]
    },
    {
      "cell_type": "code",
      "metadata": {
        "id": "U9U-parMIj00"
      },
      "source": [
        "if model_args.use_wandb and model_args.salvar_modelo_wandb:\n",
        "  \n",
        "    # Salva o modelo para o wandb    \n",
        "    torch.save(model.state_dict(), os.path.join(wandb.run.dir, 'model_dict.pt'))"
      ],
      "execution_count": null,
      "outputs": []
    },
    {
      "cell_type": "markdown",
      "metadata": {
        "id": "q2079Qyn8Mt8"
      },
      "source": [
        "## 6.2 Salvando o Modelo Ajustado\n",
        "\n",
        "Grava o modelo e o tokenizador no disco."
      ]
    },
    {
      "cell_type": "code",
      "metadata": {
        "id": "6ulTWaOr8QNY"
      },
      "source": [
        "def salvaModelo():\n",
        "  \n",
        "  if model_args.salvar_modelo:\n",
        "  \n",
        "    # Import de bibliotecas.\n",
        "    import os\n",
        "\n",
        "    # Salvando as melhores práticas: se você usar nomes padrão para o modelo, você pode recarregá-lo usando from_pretrained ()\n",
        "\n",
        "    # Diretório de salvamento do modelo.\n",
        "    DIRETORIO_LOCAL_MODELO_AJUSTADO = '/content/modelo_ajustado/'\n",
        "\n",
        "    # Cria o diretório de saída se necessário.\n",
        "    if not os.path.exists(DIRETORIO_LOCAL_MODELO_AJUSTADO):\n",
        "      os.makedirs(DIRETORIO_LOCAL_MODELO_AJUSTADO)\n",
        "\n",
        "    print('Salvando o modelo para {}'.format(DIRETORIO_LOCAL_MODELO_AJUSTADO))\n",
        "\n",
        "    # Salve um modelo treinado, configuração e tokenizer usando `save_pretrained ()`.\n",
        "    # Eles podem então ser recarregados usando `from_pretrained ()`.\n",
        "    model_to_save = model.module if hasattr(model, 'module') else model  # Cuide do treinamento distribuído/paralelo\n",
        "    model_to_save.save_pretrained(DIRETORIO_LOCAL_MODELO_AJUSTADO)\n",
        "    tokenizer.save_pretrained(DIRETORIO_LOCAL_MODELO_AJUSTADO)\n",
        "\n",
        "    # Boa prática: salve seus argumentos de treinamento junto com o modelo treinado.\n",
        "    torch.save (model_args, os.path.join (DIRETORIO_LOCAL_MODELO_AJUSTADO, 'mode_args.bin'))\n",
        "    torch.save (training_args, os.path.join (DIRETORIO_LOCAL_MODELO_AJUSTADO, 'training_args.bin'))"
      ],
      "execution_count": null,
      "outputs": []
    },
    {
      "cell_type": "markdown",
      "metadata": {
        "id": "Z-tjHkR7lc1I"
      },
      "source": [
        "Vamos verificar os tamanhos dos arquivos, por curiosidade."
      ]
    },
    {
      "cell_type": "code",
      "metadata": {
        "id": "mqMzI3VTCZo5"
      },
      "source": [
        "if model_args.salvar_modelo:\n",
        "  !ls -l --block-size=K /content/modelo_ajustado/"
      ],
      "execution_count": null,
      "outputs": []
    },
    {
      "cell_type": "markdown",
      "metadata": {
        "id": "fr_bt2rFlgDn"
      },
      "source": [
        "O maior arquivo é o peso do modelo, em torno de 416MB o base e 1.25G o large."
      ]
    },
    {
      "cell_type": "code",
      "metadata": {
        "id": "-WUFUIQ8Cu8D"
      },
      "source": [
        "if model_args.salvar_modelo:\n",
        "  !ls -l --block-size=M /content/modelo_ajustado/pytorch_model.bin"
      ],
      "execution_count": null,
      "outputs": []
    },
    {
      "cell_type": "markdown",
      "metadata": {
        "id": "dzGKvOFAll_e"
      },
      "source": [
        "Para salvar seu modelo nas sessões do Colab Notebook, faça o download no seu computador local ou, idealmente, copie-o no seu Google Drive."
      ]
    },
    {
      "cell_type": "code",
      "metadata": {
        "id": "NxlZsafTC-V5"
      },
      "source": [
        "if model_args.salvar_modelo:\n",
        "\n",
        "  # Importando as bibliotecas.\n",
        "  import os\n",
        "  \n",
        "  # Diretório local de salvamento do modelo.\n",
        "  DIRETORIO_LOCAL_MODELO_AJUSTADO = '/content/modelo_ajustado/'\n",
        "\n",
        "  # Diretório remoto de salvamento do modelo.  \n",
        "  DIRETORIO_REMOTO_MODELO_AJUSTADO = \"/content/drive/MyDrive/Colab Notebooks/Data/CSTNEWS/validacao_classificacao/kfold/modelo/modelo\" + MODELO_BERT + TAMANHO_BERT\n",
        "\n",
        "  # Verifica se o diretório existe\n",
        "  if not os.path.exists(DIRETORIO_REMOTO_MODELO_AJUSTADO):  \n",
        "    # Cria o diretório\n",
        "    os.makedirs(DIRETORIO_REMOTO_MODELO_AJUSTADO)\n",
        "    print('Diretório criado: {}'.format(DIRETORIO_REMOTO_MODELO_AJUSTADO))\n",
        "  else:\n",
        "    print('Diretório já existe: {}'.format(DIRETORIO_REMOTO_MODELO_AJUSTADO))\n",
        "\n",
        "  ## Copia o arquivo do modelo para o diretório no Google Drive.\n",
        "  !cp -r '$DIRETORIO_LOCAL_MODELO_AJUSTADO'* '$DIRETORIO_REMOTO_MODELO_AJUSTADO'\n",
        "\n",
        "  print(\"Modelo copiado!\")"
      ],
      "execution_count": null,
      "outputs": []
    },
    {
      "cell_type": "markdown",
      "metadata": {
        "id": "3EUXuiZNpBtL"
      },
      "source": [
        "## 6.3 Tempo final de processamento\n",
        "\n"
      ]
    },
    {
      "cell_type": "code",
      "metadata": {
        "id": "H50_GKJwpDha",
        "colab": {
          "base_uri": "https://localhost:8080/"
        },
        "outputId": "51779d52-c649-476c-976d-2f733f2c8ee1"
      },
      "source": [
        " # Pega o tempo atual menos o tempo do início do processamento.\n",
        "finalProcessamento = time.time()\n",
        "tempoTotalProcessamento = formataTempo(finalProcessamento - inicioProcessamento)\n",
        "\n",
        "print(\"\")\n",
        "print(\"  Tempo processamento: {:} (h:mm:ss)\".format(tempoTotalProcessamento))"
      ],
      "execution_count": null,
      "outputs": [
        {
          "output_type": "stream",
          "text": [
            "\n",
            "  Tempo processamento: 4:49:26 (h:mm:ss)\n"
          ],
          "name": "stdout"
        }
      ]
    },
    {
      "cell_type": "markdown",
      "metadata": {
        "id": "CeSarQ7N0su4"
      },
      "source": [
        "Executa o wandb para finalizar a execução anterior"
      ]
    },
    {
      "cell_type": "code",
      "metadata": {
        "id": "QIsky8teJ_ki",
        "colab": {
          "base_uri": "https://localhost:8080/",
          "height": 1000,
          "referenced_widgets": [
            "c1b835939ae94b768ac5afee4018d9fc",
            "d1e5886c147d484e9b14b7161de11337",
            "ddf4d8896a8b48ae9e6ea08f9e55ef81",
            "642ac73c760641f6a8eb020bccbe4353",
            "ba4c95efc6bd4405824d82db0f7ef7e6",
            "35d457fedc8348788be72603f29f68a1",
            "f01d637467214712a31f5785674f2085",
            "740981fdb11c45d99fddf7a5bfea3f2d"
          ]
        },
        "outputId": "241ec649-c588-4324-c252-a0822c18dcc4"
      },
      "source": [
        "if model_args.use_wandb:\n",
        "    # Importando a biblioteca.\n",
        "    import wandb\n",
        "    \n",
        "    # Inicializando o registro do experimento.\n",
        "    # Na execução só pode existir de um init  para que não gere dois registros no wandb.\n",
        "    wandb.init(project=\"ajustefinocstnews_v1_c_sb_kfold\", name=training_args.output_dir + str(model_args.fold))"
      ],
      "execution_count": null,
      "outputs": [
        {
          "output_type": "display_data",
          "data": {
            "text/html": [
              "Finishing last run (ID:263y9uza) before initializing another..."
            ],
            "text/plain": [
              "<IPython.core.display.HTML object>"
            ]
          },
          "metadata": {
            "tags": []
          }
        },
        {
          "output_type": "display_data",
          "data": {
            "text/html": [
              "<br/>Waiting for W&B process to finish, PID 2097<br/>Program ended successfully."
            ],
            "text/plain": [
              "<IPython.core.display.HTML object>"
            ]
          },
          "metadata": {
            "tags": []
          }
        },
        {
          "output_type": "display_data",
          "data": {
            "application/vnd.jupyter.widget-view+json": {
              "model_id": "c1b835939ae94b768ac5afee4018d9fc",
              "version_minor": 0,
              "version_major": 2
            },
            "text/plain": [
              "VBox(children=(Label(value=' 0.05MB of 0.05MB uploaded (0.00MB deduped)\\r'), FloatProgress(value=1.0, max=1.0)…"
            ]
          },
          "metadata": {
            "tags": []
          }
        },
        {
          "output_type": "display_data",
          "data": {
            "text/html": [
              "Find user logs for this run at: <code>/content/wandb/run-20210524_183135-263y9uza/logs/debug.log</code>"
            ],
            "text/plain": [
              "<IPython.core.display.HTML object>"
            ]
          },
          "metadata": {
            "tags": []
          }
        },
        {
          "output_type": "display_data",
          "data": {
            "text/html": [
              "Find internal logs for this run at: <code>/content/wandb/run-20210524_183135-263y9uza/logs/debug-internal.log</code>"
            ],
            "text/plain": [
              "<IPython.core.display.HTML object>"
            ]
          },
          "metadata": {
            "tags": []
          }
        },
        {
          "output_type": "display_data",
          "data": {
            "text/html": [
              "<h3>Run summary:</h3><br/><style>\n",
              "    table.wandb td:nth-child(1) { padding: 0 10px; text-align: right }\n",
              "    </style><table class=\"wandb\">\n",
              "<tr><td>max_seq_len</td><td>512</td></tr><tr><td>_runtime</td><td>3423</td></tr><tr><td>_timestamp</td><td>1621884521</td></tr><tr><td>_step</td><td>8978</td></tr><tr><td>do_lower_case</td><td>False</td></tr><tr><td>output_hidden_states</td><td>False</td></tr><tr><td>fold</td><td>10</td></tr><tr><td>train_batch_loss</td><td>0.70465</td></tr><tr><td>media_train_epoca_loss</td><td>0.70201</td></tr><tr><td>media_train_loss</td><td>0.70322</td></tr><tr><td>acuracia</td><td>0.5</td></tr><tr><td>vp</td><td>498</td></tr><tr><td>vn</td><td>0</td></tr><tr><td>fp</td><td>498</td></tr><tr><td>fn</td><td>0</td></tr><tr><td>media_test_loss</td><td>0.69318</td></tr></table>"
            ],
            "text/plain": [
              "<IPython.core.display.HTML object>"
            ]
          },
          "metadata": {
            "tags": []
          }
        },
        {
          "output_type": "display_data",
          "data": {
            "text/html": [
              "<h3>Run history:</h3><br/><style>\n",
              "    table.wandb td:nth-child(1) { padding: 0 10px; text-align: right }\n",
              "    </style><table class=\"wandb\">\n",
              "<tr><td>max_seq_len</td><td>▁</td></tr><tr><td>_runtime</td><td>▁▁▁▁▂▂▂▂▂▂▃▃▃▃▃▄▄▄▄▄▅▅▅▅▅▅▆▆▆▆▆▇▇▇▇▇▇███</td></tr><tr><td>_timestamp</td><td>▁▁▁▁▂▂▂▂▂▂▃▃▃▃▃▄▄▄▄▄▅▅▅▅▅▅▆▆▆▆▆▇▇▇▇▇▇███</td></tr><tr><td>_step</td><td>▁▁▁▂▂▂▂▂▂▃▃▃▃▃▃▄▄▄▄▄▅▅▅▅▅▅▆▆▆▆▆▆▇▇▇▇▇███</td></tr><tr><td>do_lower_case</td><td>▁</td></tr><tr><td>output_hidden_states</td><td>▁</td></tr><tr><td>fold</td><td>▁</td></tr><tr><td>train_batch_loss</td><td>▂█▂▁▂▂▁▂▂▂▂▁▂▂▂▁▂▂▂▁▁▁▁▂▁▁▃▂▂▂▂▂▂▂▂▂▂▂▂▁</td></tr><tr><td>media_train_epoca_loss</td><td>▁█▇▂</td></tr><tr><td>media_train_loss</td><td>▁</td></tr><tr><td>acuracia</td><td>▁</td></tr><tr><td>vp</td><td>▁</td></tr><tr><td>vn</td><td>▁</td></tr><tr><td>fp</td><td>▁</td></tr><tr><td>fn</td><td>▁</td></tr><tr><td>media_test_loss</td><td>▁</td></tr></table><br/>"
            ],
            "text/plain": [
              "<IPython.core.display.HTML object>"
            ]
          },
          "metadata": {
            "tags": []
          }
        },
        {
          "output_type": "display_data",
          "data": {
            "text/html": [
              "Synced 5 W&B file(s), 1 media file(s), 0 artifact file(s) and 0 other file(s)"
            ],
            "text/plain": [
              "<IPython.core.display.HTML object>"
            ]
          },
          "metadata": {
            "tags": []
          }
        },
        {
          "output_type": "display_data",
          "data": {
            "text/html": [
              "\n",
              "                    <br/>Synced <strong style=\"color:#cdcd00\">AjusteFinoCSTNews_v1_C_SB_KF_E_4_lr_5_b_4_8_f10</strong>: <a href=\"https://wandb.ai/osmar-braz/ajustefinocstnews_v1_c_sb_kfold/runs/263y9uza\" target=\"_blank\">https://wandb.ai/osmar-braz/ajustefinocstnews_v1_c_sb_kfold/runs/263y9uza</a><br/>\n",
              "                "
            ],
            "text/plain": [
              "<IPython.core.display.HTML object>"
            ]
          },
          "metadata": {
            "tags": []
          }
        },
        {
          "output_type": "display_data",
          "data": {
            "text/html": [
              "...Successfully finished last run (ID:263y9uza). Initializing new run:<br/><br/>"
            ],
            "text/plain": [
              "<IPython.core.display.HTML object>"
            ]
          },
          "metadata": {
            "tags": []
          }
        },
        {
          "output_type": "display_data",
          "data": {
            "text/html": [
              "\n",
              "                Tracking run with wandb version 0.10.30<br/>\n",
              "                Syncing run <strong style=\"color:#cdcd00\">AjusteFinoCSTNews_v1_C_SB_KF_E_4_lr_5_b_4_8_f10</strong> to <a href=\"https://wandb.ai\" target=\"_blank\">Weights & Biases</a> <a href=\"https://docs.wandb.com/integrations/jupyter.html\" target=\"_blank\">(Documentation)</a>.<br/>\n",
              "                Project page: <a href=\"https://wandb.ai/osmar-braz/ajustefinocstnews_v1_c_sb_kfold\" target=\"_blank\">https://wandb.ai/osmar-braz/ajustefinocstnews_v1_c_sb_kfold</a><br/>\n",
              "                Run page: <a href=\"https://wandb.ai/osmar-braz/ajustefinocstnews_v1_c_sb_kfold/runs/2q4vub48\" target=\"_blank\">https://wandb.ai/osmar-braz/ajustefinocstnews_v1_c_sb_kfold/runs/2q4vub48</a><br/>\n",
              "                Run data is saved locally in <code>/content/wandb/run-20210524_192843-2q4vub48</code><br/><br/>\n",
              "            "
            ],
            "text/plain": [
              "<IPython.core.display.HTML object>"
            ]
          },
          "metadata": {
            "tags": []
          }
        }
      ]
    }
  ]
}